{
 "cells": [
  {
   "cell_type": "code",
   "execution_count": 1,
   "metadata": {},
   "outputs": [],
   "source": [
    "import os\n",
    "import re\n",
    "import os\n",
    "import tqdm\n",
    "from glob import glob\n",
    "from pathlib import Path\n",
    "\n",
    "import matplotlib.pyplot as plt\n",
    "import pandas as pd\n",
    "import numpy as np\n",
    "from pprint import pprint\n",
    "#import graphviz\n",
    "\n",
    "from collections import defaultdict\n",
    "from bs4 import BeautifulSoup\n",
    "\n",
    "from sklearn.feature_extraction.text import TfidfVectorizer\n",
    "from sklearn.metrics.pairwise import cosine_similarity\n",
    "\n",
    "from sklearn import tree\n",
    "from sklearn.tree import DecisionTreeRegressor\n",
    "from sklearn.model_selection import train_test_split \n",
    "from sklearn.metrics import mean_squared_error, r2_score\n"
   ]
  },
  {
   "cell_type": "code",
   "execution_count": null,
   "metadata": {},
   "outputs": [],
   "source": []
  },
  {
   "cell_type": "code",
   "execution_count": 2,
   "metadata": {},
   "outputs": [
    {
     "name": "stderr",
     "output_type": "stream",
     "text": [
      "100%|██████████| 127/127 [00:21<00:00,  5.99it/s]\n"
     ]
    }
   ],
   "source": [
    "data_path = \"../dataset/dataset/*.html\"\n",
    "\n",
    "code2convos = dict()\n",
    "\n",
    "pbar = tqdm.tqdm(sorted(list(glob(data_path))))\n",
    "for path in pbar:\n",
    "    # print(Path.cwd() / path)\n",
    "    file_code = os.path.basename(path).split(\".\")[0]\n",
    "    with open(path, \"r\", encoding=\"latin1\") as fh:\n",
    "            \n",
    "        # get the file id to use it as key later on\n",
    "        fid = os.path.basename(path).split(\".\")[0]\n",
    "\n",
    "        # read the html file\n",
    "        html_page = fh.read()\n",
    "\n",
    "        # parse the html file with bs4 so we can extract needed stuff\n",
    "        soup = BeautifulSoup(html_page, \"html.parser\")\n",
    "\n",
    "        # grab the conversations with the data-testid pattern\n",
    "        data_test_id_pattern = re.compile(r\"conversation-turn-[0-9]+\")\n",
    "        conversations = soup.find_all(\"div\", attrs={\"data-testid\": data_test_id_pattern})\n",
    "\n",
    "        convo_texts = []\n",
    "\n",
    "        for i, convo in enumerate(conversations):\n",
    "            convo = convo.find_all(\"div\", attrs={\"data-message-author-role\":re.compile( r\"[user|assistant]\") })\n",
    "            if len(convo) > 0:\n",
    "                role = convo[0].get(\"data-message-author-role\")\n",
    "                convo_texts.append({\n",
    "                        \"role\" : role,\n",
    "                        \"text\" : convo[0].text\n",
    "                    }\n",
    "                )\n",
    "                \n",
    "        code2convos[file_code] = convo_texts"
   ]
  },
  {
   "cell_type": "code",
   "execution_count": 3,
   "metadata": {},
   "outputs": [
    {
     "name": "stdout",
     "output_type": "stream",
     "text": [
      "{'role': 'user',\n",
      " 'text': 'Load a CSV file into a Pandas in Python. The file is named '\n",
      "         \"'cs412_hw1_dataset.csv' and contains columns like 'Species', \"\n",
      "         \"'Island', 'Sex', 'Diet', 'Year', 'Life Stage', 'Body Mass (g)', \"\n",
      "         \"'Bill Length (mm)', 'Bill Depth (mm)', 'Flipper Length (mm)', and \"\n",
      "         \"'Health Metrics'. \\n\"}\n"
     ]
    }
   ],
   "source": [
    "# let's see one of the conversations\n",
    "pprint(code2convos[\"0031c86e-81f4-4eef-9e0e-28037abf9883\"][0])"
   ]
  },
  {
   "cell_type": "markdown",
   "metadata": {},
   "source": [
    "#### Things to do:\n",
    "- Prompt matching with questions\n",
    "- Feature Engineering\n",
    "- Question Grades preparation\n",
    "- Train/Test split\n",
    "- Fitting a model for predicting the scores"
   ]
  },
  {
   "cell_type": "markdown",
   "metadata": {},
   "source": [
    "#### Prompt Matching\n",
    "> We want to match the prompts with the questions in the Homework Let's\n",
    "> do it with a simple term frequency vectorizing method. For each prompt,\n",
    "> we will come with a vector that represents it. We will do the same\n",
    "> thing with each of the homework questions. Then, we will calculate the\n",
    "> vectors distanance to do the matching"
   ]
  },
  {
   "cell_type": "code",
   "execution_count": 4,
   "metadata": {},
   "outputs": [],
   "source": [
    "prompts = []\n",
    "code2prompts = defaultdict(list)\n",
    "for code , convos in code2convos.items():\n",
    "    user_prompts = []\n",
    "    for conv in convos:\n",
    "        if conv[\"role\"] == \"user\":\n",
    "            prompts.append(conv[\"text\"])\n",
    "            user_prompts.append(conv[\"text\"])\n",
    "    code2prompts[code] = user_prompts    "
   ]
  },
  {
   "cell_type": "code",
   "execution_count": 5,
   "metadata": {},
   "outputs": [],
   "source": [
    "# Get the answers\n",
    "answers = []\n",
    "code2answers = defaultdict(list)\n",
    "for code , convos in code2convos.items():\n",
    "    user_answers = []\n",
    "    for conv in convos:\n",
    "        if conv[\"role\"] == \"assistant\":\n",
    "            answers.append(conv[\"text\"])\n",
    "            user_answers.append(conv[\"text\"])\n",
    "    code2answers[code] = user_answers"
   ]
  },
  {
   "cell_type": "code",
   "execution_count": 6,
   "metadata": {},
   "outputs": [
    {
     "data": {
      "text/plain": [
       "\"Load a CSV file into a Pandas in Python. The file is named 'cs412_hw1_dataset.csv' and contains columns like 'Species', 'Island', 'Sex', 'Diet', 'Year', 'Life Stage', 'Body Mass (g)', 'Bill Length (mm)', 'Bill Depth (mm)', 'Flipper Length (mm)', and 'Health Metrics'. \\n\""
      ]
     },
     "execution_count": 6,
     "metadata": {},
     "output_type": "execute_result"
    }
   ],
   "source": [
    "prompts[0]"
   ]
  },
  {
   "cell_type": "code",
   "execution_count": 7,
   "metadata": {},
   "outputs": [],
   "source": [
    "questions = [\n",
    "    \"\"\"Initialize\n",
    "*   First make a copy of the notebook given to you as a starter.\n",
    "*   Make sure you choose Connect form upper right.\n",
    "*   You may upload the data to the section on your left on Colab, than right click on the .csv file and get the path of the file by clicking on \"Copy Path\". You will be using it when loading the data.\n",
    "\n",
    "\"\"\",\n",
    "#####################\n",
    "    \"\"\"Load training dataset (5 pts)\n",
    "    *  Read the .csv file with the pandas library\n",
    "\"\"\",\n",
    "#####################\n",
    "\"\"\"Understanding the dataset & Preprocessing (15 pts)\n",
    "Understanding the Dataset: (5 pts)\n",
    "> - Find the shape of the dataset (number of samples & number of attributes). (Hint: You can use the **shape** function)\n",
    "> - Display variable names (both dependent and independent).\n",
    "> - Display the summary of the dataset. (Hint: You can use the **info** function)\n",
    "> - Display the first 5 rows from training dataset. (Hint: You can use the **head** function)\n",
    "Preprocessing: (10 pts)\n",
    "\n",
    "> - Check if there are any missing values in the dataset. If there are, you can either drop these values or fill it with most common values in corresponding rows. **Be careful that you have enough data for training the  model.**\n",
    "\n",
    "> - Encode categorical labels with the mappings given in the cell below. (Hint: You can use **map** function)\n",
    "\"\"\",\n",
    "#####################\n",
    "\"\"\"Set X & y, split data (5 pts)\n",
    "\n",
    "*   Shuffle the dataset.\n",
    "*   Seperate your dependent variable X, and your independent variable y. The column health_metrics is y, the rest is X.\n",
    "*   Split training and test sets as 80% and 20%, respectively.\n",
    "\"\"\",\n",
    "#####################\n",
    "\"\"\"Features and Correlations (10 pts)\n",
    "\n",
    "* Correlations of features with health (4 points)\n",
    "Calculate the correlations for all features in dataset. Highlight any strong correlations with the target variable. Plot your results in a heatmap.\n",
    "\n",
    "* Feature Selection (3 points)\n",
    "Select a subset of features that are likely strong predictors, justifying your choices based on the computed correlations.\n",
    "\n",
    "* Hypothetical Driver Features (3 points)\n",
    "Propose two hypothetical features that could enhance the model's predictive accuracy for Y, explaining how they might be derived and their expected impact. Show the resulting correlations with target variable.\n",
    "\n",
    "* __Note:__ You get can get help from GPT.\n",
    "\"\"\",\n",
    "#####################\n",
    "\"\"\"Tune Hyperparameters (20 pts)\n",
    "* Choose 2 hyperparameters to tune. You can use the Scikit learn decision tree documentation for the available hyperparameters *(Hyperparameters are listed under \"Parameters\" in the documentation)*. Use GridSearchCV for hyperparameter tuning, with a cross-validation value of 5. Use validation accuracy to pick the best hyper-parameter values. (15 pts)\n",
    "-Explain the hyperparameters you chose to tune. *(What are the hyperparameters you chose? Why did you choose them?)* (5 pts)\n",
    "\"\"\",\n",
    "#####################\n",
    "\"\"\"Re-train and plot the decision tree with the hyperparameters you have chosen (15 pts)\n",
    "- Re-train model with the hyperparameters you have chosen in part 5). (10 pts)\n",
    "- Plot the tree you have trained. (5 pts)\n",
    "Hint: You can import the **plot_tree** function from the sklearn library.\n",
    "\"\"\",\n",
    "#####################\n",
    "\"\"\"Test your classifier on the test set (20 pts)\n",
    "- Predict the labels of testing data using the tree you have trained in step 6. (10 pts)\n",
    "- Report the classification accuracy. (2 pts)\n",
    "- Plot & investigate the confusion matrix. Fill the following blanks. (8 pts)\n",
    "> The model most frequently mistakes class(es) _________ for class(es) _________.\n",
    "Hint: You can use the confusion_matrix function from sklearn.metrics\n",
    "\"\"\",\n",
    "#####################\n",
    "\"\"\"Find the information gain on the first split (10 pts)\"\"\",\n",
    "#####################\n",
    "]"
   ]
  },
  {
   "cell_type": "markdown",
   "metadata": {},
   "source": [
    "Starting Pre-Processing"
   ]
  },
  {
   "cell_type": "code",
   "execution_count": 8,
   "metadata": {},
   "outputs": [],
   "source": [
    "# Convert to lower case\n",
    "code2prompts_proc = defaultdict(list)\n",
    "def convert2lowercase(text):\n",
    "    return text.lower()\n",
    "\n",
    "\n",
    "for code, user_prompts in code2prompts.items():\n",
    "    code2prompts_proc[code] = [convert2lowercase(text) for text in user_prompts]\n",
    "\n",
    "prompts = [convert2lowercase(text) for text in prompts]\n",
    "questions = [convert2lowercase(text) for text in questions]"
   ]
  },
  {
   "cell_type": "code",
   "execution_count": 9,
   "metadata": {},
   "outputs": [
    {
     "name": "stderr",
     "output_type": "stream",
     "text": [
      "[nltk_data] Downloading package punkt to\n",
      "[nltk_data]     C:\\Users\\salih\\AppData\\Roaming\\nltk_data...\n",
      "[nltk_data]   Package punkt is already up-to-date!\n",
      "[nltk_data] Downloading package stopwords to\n",
      "[nltk_data]     C:\\Users\\salih\\AppData\\Roaming\\nltk_data...\n",
      "[nltk_data]   Package stopwords is already up-to-date!\n"
     ]
    },
    {
     "data": {
      "text/plain": [
       "True"
      ]
     },
     "execution_count": 9,
     "metadata": {},
     "output_type": "execute_result"
    }
   ],
   "source": [
    "import nltk\n",
    "from nltk.tokenize import word_tokenize\n",
    "\n",
    "nltk.download(\"punkt\")\n",
    "nltk.download(\"stopwords\")"
   ]
  },
  {
   "cell_type": "code",
   "execution_count": 10,
   "metadata": {},
   "outputs": [],
   "source": [
    "import string\n",
    "\n",
    "def remove_punc(text):\n",
    "    translator = str.maketrans('', '', string.punctuation)\n",
    "    return text.translate(translator)\n",
    "\n",
    "for code, user_prompts in code2prompts_proc.items():\n",
    "    code2prompts_proc[code] = [remove_punc(text) for text in user_prompts]\n",
    "\n",
    "prompts = [remove_punc(text) for text in prompts]\n",
    "questions = [remove_punc(text) for text in questions]"
   ]
  },
  {
   "cell_type": "code",
   "execution_count": 11,
   "metadata": {},
   "outputs": [
    {
     "data": {
      "text/plain": [
       "'load a csv file into a pandas in python the file is named cs412hw1datasetcsv and contains columns like species island sex diet year life stage body mass g bill length mm bill depth mm flipper length mm and health metrics \\n'"
      ]
     },
     "execution_count": 11,
     "metadata": {},
     "output_type": "execute_result"
    }
   ],
   "source": [
    "code2prompts_proc[\"0031c86e-81f4-4eef-9e0e-28037abf9883\"][0]"
   ]
  },
  {
   "cell_type": "code",
   "execution_count": 12,
   "metadata": {},
   "outputs": [],
   "source": [
    "# Tokenize the prompts\n",
    "def tokenize(text):\n",
    "    return word_tokenize(text)\n",
    "\n",
    "for code, user_prompts in code2prompts_proc.items():\n",
    "    code2prompts_proc[code] = [tokenize(text) for text in user_prompts]\n",
    "\n",
    "prompts = [tokenize(text) for text in prompts]\n",
    "questions = [tokenize(text) for text in questions]"
   ]
  },
  {
   "cell_type": "code",
   "execution_count": 13,
   "metadata": {},
   "outputs": [
    {
     "data": {
      "text/plain": [
       "['load', 'a', 'csv', 'file', 'into']"
      ]
     },
     "execution_count": 13,
     "metadata": {},
     "output_type": "execute_result"
    }
   ],
   "source": [
    "code2prompts_proc[\"0031c86e-81f4-4eef-9e0e-28037abf9883\"][0][:5]"
   ]
  },
  {
   "cell_type": "code",
   "execution_count": 14,
   "metadata": {},
   "outputs": [],
   "source": [
    "# Remove stop words\n",
    "from nltk.corpus import stopwords\n",
    "\n",
    "stopwordsList= set(stopwords.words('english'))\n",
    "\n",
    "def remove_stopwords(tokenized_text):\n",
    "    return [word for word in tokenized_text if word not in stopwordsList]\n",
    "\n",
    "for code, user_prompts in code2prompts_proc.items():\n",
    "    code2prompts_proc[code] = [remove_stopwords(text) for text in user_prompts]\n",
    "\n",
    "prompts = [remove_stopwords(text) for text in prompts]\n",
    "questions = [remove_stopwords(text) for text in questions]"
   ]
  },
  {
   "cell_type": "code",
   "execution_count": 15,
   "metadata": {},
   "outputs": [
    {
     "name": "stdout",
     "output_type": "stream",
     "text": [
      "['load', 'csv', 'file', 'pandas', 'python', 'file', 'named']\n",
      "['initialize', 'first', 'make', 'copy', 'notebook', 'given', 'starter']\n"
     ]
    }
   ],
   "source": [
    "print(code2prompts_proc[\"0031c86e-81f4-4eef-9e0e-28037abf9883\"][0][:7])\n",
    "print(questions[0][:7])"
   ]
  },
  {
   "cell_type": "code",
   "execution_count": 16,
   "metadata": {},
   "outputs": [],
   "source": [
    "# Apply Stemming\n",
    "from nltk.stem import SnowballStemmer\n",
    "\n",
    "stemmer = SnowballStemmer('english')\n",
    "\n",
    "def stemming(tokenized_text):\n",
    "    joined_text = ' '.join(tokenized_text)\n",
    "    \n",
    "    tokenized = word_tokenize(joined_text)\n",
    "    \n",
    "    stemmed = [stemmer.stem(word) for word in tokenized]\n",
    "    return stemmed\n",
    "\n",
    "for code, user_prompts in code2prompts_proc.items():\n",
    "    code2prompts_proc[code] = [stemming(text) for text in user_prompts]\n",
    "\n",
    "prompts = [stemming(text) for text in prompts]\n",
    "questions = [stemming(text) for text in questions]"
   ]
  },
  {
   "cell_type": "code",
   "execution_count": 17,
   "metadata": {},
   "outputs": [
    {
     "name": "stdout",
     "output_type": "stream",
     "text": [
      "['load', 'csv', 'file', 'panda', 'python', 'file', 'name']\n",
      "['initi', 'first', 'make', 'copi', 'notebook', 'given', 'starter']\n"
     ]
    }
   ],
   "source": [
    "print(code2prompts_proc[\"0031c86e-81f4-4eef-9e0e-28037abf9883\"][0][:7])\n",
    "print(questions[0][:7])"
   ]
  },
  {
   "cell_type": "code",
   "execution_count": 18,
   "metadata": {},
   "outputs": [
    {
     "name": "stderr",
     "output_type": "stream",
     "text": [
      "[nltk_data] Downloading package wordnet to\n",
      "[nltk_data]     C:\\Users\\salih\\AppData\\Roaming\\nltk_data...\n",
      "[nltk_data]   Package wordnet is already up-to-date!\n"
     ]
    },
    {
     "data": {
      "text/plain": [
       "True"
      ]
     },
     "execution_count": 18,
     "metadata": {},
     "output_type": "execute_result"
    }
   ],
   "source": [
    "nltk.download('wordnet')"
   ]
  },
  {
   "cell_type": "code",
   "execution_count": 19,
   "metadata": {},
   "outputs": [],
   "source": [
    "# from nltk.stem import WordNetLemmatizer\n",
    "# from nltk.tokenize import word_tokenize\n",
    "\n",
    "# # Lemmatizer'ı başlat\n",
    "# lemmatizer = WordNetLemmatizer()\n",
    "\n",
    "# def lemmatize_text(tokenized_text):\n",
    "#     joined_text = ' '.join(tokenized_text)\n",
    "    \n",
    "#     tokenized = word_tokenize(joined_text)\n",
    "    \n",
    "#     lemmatized = [lemmatizer.lemmatize(word) for word in tokenized]\n",
    "#     return lemmatized\n",
    "\n",
    "# # Her bir metin üzerinde lemmatization uygula\n",
    "# prompts = [lemmatize_text(text) for text in prompts]\n",
    "# questions = [lemmatize_text(text) for text in questions]"
   ]
  },
  {
   "cell_type": "code",
   "execution_count": 20,
   "metadata": {},
   "outputs": [
    {
     "name": "stdout",
     "output_type": "stream",
     "text": [
      "['load', 'csv', 'file', 'panda', 'python', 'file', 'name']\n",
      "['initi', 'first', 'make', 'copi', 'notebook', 'given', 'starter']\n"
     ]
    }
   ],
   "source": [
    "print(code2prompts_proc[\"0031c86e-81f4-4eef-9e0e-28037abf9883\"][0][:7])\n",
    "print(questions[0][:7])"
   ]
  },
  {
   "cell_type": "code",
   "execution_count": 21,
   "metadata": {},
   "outputs": [],
   "source": [
    "def joinThemAll(tokenized_text):\n",
    "    return ' '.join(tokenized_text)\n",
    "\n",
    "for code, user_prompts in code2prompts_proc.items():\n",
    "    code2prompts_proc[code] = [joinThemAll(text) for text in user_prompts]\n",
    "\n",
    "prompts = [joinThemAll(text) for text in prompts]\n",
    "questions = [joinThemAll(text) for text in questions]"
   ]
  },
  {
   "cell_type": "code",
   "execution_count": 22,
   "metadata": {},
   "outputs": [
    {
     "name": "stdout",
     "output_type": "stream",
     "text": [
      "load csv file panda python file name cs412hw1datasetcsv contain column like speci island sex diet year life stage bodi mass g bill length mm bill depth mm flipper length mm health metric\n",
      "initi first make copi notebook given starter make sure choos connect form upper right may upload data section left colab right click csv file get path file click copi path use load data\n"
     ]
    }
   ],
   "source": [
    "print(code2prompts_proc[\"0031c86e-81f4-4eef-9e0e-28037abf9883\"][0])\n",
    "print(questions[0])"
   ]
  },
  {
   "cell_type": "code",
   "execution_count": 23,
   "metadata": {},
   "outputs": [],
   "source": [
    "vectorizer = TfidfVectorizer(ngram_range=(1, 3), max_features=2000)\n",
    "vectorizer = vectorizer.fit(prompts + questions)"
   ]
  },
  {
   "cell_type": "code",
   "execution_count": 24,
   "metadata": {},
   "outputs": [],
   "source": [
    "# Bag of Words Approach\n",
    "\n",
    "from sklearn.feature_extraction.text import CountVectorizer\n",
    "vectorizer_BoW = CountVectorizer(ngram_range=(1, 3), max_features=2000)\n",
    "vectorizer_BoW = vectorizer_BoW.fit(prompts + questions)            # Choose to add GPT responses or not"
   ]
  },
  {
   "cell_type": "code",
   "execution_count": 25,
   "metadata": {},
   "outputs": [
    {
     "name": "stderr",
     "output_type": "stream",
     "text": [
      "c:\\Users\\salih\\AppData\\Local\\Programs\\Python\\Python310\\lib\\site-packages\\requests\\__init__.py:102: RequestsDependencyWarning: urllib3 (1.26.12) or chardet (5.0.0)/charset_normalizer (2.0.12) doesn't match a supported version!\n",
      "  warnings.warn(\"urllib3 ({}) or chardet ({})/charset_normalizer ({}) doesn't match a supported \"\n"
     ]
    }
   ],
   "source": [
    "# Word2Vec Approach\n",
    "\n",
    "from gensim.models import Word2Vec\n",
    "questions_and_prompts_and_answers = [sentence.split() for sentence in prompts + questions]      # Choose to add GPT responses or not\n",
    "\n",
    "vector_size = 500               # These can be tuned\n",
    "window = 5\n",
    "min_count = 5\n",
    "\n",
    "w2v_model = Word2Vec(\n",
    "    questions_and_prompts_and_answers,\n",
    "    vector_size=vector_size,\n",
    "    window=window,\n",
    "    min_count=min_count,\n",
    "    workers=4)\n",
    "\n",
    "\n",
    "def vectorize(q_and_p_and_a, model):\n",
    "    word_vectors = [model.wv[word] for word in q_and_p_and_a if word in model.wv]\n",
    "\n",
    "    if not word_vectors:\n",
    "        return np.zeros(model.vector_size)  # Return zero vector if no word vectors are found\n",
    "\n",
    "    avg_vector = np.mean(word_vectors, axis=0)\n",
    "    return avg_vector"
   ]
  },
  {
   "cell_type": "code",
   "execution_count": 26,
   "metadata": {},
   "outputs": [
    {
     "data": {
      "text/html": [
       "<div>\n",
       "<style scoped>\n",
       "    .dataframe tbody tr th:only-of-type {\n",
       "        vertical-align: middle;\n",
       "    }\n",
       "\n",
       "    .dataframe tbody tr th {\n",
       "        vertical-align: top;\n",
       "    }\n",
       "\n",
       "    .dataframe thead th {\n",
       "        text-align: right;\n",
       "    }\n",
       "</style>\n",
       "<table border=\"1\" class=\"dataframe\">\n",
       "  <thead>\n",
       "    <tr style=\"text-align: right;\">\n",
       "      <th></th>\n",
       "      <th>00</th>\n",
       "      <th>0000750</th>\n",
       "      <th>0019261</th>\n",
       "      <th>0022867</th>\n",
       "      <th>0040724</th>\n",
       "      <th>0053031</th>\n",
       "      <th>0053031 diet</th>\n",
       "      <th>0053031 diet 0172632</th>\n",
       "      <th>0056337</th>\n",
       "      <th>0091418</th>\n",
       "      <th>...</th>\n",
       "      <th>year year data</th>\n",
       "      <th>ypred</th>\n",
       "      <th>ytest</th>\n",
       "      <th>ytest traintestsplitx</th>\n",
       "      <th>ytest traintestsplitx testsize02</th>\n",
       "      <th>ytrain</th>\n",
       "      <th>ytrain fitparam</th>\n",
       "      <th>ytrain fitparam file</th>\n",
       "      <th>ytrain ytest</th>\n",
       "      <th>ytrain ytest traintestsplitx</th>\n",
       "    </tr>\n",
       "  </thead>\n",
       "  <tbody>\n",
       "    <tr>\n",
       "      <th>0</th>\n",
       "      <td>0.0</td>\n",
       "      <td>0.0</td>\n",
       "      <td>0.0</td>\n",
       "      <td>0.0</td>\n",
       "      <td>0.0</td>\n",
       "      <td>0.0</td>\n",
       "      <td>0.0</td>\n",
       "      <td>0.0</td>\n",
       "      <td>0.0</td>\n",
       "      <td>0.0</td>\n",
       "      <td>...</td>\n",
       "      <td>0.0</td>\n",
       "      <td>0.0</td>\n",
       "      <td>0.0</td>\n",
       "      <td>0.0</td>\n",
       "      <td>0.0</td>\n",
       "      <td>0.0</td>\n",
       "      <td>0.0</td>\n",
       "      <td>0.0</td>\n",
       "      <td>0.0</td>\n",
       "      <td>0.0</td>\n",
       "    </tr>\n",
       "    <tr>\n",
       "      <th>1</th>\n",
       "      <td>0.0</td>\n",
       "      <td>0.0</td>\n",
       "      <td>0.0</td>\n",
       "      <td>0.0</td>\n",
       "      <td>0.0</td>\n",
       "      <td>0.0</td>\n",
       "      <td>0.0</td>\n",
       "      <td>0.0</td>\n",
       "      <td>0.0</td>\n",
       "      <td>0.0</td>\n",
       "      <td>...</td>\n",
       "      <td>0.0</td>\n",
       "      <td>0.0</td>\n",
       "      <td>0.0</td>\n",
       "      <td>0.0</td>\n",
       "      <td>0.0</td>\n",
       "      <td>0.0</td>\n",
       "      <td>0.0</td>\n",
       "      <td>0.0</td>\n",
       "      <td>0.0</td>\n",
       "      <td>0.0</td>\n",
       "    </tr>\n",
       "    <tr>\n",
       "      <th>2</th>\n",
       "      <td>0.0</td>\n",
       "      <td>0.0</td>\n",
       "      <td>0.0</td>\n",
       "      <td>0.0</td>\n",
       "      <td>0.0</td>\n",
       "      <td>0.0</td>\n",
       "      <td>0.0</td>\n",
       "      <td>0.0</td>\n",
       "      <td>0.0</td>\n",
       "      <td>0.0</td>\n",
       "      <td>...</td>\n",
       "      <td>0.0</td>\n",
       "      <td>0.0</td>\n",
       "      <td>0.0</td>\n",
       "      <td>0.0</td>\n",
       "      <td>0.0</td>\n",
       "      <td>0.0</td>\n",
       "      <td>0.0</td>\n",
       "      <td>0.0</td>\n",
       "      <td>0.0</td>\n",
       "      <td>0.0</td>\n",
       "    </tr>\n",
       "    <tr>\n",
       "      <th>3</th>\n",
       "      <td>0.0</td>\n",
       "      <td>0.0</td>\n",
       "      <td>0.0</td>\n",
       "      <td>0.0</td>\n",
       "      <td>0.0</td>\n",
       "      <td>0.0</td>\n",
       "      <td>0.0</td>\n",
       "      <td>0.0</td>\n",
       "      <td>0.0</td>\n",
       "      <td>0.0</td>\n",
       "      <td>...</td>\n",
       "      <td>0.0</td>\n",
       "      <td>0.0</td>\n",
       "      <td>0.0</td>\n",
       "      <td>0.0</td>\n",
       "      <td>0.0</td>\n",
       "      <td>0.0</td>\n",
       "      <td>0.0</td>\n",
       "      <td>0.0</td>\n",
       "      <td>0.0</td>\n",
       "      <td>0.0</td>\n",
       "    </tr>\n",
       "    <tr>\n",
       "      <th>4</th>\n",
       "      <td>0.0</td>\n",
       "      <td>0.0</td>\n",
       "      <td>0.0</td>\n",
       "      <td>0.0</td>\n",
       "      <td>0.0</td>\n",
       "      <td>0.0</td>\n",
       "      <td>0.0</td>\n",
       "      <td>0.0</td>\n",
       "      <td>0.0</td>\n",
       "      <td>0.0</td>\n",
       "      <td>...</td>\n",
       "      <td>0.0</td>\n",
       "      <td>0.0</td>\n",
       "      <td>0.0</td>\n",
       "      <td>0.0</td>\n",
       "      <td>0.0</td>\n",
       "      <td>0.0</td>\n",
       "      <td>0.0</td>\n",
       "      <td>0.0</td>\n",
       "      <td>0.0</td>\n",
       "      <td>0.0</td>\n",
       "    </tr>\n",
       "  </tbody>\n",
       "</table>\n",
       "<p>5 rows × 2000 columns</p>\n",
       "</div>"
      ],
      "text/plain": [
       "    00  0000750  0019261  0022867  0040724  0053031  0053031 diet  \\\n",
       "0  0.0      0.0      0.0      0.0      0.0      0.0           0.0   \n",
       "1  0.0      0.0      0.0      0.0      0.0      0.0           0.0   \n",
       "2  0.0      0.0      0.0      0.0      0.0      0.0           0.0   \n",
       "3  0.0      0.0      0.0      0.0      0.0      0.0           0.0   \n",
       "4  0.0      0.0      0.0      0.0      0.0      0.0           0.0   \n",
       "\n",
       "   0053031 diet 0172632  0056337  0091418  ...  year year data  ypred  ytest  \\\n",
       "0                   0.0      0.0      0.0  ...             0.0    0.0    0.0   \n",
       "1                   0.0      0.0      0.0  ...             0.0    0.0    0.0   \n",
       "2                   0.0      0.0      0.0  ...             0.0    0.0    0.0   \n",
       "3                   0.0      0.0      0.0  ...             0.0    0.0    0.0   \n",
       "4                   0.0      0.0      0.0  ...             0.0    0.0    0.0   \n",
       "\n",
       "   ytest traintestsplitx  ytest traintestsplitx testsize02  ytrain  \\\n",
       "0                    0.0                               0.0     0.0   \n",
       "1                    0.0                               0.0     0.0   \n",
       "2                    0.0                               0.0     0.0   \n",
       "3                    0.0                               0.0     0.0   \n",
       "4                    0.0                               0.0     0.0   \n",
       "\n",
       "   ytrain fitparam  ytrain fitparam file  ytrain ytest  \\\n",
       "0              0.0                   0.0           0.0   \n",
       "1              0.0                   0.0           0.0   \n",
       "2              0.0                   0.0           0.0   \n",
       "3              0.0                   0.0           0.0   \n",
       "4              0.0                   0.0           0.0   \n",
       "\n",
       "   ytrain ytest traintestsplitx  \n",
       "0                           0.0  \n",
       "1                           0.0  \n",
       "2                           0.0  \n",
       "3                           0.0  \n",
       "4                           0.0  \n",
       "\n",
       "[5 rows x 2000 columns]"
      ]
     },
     "execution_count": 26,
     "metadata": {},
     "output_type": "execute_result"
    }
   ],
   "source": [
    "questions_TF_IDF = pd.DataFrame(vectorizer.transform(questions).toarray(), columns=vectorizer.get_feature_names_out())\n",
    "questions_TF_IDF.head()"
   ]
  },
  {
   "cell_type": "code",
   "execution_count": 27,
   "metadata": {},
   "outputs": [
    {
     "data": {
      "text/html": [
       "<div>\n",
       "<style scoped>\n",
       "    .dataframe tbody tr th:only-of-type {\n",
       "        vertical-align: middle;\n",
       "    }\n",
       "\n",
       "    .dataframe tbody tr th {\n",
       "        vertical-align: top;\n",
       "    }\n",
       "\n",
       "    .dataframe thead th {\n",
       "        text-align: right;\n",
       "    }\n",
       "</style>\n",
       "<table border=\"1\" class=\"dataframe\">\n",
       "  <thead>\n",
       "    <tr style=\"text-align: right;\">\n",
       "      <th></th>\n",
       "      <th>00</th>\n",
       "      <th>0000750</th>\n",
       "      <th>0019261</th>\n",
       "      <th>0022867</th>\n",
       "      <th>0040724</th>\n",
       "      <th>0053031</th>\n",
       "      <th>0053031 diet</th>\n",
       "      <th>0053031 diet 0172632</th>\n",
       "      <th>0056337</th>\n",
       "      <th>0091418</th>\n",
       "      <th>...</th>\n",
       "      <th>year year data</th>\n",
       "      <th>ypred</th>\n",
       "      <th>ytest</th>\n",
       "      <th>ytest traintestsplitx</th>\n",
       "      <th>ytest traintestsplitx testsize02</th>\n",
       "      <th>ytrain</th>\n",
       "      <th>ytrain fitparam</th>\n",
       "      <th>ytrain fitparam file</th>\n",
       "      <th>ytrain ytest</th>\n",
       "      <th>ytrain ytest traintestsplitx</th>\n",
       "    </tr>\n",
       "  </thead>\n",
       "  <tbody>\n",
       "    <tr>\n",
       "      <th>0</th>\n",
       "      <td>0</td>\n",
       "      <td>0</td>\n",
       "      <td>0</td>\n",
       "      <td>0</td>\n",
       "      <td>0</td>\n",
       "      <td>0</td>\n",
       "      <td>0</td>\n",
       "      <td>0</td>\n",
       "      <td>0</td>\n",
       "      <td>0</td>\n",
       "      <td>...</td>\n",
       "      <td>0</td>\n",
       "      <td>0</td>\n",
       "      <td>0</td>\n",
       "      <td>0</td>\n",
       "      <td>0</td>\n",
       "      <td>0</td>\n",
       "      <td>0</td>\n",
       "      <td>0</td>\n",
       "      <td>0</td>\n",
       "      <td>0</td>\n",
       "    </tr>\n",
       "    <tr>\n",
       "      <th>1</th>\n",
       "      <td>0</td>\n",
       "      <td>0</td>\n",
       "      <td>0</td>\n",
       "      <td>0</td>\n",
       "      <td>0</td>\n",
       "      <td>0</td>\n",
       "      <td>0</td>\n",
       "      <td>0</td>\n",
       "      <td>0</td>\n",
       "      <td>0</td>\n",
       "      <td>...</td>\n",
       "      <td>0</td>\n",
       "      <td>0</td>\n",
       "      <td>0</td>\n",
       "      <td>0</td>\n",
       "      <td>0</td>\n",
       "      <td>0</td>\n",
       "      <td>0</td>\n",
       "      <td>0</td>\n",
       "      <td>0</td>\n",
       "      <td>0</td>\n",
       "    </tr>\n",
       "    <tr>\n",
       "      <th>2</th>\n",
       "      <td>0</td>\n",
       "      <td>0</td>\n",
       "      <td>0</td>\n",
       "      <td>0</td>\n",
       "      <td>0</td>\n",
       "      <td>0</td>\n",
       "      <td>0</td>\n",
       "      <td>0</td>\n",
       "      <td>0</td>\n",
       "      <td>0</td>\n",
       "      <td>...</td>\n",
       "      <td>0</td>\n",
       "      <td>0</td>\n",
       "      <td>0</td>\n",
       "      <td>0</td>\n",
       "      <td>0</td>\n",
       "      <td>0</td>\n",
       "      <td>0</td>\n",
       "      <td>0</td>\n",
       "      <td>0</td>\n",
       "      <td>0</td>\n",
       "    </tr>\n",
       "    <tr>\n",
       "      <th>3</th>\n",
       "      <td>0</td>\n",
       "      <td>0</td>\n",
       "      <td>0</td>\n",
       "      <td>0</td>\n",
       "      <td>0</td>\n",
       "      <td>0</td>\n",
       "      <td>0</td>\n",
       "      <td>0</td>\n",
       "      <td>0</td>\n",
       "      <td>0</td>\n",
       "      <td>...</td>\n",
       "      <td>0</td>\n",
       "      <td>0</td>\n",
       "      <td>0</td>\n",
       "      <td>0</td>\n",
       "      <td>0</td>\n",
       "      <td>0</td>\n",
       "      <td>0</td>\n",
       "      <td>0</td>\n",
       "      <td>0</td>\n",
       "      <td>0</td>\n",
       "    </tr>\n",
       "    <tr>\n",
       "      <th>4</th>\n",
       "      <td>0</td>\n",
       "      <td>0</td>\n",
       "      <td>0</td>\n",
       "      <td>0</td>\n",
       "      <td>0</td>\n",
       "      <td>0</td>\n",
       "      <td>0</td>\n",
       "      <td>0</td>\n",
       "      <td>0</td>\n",
       "      <td>0</td>\n",
       "      <td>...</td>\n",
       "      <td>0</td>\n",
       "      <td>0</td>\n",
       "      <td>0</td>\n",
       "      <td>0</td>\n",
       "      <td>0</td>\n",
       "      <td>0</td>\n",
       "      <td>0</td>\n",
       "      <td>0</td>\n",
       "      <td>0</td>\n",
       "      <td>0</td>\n",
       "    </tr>\n",
       "  </tbody>\n",
       "</table>\n",
       "<p>5 rows × 2000 columns</p>\n",
       "</div>"
      ],
      "text/plain": [
       "   00  0000750  0019261  0022867  0040724  0053031  0053031 diet  \\\n",
       "0   0        0        0        0        0        0             0   \n",
       "1   0        0        0        0        0        0             0   \n",
       "2   0        0        0        0        0        0             0   \n",
       "3   0        0        0        0        0        0             0   \n",
       "4   0        0        0        0        0        0             0   \n",
       "\n",
       "   0053031 diet 0172632  0056337  0091418  ...  year year data  ypred  ytest  \\\n",
       "0                     0        0        0  ...               0      0      0   \n",
       "1                     0        0        0  ...               0      0      0   \n",
       "2                     0        0        0  ...               0      0      0   \n",
       "3                     0        0        0  ...               0      0      0   \n",
       "4                     0        0        0  ...               0      0      0   \n",
       "\n",
       "   ytest traintestsplitx  ytest traintestsplitx testsize02  ytrain  \\\n",
       "0                      0                                 0       0   \n",
       "1                      0                                 0       0   \n",
       "2                      0                                 0       0   \n",
       "3                      0                                 0       0   \n",
       "4                      0                                 0       0   \n",
       "\n",
       "   ytrain fitparam  ytrain fitparam file  ytrain ytest  \\\n",
       "0                0                     0             0   \n",
       "1                0                     0             0   \n",
       "2                0                     0             0   \n",
       "3                0                     0             0   \n",
       "4                0                     0             0   \n",
       "\n",
       "   ytrain ytest traintestsplitx  \n",
       "0                             0  \n",
       "1                             0  \n",
       "2                             0  \n",
       "3                             0  \n",
       "4                             0  \n",
       "\n",
       "[5 rows x 2000 columns]"
      ]
     },
     "execution_count": 27,
     "metadata": {},
     "output_type": "execute_result"
    }
   ],
   "source": [
    "# Bag of Words Approach\n",
    "\n",
    "questions_BoW = pd.DataFrame(vectorizer_BoW.transform(questions).toarray(), columns=vectorizer_BoW.get_feature_names_out())\n",
    "questions_BoW.head()"
   ]
  },
  {
   "cell_type": "code",
   "execution_count": 28,
   "metadata": {},
   "outputs": [
    {
     "data": {
      "text/html": [
       "<div>\n",
       "<style scoped>\n",
       "    .dataframe tbody tr th:only-of-type {\n",
       "        vertical-align: middle;\n",
       "    }\n",
       "\n",
       "    .dataframe tbody tr th {\n",
       "        vertical-align: top;\n",
       "    }\n",
       "\n",
       "    .dataframe thead th {\n",
       "        text-align: right;\n",
       "    }\n",
       "</style>\n",
       "<table border=\"1\" class=\"dataframe\">\n",
       "  <thead>\n",
       "    <tr style=\"text-align: right;\">\n",
       "      <th></th>\n",
       "      <th>w2v_0</th>\n",
       "      <th>w2v_1</th>\n",
       "      <th>w2v_2</th>\n",
       "      <th>w2v_3</th>\n",
       "      <th>w2v_4</th>\n",
       "      <th>w2v_5</th>\n",
       "      <th>w2v_6</th>\n",
       "      <th>w2v_7</th>\n",
       "      <th>w2v_8</th>\n",
       "      <th>w2v_9</th>\n",
       "      <th>...</th>\n",
       "      <th>w2v_490</th>\n",
       "      <th>w2v_491</th>\n",
       "      <th>w2v_492</th>\n",
       "      <th>w2v_493</th>\n",
       "      <th>w2v_494</th>\n",
       "      <th>w2v_495</th>\n",
       "      <th>w2v_496</th>\n",
       "      <th>w2v_497</th>\n",
       "      <th>w2v_498</th>\n",
       "      <th>w2v_499</th>\n",
       "    </tr>\n",
       "  </thead>\n",
       "  <tbody>\n",
       "    <tr>\n",
       "      <th>0</th>\n",
       "      <td>0.031007</td>\n",
       "      <td>0.053075</td>\n",
       "      <td>0.042949</td>\n",
       "      <td>0.064395</td>\n",
       "      <td>-0.003213</td>\n",
       "      <td>-0.112163</td>\n",
       "      <td>-0.024453</td>\n",
       "      <td>0.084066</td>\n",
       "      <td>0.040264</td>\n",
       "      <td>0.008680</td>\n",
       "      <td>...</td>\n",
       "      <td>-0.025284</td>\n",
       "      <td>-0.017326</td>\n",
       "      <td>0.065878</td>\n",
       "      <td>-0.025041</td>\n",
       "      <td>0.049894</td>\n",
       "      <td>-0.011543</td>\n",
       "      <td>-0.022108</td>\n",
       "      <td>-0.057286</td>\n",
       "      <td>-0.033876</td>\n",
       "      <td>-0.028958</td>\n",
       "    </tr>\n",
       "    <tr>\n",
       "      <th>1</th>\n",
       "      <td>0.013306</td>\n",
       "      <td>0.100239</td>\n",
       "      <td>0.117451</td>\n",
       "      <td>0.097948</td>\n",
       "      <td>-0.030922</td>\n",
       "      <td>-0.143150</td>\n",
       "      <td>-0.004203</td>\n",
       "      <td>0.099236</td>\n",
       "      <td>0.049083</td>\n",
       "      <td>0.050647</td>\n",
       "      <td>...</td>\n",
       "      <td>-0.039720</td>\n",
       "      <td>-0.022865</td>\n",
       "      <td>0.093305</td>\n",
       "      <td>0.024957</td>\n",
       "      <td>0.043418</td>\n",
       "      <td>-0.039750</td>\n",
       "      <td>-0.089343</td>\n",
       "      <td>-0.104330</td>\n",
       "      <td>-0.029722</td>\n",
       "      <td>-0.024050</td>\n",
       "    </tr>\n",
       "    <tr>\n",
       "      <th>2</th>\n",
       "      <td>0.039352</td>\n",
       "      <td>0.069211</td>\n",
       "      <td>0.071643</td>\n",
       "      <td>0.074453</td>\n",
       "      <td>-0.022212</td>\n",
       "      <td>-0.113487</td>\n",
       "      <td>0.000541</td>\n",
       "      <td>0.104584</td>\n",
       "      <td>0.062398</td>\n",
       "      <td>0.030403</td>\n",
       "      <td>...</td>\n",
       "      <td>-0.021954</td>\n",
       "      <td>-0.025155</td>\n",
       "      <td>0.080612</td>\n",
       "      <td>-0.007443</td>\n",
       "      <td>0.050109</td>\n",
       "      <td>-0.017570</td>\n",
       "      <td>-0.039568</td>\n",
       "      <td>-0.086560</td>\n",
       "      <td>-0.037751</td>\n",
       "      <td>-0.036361</td>\n",
       "    </tr>\n",
       "    <tr>\n",
       "      <th>3</th>\n",
       "      <td>0.051608</td>\n",
       "      <td>0.102444</td>\n",
       "      <td>0.078992</td>\n",
       "      <td>0.095492</td>\n",
       "      <td>-0.073166</td>\n",
       "      <td>-0.077556</td>\n",
       "      <td>0.015013</td>\n",
       "      <td>0.136139</td>\n",
       "      <td>0.060889</td>\n",
       "      <td>0.068924</td>\n",
       "      <td>...</td>\n",
       "      <td>0.019080</td>\n",
       "      <td>-0.036634</td>\n",
       "      <td>0.127532</td>\n",
       "      <td>0.034665</td>\n",
       "      <td>0.064146</td>\n",
       "      <td>0.035898</td>\n",
       "      <td>-0.003623</td>\n",
       "      <td>-0.109546</td>\n",
       "      <td>-0.076771</td>\n",
       "      <td>-0.025885</td>\n",
       "    </tr>\n",
       "    <tr>\n",
       "      <th>4</th>\n",
       "      <td>0.039062</td>\n",
       "      <td>0.047891</td>\n",
       "      <td>0.045029</td>\n",
       "      <td>0.065092</td>\n",
       "      <td>-0.009660</td>\n",
       "      <td>-0.099253</td>\n",
       "      <td>-0.006290</td>\n",
       "      <td>0.091024</td>\n",
       "      <td>0.047584</td>\n",
       "      <td>0.019830</td>\n",
       "      <td>...</td>\n",
       "      <td>-0.018940</td>\n",
       "      <td>-0.015285</td>\n",
       "      <td>0.060679</td>\n",
       "      <td>-0.015985</td>\n",
       "      <td>0.054727</td>\n",
       "      <td>-0.008572</td>\n",
       "      <td>0.001255</td>\n",
       "      <td>-0.054446</td>\n",
       "      <td>-0.041187</td>\n",
       "      <td>-0.036487</td>\n",
       "    </tr>\n",
       "  </tbody>\n",
       "</table>\n",
       "<p>5 rows × 500 columns</p>\n",
       "</div>"
      ],
      "text/plain": [
       "      w2v_0     w2v_1     w2v_2     w2v_3     w2v_4     w2v_5     w2v_6  \\\n",
       "0  0.031007  0.053075  0.042949  0.064395 -0.003213 -0.112163 -0.024453   \n",
       "1  0.013306  0.100239  0.117451  0.097948 -0.030922 -0.143150 -0.004203   \n",
       "2  0.039352  0.069211  0.071643  0.074453 -0.022212 -0.113487  0.000541   \n",
       "3  0.051608  0.102444  0.078992  0.095492 -0.073166 -0.077556  0.015013   \n",
       "4  0.039062  0.047891  0.045029  0.065092 -0.009660 -0.099253 -0.006290   \n",
       "\n",
       "      w2v_7     w2v_8     w2v_9  ...   w2v_490   w2v_491   w2v_492   w2v_493  \\\n",
       "0  0.084066  0.040264  0.008680  ... -0.025284 -0.017326  0.065878 -0.025041   \n",
       "1  0.099236  0.049083  0.050647  ... -0.039720 -0.022865  0.093305  0.024957   \n",
       "2  0.104584  0.062398  0.030403  ... -0.021954 -0.025155  0.080612 -0.007443   \n",
       "3  0.136139  0.060889  0.068924  ...  0.019080 -0.036634  0.127532  0.034665   \n",
       "4  0.091024  0.047584  0.019830  ... -0.018940 -0.015285  0.060679 -0.015985   \n",
       "\n",
       "    w2v_494   w2v_495   w2v_496   w2v_497   w2v_498   w2v_499  \n",
       "0  0.049894 -0.011543 -0.022108 -0.057286 -0.033876 -0.028958  \n",
       "1  0.043418 -0.039750 -0.089343 -0.104330 -0.029722 -0.024050  \n",
       "2  0.050109 -0.017570 -0.039568 -0.086560 -0.037751 -0.036361  \n",
       "3  0.064146  0.035898 -0.003623 -0.109546 -0.076771 -0.025885  \n",
       "4  0.054727 -0.008572  0.001255 -0.054446 -0.041187 -0.036487  \n",
       "\n",
       "[5 rows x 500 columns]"
      ]
     },
     "execution_count": 28,
     "metadata": {},
     "output_type": "execute_result"
    }
   ],
   "source": [
    "# Word2Vec Approach\n",
    "\n",
    "questions_w2v = pd.DataFrame([vectorize(sentence, w2v_model) for sentence in questions], columns=[f'w2v_{i}' for i in range(vector_size)])\n",
    "questions_w2v.head()"
   ]
  },
  {
   "cell_type": "code",
   "execution_count": 29,
   "metadata": {},
   "outputs": [
    {
     "name": "stdout",
     "output_type": "stream",
     "text": [
      "139235c7-736c-4237-92f0-92e8c116832c.html\n",
      "668ad17e-0240-49f7-b5a7-d22e502554c6.html\n",
      "b0640e51-6879-40cb-a4f5-329f952ef99d.html\n",
      "da6b70d5-29f6-491a-ad46-037c77067128.html\n"
     ]
    }
   ],
   "source": [
    "code2prompts_tf_idf = dict()\n",
    "for code, user_prompts in code2prompts_proc.items():\n",
    "    # code = \"0031c86e-81f4-4eef-9e0e-28037abf9883\", user_prompts = [prompt1, prompt2, ...]\n",
    "    if len(user_prompts) == 0:\n",
    "        # some files have issues\n",
    "        print(code+\".html\")\n",
    "        continue\n",
    "    prompts_TF_IDF = pd.DataFrame(vectorizer.transform(user_prompts).toarray(), columns=vectorizer.get_feature_names_out())\n",
    "    code2prompts_tf_idf[code] = prompts_TF_IDF"
   ]
  },
  {
   "cell_type": "code",
   "execution_count": 30,
   "metadata": {},
   "outputs": [
    {
     "data": {
      "text/html": [
       "<div>\n",
       "<style scoped>\n",
       "    .dataframe tbody tr th:only-of-type {\n",
       "        vertical-align: middle;\n",
       "    }\n",
       "\n",
       "    .dataframe tbody tr th {\n",
       "        vertical-align: top;\n",
       "    }\n",
       "\n",
       "    .dataframe thead th {\n",
       "        text-align: right;\n",
       "    }\n",
       "</style>\n",
       "<table border=\"1\" class=\"dataframe\">\n",
       "  <thead>\n",
       "    <tr style=\"text-align: right;\">\n",
       "      <th></th>\n",
       "      <th>00</th>\n",
       "      <th>0000750</th>\n",
       "      <th>0019261</th>\n",
       "      <th>0022867</th>\n",
       "      <th>0040724</th>\n",
       "      <th>0053031</th>\n",
       "      <th>0053031 diet</th>\n",
       "      <th>0053031 diet 0172632</th>\n",
       "      <th>0056337</th>\n",
       "      <th>0091418</th>\n",
       "      <th>...</th>\n",
       "      <th>year year data</th>\n",
       "      <th>ypred</th>\n",
       "      <th>ytest</th>\n",
       "      <th>ytest traintestsplitx</th>\n",
       "      <th>ytest traintestsplitx testsize02</th>\n",
       "      <th>ytrain</th>\n",
       "      <th>ytrain fitparam</th>\n",
       "      <th>ytrain fitparam file</th>\n",
       "      <th>ytrain ytest</th>\n",
       "      <th>ytrain ytest traintestsplitx</th>\n",
       "    </tr>\n",
       "  </thead>\n",
       "  <tbody>\n",
       "    <tr>\n",
       "      <th>0</th>\n",
       "      <td>0.0</td>\n",
       "      <td>0.0</td>\n",
       "      <td>0.0</td>\n",
       "      <td>0.0</td>\n",
       "      <td>0.0</td>\n",
       "      <td>0.0</td>\n",
       "      <td>0.0</td>\n",
       "      <td>0.0</td>\n",
       "      <td>0.0</td>\n",
       "      <td>0.0</td>\n",
       "      <td>...</td>\n",
       "      <td>0.0</td>\n",
       "      <td>0.0</td>\n",
       "      <td>0.0</td>\n",
       "      <td>0.0</td>\n",
       "      <td>0.0</td>\n",
       "      <td>0.0</td>\n",
       "      <td>0.0</td>\n",
       "      <td>0.0</td>\n",
       "      <td>0.0</td>\n",
       "      <td>0.0</td>\n",
       "    </tr>\n",
       "    <tr>\n",
       "      <th>1</th>\n",
       "      <td>0.0</td>\n",
       "      <td>0.0</td>\n",
       "      <td>0.0</td>\n",
       "      <td>0.0</td>\n",
       "      <td>0.0</td>\n",
       "      <td>0.0</td>\n",
       "      <td>0.0</td>\n",
       "      <td>0.0</td>\n",
       "      <td>0.0</td>\n",
       "      <td>0.0</td>\n",
       "      <td>...</td>\n",
       "      <td>0.0</td>\n",
       "      <td>0.0</td>\n",
       "      <td>0.0</td>\n",
       "      <td>0.0</td>\n",
       "      <td>0.0</td>\n",
       "      <td>0.0</td>\n",
       "      <td>0.0</td>\n",
       "      <td>0.0</td>\n",
       "      <td>0.0</td>\n",
       "      <td>0.0</td>\n",
       "    </tr>\n",
       "    <tr>\n",
       "      <th>2</th>\n",
       "      <td>0.0</td>\n",
       "      <td>0.0</td>\n",
       "      <td>0.0</td>\n",
       "      <td>0.0</td>\n",
       "      <td>0.0</td>\n",
       "      <td>0.0</td>\n",
       "      <td>0.0</td>\n",
       "      <td>0.0</td>\n",
       "      <td>0.0</td>\n",
       "      <td>0.0</td>\n",
       "      <td>...</td>\n",
       "      <td>0.0</td>\n",
       "      <td>0.0</td>\n",
       "      <td>0.0</td>\n",
       "      <td>0.0</td>\n",
       "      <td>0.0</td>\n",
       "      <td>0.0</td>\n",
       "      <td>0.0</td>\n",
       "      <td>0.0</td>\n",
       "      <td>0.0</td>\n",
       "      <td>0.0</td>\n",
       "    </tr>\n",
       "    <tr>\n",
       "      <th>3</th>\n",
       "      <td>0.0</td>\n",
       "      <td>0.0</td>\n",
       "      <td>0.0</td>\n",
       "      <td>0.0</td>\n",
       "      <td>0.0</td>\n",
       "      <td>0.0</td>\n",
       "      <td>0.0</td>\n",
       "      <td>0.0</td>\n",
       "      <td>0.0</td>\n",
       "      <td>0.0</td>\n",
       "      <td>...</td>\n",
       "      <td>0.0</td>\n",
       "      <td>0.0</td>\n",
       "      <td>0.0</td>\n",
       "      <td>0.0</td>\n",
       "      <td>0.0</td>\n",
       "      <td>0.0</td>\n",
       "      <td>0.0</td>\n",
       "      <td>0.0</td>\n",
       "      <td>0.0</td>\n",
       "      <td>0.0</td>\n",
       "    </tr>\n",
       "    <tr>\n",
       "      <th>4</th>\n",
       "      <td>0.0</td>\n",
       "      <td>0.0</td>\n",
       "      <td>0.0</td>\n",
       "      <td>0.0</td>\n",
       "      <td>0.0</td>\n",
       "      <td>0.0</td>\n",
       "      <td>0.0</td>\n",
       "      <td>0.0</td>\n",
       "      <td>0.0</td>\n",
       "      <td>0.0</td>\n",
       "      <td>...</td>\n",
       "      <td>0.0</td>\n",
       "      <td>0.0</td>\n",
       "      <td>0.0</td>\n",
       "      <td>0.0</td>\n",
       "      <td>0.0</td>\n",
       "      <td>0.0</td>\n",
       "      <td>0.0</td>\n",
       "      <td>0.0</td>\n",
       "      <td>0.0</td>\n",
       "      <td>0.0</td>\n",
       "    </tr>\n",
       "  </tbody>\n",
       "</table>\n",
       "<p>5 rows × 2000 columns</p>\n",
       "</div>"
      ],
      "text/plain": [
       "    00  0000750  0019261  0022867  0040724  0053031  0053031 diet  \\\n",
       "0  0.0      0.0      0.0      0.0      0.0      0.0           0.0   \n",
       "1  0.0      0.0      0.0      0.0      0.0      0.0           0.0   \n",
       "2  0.0      0.0      0.0      0.0      0.0      0.0           0.0   \n",
       "3  0.0      0.0      0.0      0.0      0.0      0.0           0.0   \n",
       "4  0.0      0.0      0.0      0.0      0.0      0.0           0.0   \n",
       "\n",
       "   0053031 diet 0172632  0056337  0091418  ...  year year data  ypred  ytest  \\\n",
       "0                   0.0      0.0      0.0  ...             0.0    0.0    0.0   \n",
       "1                   0.0      0.0      0.0  ...             0.0    0.0    0.0   \n",
       "2                   0.0      0.0      0.0  ...             0.0    0.0    0.0   \n",
       "3                   0.0      0.0      0.0  ...             0.0    0.0    0.0   \n",
       "4                   0.0      0.0      0.0  ...             0.0    0.0    0.0   \n",
       "\n",
       "   ytest traintestsplitx  ytest traintestsplitx testsize02  ytrain  \\\n",
       "0                    0.0                               0.0     0.0   \n",
       "1                    0.0                               0.0     0.0   \n",
       "2                    0.0                               0.0     0.0   \n",
       "3                    0.0                               0.0     0.0   \n",
       "4                    0.0                               0.0     0.0   \n",
       "\n",
       "   ytrain fitparam  ytrain fitparam file  ytrain ytest  \\\n",
       "0              0.0                   0.0           0.0   \n",
       "1              0.0                   0.0           0.0   \n",
       "2              0.0                   0.0           0.0   \n",
       "3              0.0                   0.0           0.0   \n",
       "4              0.0                   0.0           0.0   \n",
       "\n",
       "   ytrain ytest traintestsplitx  \n",
       "0                           0.0  \n",
       "1                           0.0  \n",
       "2                           0.0  \n",
       "3                           0.0  \n",
       "4                           0.0  \n",
       "\n",
       "[5 rows x 2000 columns]"
      ]
     },
     "execution_count": 30,
     "metadata": {},
     "output_type": "execute_result"
    }
   ],
   "source": [
    "code2prompts_tf_idf[\"089eb66d-4c3a-4f58-b98f-a3774a2efb34\"].head()"
   ]
  },
  {
   "cell_type": "code",
   "execution_count": 31,
   "metadata": {},
   "outputs": [
    {
     "data": {
      "text/plain": [
       "(86, 2000)"
      ]
     },
     "execution_count": 31,
     "metadata": {},
     "output_type": "execute_result"
    }
   ],
   "source": [
    "code2prompts_tf_idf[\"089eb66d-4c3a-4f58-b98f-a3774a2efb34\"].shape"
   ]
  },
  {
   "cell_type": "code",
   "execution_count": 32,
   "metadata": {},
   "outputs": [
    {
     "name": "stdout",
     "output_type": "stream",
     "text": [
      "139235c7-736c-4237-92f0-92e8c116832c.html\n",
      "668ad17e-0240-49f7-b5a7-d22e502554c6.html\n",
      "b0640e51-6879-40cb-a4f5-329f952ef99d.html\n",
      "da6b70d5-29f6-491a-ad46-037c77067128.html\n"
     ]
    }
   ],
   "source": [
    "# Bag of Words Approach\n",
    "\n",
    "code2prompts_BoW = dict()\n",
    "for code, user_prompts in code2prompts_proc.items():\n",
    "    # code = \"0031c86e-81f4-4eef-9e0e-28037abf9883\", user_prompts = [prompt1, prompt2, ...]\n",
    "    if len(user_prompts) == 0:\n",
    "        # some files have issues\n",
    "        print(code+\".html\")\n",
    "        continue\n",
    "    prompts_BoW = pd.DataFrame(vectorizer_BoW.transform(user_prompts).toarray(), columns=vectorizer_BoW.get_feature_names_out())\n",
    "    code2prompts_BoW[code] = prompts_BoW"
   ]
  },
  {
   "cell_type": "code",
   "execution_count": 33,
   "metadata": {},
   "outputs": [
    {
     "name": "stdout",
     "output_type": "stream",
     "text": [
      "139235c7-736c-4237-92f0-92e8c116832c.html\n",
      "668ad17e-0240-49f7-b5a7-d22e502554c6.html\n",
      "b0640e51-6879-40cb-a4f5-329f952ef99d.html\n",
      "da6b70d5-29f6-491a-ad46-037c77067128.html\n"
     ]
    }
   ],
   "source": [
    "# Word2Vec Approach\n",
    "\n",
    "code2prompts_w2v = dict()\n",
    "\n",
    "for code, user_prompts in code2prompts_proc.items():\n",
    "    if len(user_prompts) == 0:\n",
    "        # some files have issues\n",
    "        print(code+\".html\")\n",
    "        continue\n",
    "\n",
    "    prompts_Word2Vec = pd.DataFrame([vectorize(sentence.split(), w2v_model) for sentence in user_prompts], columns=[f'w2v_{i}' for i in range(vector_size)])\n",
    "    code2prompts_w2v[code] = prompts_Word2Vec"
   ]
  },
  {
   "cell_type": "code",
   "execution_count": 34,
   "metadata": {},
   "outputs": [],
   "source": [
    "code2cosine = dict()\n",
    "for code, user_prompts_tf_idf in code2prompts_tf_idf.items():\n",
    "    code2cosine[code] = pd.DataFrame(cosine_similarity(questions_TF_IDF,user_prompts_tf_idf))"
   ]
  },
  {
   "cell_type": "code",
   "execution_count": 35,
   "metadata": {},
   "outputs": [
    {
     "data": {
      "text/plain": [
       "'featur correl 10 pts correl featur health 4 point calcul correl featur dataset highlight strong correl target variabl plot result heatmap featur select 3 point select subset featur like strong predictor justifi choic base comput correl hypothet driver featur 3 point propos two hypothet featur could enhanc model predict accuraci explain might deriv expect impact show result correl target variabl note get get help gpt'"
      ]
     },
     "execution_count": 35,
     "metadata": {},
     "output_type": "execute_result"
    }
   ],
   "source": [
    "questions[4]"
   ]
  },
  {
   "cell_type": "code",
   "execution_count": 36,
   "metadata": {},
   "outputs": [
    {
     "data": {
      "text/html": [
       "<div>\n",
       "<style scoped>\n",
       "    .dataframe tbody tr th:only-of-type {\n",
       "        vertical-align: middle;\n",
       "    }\n",
       "\n",
       "    .dataframe tbody tr th {\n",
       "        vertical-align: top;\n",
       "    }\n",
       "\n",
       "    .dataframe thead th {\n",
       "        text-align: right;\n",
       "    }\n",
       "</style>\n",
       "<table border=\"1\" class=\"dataframe\">\n",
       "  <thead>\n",
       "    <tr style=\"text-align: right;\">\n",
       "      <th></th>\n",
       "      <th>code</th>\n",
       "      <th>Q_0</th>\n",
       "      <th>Q_1</th>\n",
       "      <th>Q_2</th>\n",
       "      <th>Q_3</th>\n",
       "      <th>Q_4</th>\n",
       "      <th>Q_5</th>\n",
       "      <th>Q_6</th>\n",
       "      <th>Q_7</th>\n",
       "      <th>Q_8</th>\n",
       "    </tr>\n",
       "  </thead>\n",
       "  <tbody>\n",
       "    <tr>\n",
       "      <th>0</th>\n",
       "      <td>0031c86e-81f4-4eef-9e0e-28037abf9883</td>\n",
       "      <td>0.112329</td>\n",
       "      <td>0.213899</td>\n",
       "      <td>0.431712</td>\n",
       "      <td>0.345116</td>\n",
       "      <td>0.478540</td>\n",
       "      <td>0.479824</td>\n",
       "      <td>0.075568</td>\n",
       "      <td>0.105612</td>\n",
       "      <td>0.044732</td>\n",
       "    </tr>\n",
       "    <tr>\n",
       "      <th>1</th>\n",
       "      <td>0225686d-b825-4cac-8691-3a3a5343df2b</td>\n",
       "      <td>0.152252</td>\n",
       "      <td>0.794093</td>\n",
       "      <td>0.712662</td>\n",
       "      <td>0.838271</td>\n",
       "      <td>0.531717</td>\n",
       "      <td>0.957775</td>\n",
       "      <td>0.690658</td>\n",
       "      <td>0.578877</td>\n",
       "      <td>0.450405</td>\n",
       "    </tr>\n",
       "    <tr>\n",
       "      <th>2</th>\n",
       "      <td>041f950b-c013-409a-a642-cffff60b9d4b</td>\n",
       "      <td>0.080197</td>\n",
       "      <td>0.177811</td>\n",
       "      <td>0.435799</td>\n",
       "      <td>0.256042</td>\n",
       "      <td>0.610731</td>\n",
       "      <td>0.321699</td>\n",
       "      <td>0.333236</td>\n",
       "      <td>0.395504</td>\n",
       "      <td>0.213996</td>\n",
       "    </tr>\n",
       "    <tr>\n",
       "      <th>3</th>\n",
       "      <td>04f91058-d0f8-4324-83b2-19c671f433dc</td>\n",
       "      <td>0.052040</td>\n",
       "      <td>0.077495</td>\n",
       "      <td>0.144057</td>\n",
       "      <td>0.213483</td>\n",
       "      <td>0.300573</td>\n",
       "      <td>0.211384</td>\n",
       "      <td>0.089002</td>\n",
       "      <td>0.148559</td>\n",
       "      <td>0.261288</td>\n",
       "    </tr>\n",
       "    <tr>\n",
       "      <th>4</th>\n",
       "      <td>089eb66d-4c3a-4f58-b98f-a3774a2efb34</td>\n",
       "      <td>0.379493</td>\n",
       "      <td>0.710085</td>\n",
       "      <td>0.720525</td>\n",
       "      <td>0.552641</td>\n",
       "      <td>0.625788</td>\n",
       "      <td>0.847184</td>\n",
       "      <td>0.597846</td>\n",
       "      <td>0.909293</td>\n",
       "      <td>0.374091</td>\n",
       "    </tr>\n",
       "    <tr>\n",
       "      <th>...</th>\n",
       "      <td>...</td>\n",
       "      <td>...</td>\n",
       "      <td>...</td>\n",
       "      <td>...</td>\n",
       "      <td>...</td>\n",
       "      <td>...</td>\n",
       "      <td>...</td>\n",
       "      <td>...</td>\n",
       "      <td>...</td>\n",
       "      <td>...</td>\n",
       "    </tr>\n",
       "    <tr>\n",
       "      <th>118</th>\n",
       "      <td>f24219d6-07f0-4baf-80ac-18475dc5b66f</td>\n",
       "      <td>0.144183</td>\n",
       "      <td>0.116902</td>\n",
       "      <td>0.111659</td>\n",
       "      <td>0.081121</td>\n",
       "      <td>0.101969</td>\n",
       "      <td>0.425148</td>\n",
       "      <td>1.000000</td>\n",
       "      <td>0.986036</td>\n",
       "      <td>0.750460</td>\n",
       "    </tr>\n",
       "    <tr>\n",
       "      <th>119</th>\n",
       "      <td>f2f18684-4a16-4c05-a2d1-c0f96d1de869</td>\n",
       "      <td>0.140559</td>\n",
       "      <td>0.042723</td>\n",
       "      <td>0.194807</td>\n",
       "      <td>0.877265</td>\n",
       "      <td>0.712930</td>\n",
       "      <td>0.828748</td>\n",
       "      <td>0.173285</td>\n",
       "      <td>0.897551</td>\n",
       "      <td>0.498851</td>\n",
       "    </tr>\n",
       "    <tr>\n",
       "      <th>120</th>\n",
       "      <td>f852596d-fdca-45aa-9050-d4f76ce6a53c</td>\n",
       "      <td>0.169098</td>\n",
       "      <td>0.957328</td>\n",
       "      <td>0.938875</td>\n",
       "      <td>0.927903</td>\n",
       "      <td>0.842885</td>\n",
       "      <td>0.908948</td>\n",
       "      <td>0.738339</td>\n",
       "      <td>0.811619</td>\n",
       "      <td>0.414540</td>\n",
       "    </tr>\n",
       "    <tr>\n",
       "      <th>121</th>\n",
       "      <td>f8ec3336-fd48-4654-ad98-62ccfb96d096</td>\n",
       "      <td>0.169098</td>\n",
       "      <td>0.957328</td>\n",
       "      <td>1.000000</td>\n",
       "      <td>0.671533</td>\n",
       "      <td>0.966312</td>\n",
       "      <td>0.880253</td>\n",
       "      <td>1.000000</td>\n",
       "      <td>1.000000</td>\n",
       "      <td>0.726883</td>\n",
       "    </tr>\n",
       "    <tr>\n",
       "      <th>122</th>\n",
       "      <td>fb8de815-224c-4d06-9fd4-7156d1a9920d</td>\n",
       "      <td>0.148256</td>\n",
       "      <td>0.915828</td>\n",
       "      <td>0.818970</td>\n",
       "      <td>0.865538</td>\n",
       "      <td>0.973491</td>\n",
       "      <td>0.987802</td>\n",
       "      <td>0.995766</td>\n",
       "      <td>0.990898</td>\n",
       "      <td>0.722073</td>\n",
       "    </tr>\n",
       "  </tbody>\n",
       "</table>\n",
       "<p>123 rows × 10 columns</p>\n",
       "</div>"
      ],
      "text/plain": [
       "                                     code       Q_0       Q_1       Q_2  \\\n",
       "0    0031c86e-81f4-4eef-9e0e-28037abf9883  0.112329  0.213899  0.431712   \n",
       "1    0225686d-b825-4cac-8691-3a3a5343df2b  0.152252  0.794093  0.712662   \n",
       "2    041f950b-c013-409a-a642-cffff60b9d4b  0.080197  0.177811  0.435799   \n",
       "3    04f91058-d0f8-4324-83b2-19c671f433dc  0.052040  0.077495  0.144057   \n",
       "4    089eb66d-4c3a-4f58-b98f-a3774a2efb34  0.379493  0.710085  0.720525   \n",
       "..                                    ...       ...       ...       ...   \n",
       "118  f24219d6-07f0-4baf-80ac-18475dc5b66f  0.144183  0.116902  0.111659   \n",
       "119  f2f18684-4a16-4c05-a2d1-c0f96d1de869  0.140559  0.042723  0.194807   \n",
       "120  f852596d-fdca-45aa-9050-d4f76ce6a53c  0.169098  0.957328  0.938875   \n",
       "121  f8ec3336-fd48-4654-ad98-62ccfb96d096  0.169098  0.957328  1.000000   \n",
       "122  fb8de815-224c-4d06-9fd4-7156d1a9920d  0.148256  0.915828  0.818970   \n",
       "\n",
       "          Q_3       Q_4       Q_5       Q_6       Q_7       Q_8  \n",
       "0    0.345116  0.478540  0.479824  0.075568  0.105612  0.044732  \n",
       "1    0.838271  0.531717  0.957775  0.690658  0.578877  0.450405  \n",
       "2    0.256042  0.610731  0.321699  0.333236  0.395504  0.213996  \n",
       "3    0.213483  0.300573  0.211384  0.089002  0.148559  0.261288  \n",
       "4    0.552641  0.625788  0.847184  0.597846  0.909293  0.374091  \n",
       "..        ...       ...       ...       ...       ...       ...  \n",
       "118  0.081121  0.101969  0.425148  1.000000  0.986036  0.750460  \n",
       "119  0.877265  0.712930  0.828748  0.173285  0.897551  0.498851  \n",
       "120  0.927903  0.842885  0.908948  0.738339  0.811619  0.414540  \n",
       "121  0.671533  0.966312  0.880253  1.000000  1.000000  0.726883  \n",
       "122  0.865538  0.973491  0.987802  0.995766  0.990898  0.722073  \n",
       "\n",
       "[123 rows x 10 columns]"
      ]
     },
     "execution_count": 36,
     "metadata": {},
     "output_type": "execute_result"
    }
   ],
   "source": [
    "code2questionmapping = dict()\n",
    "for code, cosine_scores in code2cosine.items():\n",
    "    code2questionmapping[code] = code2cosine[code].max(axis=1).tolist()\n",
    "\n",
    "\n",
    "question_mapping_scores = pd.DataFrame(code2questionmapping).T\n",
    "question_mapping_scores.reset_index(inplace=True)\n",
    "question_mapping_scores.rename(columns={i: f\"Q_{i}\" for i in range(len(questions))}, inplace=True)\n",
    "question_mapping_scores.rename(columns={\"index\" : \"code\"}, inplace=True)\n",
    "\n",
    "question_mapping_scores"
   ]
  },
  {
   "cell_type": "markdown",
   "metadata": {},
   "source": [
    "Applying PCA to Each of the Vectorizers and Examining the Explained Variance"
   ]
  },
  {
   "cell_type": "code",
   "execution_count": 37,
   "metadata": {},
   "outputs": [
    {
     "data": {
      "image/png": "[encoded data removed]",
      "text/plain": [
       "<Figure size 800x400 with 1 Axes>"
      ]
     },
     "metadata": {},
     "output_type": "display_data"
    }
   ],
   "source": [
    "# Use PCA to TF-IDF vectorized prompts\n",
    "\n",
    "from sklearn.decomposition import PCA\n",
    "components = [1,5,8,15,20,25,30,40,50]\n",
    "avg_exp_variances = []\n",
    "\n",
    "\n",
    "for n in components:\n",
    "    \n",
    "    exp_variances = []\n",
    "    for code, user_prompts_TF_IDF in code2prompts_tf_idf.items():\n",
    "        pca = PCA(n_components = min(n, len(user_prompts_TF_IDF)), random_state=43)\n",
    "        pca_df = pca.fit_transform(pd.concat([user_prompts_TF_IDF, questions_TF_IDF]))\n",
    "        exp_variances.append(pca.explained_variance_ratio_.sum() * 100)\n",
    "\n",
    "    avg_exp_variance = np.mean(exp_variances)\n",
    "    avg_exp_variances.append(avg_exp_variance)\n",
    "        \n",
    "plt.figure(figsize=(8,4))\n",
    "plt.plot(components, avg_exp_variances, marker='o')\n",
    "plt.title('Explained Variance For Each PCA Component (TF-IDF)'.format(n))\n",
    "plt.xlabel('Number Of Components')\n",
    "plt.ylabel('Average Explained Variance')\n",
    "plt.show()"
   ]
  },
  {
   "cell_type": "code",
   "execution_count": 38,
   "metadata": {},
   "outputs": [
    {
     "data": {
      "image/png": "[encoded data removed]",
      "text/plain": [
       "<Figure size 800x400 with 1 Axes>"
      ]
     },
     "metadata": {},
     "output_type": "display_data"
    }
   ],
   "source": [
    "# Use PCA to BoW vectorized prompts\n",
    "\n",
    "from sklearn.decomposition import PCA\n",
    "components = [1,5,8,15,20,25,30,40,50]\n",
    "avg_exp_variances = []\n",
    "\n",
    "\n",
    "for n in components:\n",
    "    exp_variances = []\n",
    "    for code, user_prompts_BoW in code2prompts_BoW.items():\n",
    "        pca = PCA(n_components = min(n, len(user_prompts_BoW)), random_state=43)\n",
    "        pca_df = pca.fit_transform(pd.concat([user_prompts_BoW, questions_BoW]))\n",
    "        exp_variances.append(pca.explained_variance_ratio_.sum() * 100)\n",
    "\n",
    "    avg_exp_variance = np.mean(exp_variances)\n",
    "    avg_exp_variances.append(avg_exp_variance)\n",
    "        \n",
    "plt.figure(figsize=(8,4))\n",
    "plt.plot(components, avg_exp_variances, marker='o')\n",
    "plt.title('Explained Variance For Each PCA Component (BoW)'.format(n))\n",
    "plt.xlabel('Number Of Components')\n",
    "plt.ylabel('Average Explained Variance')\n",
    "plt.show()"
   ]
  },
  {
   "cell_type": "code",
   "execution_count": 39,
   "metadata": {},
   "outputs": [
    {
     "data": {
      "image/png": "[encoded data removed]",
      "text/plain": [
       "<Figure size 800x400 with 1 Axes>"
      ]
     },
     "metadata": {},
     "output_type": "display_data"
    }
   ],
   "source": [
    "# Use PCA to word2vec vectorized prompts\n",
    "\n",
    "from sklearn.decomposition import PCA\n",
    "components = [1,5,8,15,20,25,30,40,50]\n",
    "avg_exp_variances = []\n",
    "\n",
    "\n",
    "for n in components:\n",
    "    \n",
    "    exp_variances = []\n",
    "    for code, user_prompts_w2v in code2prompts_w2v.items():\n",
    "        pca = PCA(n_components = min(n, len(user_prompts_w2v)), random_state=43)\n",
    "        pca_df = pca.fit_transform(pd.concat([user_prompts_w2v, questions_w2v]))\n",
    "        exp_variances.append(pca.explained_variance_ratio_.sum() * 100)\n",
    "\n",
    "    avg_exp_variance = np.mean(exp_variances)\n",
    "    avg_exp_variances.append(avg_exp_variance)\n",
    "        \n",
    "plt.figure(figsize=(8,4))\n",
    "plt.plot(components, avg_exp_variances, marker='o')\n",
    "plt.title('Explained Variance For Each PCA Component (Word2Vec)'.format(n))\n",
    "plt.xlabel('Number Of Components')\n",
    "plt.ylabel('Average Explained Variance')\n",
    "plt.show()"
   ]
  },
  {
   "cell_type": "markdown",
   "metadata": {},
   "source": [
    "Select num_of_features of PCA as the one with higher than 80-90% explained variance."
   ]
  },
  {
   "cell_type": "code",
   "execution_count": 40,
   "metadata": {},
   "outputs": [
    {
     "name": "stdout",
     "output_type": "stream",
     "text": [
      "Average Silhouette Score: 0.13060949260645155\n"
     ]
    }
   ],
   "source": [
    "# Use K-means clustering with TF-IDF vectorized prompts\n",
    "from sklearn.cluster import KMeans\n",
    "from sklearn.metrics import silhouette_score\n",
    "\n",
    "scores = []\n",
    "for code, user_prompts_TF_IDF in code2prompts_tf_idf.items():\n",
    "    # Combine user prompts tf-idf and questions tf-idf\n",
    "    combined_data = pd.concat([user_prompts_TF_IDF, questions_TF_IDF])\n",
    "\n",
    "    # Determine the number of components dynamically\n",
    "    n_components = min(35, min(combined_data.shape))\n",
    "\n",
    "    # Perform PCA\n",
    "    pca = PCA(n_components=n_components)\n",
    "    pca_df = pca.fit_transform(combined_data)\n",
    "    pca_questions = pca_df[-len(questions):]\n",
    "\n",
    "    # Perform KMeans clustering\n",
    "    kmeans = KMeans(n_clusters=9, random_state=0, n_init=1, init=pca_questions).fit(pca_df)\n",
    "\n",
    "    # Get the silhouette score\n",
    "    silhouette = silhouette_score(pca_df, kmeans.labels_)\n",
    "    scores.append(silhouette)\n",
    "\n",
    "average_score = np.mean(scores)\n",
    "print(f\"Average Silhouette Score: {average_score}\")"
   ]
  },
  {
   "cell_type": "code",
   "execution_count": 41,
   "metadata": {},
   "outputs": [
    {
     "name": "stdout",
     "output_type": "stream",
     "text": [
      "Silhouette Score: 0.27044107859125666\n"
     ]
    }
   ],
   "source": [
    "# Use K-means clustering with BoW vectorized prompts\n",
    "\n",
    "scores = []\n",
    "\n",
    "for code, user_prompts_BoW in code2prompts_BoW.items():\n",
    "    # Combine user prompts BoW and questions BoW\n",
    "    combined_data = pd.concat([user_prompts_BoW, questions_BoW])\n",
    "\n",
    "    # Determine the number of components dynamically\n",
    "    n_components = min(15, min(combined_data.shape))\n",
    "\n",
    "    # Perform PCA\n",
    "    pca = PCA(n_components=n_components)\n",
    "    pca_df = pca.fit_transform(combined_data)\n",
    "    pca_questions = pca_df[-len(questions):]\n",
    "\n",
    "    # Perform KMeans clustering\n",
    "    kmeans = KMeans(n_clusters=9, random_state=0, n_init=1, init=pca_questions).fit(pca_df)\n",
    "\n",
    "    # Get the silhouette score\n",
    "    silhouette = silhouette_score(pca_df, kmeans.labels_)\n",
    "    scores.append(silhouette)\n",
    "\n",
    "average_score = np.mean(scores)\n",
    "print(f\"Silhouette Score: {average_score}\")"
   ]
  },
  {
   "cell_type": "code",
   "execution_count": 42,
   "metadata": {},
   "outputs": [
    {
     "name": "stdout",
     "output_type": "stream",
     "text": [
      "Silhouette Score: 0.10391309439414012\n"
     ]
    }
   ],
   "source": [
    "# Use K-means clustering with word2vec vectorized prompts\n",
    "\n",
    "scores = []\n",
    "\n",
    "for code, user_prompts_w2v in code2prompts_w2v.items():\n",
    "    # Combine user prompts BoW and questions BoW\n",
    "    combined_data = pd.concat([user_prompts_w2v, questions_w2v])\n",
    "\n",
    "    # Determine the number of components dynamically\n",
    "    n_components = min(10, min(combined_data.shape))\n",
    "\n",
    "    # Perform PCA\n",
    "    pca = PCA(n_components=n_components)\n",
    "    pca_df = pca.fit_transform(combined_data)\n",
    "    pca_questions = pca_df[-len(questions):]\n",
    "\n",
    "    # Perform KMeans clustering\n",
    "    kmeans = KMeans(n_clusters=9, random_state=0, n_init=1, init=pca_questions).fit(pca_df)\n",
    "\n",
    "    # Get the silhouette score\n",
    "    silhouette = silhouette_score(pca_df, kmeans.labels_)\n",
    "    scores.append(silhouette)\n",
    "\n",
    "average_score = np.mean(scores)\n",
    "print(f\"Silhouette Score: {average_score}\")"
   ]
  },
  {
   "cell_type": "markdown",
   "metadata": {},
   "source": [
    "We select BoW since it gives the highest silhouette score"
   ]
  },
  {
   "cell_type": "markdown",
   "metadata": {},
   "source": [
    "Create the dataframe that keeps the question label for each prompt"
   ]
  },
  {
   "cell_type": "code",
   "execution_count": 43,
   "metadata": {},
   "outputs": [],
   "source": [
    "code2plabels = {}           # code: [(p1, p1_label), (p2, p2_label), ...]\n",
    "\n",
    "for code, user_prompts_BoW in code2prompts_BoW.items():\n",
    "    # Combine user prompts BoW and questions BoW\n",
    "    combined_data = pd.concat([user_prompts_BoW, questions_BoW])\n",
    "\n",
    "    # Determine the number of components dynamically\n",
    "    n_components = min(15, min(combined_data.shape))\n",
    "\n",
    "    # Perform PCA\n",
    "    pca = PCA(n_components=n_components)\n",
    "    pca_df = pca.fit_transform(combined_data)\n",
    "    pca_questions = pca_df[-len(questions):]\n",
    "\n",
    "    # Perform KMeans clustering\n",
    "    kmeans = KMeans(n_clusters=9, random_state=0, n_init=1, init=pca_questions).fit(pca_df)\n",
    "\n",
    "    # Create a dataframe with the prompts and their labels\n",
    "    prompts_df = pd.DataFrame({\n",
    "        'Prompts':code2prompts[code],\n",
    "        'Labels':kmeans.labels_[:-len(questions)]\n",
    "                              })\n",
    "    code2plabels[code] = prompts_df\n"
   ]
  },
  {
   "cell_type": "code",
   "execution_count": 44,
   "metadata": {},
   "outputs": [
    {
     "data": {
      "image/png": "[encoded data removed]",
      "text/plain": [
       "<Figure size 640x480 with 1 Axes>"
      ]
     },
     "metadata": {},
     "output_type": "display_data"
    }
   ],
   "source": [
    "labels = code2plabels[\"6d5742c1-77c4-429c-8f6e-ef1262ca5557\"][\"Labels\"].tolist()\n",
    "\n",
    "plt.hist(labels, bins=9)\n",
    "plt.show()"
   ]
  },
  {
   "cell_type": "code",
   "execution_count": 45,
   "metadata": {},
   "outputs": [
    {
     "data": {
      "text/html": [
       "<div>\n",
       "<style scoped>\n",
       "    .dataframe tbody tr th:only-of-type {\n",
       "        vertical-align: middle;\n",
       "    }\n",
       "\n",
       "    .dataframe tbody tr th {\n",
       "        vertical-align: top;\n",
       "    }\n",
       "\n",
       "    .dataframe thead th {\n",
       "        text-align: right;\n",
       "    }\n",
       "</style>\n",
       "<table border=\"1\" class=\"dataframe\">\n",
       "  <thead>\n",
       "    <tr style=\"text-align: right;\">\n",
       "      <th></th>\n",
       "      <th>Prompts</th>\n",
       "      <th>Labels</th>\n",
       "    </tr>\n",
       "  </thead>\n",
       "  <tbody>\n",
       "    <tr>\n",
       "      <th>0</th>\n",
       "      <td>Hi CHATGPT, together we are going to do Homewo...</td>\n",
       "      <td>1</td>\n",
       "    </tr>\n",
       "    <tr>\n",
       "      <th>1</th>\n",
       "      <td>Import necessary libraries</td>\n",
       "      <td>1</td>\n",
       "    </tr>\n",
       "    <tr>\n",
       "      <th>2</th>\n",
       "      <td>Load training dataset (5 pts)\\n\\n*  Read the ....</td>\n",
       "      <td>1</td>\n",
       "    </tr>\n",
       "    <tr>\n",
       "      <th>3</th>\n",
       "      <td>I already have pandas</td>\n",
       "      <td>1</td>\n",
       "    </tr>\n",
       "    <tr>\n",
       "      <th>4</th>\n",
       "      <td>C:\\Users\\90537\\OneDrive\\MasaÃ¼stÃ¼\\CS412\\hw1\\c...</td>\n",
       "      <td>1</td>\n",
       "    </tr>\n",
       "  </tbody>\n",
       "</table>\n",
       "</div>"
      ],
      "text/plain": [
       "                                             Prompts  Labels\n",
       "0  Hi CHATGPT, together we are going to do Homewo...       1\n",
       "1                        Import necessary libraries        1\n",
       "2  Load training dataset (5 pts)\\n\\n*  Read the ....       1\n",
       "3                              I already have pandas       1\n",
       "4  C:\\Users\\90537\\OneDrive\\MasaÃ¼stÃ¼\\CS412\\hw1\\c...       1"
      ]
     },
     "execution_count": 45,
     "metadata": {},
     "output_type": "execute_result"
    }
   ],
   "source": [
    "code2plabels[\"6d5742c1-77c4-429c-8f6e-ef1262ca5557\"].head()"
   ]
  },
  {
   "cell_type": "markdown",
   "metadata": {},
   "source": [
    "# Feature Engineering\n",
    "- Number of prompts that a uers asked\n",
    "- Number of complaints that a user makes e.g \"the code gives this error!\"\n",
    "- User prompts average number of characters"
   ]
  },
  {
   "cell_type": "markdown",
   "metadata": {},
   "source": [
    "### Sentiment Analysis"
   ]
  },
  {
   "cell_type": "code",
   "execution_count": 47,
   "metadata": {},
   "outputs": [
    {
     "name": "stderr",
     "output_type": "stream",
     "text": [
      "All PyTorch model weights were used when initializing TFDistilBertForSequenceClassification.\n",
      "\n",
      "All the weights of TFDistilBertForSequenceClassification were initialized from the PyTorch model.\n",
      "If your task is similar to the task the model of the checkpoint was trained on, you can already use TFDistilBertForSequenceClassification for predictions without further training.\n"
     ]
    }
   ],
   "source": [
    "from transformers import pipeline\n",
    "import numpy as np\n",
    "\n",
    "# Load the sentiment-analysis pipeline with BERT model\n",
    "bert_sentiment = pipeline(\"sentiment-analysis\", model=\"distilbert-base-uncased-finetuned-sst-2-english\")\n",
    "\n",
    "def analyze_sentiment_bert(prompts):\n",
    "    polarities = []\n",
    "    for prompt in prompts:\n",
    "        # Handle long texts by splitting into smaller chunks\n",
    "        prompt_parts = [prompt[i:i+512] for i in range(0, len(prompt), 512)]\n",
    "        for part in prompt_parts:\n",
    "            result = bert_sentiment(part)[0]\n",
    "            polarity = 1 if result['label'] == 'POSITIVE' else -1\n",
    "            polarities.append(polarity * result['score'])\n",
    "    return np.mean(polarities) if polarities else 0\n",
    "    \n",
    "# Assuming code2prompts is defined with your prompts\n",
    "# Calculate average sentiment score for each key using BERT\n",
    "bert_average_sentiments = {key: analyze_sentiment_bert(prompts) for key, prompts in code2prompts.items()}"
   ]
  },
  {
   "cell_type": "markdown",
   "metadata": {},
   "source": [
    "### Get Average Sentiment for Each User"
   ]
  },
  {
   "cell_type": "code",
   "execution_count": 48,
   "metadata": {},
   "outputs": [
    {
     "data": {
      "text/plain": [
       "[Sentiment(polarity=0.0, subjectivity=0.0),\n",
       " Sentiment(polarity=0.0, subjectivity=1.0),\n",
       " Sentiment(polarity=0.0, subjectivity=0.0),\n",
       " Sentiment(polarity=0.0, subjectivity=0.0),\n",
       " Sentiment(polarity=0.0, subjectivity=0.0),\n",
       " Sentiment(polarity=-0.16666666666666666, subjectivity=0.4861111111111111),\n",
       " Sentiment(polarity=0.0, subjectivity=0.06388888888888888),\n",
       " Sentiment(polarity=0.0, subjectivity=0.0),\n",
       " Sentiment(polarity=0.0, subjectivity=0.06666666666666667),\n",
       " Sentiment(polarity=-0.125, subjectivity=0.375),\n",
       " Sentiment(polarity=0.0, subjectivity=0.0),\n",
       " Sentiment(polarity=0.0, subjectivity=0.0),\n",
       " Sentiment(polarity=0.13636363636363635, subjectivity=0.45454545454545453),\n",
       " Sentiment(polarity=0.0, subjectivity=0.0),\n",
       " Sentiment(polarity=0.0, subjectivity=0.0),\n",
       " Sentiment(polarity=0.0, subjectivity=0.0),\n",
       " Sentiment(polarity=0.0, subjectivity=0.0),\n",
       " Sentiment(polarity=-0.049999999999999996, subjectivity=0.5785714285714285),\n",
       " Sentiment(polarity=0.2611111111111111, subjectivity=0.5907407407407407),\n",
       " Sentiment(polarity=0.0, subjectivity=0.35000000000000003),\n",
       " Sentiment(polarity=0.0, subjectivity=0.0),\n",
       " Sentiment(polarity=-0.041666666666666664, subjectivity=0.19999999999999998),\n",
       " Sentiment(polarity=0.0, subjectivity=0.125),\n",
       " Sentiment(polarity=0.19166666666666665, subjectivity=0.7166666666666667),\n",
       " Sentiment(polarity=0.0, subjectivity=0.0),\n",
       " Sentiment(polarity=0.0, subjectivity=0.0),\n",
       " Sentiment(polarity=0.2857142857142857, subjectivity=0.5357142857142857),\n",
       " Sentiment(polarity=0.0, subjectivity=0.0),\n",
       " Sentiment(polarity=0.0, subjectivity=0.0),\n",
       " Sentiment(polarity=0.4333333333333333, subjectivity=0.7333333333333333),\n",
       " Sentiment(polarity=0.4333333333333333, subjectivity=0.7333333333333333),\n",
       " Sentiment(polarity=0.28888888888888886, subjectivity=0.8222222222222223),\n",
       " Sentiment(polarity=0.07095959595959596, subjectivity=0.5497474747474745),\n",
       " Sentiment(polarity=-0.125, subjectivity=0.375),\n",
       " Sentiment(polarity=0.1590909090909091, subjectivity=0.39015151515151514),\n",
       " Sentiment(polarity=0.48333333333333334, subjectivity=0.3),\n",
       " Sentiment(polarity=1.0, subjectivity=0.3),\n",
       " Sentiment(polarity=0.4166666666666667, subjectivity=0.5333333333333333),\n",
       " Sentiment(polarity=0.0, subjectivity=0.0),\n",
       " Sentiment(polarity=0.19999999999999998, subjectivity=0.3),\n",
       " Sentiment(polarity=0.4, subjectivity=0.4625),\n",
       " Sentiment(polarity=1.0, subjectivity=0.3),\n",
       " Sentiment(polarity=0.1984126984126984, subjectivity=0.31507936507936507),\n",
       " Sentiment(polarity=0.0, subjectivity=0.0),\n",
       " Sentiment(polarity=0.19999999999999998, subjectivity=0.3),\n",
       " Sentiment(polarity=0.0, subjectivity=0.0),\n",
       " Sentiment(polarity=0.0, subjectivity=0.0),\n",
       " Sentiment(polarity=0.0, subjectivity=0.1125),\n",
       " Sentiment(polarity=0.0, subjectivity=0.125),\n",
       " Sentiment(polarity=0.0, subjectivity=0.0),\n",
       " Sentiment(polarity=0.4166666666666667, subjectivity=0.5333333333333333),\n",
       " Sentiment(polarity=0.0, subjectivity=0.1),\n",
       " Sentiment(polarity=0.125, subjectivity=0.65),\n",
       " Sentiment(polarity=0.0, subjectivity=0.1),\n",
       " Sentiment(polarity=0.0, subjectivity=0.0),\n",
       " Sentiment(polarity=0.25, subjectivity=0.3333333333333333),\n",
       " Sentiment(polarity=0.0, subjectivity=0.0),\n",
       " Sentiment(polarity=0.2125, subjectivity=0.44166666666666665),\n",
       " Sentiment(polarity=0.0, subjectivity=0.0),\n",
       " Sentiment(polarity=0.14081632653061224, subjectivity=0.46224489795918366),\n",
       " Sentiment(polarity=0.0, subjectivity=1.0),\n",
       " Sentiment(polarity=0.125, subjectivity=0.65),\n",
       " Sentiment(polarity=0.0, subjectivity=0.0),\n",
       " Sentiment(polarity=0.5, subjectivity=0.5),\n",
       " Sentiment(polarity=0.0, subjectivity=0.0),\n",
       " Sentiment(polarity=0.0, subjectivity=0.0)]"
      ]
     },
     "execution_count": 48,
     "metadata": {},
     "output_type": "execute_result"
    }
   ],
   "source": [
    "from textblob import TextBlob\n",
    "\n",
    "def analyze_sentiment_blob(text):\n",
    "    return TextBlob(text).sentiment\n",
    "\n",
    "# Apply sentiment analysis\n",
    "sentiments = {key: [analyze_sentiment_blob(prompt) for prompt in prompts] for key, prompts in code2prompts.items()}\n",
    "\n",
    "sentiments[\"6d5742c1-77c4-429c-8f6e-ef1262ca5557\"]"
   ]
  },
  {
   "cell_type": "code",
   "execution_count": 49,
   "metadata": {},
   "outputs": [],
   "source": [
    "# Calculate average sentiment score for each key\n",
    "average_sentiment_scores = {}\n",
    "for key, sentiment_list in sentiments.items():\n",
    "    # Calculate average polarity\n",
    "    average_polarity = sum(sentiment.polarity for sentiment in sentiment_list) / len(sentiment_list) if sentiment_list else 0\n",
    "    average_sentiment_scores[key] = average_polarity\n",
    "\n",
    "# average_sentiment_scores now contains the average sentiment score for each key\n",
    "# print(average_sentiment_scores)"
   ]
  },
  {
   "cell_type": "markdown",
   "metadata": {},
   "source": [
    "### Calculating Readability Score"
   ]
  },
  {
   "cell_type": "code",
   "execution_count": 50,
   "metadata": {},
   "outputs": [
    {
     "name": "stdout",
     "output_type": "stream",
     "text": [
      "dict_values([99.73, 0.7, 2.2, 0.0, -1.2, -0.55, 1.75, 5.34])\n"
     ]
    }
   ],
   "source": [
    "import textstat\n",
    "\n",
    "def calculate_readability_scores(text):\n",
    "    scores = {}\n",
    "    scores['flesch_reading_ease'] = textstat.flesch_reading_ease(text)\n",
    "    scores['flesch_kincaid_grade'] = textstat.flesch_kincaid_grade(text)\n",
    "    scores['gunning_fog'] = textstat.gunning_fog(text)\n",
    "    scores['smog_index'] = textstat.smog_index(text)\n",
    "    scores['automated_readability_index'] = textstat.automated_readability_index(text)\n",
    "    scores['coleman_liau_index'] = textstat.coleman_liau_index(text)\n",
    "    scores['linsear_write_formula'] = textstat.linsear_write_formula(text)\n",
    "    scores['dale_chall_readability_score'] = textstat.dale_chall_readability_score(text)\n",
    "    return scores\n",
    "\n",
    "print(calculate_readability_scores(\"This is a sample sentence. It is very easy to read.\").values())"
   ]
  },
  {
   "cell_type": "code",
   "execution_count": 51,
   "metadata": {},
   "outputs": [
    {
     "name": "stdout",
     "output_type": "stream",
     "text": [
      "139235c7-736c-4237-92f0-92e8c116832c\n",
      "668ad17e-0240-49f7-b5a7-d22e502554c6\n",
      "b0640e51-6879-40cb-a4f5-329f952ef99d\n",
      "da6b70d5-29f6-491a-ad46-037c77067128\n"
     ]
    }
   ],
   "source": [
    "code2features = defaultdict(lambda : defaultdict(int))\n",
    "\n",
    "# For each user\n",
    "for code, convs in code2convos.items():\n",
    "    totalNumWords = 0\n",
    "    if len(convs) == 0:\n",
    "        print(code)\n",
    "        continue\n",
    "    # For each prompt\n",
    "    for c in convs:\n",
    "        text = c[\"text\"].lower()\n",
    "        if c[\"role\"] == \"user\":\n",
    "            # User Prompts\n",
    "\n",
    "            # count the user prompts\n",
    "            code2features[code][\"#user_prompts\"] += 1\n",
    "\n",
    "            code2features[code][\"prompt_avg_words\"] += len(text.split())\n",
    "            totalNumWords += len(text.split())\n",
    "        else:\n",
    "            # ChatGPT Responses\n",
    "            code2features[code][\"response_avg_words\"] += len(text.split())\n",
    "\n",
    "        code2features[code][\"response_avg_words\"] /= code2features[code][\"#user_prompts\"]\n",
    "        code2features[code][\"prompt_avg_words\"] /= code2features[code][\"#user_prompts\"]"
   ]
  },
  {
   "cell_type": "code",
   "execution_count": 52,
   "metadata": {},
   "outputs": [],
   "source": [
    "# Whitelist_score = (q1_whitelistwords * q1_weight + q2_whitelistwords * q2_weight + ...) / total_weight\n",
    "\n",
    "whiteListWords = [\"thank\", \"next\", \"entropy\", \"correct\", \"solve\", \"hypothetical\", \"feature\", \"gini\"]\n",
    "blackListWords = [\"not\", \"no\", \"error\", \"but\", \"issue\", \"problem\", \"bug\", \"wrong\", \"fail\"]\n",
    "\n",
    "def find_whitelist_words(text):\n",
    "    return sum([1 if word in whiteListWords else 0 for word in text.split()]) / len(text.split())\n",
    "\n",
    "def find_blacklist_words(text):\n",
    "    return sum([1 if word in blackListWords else 0 for word in text.split()]) / len(text.split())\n",
    "\n",
    "# Calculate the frequency of whitelist/blacklist words in each prompt\n",
    "\n",
    "question_scores = [0, 5, 15, 5, 10, 20, 15, 20, 10]\n",
    "for code in code2plabels.keys():\n",
    "    values = {}             # {q1_whitelistwords: 0.5, q1_blacklistwords: 0.2, ...}\n",
    "    for q in code2plabels[code][\"Labels\"].unique():\n",
    "        values[f\"q{q+1}_whitelist\"] = code2plabels[code][code2plabels[code][\"Labels\"] == q][[\"Prompts\"]].applymap(find_whitelist_words).mean().values[0]\n",
    "        values[f\"q{q+1}_blacklist\"] = code2plabels[code][code2plabels[code][\"Labels\"] == q][[\"Prompts\"]].applymap(find_blacklist_words).mean().values[0]\n",
    "\n",
    "    # Calculate the weighted average of whitelist/blacklist words\n",
    "    weight_total = 0\n",
    "    whitelist_score = 0\n",
    "    blacklist_score = 0\n",
    "    for q in code2plabels[code][\"Labels\"].unique():\n",
    "        weight_total += question_scores[q]\n",
    "        whitelist_score += values[f\"q{q+1}_whitelist\"] * question_scores[q]\n",
    "        blacklist_score += values[f\"q{q+1}_blacklist\"] * question_scores[q]\n",
    "    \n",
    "    whitelist_score /= weight_total\n",
    "    blacklist_score /= weight_total\n",
    "    \n",
    "    code2features[code][\"whitelist_score\"] = whitelist_score * 100\n",
    "    code2features[code][\"blacklist_score\"] = blacklist_score * 100"
   ]
  },
  {
   "cell_type": "code",
   "execution_count": 53,
   "metadata": {},
   "outputs": [],
   "source": [
    "# Assuming code2features is defined as shown earlier\n",
    "# And average_sentiment_scores is the dictionary with average sentiment scores\n",
    "\n",
    "# Add average sentiment score to each key in code2features\n",
    "for key in code2features.keys():\n",
    "    # Check if the key exists in average_sentiment_scores\n",
    "    if key in average_sentiment_scores:\n",
    "        code2features[key]['average_sentiment'] = average_sentiment_scores[key]\n",
    "    else:\n",
    "        # If the key doesn't exist in average_sentiment_scores, set a default value\n",
    "        code2features[key]['average_sentiment'] = 0  # or any other appropriate default value\n",
    "\n",
    "for key in code2features.keys():\n",
    "     # Check if the key exists in average_sentiment_scores\n",
    "    if key in bert_average_sentiments:\n",
    "        code2features[key]['bert_average_sentiment'] = bert_average_sentiments[key]\n",
    "    else:\n",
    "        # If the key doesn't exist in average_sentiment_scores, set a default value\n",
    "        code2features[key]['bert_average_sentiment'] = 0  # or any other appropriate default value"
   ]
  },
  {
   "cell_type": "code",
   "execution_count": 54,
   "metadata": {},
   "outputs": [
    {
     "name": "stderr",
     "output_type": "stream",
     "text": [
      "C:\\Users\\salih\\AppData\\Local\\Temp\\ipykernel_14320\\2005071228.py:11: RuntimeWarning: invalid value encountered in divide\n",
      "  avg_scores /= length\n"
     ]
    }
   ],
   "source": [
    "# Add readability scores to each key in code2features\n",
    "\n",
    "\n",
    "for code, prompts in code2prompts.items():\n",
    "    avg_scores = np.zeros(8)\n",
    "    length = len(prompts)\n",
    "    for prompt in prompts:\n",
    "        scores = np.array(list(calculate_readability_scores(prompt).values()))\n",
    "        avg_scores += scores\n",
    "        \n",
    "    avg_scores /= length\n",
    "    code2features[code][\"flesch_reading_ease\"] = avg_scores[0]\n",
    "    code2features[code][\"flesch_kincaid_grade\"] = avg_scores[1]\n",
    "    code2features[code][\"gunning_fog\"] = avg_scores[2]\n",
    "    code2features[code][\"smog_index\"] = avg_scores[3]\n",
    "    code2features[code][\"automated_readability_index\"] = avg_scores[4]\n",
    "    code2features[code][\"coleman_liau_index\"] = avg_scores[5]\n",
    "    code2features[code][\"linsear_write_formula\"] = avg_scores[6]\n",
    "    code2features[code][\"dale_chall_readability_score\"] = avg_scores[7]"
   ]
  },
  {
   "cell_type": "code",
   "execution_count": 55,
   "metadata": {},
   "outputs": [
    {
     "data": {
      "text/html": [
       "<div>\n",
       "<style scoped>\n",
       "    .dataframe tbody tr th:only-of-type {\n",
       "        vertical-align: middle;\n",
       "    }\n",
       "\n",
       "    .dataframe tbody tr th {\n",
       "        vertical-align: top;\n",
       "    }\n",
       "\n",
       "    .dataframe thead th {\n",
       "        text-align: right;\n",
       "    }\n",
       "</style>\n",
       "<table border=\"1\" class=\"dataframe\">\n",
       "  <thead>\n",
       "    <tr style=\"text-align: right;\">\n",
       "      <th></th>\n",
       "      <th>#user_prompts</th>\n",
       "      <th>prompt_avg_words</th>\n",
       "      <th>response_avg_words</th>\n",
       "      <th>whitelist_score</th>\n",
       "      <th>blacklist_score</th>\n",
       "      <th>average_sentiment</th>\n",
       "      <th>bert_average_sentiment</th>\n",
       "      <th>flesch_reading_ease</th>\n",
       "      <th>flesch_kincaid_grade</th>\n",
       "      <th>gunning_fog</th>\n",
       "      <th>smog_index</th>\n",
       "      <th>automated_readability_index</th>\n",
       "      <th>coleman_liau_index</th>\n",
       "      <th>linsear_write_formula</th>\n",
       "      <th>dale_chall_readability_score</th>\n",
       "    </tr>\n",
       "  </thead>\n",
       "  <tbody>\n",
       "    <tr>\n",
       "      <th>0031c86e-81f4-4eef-9e0e-28037abf9883</th>\n",
       "      <td>14.0</td>\n",
       "      <td>0.322617</td>\n",
       "      <td>26.255108</td>\n",
       "      <td>0.846522</td>\n",
       "      <td>1.781713</td>\n",
       "      <td>0.139457</td>\n",
       "      <td>-0.772049</td>\n",
       "      <td>53.983571</td>\n",
       "      <td>9.700000</td>\n",
       "      <td>10.689286</td>\n",
       "      <td>9.214286</td>\n",
       "      <td>12.257143</td>\n",
       "      <td>12.083571</td>\n",
       "      <td>9.912202</td>\n",
       "      <td>10.762143</td>\n",
       "    </tr>\n",
       "    <tr>\n",
       "      <th>0225686d-b825-4cac-8691-3a3a5343df2b</th>\n",
       "      <td>18.0</td>\n",
       "      <td>0.055791</td>\n",
       "      <td>16.578947</td>\n",
       "      <td>0.031328</td>\n",
       "      <td>0.172117</td>\n",
       "      <td>0.130718</td>\n",
       "      <td>-0.709885</td>\n",
       "      <td>53.115556</td>\n",
       "      <td>9.316667</td>\n",
       "      <td>10.090556</td>\n",
       "      <td>4.238889</td>\n",
       "      <td>11.316667</td>\n",
       "      <td>11.445000</td>\n",
       "      <td>7.929960</td>\n",
       "      <td>10.306111</td>\n",
       "    </tr>\n",
       "    <tr>\n",
       "      <th>041f950b-c013-409a-a642-cffff60b9d4b</th>\n",
       "      <td>9.0</td>\n",
       "      <td>0.053652</td>\n",
       "      <td>3.065649</td>\n",
       "      <td>1.452380</td>\n",
       "      <td>3.555556</td>\n",
       "      <td>-0.021337</td>\n",
       "      <td>-0.777762</td>\n",
       "      <td>55.614444</td>\n",
       "      <td>8.466667</td>\n",
       "      <td>10.252222</td>\n",
       "      <td>2.577778</td>\n",
       "      <td>13.522222</td>\n",
       "      <td>13.424444</td>\n",
       "      <td>10.027778</td>\n",
       "      <td>11.495556</td>\n",
       "    </tr>\n",
       "    <tr>\n",
       "      <th>04f91058-d0f8-4324-83b2-19c671f433dc</th>\n",
       "      <td>20.0</td>\n",
       "      <td>0.017632</td>\n",
       "      <td>13.347445</td>\n",
       "      <td>0.732213</td>\n",
       "      <td>1.483516</td>\n",
       "      <td>0.004042</td>\n",
       "      <td>-0.770788</td>\n",
       "      <td>66.300000</td>\n",
       "      <td>7.365000</td>\n",
       "      <td>8.794500</td>\n",
       "      <td>0.650000</td>\n",
       "      <td>9.255000</td>\n",
       "      <td>9.610000</td>\n",
       "      <td>7.658333</td>\n",
       "      <td>10.251000</td>\n",
       "    </tr>\n",
       "    <tr>\n",
       "      <th>089eb66d-4c3a-4f58-b98f-a3774a2efb34</th>\n",
       "      <td>86.0</td>\n",
       "      <td>0.003110</td>\n",
       "      <td>2.697958</td>\n",
       "      <td>0.144917</td>\n",
       "      <td>0.121121</td>\n",
       "      <td>0.089507</td>\n",
       "      <td>-0.746055</td>\n",
       "      <td>56.105116</td>\n",
       "      <td>8.709302</td>\n",
       "      <td>9.846860</td>\n",
       "      <td>3.055814</td>\n",
       "      <td>14.056977</td>\n",
       "      <td>14.135581</td>\n",
       "      <td>7.978654</td>\n",
       "      <td>10.773023</td>\n",
       "    </tr>\n",
       "  </tbody>\n",
       "</table>\n",
       "</div>"
      ],
      "text/plain": [
       "                                      #user_prompts  prompt_avg_words  \\\n",
       "0031c86e-81f4-4eef-9e0e-28037abf9883           14.0          0.322617   \n",
       "0225686d-b825-4cac-8691-3a3a5343df2b           18.0          0.055791   \n",
       "041f950b-c013-409a-a642-cffff60b9d4b            9.0          0.053652   \n",
       "04f91058-d0f8-4324-83b2-19c671f433dc           20.0          0.017632   \n",
       "089eb66d-4c3a-4f58-b98f-a3774a2efb34           86.0          0.003110   \n",
       "\n",
       "                                      response_avg_words  whitelist_score  \\\n",
       "0031c86e-81f4-4eef-9e0e-28037abf9883           26.255108         0.846522   \n",
       "0225686d-b825-4cac-8691-3a3a5343df2b           16.578947         0.031328   \n",
       "041f950b-c013-409a-a642-cffff60b9d4b            3.065649         1.452380   \n",
       "04f91058-d0f8-4324-83b2-19c671f433dc           13.347445         0.732213   \n",
       "089eb66d-4c3a-4f58-b98f-a3774a2efb34            2.697958         0.144917   \n",
       "\n",
       "                                      blacklist_score  average_sentiment  \\\n",
       "0031c86e-81f4-4eef-9e0e-28037abf9883         1.781713           0.139457   \n",
       "0225686d-b825-4cac-8691-3a3a5343df2b         0.172117           0.130718   \n",
       "041f950b-c013-409a-a642-cffff60b9d4b         3.555556          -0.021337   \n",
       "04f91058-d0f8-4324-83b2-19c671f433dc         1.483516           0.004042   \n",
       "089eb66d-4c3a-4f58-b98f-a3774a2efb34         0.121121           0.089507   \n",
       "\n",
       "                                      bert_average_sentiment  \\\n",
       "0031c86e-81f4-4eef-9e0e-28037abf9883               -0.772049   \n",
       "0225686d-b825-4cac-8691-3a3a5343df2b               -0.709885   \n",
       "041f950b-c013-409a-a642-cffff60b9d4b               -0.777762   \n",
       "04f91058-d0f8-4324-83b2-19c671f433dc               -0.770788   \n",
       "089eb66d-4c3a-4f58-b98f-a3774a2efb34               -0.746055   \n",
       "\n",
       "                                      flesch_reading_ease  \\\n",
       "0031c86e-81f4-4eef-9e0e-28037abf9883            53.983571   \n",
       "0225686d-b825-4cac-8691-3a3a5343df2b            53.115556   \n",
       "041f950b-c013-409a-a642-cffff60b9d4b            55.614444   \n",
       "04f91058-d0f8-4324-83b2-19c671f433dc            66.300000   \n",
       "089eb66d-4c3a-4f58-b98f-a3774a2efb34            56.105116   \n",
       "\n",
       "                                      flesch_kincaid_grade  gunning_fog  \\\n",
       "0031c86e-81f4-4eef-9e0e-28037abf9883              9.700000    10.689286   \n",
       "0225686d-b825-4cac-8691-3a3a5343df2b              9.316667    10.090556   \n",
       "041f950b-c013-409a-a642-cffff60b9d4b              8.466667    10.252222   \n",
       "04f91058-d0f8-4324-83b2-19c671f433dc              7.365000     8.794500   \n",
       "089eb66d-4c3a-4f58-b98f-a3774a2efb34              8.709302     9.846860   \n",
       "\n",
       "                                      smog_index  automated_readability_index  \\\n",
       "0031c86e-81f4-4eef-9e0e-28037abf9883    9.214286                    12.257143   \n",
       "0225686d-b825-4cac-8691-3a3a5343df2b    4.238889                    11.316667   \n",
       "041f950b-c013-409a-a642-cffff60b9d4b    2.577778                    13.522222   \n",
       "04f91058-d0f8-4324-83b2-19c671f433dc    0.650000                     9.255000   \n",
       "089eb66d-4c3a-4f58-b98f-a3774a2efb34    3.055814                    14.056977   \n",
       "\n",
       "                                      coleman_liau_index  \\\n",
       "0031c86e-81f4-4eef-9e0e-28037abf9883           12.083571   \n",
       "0225686d-b825-4cac-8691-3a3a5343df2b           11.445000   \n",
       "041f950b-c013-409a-a642-cffff60b9d4b           13.424444   \n",
       "04f91058-d0f8-4324-83b2-19c671f433dc            9.610000   \n",
       "089eb66d-4c3a-4f58-b98f-a3774a2efb34           14.135581   \n",
       "\n",
       "                                      linsear_write_formula  \\\n",
       "0031c86e-81f4-4eef-9e0e-28037abf9883               9.912202   \n",
       "0225686d-b825-4cac-8691-3a3a5343df2b               7.929960   \n",
       "041f950b-c013-409a-a642-cffff60b9d4b              10.027778   \n",
       "04f91058-d0f8-4324-83b2-19c671f433dc               7.658333   \n",
       "089eb66d-4c3a-4f58-b98f-a3774a2efb34               7.978654   \n",
       "\n",
       "                                      dale_chall_readability_score  \n",
       "0031c86e-81f4-4eef-9e0e-28037abf9883                     10.762143  \n",
       "0225686d-b825-4cac-8691-3a3a5343df2b                     10.306111  \n",
       "041f950b-c013-409a-a642-cffff60b9d4b                     11.495556  \n",
       "04f91058-d0f8-4324-83b2-19c671f433dc                     10.251000  \n",
       "089eb66d-4c3a-4f58-b98f-a3774a2efb34                     10.773023  "
      ]
     },
     "execution_count": 55,
     "metadata": {},
     "output_type": "execute_result"
    }
   ],
   "source": [
    "df = pd.DataFrame(code2features).T\n",
    "df.head(5)"
   ]
  },
  {
   "cell_type": "code",
   "execution_count": 56,
   "metadata": {},
   "outputs": [
    {
     "data": {
      "text/html": [
       "<div>\n",
       "<style scoped>\n",
       "    .dataframe tbody tr th:only-of-type {\n",
       "        vertical-align: middle;\n",
       "    }\n",
       "\n",
       "    .dataframe tbody tr th {\n",
       "        vertical-align: top;\n",
       "    }\n",
       "\n",
       "    .dataframe thead th {\n",
       "        text-align: right;\n",
       "    }\n",
       "</style>\n",
       "<table border=\"1\" class=\"dataframe\">\n",
       "  <thead>\n",
       "    <tr style=\"text-align: right;\">\n",
       "      <th></th>\n",
       "      <th>code</th>\n",
       "      <th>grade</th>\n",
       "    </tr>\n",
       "  </thead>\n",
       "  <tbody>\n",
       "    <tr>\n",
       "      <th>0</th>\n",
       "      <td>6a2003ad-a05a-41c9-9d48-e98491a90499</td>\n",
       "      <td>90.0</td>\n",
       "    </tr>\n",
       "    <tr>\n",
       "      <th>1</th>\n",
       "      <td>04f91058-d0f8-4324-83b2-19c671f433dc</td>\n",
       "      <td>97.0</td>\n",
       "    </tr>\n",
       "    <tr>\n",
       "      <th>2</th>\n",
       "      <td>81fdeb2a-e7e5-4a05-8058-d31ea579b0d9</td>\n",
       "      <td>94.0</td>\n",
       "    </tr>\n",
       "    <tr>\n",
       "      <th>3</th>\n",
       "      <td>6a903495-c5be-4263-b4dd-75e2bbc30434</td>\n",
       "      <td>97.0</td>\n",
       "    </tr>\n",
       "    <tr>\n",
       "      <th>4</th>\n",
       "      <td>6d5742c1-77c4-429c-8f6e-ef1262ca5557</td>\n",
       "      <td>93.0</td>\n",
       "    </tr>\n",
       "  </tbody>\n",
       "</table>\n",
       "</div>"
      ],
      "text/plain": [
       "                                   code  grade\n",
       "0  6a2003ad-a05a-41c9-9d48-e98491a90499   90.0\n",
       "1  04f91058-d0f8-4324-83b2-19c671f433dc   97.0\n",
       "2  81fdeb2a-e7e5-4a05-8058-d31ea579b0d9   94.0\n",
       "3  6a903495-c5be-4263-b4dd-75e2bbc30434   97.0\n",
       "4  6d5742c1-77c4-429c-8f6e-ef1262ca5557   93.0"
      ]
     },
     "execution_count": 56,
     "metadata": {},
     "output_type": "execute_result"
    }
   ],
   "source": [
    "# reading the scores\n",
    "scores = pd.read_csv(\"../scores.csv\", sep=\",\")\n",
    "scores[\"code\"] = scores[\"code\"].apply(lambda x: x.strip())\n",
    "\n",
    "# selecting the columns we need and we care\n",
    "scores = scores[[\"code\", \"grade\"]]\n",
    "\n",
    "# show some examples\n",
    "scores.head()"
   ]
  },
  {
   "cell_type": "code",
   "execution_count": 57,
   "metadata": {},
   "outputs": [
    {
     "data": {
      "image/png": "[encoded data removed]",
      "text/plain": [
       "<Figure size 640x480 with 1 Axes>"
      ]
     },
     "metadata": {},
     "output_type": "display_data"
    }
   ],
   "source": [
    "# Let's check grades distribution\n",
    "\n",
    "plt.title('Histogram Grades')\n",
    "plt.hist(scores[\"grade\"], rwidth=.8, bins=np.arange(min(scores[\"grade\"]), max(scores[\"grade\"])+2) - 0.5)\n",
    "plt.ylabel('Count')\n",
    "plt.show()"
   ]
  },
  {
   "cell_type": "code",
   "execution_count": 58,
   "metadata": {},
   "outputs": [
    {
     "data": {
      "text/html": [
       "<div>\n",
       "<style scoped>\n",
       "    .dataframe tbody tr th:only-of-type {\n",
       "        vertical-align: middle;\n",
       "    }\n",
       "\n",
       "    .dataframe tbody tr th {\n",
       "        vertical-align: top;\n",
       "    }\n",
       "\n",
       "    .dataframe thead th {\n",
       "        text-align: right;\n",
       "    }\n",
       "</style>\n",
       "<table border=\"1\" class=\"dataframe\">\n",
       "  <thead>\n",
       "    <tr style=\"text-align: right;\">\n",
       "      <th></th>\n",
       "      <th>code</th>\n",
       "      <th>#user_prompts</th>\n",
       "      <th>prompt_avg_words</th>\n",
       "      <th>response_avg_words</th>\n",
       "      <th>whitelist_score</th>\n",
       "      <th>blacklist_score</th>\n",
       "      <th>average_sentiment</th>\n",
       "      <th>bert_average_sentiment</th>\n",
       "      <th>flesch_reading_ease</th>\n",
       "      <th>flesch_kincaid_grade</th>\n",
       "      <th>gunning_fog</th>\n",
       "      <th>smog_index</th>\n",
       "      <th>automated_readability_index</th>\n",
       "      <th>coleman_liau_index</th>\n",
       "      <th>linsear_write_formula</th>\n",
       "      <th>dale_chall_readability_score</th>\n",
       "    </tr>\n",
       "  </thead>\n",
       "  <tbody>\n",
       "    <tr>\n",
       "      <th>0</th>\n",
       "      <td>0031c86e-81f4-4eef-9e0e-28037abf9883</td>\n",
       "      <td>14.0</td>\n",
       "      <td>0.322617</td>\n",
       "      <td>26.255108</td>\n",
       "      <td>0.846522</td>\n",
       "      <td>1.781713</td>\n",
       "      <td>0.139457</td>\n",
       "      <td>-0.772049</td>\n",
       "      <td>53.983571</td>\n",
       "      <td>9.700000</td>\n",
       "      <td>10.689286</td>\n",
       "      <td>9.214286</td>\n",
       "      <td>12.257143</td>\n",
       "      <td>12.083571</td>\n",
       "      <td>9.912202</td>\n",
       "      <td>10.762143</td>\n",
       "    </tr>\n",
       "    <tr>\n",
       "      <th>1</th>\n",
       "      <td>0225686d-b825-4cac-8691-3a3a5343df2b</td>\n",
       "      <td>18.0</td>\n",
       "      <td>0.055791</td>\n",
       "      <td>16.578947</td>\n",
       "      <td>0.031328</td>\n",
       "      <td>0.172117</td>\n",
       "      <td>0.130718</td>\n",
       "      <td>-0.709885</td>\n",
       "      <td>53.115556</td>\n",
       "      <td>9.316667</td>\n",
       "      <td>10.090556</td>\n",
       "      <td>4.238889</td>\n",
       "      <td>11.316667</td>\n",
       "      <td>11.445000</td>\n",
       "      <td>7.929960</td>\n",
       "      <td>10.306111</td>\n",
       "    </tr>\n",
       "    <tr>\n",
       "      <th>2</th>\n",
       "      <td>041f950b-c013-409a-a642-cffff60b9d4b</td>\n",
       "      <td>9.0</td>\n",
       "      <td>0.053652</td>\n",
       "      <td>3.065649</td>\n",
       "      <td>1.452380</td>\n",
       "      <td>3.555556</td>\n",
       "      <td>-0.021337</td>\n",
       "      <td>-0.777762</td>\n",
       "      <td>55.614444</td>\n",
       "      <td>8.466667</td>\n",
       "      <td>10.252222</td>\n",
       "      <td>2.577778</td>\n",
       "      <td>13.522222</td>\n",
       "      <td>13.424444</td>\n",
       "      <td>10.027778</td>\n",
       "      <td>11.495556</td>\n",
       "    </tr>\n",
       "    <tr>\n",
       "      <th>3</th>\n",
       "      <td>04f91058-d0f8-4324-83b2-19c671f433dc</td>\n",
       "      <td>20.0</td>\n",
       "      <td>0.017632</td>\n",
       "      <td>13.347445</td>\n",
       "      <td>0.732213</td>\n",
       "      <td>1.483516</td>\n",
       "      <td>0.004042</td>\n",
       "      <td>-0.770788</td>\n",
       "      <td>66.300000</td>\n",
       "      <td>7.365000</td>\n",
       "      <td>8.794500</td>\n",
       "      <td>0.650000</td>\n",
       "      <td>9.255000</td>\n",
       "      <td>9.610000</td>\n",
       "      <td>7.658333</td>\n",
       "      <td>10.251000</td>\n",
       "    </tr>\n",
       "    <tr>\n",
       "      <th>4</th>\n",
       "      <td>089eb66d-4c3a-4f58-b98f-a3774a2efb34</td>\n",
       "      <td>86.0</td>\n",
       "      <td>0.003110</td>\n",
       "      <td>2.697958</td>\n",
       "      <td>0.144917</td>\n",
       "      <td>0.121121</td>\n",
       "      <td>0.089507</td>\n",
       "      <td>-0.746055</td>\n",
       "      <td>56.105116</td>\n",
       "      <td>8.709302</td>\n",
       "      <td>9.846860</td>\n",
       "      <td>3.055814</td>\n",
       "      <td>14.056977</td>\n",
       "      <td>14.135581</td>\n",
       "      <td>7.978654</td>\n",
       "      <td>10.773023</td>\n",
       "    </tr>\n",
       "  </tbody>\n",
       "</table>\n",
       "</div>"
      ],
      "text/plain": [
       "                                   code  #user_prompts  prompt_avg_words  \\\n",
       "0  0031c86e-81f4-4eef-9e0e-28037abf9883           14.0          0.322617   \n",
       "1  0225686d-b825-4cac-8691-3a3a5343df2b           18.0          0.055791   \n",
       "2  041f950b-c013-409a-a642-cffff60b9d4b            9.0          0.053652   \n",
       "3  04f91058-d0f8-4324-83b2-19c671f433dc           20.0          0.017632   \n",
       "4  089eb66d-4c3a-4f58-b98f-a3774a2efb34           86.0          0.003110   \n",
       "\n",
       "   response_avg_words  whitelist_score  blacklist_score  average_sentiment  \\\n",
       "0           26.255108         0.846522         1.781713           0.139457   \n",
       "1           16.578947         0.031328         0.172117           0.130718   \n",
       "2            3.065649         1.452380         3.555556          -0.021337   \n",
       "3           13.347445         0.732213         1.483516           0.004042   \n",
       "4            2.697958         0.144917         0.121121           0.089507   \n",
       "\n",
       "   bert_average_sentiment  flesch_reading_ease  flesch_kincaid_grade  \\\n",
       "0               -0.772049            53.983571              9.700000   \n",
       "1               -0.709885            53.115556              9.316667   \n",
       "2               -0.777762            55.614444              8.466667   \n",
       "3               -0.770788            66.300000              7.365000   \n",
       "4               -0.746055            56.105116              8.709302   \n",
       "\n",
       "   gunning_fog  smog_index  automated_readability_index  coleman_liau_index  \\\n",
       "0    10.689286    9.214286                    12.257143           12.083571   \n",
       "1    10.090556    4.238889                    11.316667           11.445000   \n",
       "2    10.252222    2.577778                    13.522222           13.424444   \n",
       "3     8.794500    0.650000                     9.255000            9.610000   \n",
       "4     9.846860    3.055814                    14.056977           14.135581   \n",
       "\n",
       "   linsear_write_formula  dale_chall_readability_score  \n",
       "0               9.912202                     10.762143  \n",
       "1               7.929960                     10.306111  \n",
       "2              10.027778                     11.495556  \n",
       "3               7.658333                     10.251000  \n",
       "4               7.978654                     10.773023  "
      ]
     },
     "execution_count": 58,
     "metadata": {},
     "output_type": "execute_result"
    }
   ],
   "source": [
    "df.reset_index(inplace=True, drop=False)\n",
    "df.rename(columns={\"index\": \"code\"}, inplace=True)\n",
    "df.head()"
   ]
  },
  {
   "cell_type": "markdown",
   "metadata": {},
   "source": [
    "#### Merging scores with features"
   ]
  },
  {
   "cell_type": "code",
   "execution_count": 59,
   "metadata": {},
   "outputs": [
    {
     "data": {
      "text/html": [
       "<div>\n",
       "<style scoped>\n",
       "    .dataframe tbody tr th:only-of-type {\n",
       "        vertical-align: middle;\n",
       "    }\n",
       "\n",
       "    .dataframe tbody tr th {\n",
       "        vertical-align: top;\n",
       "    }\n",
       "\n",
       "    .dataframe thead th {\n",
       "        text-align: right;\n",
       "    }\n",
       "</style>\n",
       "<table border=\"1\" class=\"dataframe\">\n",
       "  <thead>\n",
       "    <tr style=\"text-align: right;\">\n",
       "      <th></th>\n",
       "      <th>code</th>\n",
       "      <th>#user_prompts</th>\n",
       "      <th>prompt_avg_words</th>\n",
       "      <th>response_avg_words</th>\n",
       "      <th>whitelist_score</th>\n",
       "      <th>blacklist_score</th>\n",
       "      <th>average_sentiment</th>\n",
       "      <th>bert_average_sentiment</th>\n",
       "      <th>flesch_reading_ease</th>\n",
       "      <th>flesch_kincaid_grade</th>\n",
       "      <th>gunning_fog</th>\n",
       "      <th>smog_index</th>\n",
       "      <th>automated_readability_index</th>\n",
       "      <th>coleman_liau_index</th>\n",
       "      <th>linsear_write_formula</th>\n",
       "      <th>dale_chall_readability_score</th>\n",
       "      <th>grade</th>\n",
       "    </tr>\n",
       "  </thead>\n",
       "  <tbody>\n",
       "    <tr>\n",
       "      <th>0</th>\n",
       "      <td>0031c86e-81f4-4eef-9e0e-28037abf9883</td>\n",
       "      <td>14.0</td>\n",
       "      <td>0.322617</td>\n",
       "      <td>26.255108</td>\n",
       "      <td>0.846522</td>\n",
       "      <td>1.781713</td>\n",
       "      <td>0.139457</td>\n",
       "      <td>-0.772049</td>\n",
       "      <td>53.983571</td>\n",
       "      <td>9.700000</td>\n",
       "      <td>10.689286</td>\n",
       "      <td>9.214286</td>\n",
       "      <td>12.257143</td>\n",
       "      <td>12.083571</td>\n",
       "      <td>9.912202</td>\n",
       "      <td>10.762143</td>\n",
       "      <td>48.0</td>\n",
       "    </tr>\n",
       "    <tr>\n",
       "      <th>1</th>\n",
       "      <td>0225686d-b825-4cac-8691-3a3a5343df2b</td>\n",
       "      <td>18.0</td>\n",
       "      <td>0.055791</td>\n",
       "      <td>16.578947</td>\n",
       "      <td>0.031328</td>\n",
       "      <td>0.172117</td>\n",
       "      <td>0.130718</td>\n",
       "      <td>-0.709885</td>\n",
       "      <td>53.115556</td>\n",
       "      <td>9.316667</td>\n",
       "      <td>10.090556</td>\n",
       "      <td>4.238889</td>\n",
       "      <td>11.316667</td>\n",
       "      <td>11.445000</td>\n",
       "      <td>7.929960</td>\n",
       "      <td>10.306111</td>\n",
       "      <td>99.0</td>\n",
       "    </tr>\n",
       "    <tr>\n",
       "      <th>2</th>\n",
       "      <td>041f950b-c013-409a-a642-cffff60b9d4b</td>\n",
       "      <td>9.0</td>\n",
       "      <td>0.053652</td>\n",
       "      <td>3.065649</td>\n",
       "      <td>1.452380</td>\n",
       "      <td>3.555556</td>\n",
       "      <td>-0.021337</td>\n",
       "      <td>-0.777762</td>\n",
       "      <td>55.614444</td>\n",
       "      <td>8.466667</td>\n",
       "      <td>10.252222</td>\n",
       "      <td>2.577778</td>\n",
       "      <td>13.522222</td>\n",
       "      <td>13.424444</td>\n",
       "      <td>10.027778</td>\n",
       "      <td>11.495556</td>\n",
       "      <td>90.0</td>\n",
       "    </tr>\n",
       "    <tr>\n",
       "      <th>3</th>\n",
       "      <td>04f91058-d0f8-4324-83b2-19c671f433dc</td>\n",
       "      <td>20.0</td>\n",
       "      <td>0.017632</td>\n",
       "      <td>13.347445</td>\n",
       "      <td>0.732213</td>\n",
       "      <td>1.483516</td>\n",
       "      <td>0.004042</td>\n",
       "      <td>-0.770788</td>\n",
       "      <td>66.300000</td>\n",
       "      <td>7.365000</td>\n",
       "      <td>8.794500</td>\n",
       "      <td>0.650000</td>\n",
       "      <td>9.255000</td>\n",
       "      <td>9.610000</td>\n",
       "      <td>7.658333</td>\n",
       "      <td>10.251000</td>\n",
       "      <td>97.0</td>\n",
       "    </tr>\n",
       "    <tr>\n",
       "      <th>4</th>\n",
       "      <td>089eb66d-4c3a-4f58-b98f-a3774a2efb34</td>\n",
       "      <td>86.0</td>\n",
       "      <td>0.003110</td>\n",
       "      <td>2.697958</td>\n",
       "      <td>0.144917</td>\n",
       "      <td>0.121121</td>\n",
       "      <td>0.089507</td>\n",
       "      <td>-0.746055</td>\n",
       "      <td>56.105116</td>\n",
       "      <td>8.709302</td>\n",
       "      <td>9.846860</td>\n",
       "      <td>3.055814</td>\n",
       "      <td>14.056977</td>\n",
       "      <td>14.135581</td>\n",
       "      <td>7.978654</td>\n",
       "      <td>10.773023</td>\n",
       "      <td>100.0</td>\n",
       "    </tr>\n",
       "  </tbody>\n",
       "</table>\n",
       "</div>"
      ],
      "text/plain": [
       "                                   code  #user_prompts  prompt_avg_words  \\\n",
       "0  0031c86e-81f4-4eef-9e0e-28037abf9883           14.0          0.322617   \n",
       "1  0225686d-b825-4cac-8691-3a3a5343df2b           18.0          0.055791   \n",
       "2  041f950b-c013-409a-a642-cffff60b9d4b            9.0          0.053652   \n",
       "3  04f91058-d0f8-4324-83b2-19c671f433dc           20.0          0.017632   \n",
       "4  089eb66d-4c3a-4f58-b98f-a3774a2efb34           86.0          0.003110   \n",
       "\n",
       "   response_avg_words  whitelist_score  blacklist_score  average_sentiment  \\\n",
       "0           26.255108         0.846522         1.781713           0.139457   \n",
       "1           16.578947         0.031328         0.172117           0.130718   \n",
       "2            3.065649         1.452380         3.555556          -0.021337   \n",
       "3           13.347445         0.732213         1.483516           0.004042   \n",
       "4            2.697958         0.144917         0.121121           0.089507   \n",
       "\n",
       "   bert_average_sentiment  flesch_reading_ease  flesch_kincaid_grade  \\\n",
       "0               -0.772049            53.983571              9.700000   \n",
       "1               -0.709885            53.115556              9.316667   \n",
       "2               -0.777762            55.614444              8.466667   \n",
       "3               -0.770788            66.300000              7.365000   \n",
       "4               -0.746055            56.105116              8.709302   \n",
       "\n",
       "   gunning_fog  smog_index  automated_readability_index  coleman_liau_index  \\\n",
       "0    10.689286    9.214286                    12.257143           12.083571   \n",
       "1    10.090556    4.238889                    11.316667           11.445000   \n",
       "2    10.252222    2.577778                    13.522222           13.424444   \n",
       "3     8.794500    0.650000                     9.255000            9.610000   \n",
       "4     9.846860    3.055814                    14.056977           14.135581   \n",
       "\n",
       "   linsear_write_formula  dale_chall_readability_score  grade  \n",
       "0               9.912202                     10.762143   48.0  \n",
       "1               7.929960                     10.306111   99.0  \n",
       "2              10.027778                     11.495556   90.0  \n",
       "3               7.658333                     10.251000   97.0  \n",
       "4               7.978654                     10.773023  100.0  "
      ]
     },
     "execution_count": 59,
     "metadata": {},
     "output_type": "execute_result"
    }
   ],
   "source": [
    "temp_df = pd.merge(df, scores, on='code', how=\"left\")\n",
    "temp_df.dropna(inplace=True)\n",
    "temp_df.drop_duplicates(\"code\",inplace=True, keep=\"first\")\n",
    "temp_df.head()"
   ]
  },
  {
   "cell_type": "code",
   "execution_count": 142,
   "metadata": {},
   "outputs": [
    {
     "name": "stdout",
     "output_type": "stream",
     "text": [
      "(115, 15) (115,)\n"
     ]
    }
   ],
   "source": [
    "# Removing outliers\n",
    "\n",
    "# Calculate Q1, Q3, and IQR\n",
    "Q1 = temp_df['grade'].quantile(0.25)\n",
    "Q3 = temp_df['grade'].quantile(0.75)\n",
    "IQR = Q3 - Q1\n",
    "\n",
    "# Define the upper and lower bounds for outliers\n",
    "lower_bound = Q1 - 1.5 * IQR\n",
    "upper_bound = Q3 + 1.5 * IQR\n",
    "\n",
    "# Filter the data frame to remove outliers\n",
    "temp_df = temp_df[(temp_df['grade'] >= lower_bound) & (temp_df['grade'] <= upper_bound)]\n",
    "\n",
    "X = temp_df[temp_df.columns[1:-1]]\n",
    "y = temp_df[\"grade\"].to_numpy()\n",
    "print(X.shape, y.shape)"
   ]
  },
  {
   "cell_type": "code",
   "execution_count": 143,
   "metadata": {},
   "outputs": [
    {
     "name": "stderr",
     "output_type": "stream",
     "text": [
      "C:\\Users\\salih\\AppData\\Local\\Temp\\ipykernel_14320\\146312205.py:5: FutureWarning: The default value of numeric_only in DataFrame.corr is deprecated. In a future version, it will default to False. Select only valid columns or specify the value of numeric_only to silence this warning.\n",
      "  correlation_matrix = temp_df.corr()\n"
     ]
    },
    {
     "data": {
      "image/png": "[encoded data removed]",
      "text/plain": [
       "<Figure size 2000x200 with 2 Axes>"
      ]
     },
     "metadata": {},
     "output_type": "display_data"
    }
   ],
   "source": [
    "import seaborn as sns\n",
    "# Correlation plot for feature subset selection\n",
    "\n",
    "# Calculating the correlation matrix\n",
    "correlation_matrix = temp_df.corr()\n",
    "\n",
    "corr_with_target = correlation_matrix[['grade']].sort_values(by='grade', ascending=False)\n",
    "\n",
    "fig, ax = plt.subplots()\n",
    "plt.title('Correlation Plot for Attributes')\n",
    "fig.set_size_inches(20,2)\n",
    "sns.heatmap(corr_with_target.T, annot=True, cmap='coolwarm', fmt=\".2f\", linewidths=.5)\n",
    "plt.show()"
   ]
  },
  {
   "cell_type": "code",
   "execution_count": 144,
   "metadata": {},
   "outputs": [
    {
     "data": {
      "image/png": "[encoded data removed]",
      "text/plain": [
       "<Figure size 1000x1000 with 2 Axes>"
      ]
     },
     "metadata": {},
     "output_type": "display_data"
    }
   ],
   "source": [
    "fig, ax = plt.subplots()\n",
    "plt.title('Correlation Plot for Attributes')\n",
    "fig.set_size_inches(10,10)\n",
    "sns.heatmap(correlation_matrix, annot=True, cmap='coolwarm', fmt=\".2f\", linewidths=.5)\n",
    "plt.show()"
   ]
  },
  {
   "cell_type": "markdown",
   "metadata": {},
   "source": [
    "We eliminate the features with the least correlation with grade & most correlation with other features (they both do not contribute to the information about target and carrying similar information to other features)."
   ]
  },
  {
   "cell_type": "code",
   "execution_count": 167,
   "metadata": {},
   "outputs": [],
   "source": [
    "subset_of_features = [\"average_sentiment\", \"linsear_write_formula\", \"flesch_kincaid_grade\", \"smog_index\",\n",
    "                       \"dale_chall_readability_score\", \"automated_readability_index\"]\n",
    "\n",
    "X = temp_df[subset_of_features]\n",
    "X = temp_df[temp_df.columns[1:-1]]"
   ]
  },
  {
   "cell_type": "code",
   "execution_count": 169,
   "metadata": {},
   "outputs": [
    {
     "name": "stdout",
     "output_type": "stream",
     "text": [
      "Index(['#user_prompts', 'prompt_avg_words', 'response_avg_words',\n",
      "       'whitelist_score', 'blacklist_score', 'average_sentiment',\n",
      "       'bert_average_sentiment', 'flesch_reading_ease', 'flesch_kincaid_grade',\n",
      "       'gunning_fog', 'smog_index', 'automated_readability_index',\n",
      "       'coleman_liau_index', 'linsear_write_formula',\n",
      "       'dale_chall_readability_score'],\n",
      "      dtype='object')\n"
     ]
    }
   ],
   "source": [
    "print(X.columns)"
   ]
  },
  {
   "cell_type": "markdown",
   "metadata": {},
   "source": [
    "-------------------------------------------------- RUN TILL HERE FOR CHALLENGE PART -----------------------------------------------"
   ]
  },
  {
   "cell_type": "markdown",
   "metadata": {},
   "source": [
    "#### Train/Test split"
   ]
  },
  {
   "cell_type": "code",
   "execution_count": 170,
   "metadata": {},
   "outputs": [
    {
     "name": "stdout",
     "output_type": "stream",
     "text": [
      "Train set size: 92\n",
      "Test set size: 23\n"
     ]
    }
   ],
   "source": [
    "X_train, X_test, y_train, y_test = train_test_split(X, y, test_size=0.2)\n",
    "print(\"Train set size:\", len(X_train))\n",
    "print(\"Test set size:\", len(X_test))"
   ]
  },
  {
   "cell_type": "code",
   "execution_count": 171,
   "metadata": {},
   "outputs": [
    {
     "name": "stdout",
     "output_type": "stream",
     "text": [
      "Index(['response_avg_words', 'flesch_reading_ease', 'gunning_fog',\n",
      "       'automated_readability_index', 'linsear_write_formula'],\n",
      "      dtype='object')\n"
     ]
    }
   ],
   "source": [
    "from sklearn.linear_model import LinearRegression\n",
    "from mlxtend.feature_selection import SequentialFeatureSelector\n",
    "\n",
    "\n",
    "# Define the forward selection model\n",
    "forward_selector = SequentialFeatureSelector(LinearRegression(), \n",
    "                                             k_features='best', \n",
    "                                             forward=False, \n",
    "                                             scoring='neg_mean_squared_error', \n",
    "                                             cv=5)\n",
    "\n",
    "# Fit the forward selection model\n",
    "forward_selector = forward_selector.fit(X_train, y_train)\n",
    "\n",
    "# Get the selected features\n",
    "selected_features = X_train.columns[list(forward_selector.k_feature_idx_)]\n",
    "print(selected_features)"
   ]
  },
  {
   "cell_type": "code",
   "execution_count": 172,
   "metadata": {},
   "outputs": [],
   "source": [
    "X_train = X_train[selected_features]\n",
    "X_test = X_test[selected_features]"
   ]
  },
  {
   "cell_type": "code",
   "execution_count": 173,
   "metadata": {},
   "outputs": [
    {
     "data": {
      "text/plain": [
       "Index(['response_avg_words', 'flesch_reading_ease', 'gunning_fog',\n",
       "       'automated_readability_index', 'linsear_write_formula'],\n",
       "      dtype='object')"
      ]
     },
     "execution_count": 173,
     "metadata": {},
     "output_type": "execute_result"
    }
   ],
   "source": [
    "X_train.columns"
   ]
  },
  {
   "cell_type": "markdown",
   "metadata": {},
   "source": [
    "#### Fitting a model"
   ]
  },
  {
   "cell_type": "markdown",
   "metadata": {},
   "source": [
    "#### Predicting and Analyzing "
   ]
  },
  {
   "cell_type": "code",
   "execution_count": 270,
   "metadata": {},
   "outputs": [
    {
     "data": {
      "text/html": [
       "<style>#sk-container-id-3 {color: black;background-color: white;}#sk-container-id-3 pre{padding: 0;}#sk-container-id-3 div.sk-toggleable {background-color: white;}#sk-container-id-3 label.sk-toggleable__label {cursor: pointer;display: block;width: 100%;margin-bottom: 0;padding: 0.3em;box-sizing: border-box;text-align: center;}#sk-container-id-3 label.sk-toggleable__label-arrow:before {content: \"▸\";float: left;margin-right: 0.25em;color: #696969;}#sk-container-id-3 label.sk-toggleable__label-arrow:hover:before {color: black;}#sk-container-id-3 div.sk-estimator:hover label.sk-toggleable__label-arrow:before {color: black;}#sk-container-id-3 div.sk-toggleable__content {max-height: 0;max-width: 0;overflow: hidden;text-align: left;background-color: #f0f8ff;}#sk-container-id-3 div.sk-toggleable__content pre {margin: 0.2em;color: black;border-radius: 0.25em;background-color: #f0f8ff;}#sk-container-id-3 input.sk-toggleable__control:checked~div.sk-toggleable__content {max-height: 200px;max-width: 100%;overflow: auto;}#sk-container-id-3 input.sk-toggleable__control:checked~label.sk-toggleable__label-arrow:before {content: \"▾\";}#sk-container-id-3 div.sk-estimator input.sk-toggleable__control:checked~label.sk-toggleable__label {background-color: #d4ebff;}#sk-container-id-3 div.sk-label input.sk-toggleable__control:checked~label.sk-toggleable__label {background-color: #d4ebff;}#sk-container-id-3 input.sk-hidden--visually {border: 0;clip: rect(1px 1px 1px 1px);clip: rect(1px, 1px, 1px, 1px);height: 1px;margin: -1px;overflow: hidden;padding: 0;position: absolute;width: 1px;}#sk-container-id-3 div.sk-estimator {font-family: monospace;background-color: #f0f8ff;border: 1px dotted black;border-radius: 0.25em;box-sizing: border-box;margin-bottom: 0.5em;}#sk-container-id-3 div.sk-estimator:hover {background-color: #d4ebff;}#sk-container-id-3 div.sk-parallel-item::after {content: \"\";width: 100%;border-bottom: 1px solid gray;flex-grow: 1;}#sk-container-id-3 div.sk-label:hover label.sk-toggleable__label {background-color: #d4ebff;}#sk-container-id-3 div.sk-serial::before {content: \"\";position: absolute;border-left: 1px solid gray;box-sizing: border-box;top: 0;bottom: 0;left: 50%;z-index: 0;}#sk-container-id-3 div.sk-serial {display: flex;flex-direction: column;align-items: center;background-color: white;padding-right: 0.2em;padding-left: 0.2em;position: relative;}#sk-container-id-3 div.sk-item {position: relative;z-index: 1;}#sk-container-id-3 div.sk-parallel {display: flex;align-items: stretch;justify-content: center;background-color: white;position: relative;}#sk-container-id-3 div.sk-item::before, #sk-container-id-3 div.sk-parallel-item::before {content: \"\";position: absolute;border-left: 1px solid gray;box-sizing: border-box;top: 0;bottom: 0;left: 50%;z-index: -1;}#sk-container-id-3 div.sk-parallel-item {display: flex;flex-direction: column;z-index: 1;position: relative;background-color: white;}#sk-container-id-3 div.sk-parallel-item:first-child::after {align-self: flex-end;width: 50%;}#sk-container-id-3 div.sk-parallel-item:last-child::after {align-self: flex-start;width: 50%;}#sk-container-id-3 div.sk-parallel-item:only-child::after {width: 0;}#sk-container-id-3 div.sk-dashed-wrapped {border: 1px dashed gray;margin: 0 0.4em 0.5em 0.4em;box-sizing: border-box;padding-bottom: 0.4em;background-color: white;}#sk-container-id-3 div.sk-label label {font-family: monospace;font-weight: bold;display: inline-block;line-height: 1.2em;}#sk-container-id-3 div.sk-label-container {text-align: center;}#sk-container-id-3 div.sk-container {/* jupyter's `normalize.less` sets `[hidden] { display: none; }` but bootstrap.min.css set `[hidden] { display: none !important; }` so we also need the `!important` here to be able to override the default hidden behavior on the sphinx rendered scikit-learn.org. See: https://github.com/scikit-learn/scikit-learn/issues/21755 */display: inline-block !important;position: relative;}#sk-container-id-3 div.sk-text-repr-fallback {display: none;}</style><div id=\"sk-container-id-3\" class=\"sk-top-container\"><div class=\"sk-text-repr-fallback\"><pre>DecisionTreeRegressor(max_depth=10, random_state=0)</pre><b>In a Jupyter environment, please rerun this cell to show the HTML representation or trust the notebook. <br />On GitHub, the HTML representation is unable to render, please try loading this page with nbviewer.org.</b></div><div class=\"sk-container\" hidden><div class=\"sk-item\"><div class=\"sk-estimator sk-toggleable\"><input class=\"sk-toggleable__control sk-hidden--visually\" id=\"sk-estimator-id-3\" type=\"checkbox\" checked><label for=\"sk-estimator-id-3\" class=\"sk-toggleable__label sk-toggleable__label-arrow\">DecisionTreeRegressor</label><div class=\"sk-toggleable__content\"><pre>DecisionTreeRegressor(max_depth=10, random_state=0)</pre></div></div></div></div></div>"
      ],
      "text/plain": [
       "DecisionTreeRegressor(max_depth=10, random_state=0)"
      ]
     },
     "execution_count": 270,
     "metadata": {},
     "output_type": "execute_result"
    }
   ],
   "source": [
    "regressor = DecisionTreeRegressor(random_state=0,criterion='squared_error', max_depth=10)\n",
    "regressor.fit(X_train, y_train)"
   ]
  },
  {
   "cell_type": "code",
   "execution_count": 154,
   "metadata": {},
   "outputs": [
    {
     "name": "stdout",
     "output_type": "stream",
     "text": [
      "Fitting 3 folds for each of 540 candidates, totalling 1620 fits\n",
      "{'bootstrap': True, 'max_depth': 50, 'min_samples_leaf': 4, 'min_samples_split': 10, 'n_estimators': 100}\n"
     ]
    }
   ],
   "source": [
    "from sklearn.ensemble import RandomForestRegressor\n",
    "from sklearn.model_selection import GridSearchCV\n",
    "\n",
    "# Assume X is your feature set and y is your target variable\n",
    "# Also assume that you have already split your data into training and test sets\n",
    "\n",
    "# Define the parameter grid\n",
    "param_grid = {\n",
    "    'n_estimators': [100, 200, 300, 400, 500],\n",
    "    'max_depth': [None, 10, 20, 30, 40, 50],\n",
    "    'min_samples_split': [2, 5, 10],\n",
    "    'min_samples_leaf': [1, 2, 4],\n",
    "    'bootstrap': [True, False]\n",
    "}\n",
    "\n",
    "# Create a base model\n",
    "rf = RandomForestRegressor(criterion='squared_error')\n",
    "\n",
    "# Instantiate the grid search model\n",
    "grid_search = GridSearchCV(estimator=rf, param_grid=param_grid, cv=3, n_jobs=-1, verbose=2)\n",
    "\n",
    "# Fit the grid search to the data\n",
    "grid_search.fit(X_train, y_train)\n",
    "\n",
    "# Get the best parameters\n",
    "best_params = grid_search.best_params_\n",
    "print(best_params)"
   ]
  },
  {
   "cell_type": "code",
   "execution_count": 159,
   "metadata": {},
   "outputs": [
    {
     "data": {
      "text/html": [
       "<style>#sk-container-id-15 {color: black;background-color: white;}#sk-container-id-15 pre{padding: 0;}#sk-container-id-15 div.sk-toggleable {background-color: white;}#sk-container-id-15 label.sk-toggleable__label {cursor: pointer;display: block;width: 100%;margin-bottom: 0;padding: 0.3em;box-sizing: border-box;text-align: center;}#sk-container-id-15 label.sk-toggleable__label-arrow:before {content: \"▸\";float: left;margin-right: 0.25em;color: #696969;}#sk-container-id-15 label.sk-toggleable__label-arrow:hover:before {color: black;}#sk-container-id-15 div.sk-estimator:hover label.sk-toggleable__label-arrow:before {color: black;}#sk-container-id-15 div.sk-toggleable__content {max-height: 0;max-width: 0;overflow: hidden;text-align: left;background-color: #f0f8ff;}#sk-container-id-15 div.sk-toggleable__content pre {margin: 0.2em;color: black;border-radius: 0.25em;background-color: #f0f8ff;}#sk-container-id-15 input.sk-toggleable__control:checked~div.sk-toggleable__content {max-height: 200px;max-width: 100%;overflow: auto;}#sk-container-id-15 input.sk-toggleable__control:checked~label.sk-toggleable__label-arrow:before {content: \"▾\";}#sk-container-id-15 div.sk-estimator input.sk-toggleable__control:checked~label.sk-toggleable__label {background-color: #d4ebff;}#sk-container-id-15 div.sk-label input.sk-toggleable__control:checked~label.sk-toggleable__label {background-color: #d4ebff;}#sk-container-id-15 input.sk-hidden--visually {border: 0;clip: rect(1px 1px 1px 1px);clip: rect(1px, 1px, 1px, 1px);height: 1px;margin: -1px;overflow: hidden;padding: 0;position: absolute;width: 1px;}#sk-container-id-15 div.sk-estimator {font-family: monospace;background-color: #f0f8ff;border: 1px dotted black;border-radius: 0.25em;box-sizing: border-box;margin-bottom: 0.5em;}#sk-container-id-15 div.sk-estimator:hover {background-color: #d4ebff;}#sk-container-id-15 div.sk-parallel-item::after {content: \"\";width: 100%;border-bottom: 1px solid gray;flex-grow: 1;}#sk-container-id-15 div.sk-label:hover label.sk-toggleable__label {background-color: #d4ebff;}#sk-container-id-15 div.sk-serial::before {content: \"\";position: absolute;border-left: 1px solid gray;box-sizing: border-box;top: 0;bottom: 0;left: 50%;z-index: 0;}#sk-container-id-15 div.sk-serial {display: flex;flex-direction: column;align-items: center;background-color: white;padding-right: 0.2em;padding-left: 0.2em;position: relative;}#sk-container-id-15 div.sk-item {position: relative;z-index: 1;}#sk-container-id-15 div.sk-parallel {display: flex;align-items: stretch;justify-content: center;background-color: white;position: relative;}#sk-container-id-15 div.sk-item::before, #sk-container-id-15 div.sk-parallel-item::before {content: \"\";position: absolute;border-left: 1px solid gray;box-sizing: border-box;top: 0;bottom: 0;left: 50%;z-index: -1;}#sk-container-id-15 div.sk-parallel-item {display: flex;flex-direction: column;z-index: 1;position: relative;background-color: white;}#sk-container-id-15 div.sk-parallel-item:first-child::after {align-self: flex-end;width: 50%;}#sk-container-id-15 div.sk-parallel-item:last-child::after {align-self: flex-start;width: 50%;}#sk-container-id-15 div.sk-parallel-item:only-child::after {width: 0;}#sk-container-id-15 div.sk-dashed-wrapped {border: 1px dashed gray;margin: 0 0.4em 0.5em 0.4em;box-sizing: border-box;padding-bottom: 0.4em;background-color: white;}#sk-container-id-15 div.sk-label label {font-family: monospace;font-weight: bold;display: inline-block;line-height: 1.2em;}#sk-container-id-15 div.sk-label-container {text-align: center;}#sk-container-id-15 div.sk-container {/* jupyter's `normalize.less` sets `[hidden] { display: none; }` but bootstrap.min.css set `[hidden] { display: none !important; }` so we also need the `!important` here to be able to override the default hidden behavior on the sphinx rendered scikit-learn.org. See: https://github.com/scikit-learn/scikit-learn/issues/21755 */display: inline-block !important;position: relative;}#sk-container-id-15 div.sk-text-repr-fallback {display: none;}</style><div id=\"sk-container-id-15\" class=\"sk-top-container\"><div class=\"sk-text-repr-fallback\"><pre>RandomForestRegressor(max_depth=50, min_samples_leaf=2)</pre><b>In a Jupyter environment, please rerun this cell to show the HTML representation or trust the notebook. <br />On GitHub, the HTML representation is unable to render, please try loading this page with nbviewer.org.</b></div><div class=\"sk-container\" hidden><div class=\"sk-item\"><div class=\"sk-estimator sk-toggleable\"><input class=\"sk-toggleable__control sk-hidden--visually\" id=\"sk-estimator-id-15\" type=\"checkbox\" checked><label for=\"sk-estimator-id-15\" class=\"sk-toggleable__label sk-toggleable__label-arrow\">RandomForestRegressor</label><div class=\"sk-toggleable__content\"><pre>RandomForestRegressor(max_depth=50, min_samples_leaf=2)</pre></div></div></div></div></div>"
      ],
      "text/plain": [
       "RandomForestRegressor(max_depth=50, min_samples_leaf=2)"
      ]
     },
     "execution_count": 159,
     "metadata": {},
     "output_type": "execute_result"
    }
   ],
   "source": [
    "# Train a Random Forest Regressor with the best parameters\n",
    "from sklearn.ensemble import RandomForestRegressor\n",
    "\n",
    "regressor = RandomForestRegressor(n_estimators=100, criterion='squared_error', bootstrap= True, max_depth= 50, min_samples_leaf= 2)\n",
    "regressor.fit(X_train, y_train)"
   ]
  },
  {
   "cell_type": "code",
   "execution_count": 174,
   "metadata": {},
   "outputs": [
    {
     "data": {
      "text/html": [
       "<style>#sk-container-id-17 {color: black;background-color: white;}#sk-container-id-17 pre{padding: 0;}#sk-container-id-17 div.sk-toggleable {background-color: white;}#sk-container-id-17 label.sk-toggleable__label {cursor: pointer;display: block;width: 100%;margin-bottom: 0;padding: 0.3em;box-sizing: border-box;text-align: center;}#sk-container-id-17 label.sk-toggleable__label-arrow:before {content: \"▸\";float: left;margin-right: 0.25em;color: #696969;}#sk-container-id-17 label.sk-toggleable__label-arrow:hover:before {color: black;}#sk-container-id-17 div.sk-estimator:hover label.sk-toggleable__label-arrow:before {color: black;}#sk-container-id-17 div.sk-toggleable__content {max-height: 0;max-width: 0;overflow: hidden;text-align: left;background-color: #f0f8ff;}#sk-container-id-17 div.sk-toggleable__content pre {margin: 0.2em;color: black;border-radius: 0.25em;background-color: #f0f8ff;}#sk-container-id-17 input.sk-toggleable__control:checked~div.sk-toggleable__content {max-height: 200px;max-width: 100%;overflow: auto;}#sk-container-id-17 input.sk-toggleable__control:checked~label.sk-toggleable__label-arrow:before {content: \"▾\";}#sk-container-id-17 div.sk-estimator input.sk-toggleable__control:checked~label.sk-toggleable__label {background-color: #d4ebff;}#sk-container-id-17 div.sk-label input.sk-toggleable__control:checked~label.sk-toggleable__label {background-color: #d4ebff;}#sk-container-id-17 input.sk-hidden--visually {border: 0;clip: rect(1px 1px 1px 1px);clip: rect(1px, 1px, 1px, 1px);height: 1px;margin: -1px;overflow: hidden;padding: 0;position: absolute;width: 1px;}#sk-container-id-17 div.sk-estimator {font-family: monospace;background-color: #f0f8ff;border: 1px dotted black;border-radius: 0.25em;box-sizing: border-box;margin-bottom: 0.5em;}#sk-container-id-17 div.sk-estimator:hover {background-color: #d4ebff;}#sk-container-id-17 div.sk-parallel-item::after {content: \"\";width: 100%;border-bottom: 1px solid gray;flex-grow: 1;}#sk-container-id-17 div.sk-label:hover label.sk-toggleable__label {background-color: #d4ebff;}#sk-container-id-17 div.sk-serial::before {content: \"\";position: absolute;border-left: 1px solid gray;box-sizing: border-box;top: 0;bottom: 0;left: 50%;z-index: 0;}#sk-container-id-17 div.sk-serial {display: flex;flex-direction: column;align-items: center;background-color: white;padding-right: 0.2em;padding-left: 0.2em;position: relative;}#sk-container-id-17 div.sk-item {position: relative;z-index: 1;}#sk-container-id-17 div.sk-parallel {display: flex;align-items: stretch;justify-content: center;background-color: white;position: relative;}#sk-container-id-17 div.sk-item::before, #sk-container-id-17 div.sk-parallel-item::before {content: \"\";position: absolute;border-left: 1px solid gray;box-sizing: border-box;top: 0;bottom: 0;left: 50%;z-index: -1;}#sk-container-id-17 div.sk-parallel-item {display: flex;flex-direction: column;z-index: 1;position: relative;background-color: white;}#sk-container-id-17 div.sk-parallel-item:first-child::after {align-self: flex-end;width: 50%;}#sk-container-id-17 div.sk-parallel-item:last-child::after {align-self: flex-start;width: 50%;}#sk-container-id-17 div.sk-parallel-item:only-child::after {width: 0;}#sk-container-id-17 div.sk-dashed-wrapped {border: 1px dashed gray;margin: 0 0.4em 0.5em 0.4em;box-sizing: border-box;padding-bottom: 0.4em;background-color: white;}#sk-container-id-17 div.sk-label label {font-family: monospace;font-weight: bold;display: inline-block;line-height: 1.2em;}#sk-container-id-17 div.sk-label-container {text-align: center;}#sk-container-id-17 div.sk-container {/* jupyter's `normalize.less` sets `[hidden] { display: none; }` but bootstrap.min.css set `[hidden] { display: none !important; }` so we also need the `!important` here to be able to override the default hidden behavior on the sphinx rendered scikit-learn.org. See: https://github.com/scikit-learn/scikit-learn/issues/21755 */display: inline-block !important;position: relative;}#sk-container-id-17 div.sk-text-repr-fallback {display: none;}</style><div id=\"sk-container-id-17\" class=\"sk-top-container\"><div class=\"sk-text-repr-fallback\"><pre>LinearRegression()</pre><b>In a Jupyter environment, please rerun this cell to show the HTML representation or trust the notebook. <br />On GitHub, the HTML representation is unable to render, please try loading this page with nbviewer.org.</b></div><div class=\"sk-container\" hidden><div class=\"sk-item\"><div class=\"sk-estimator sk-toggleable\"><input class=\"sk-toggleable__control sk-hidden--visually\" id=\"sk-estimator-id-17\" type=\"checkbox\" checked><label for=\"sk-estimator-id-17\" class=\"sk-toggleable__label sk-toggleable__label-arrow\">LinearRegression</label><div class=\"sk-toggleable__content\"><pre>LinearRegression()</pre></div></div></div></div></div>"
      ],
      "text/plain": [
       "LinearRegression()"
      ]
     },
     "execution_count": 174,
     "metadata": {},
     "output_type": "execute_result"
    }
   ],
   "source": [
    "# Train a Linear Regression model\n",
    "from sklearn.linear_model import LinearRegression\n",
    "\n",
    "regressor = LinearRegression()\n",
    "regressor.fit(X_train, y_train)"
   ]
  },
  {
   "cell_type": "code",
   "execution_count": 277,
   "metadata": {},
   "outputs": [
    {
     "data": {
      "text/html": [
       "<style>#sk-container-id-6 {color: black;background-color: white;}#sk-container-id-6 pre{padding: 0;}#sk-container-id-6 div.sk-toggleable {background-color: white;}#sk-container-id-6 label.sk-toggleable__label {cursor: pointer;display: block;width: 100%;margin-bottom: 0;padding: 0.3em;box-sizing: border-box;text-align: center;}#sk-container-id-6 label.sk-toggleable__label-arrow:before {content: \"▸\";float: left;margin-right: 0.25em;color: #696969;}#sk-container-id-6 label.sk-toggleable__label-arrow:hover:before {color: black;}#sk-container-id-6 div.sk-estimator:hover label.sk-toggleable__label-arrow:before {color: black;}#sk-container-id-6 div.sk-toggleable__content {max-height: 0;max-width: 0;overflow: hidden;text-align: left;background-color: #f0f8ff;}#sk-container-id-6 div.sk-toggleable__content pre {margin: 0.2em;color: black;border-radius: 0.25em;background-color: #f0f8ff;}#sk-container-id-6 input.sk-toggleable__control:checked~div.sk-toggleable__content {max-height: 200px;max-width: 100%;overflow: auto;}#sk-container-id-6 input.sk-toggleable__control:checked~label.sk-toggleable__label-arrow:before {content: \"▾\";}#sk-container-id-6 div.sk-estimator input.sk-toggleable__control:checked~label.sk-toggleable__label {background-color: #d4ebff;}#sk-container-id-6 div.sk-label input.sk-toggleable__control:checked~label.sk-toggleable__label {background-color: #d4ebff;}#sk-container-id-6 input.sk-hidden--visually {border: 0;clip: rect(1px 1px 1px 1px);clip: rect(1px, 1px, 1px, 1px);height: 1px;margin: -1px;overflow: hidden;padding: 0;position: absolute;width: 1px;}#sk-container-id-6 div.sk-estimator {font-family: monospace;background-color: #f0f8ff;border: 1px dotted black;border-radius: 0.25em;box-sizing: border-box;margin-bottom: 0.5em;}#sk-container-id-6 div.sk-estimator:hover {background-color: #d4ebff;}#sk-container-id-6 div.sk-parallel-item::after {content: \"\";width: 100%;border-bottom: 1px solid gray;flex-grow: 1;}#sk-container-id-6 div.sk-label:hover label.sk-toggleable__label {background-color: #d4ebff;}#sk-container-id-6 div.sk-serial::before {content: \"\";position: absolute;border-left: 1px solid gray;box-sizing: border-box;top: 0;bottom: 0;left: 50%;z-index: 0;}#sk-container-id-6 div.sk-serial {display: flex;flex-direction: column;align-items: center;background-color: white;padding-right: 0.2em;padding-left: 0.2em;position: relative;}#sk-container-id-6 div.sk-item {position: relative;z-index: 1;}#sk-container-id-6 div.sk-parallel {display: flex;align-items: stretch;justify-content: center;background-color: white;position: relative;}#sk-container-id-6 div.sk-item::before, #sk-container-id-6 div.sk-parallel-item::before {content: \"\";position: absolute;border-left: 1px solid gray;box-sizing: border-box;top: 0;bottom: 0;left: 50%;z-index: -1;}#sk-container-id-6 div.sk-parallel-item {display: flex;flex-direction: column;z-index: 1;position: relative;background-color: white;}#sk-container-id-6 div.sk-parallel-item:first-child::after {align-self: flex-end;width: 50%;}#sk-container-id-6 div.sk-parallel-item:last-child::after {align-self: flex-start;width: 50%;}#sk-container-id-6 div.sk-parallel-item:only-child::after {width: 0;}#sk-container-id-6 div.sk-dashed-wrapped {border: 1px dashed gray;margin: 0 0.4em 0.5em 0.4em;box-sizing: border-box;padding-bottom: 0.4em;background-color: white;}#sk-container-id-6 div.sk-label label {font-family: monospace;font-weight: bold;display: inline-block;line-height: 1.2em;}#sk-container-id-6 div.sk-label-container {text-align: center;}#sk-container-id-6 div.sk-container {/* jupyter's `normalize.less` sets `[hidden] { display: none; }` but bootstrap.min.css set `[hidden] { display: none !important; }` so we also need the `!important` here to be able to override the default hidden behavior on the sphinx rendered scikit-learn.org. See: https://github.com/scikit-learn/scikit-learn/issues/21755 */display: inline-block !important;position: relative;}#sk-container-id-6 div.sk-text-repr-fallback {display: none;}</style><div id=\"sk-container-id-6\" class=\"sk-top-container\"><div class=\"sk-text-repr-fallback\"><pre>GradientBoostingRegressor(criterion=&#x27;squared_error&#x27;, max_depth=10,\n",
       "                          random_state=0)</pre><b>In a Jupyter environment, please rerun this cell to show the HTML representation or trust the notebook. <br />On GitHub, the HTML representation is unable to render, please try loading this page with nbviewer.org.</b></div><div class=\"sk-container\" hidden><div class=\"sk-item\"><div class=\"sk-estimator sk-toggleable\"><input class=\"sk-toggleable__control sk-hidden--visually\" id=\"sk-estimator-id-6\" type=\"checkbox\" checked><label for=\"sk-estimator-id-6\" class=\"sk-toggleable__label sk-toggleable__label-arrow\">GradientBoostingRegressor</label><div class=\"sk-toggleable__content\"><pre>GradientBoostingRegressor(criterion=&#x27;squared_error&#x27;, max_depth=10,\n",
       "                          random_state=0)</pre></div></div></div></div></div>"
      ],
      "text/plain": [
       "GradientBoostingRegressor(criterion='squared_error', max_depth=10,\n",
       "                          random_state=0)"
      ]
     },
     "execution_count": 277,
     "metadata": {},
     "output_type": "execute_result"
    }
   ],
   "source": [
    "# Train a Gradient Boosting Regressor\n",
    "from sklearn.ensemble import GradientBoostingRegressor\n",
    "\n",
    "regressor = GradientBoostingRegressor(random_state=0, criterion='squared_error', max_depth=10)\n",
    "regressor.fit(X_train, y_train)"
   ]
  },
  {
   "cell_type": "code",
   "execution_count": 283,
   "metadata": {},
   "outputs": [
    {
     "data": {
      "text/html": [
       "<style>#sk-container-id-9 {color: black;background-color: white;}#sk-container-id-9 pre{padding: 0;}#sk-container-id-9 div.sk-toggleable {background-color: white;}#sk-container-id-9 label.sk-toggleable__label {cursor: pointer;display: block;width: 100%;margin-bottom: 0;padding: 0.3em;box-sizing: border-box;text-align: center;}#sk-container-id-9 label.sk-toggleable__label-arrow:before {content: \"▸\";float: left;margin-right: 0.25em;color: #696969;}#sk-container-id-9 label.sk-toggleable__label-arrow:hover:before {color: black;}#sk-container-id-9 div.sk-estimator:hover label.sk-toggleable__label-arrow:before {color: black;}#sk-container-id-9 div.sk-toggleable__content {max-height: 0;max-width: 0;overflow: hidden;text-align: left;background-color: #f0f8ff;}#sk-container-id-9 div.sk-toggleable__content pre {margin: 0.2em;color: black;border-radius: 0.25em;background-color: #f0f8ff;}#sk-container-id-9 input.sk-toggleable__control:checked~div.sk-toggleable__content {max-height: 200px;max-width: 100%;overflow: auto;}#sk-container-id-9 input.sk-toggleable__control:checked~label.sk-toggleable__label-arrow:before {content: \"▾\";}#sk-container-id-9 div.sk-estimator input.sk-toggleable__control:checked~label.sk-toggleable__label {background-color: #d4ebff;}#sk-container-id-9 div.sk-label input.sk-toggleable__control:checked~label.sk-toggleable__label {background-color: #d4ebff;}#sk-container-id-9 input.sk-hidden--visually {border: 0;clip: rect(1px 1px 1px 1px);clip: rect(1px, 1px, 1px, 1px);height: 1px;margin: -1px;overflow: hidden;padding: 0;position: absolute;width: 1px;}#sk-container-id-9 div.sk-estimator {font-family: monospace;background-color: #f0f8ff;border: 1px dotted black;border-radius: 0.25em;box-sizing: border-box;margin-bottom: 0.5em;}#sk-container-id-9 div.sk-estimator:hover {background-color: #d4ebff;}#sk-container-id-9 div.sk-parallel-item::after {content: \"\";width: 100%;border-bottom: 1px solid gray;flex-grow: 1;}#sk-container-id-9 div.sk-label:hover label.sk-toggleable__label {background-color: #d4ebff;}#sk-container-id-9 div.sk-serial::before {content: \"\";position: absolute;border-left: 1px solid gray;box-sizing: border-box;top: 0;bottom: 0;left: 50%;z-index: 0;}#sk-container-id-9 div.sk-serial {display: flex;flex-direction: column;align-items: center;background-color: white;padding-right: 0.2em;padding-left: 0.2em;position: relative;}#sk-container-id-9 div.sk-item {position: relative;z-index: 1;}#sk-container-id-9 div.sk-parallel {display: flex;align-items: stretch;justify-content: center;background-color: white;position: relative;}#sk-container-id-9 div.sk-item::before, #sk-container-id-9 div.sk-parallel-item::before {content: \"\";position: absolute;border-left: 1px solid gray;box-sizing: border-box;top: 0;bottom: 0;left: 50%;z-index: -1;}#sk-container-id-9 div.sk-parallel-item {display: flex;flex-direction: column;z-index: 1;position: relative;background-color: white;}#sk-container-id-9 div.sk-parallel-item:first-child::after {align-self: flex-end;width: 50%;}#sk-container-id-9 div.sk-parallel-item:last-child::after {align-self: flex-start;width: 50%;}#sk-container-id-9 div.sk-parallel-item:only-child::after {width: 0;}#sk-container-id-9 div.sk-dashed-wrapped {border: 1px dashed gray;margin: 0 0.4em 0.5em 0.4em;box-sizing: border-box;padding-bottom: 0.4em;background-color: white;}#sk-container-id-9 div.sk-label label {font-family: monospace;font-weight: bold;display: inline-block;line-height: 1.2em;}#sk-container-id-9 div.sk-label-container {text-align: center;}#sk-container-id-9 div.sk-container {/* jupyter's `normalize.less` sets `[hidden] { display: none; }` but bootstrap.min.css set `[hidden] { display: none !important; }` so we also need the `!important` here to be able to override the default hidden behavior on the sphinx rendered scikit-learn.org. See: https://github.com/scikit-learn/scikit-learn/issues/21755 */display: inline-block !important;position: relative;}#sk-container-id-9 div.sk-text-repr-fallback {display: none;}</style><div id=\"sk-container-id-9\" class=\"sk-top-container\"><div class=\"sk-text-repr-fallback\"><pre>SVR(kernel=&#x27;linear&#x27;)</pre><b>In a Jupyter environment, please rerun this cell to show the HTML representation or trust the notebook. <br />On GitHub, the HTML representation is unable to render, please try loading this page with nbviewer.org.</b></div><div class=\"sk-container\" hidden><div class=\"sk-item\"><div class=\"sk-estimator sk-toggleable\"><input class=\"sk-toggleable__control sk-hidden--visually\" id=\"sk-estimator-id-9\" type=\"checkbox\" checked><label for=\"sk-estimator-id-9\" class=\"sk-toggleable__label sk-toggleable__label-arrow\">SVR</label><div class=\"sk-toggleable__content\"><pre>SVR(kernel=&#x27;linear&#x27;)</pre></div></div></div></div></div>"
      ],
      "text/plain": [
       "SVR(kernel='linear')"
      ]
     },
     "execution_count": 283,
     "metadata": {},
     "output_type": "execute_result"
    }
   ],
   "source": [
    "# Train a Support Vector Regressor\n",
    "from sklearn.svm import SVR\n",
    "\n",
    "regressor = SVR(kernel='rbf')\n",
    "regressor.fit(X_train, y_train)"
   ]
  },
  {
   "cell_type": "code",
   "execution_count": 285,
   "metadata": {},
   "outputs": [
    {
     "data": {
      "text/html": [
       "<style>#sk-container-id-10 {color: black;background-color: white;}#sk-container-id-10 pre{padding: 0;}#sk-container-id-10 div.sk-toggleable {background-color: white;}#sk-container-id-10 label.sk-toggleable__label {cursor: pointer;display: block;width: 100%;margin-bottom: 0;padding: 0.3em;box-sizing: border-box;text-align: center;}#sk-container-id-10 label.sk-toggleable__label-arrow:before {content: \"▸\";float: left;margin-right: 0.25em;color: #696969;}#sk-container-id-10 label.sk-toggleable__label-arrow:hover:before {color: black;}#sk-container-id-10 div.sk-estimator:hover label.sk-toggleable__label-arrow:before {color: black;}#sk-container-id-10 div.sk-toggleable__content {max-height: 0;max-width: 0;overflow: hidden;text-align: left;background-color: #f0f8ff;}#sk-container-id-10 div.sk-toggleable__content pre {margin: 0.2em;color: black;border-radius: 0.25em;background-color: #f0f8ff;}#sk-container-id-10 input.sk-toggleable__control:checked~div.sk-toggleable__content {max-height: 200px;max-width: 100%;overflow: auto;}#sk-container-id-10 input.sk-toggleable__control:checked~label.sk-toggleable__label-arrow:before {content: \"▾\";}#sk-container-id-10 div.sk-estimator input.sk-toggleable__control:checked~label.sk-toggleable__label {background-color: #d4ebff;}#sk-container-id-10 div.sk-label input.sk-toggleable__control:checked~label.sk-toggleable__label {background-color: #d4ebff;}#sk-container-id-10 input.sk-hidden--visually {border: 0;clip: rect(1px 1px 1px 1px);clip: rect(1px, 1px, 1px, 1px);height: 1px;margin: -1px;overflow: hidden;padding: 0;position: absolute;width: 1px;}#sk-container-id-10 div.sk-estimator {font-family: monospace;background-color: #f0f8ff;border: 1px dotted black;border-radius: 0.25em;box-sizing: border-box;margin-bottom: 0.5em;}#sk-container-id-10 div.sk-estimator:hover {background-color: #d4ebff;}#sk-container-id-10 div.sk-parallel-item::after {content: \"\";width: 100%;border-bottom: 1px solid gray;flex-grow: 1;}#sk-container-id-10 div.sk-label:hover label.sk-toggleable__label {background-color: #d4ebff;}#sk-container-id-10 div.sk-serial::before {content: \"\";position: absolute;border-left: 1px solid gray;box-sizing: border-box;top: 0;bottom: 0;left: 50%;z-index: 0;}#sk-container-id-10 div.sk-serial {display: flex;flex-direction: column;align-items: center;background-color: white;padding-right: 0.2em;padding-left: 0.2em;position: relative;}#sk-container-id-10 div.sk-item {position: relative;z-index: 1;}#sk-container-id-10 div.sk-parallel {display: flex;align-items: stretch;justify-content: center;background-color: white;position: relative;}#sk-container-id-10 div.sk-item::before, #sk-container-id-10 div.sk-parallel-item::before {content: \"\";position: absolute;border-left: 1px solid gray;box-sizing: border-box;top: 0;bottom: 0;left: 50%;z-index: -1;}#sk-container-id-10 div.sk-parallel-item {display: flex;flex-direction: column;z-index: 1;position: relative;background-color: white;}#sk-container-id-10 div.sk-parallel-item:first-child::after {align-self: flex-end;width: 50%;}#sk-container-id-10 div.sk-parallel-item:last-child::after {align-self: flex-start;width: 50%;}#sk-container-id-10 div.sk-parallel-item:only-child::after {width: 0;}#sk-container-id-10 div.sk-dashed-wrapped {border: 1px dashed gray;margin: 0 0.4em 0.5em 0.4em;box-sizing: border-box;padding-bottom: 0.4em;background-color: white;}#sk-container-id-10 div.sk-label label {font-family: monospace;font-weight: bold;display: inline-block;line-height: 1.2em;}#sk-container-id-10 div.sk-label-container {text-align: center;}#sk-container-id-10 div.sk-container {/* jupyter's `normalize.less` sets `[hidden] { display: none; }` but bootstrap.min.css set `[hidden] { display: none !important; }` so we also need the `!important` here to be able to override the default hidden behavior on the sphinx rendered scikit-learn.org. See: https://github.com/scikit-learn/scikit-learn/issues/21755 */display: inline-block !important;position: relative;}#sk-container-id-10 div.sk-text-repr-fallback {display: none;}</style><div id=\"sk-container-id-10\" class=\"sk-top-container\"><div class=\"sk-text-repr-fallback\"><pre>KNeighborsRegressor()</pre><b>In a Jupyter environment, please rerun this cell to show the HTML representation or trust the notebook. <br />On GitHub, the HTML representation is unable to render, please try loading this page with nbviewer.org.</b></div><div class=\"sk-container\" hidden><div class=\"sk-item\"><div class=\"sk-estimator sk-toggleable\"><input class=\"sk-toggleable__control sk-hidden--visually\" id=\"sk-estimator-id-10\" type=\"checkbox\" checked><label for=\"sk-estimator-id-10\" class=\"sk-toggleable__label sk-toggleable__label-arrow\">KNeighborsRegressor</label><div class=\"sk-toggleable__content\"><pre>KNeighborsRegressor()</pre></div></div></div></div></div>"
      ],
      "text/plain": [
       "KNeighborsRegressor()"
      ]
     },
     "execution_count": 285,
     "metadata": {},
     "output_type": "execute_result"
    }
   ],
   "source": [
    "# Train a KNN Regressor\n",
    "from sklearn.neighbors import KNeighborsRegressor\n",
    "\n",
    "regressor = KNeighborsRegressor(n_neighbors=5)\n",
    "regressor.fit(X_train, y_train)"
   ]
  },
  {
   "cell_type": "code",
   "execution_count": 307,
   "metadata": {},
   "outputs": [
    {
     "data": {
      "text/html": [
       "<style>#sk-container-id-18 {color: black;background-color: white;}#sk-container-id-18 pre{padding: 0;}#sk-container-id-18 div.sk-toggleable {background-color: white;}#sk-container-id-18 label.sk-toggleable__label {cursor: pointer;display: block;width: 100%;margin-bottom: 0;padding: 0.3em;box-sizing: border-box;text-align: center;}#sk-container-id-18 label.sk-toggleable__label-arrow:before {content: \"▸\";float: left;margin-right: 0.25em;color: #696969;}#sk-container-id-18 label.sk-toggleable__label-arrow:hover:before {color: black;}#sk-container-id-18 div.sk-estimator:hover label.sk-toggleable__label-arrow:before {color: black;}#sk-container-id-18 div.sk-toggleable__content {max-height: 0;max-width: 0;overflow: hidden;text-align: left;background-color: #f0f8ff;}#sk-container-id-18 div.sk-toggleable__content pre {margin: 0.2em;color: black;border-radius: 0.25em;background-color: #f0f8ff;}#sk-container-id-18 input.sk-toggleable__control:checked~div.sk-toggleable__content {max-height: 200px;max-width: 100%;overflow: auto;}#sk-container-id-18 input.sk-toggleable__control:checked~label.sk-toggleable__label-arrow:before {content: \"▾\";}#sk-container-id-18 div.sk-estimator input.sk-toggleable__control:checked~label.sk-toggleable__label {background-color: #d4ebff;}#sk-container-id-18 div.sk-label input.sk-toggleable__control:checked~label.sk-toggleable__label {background-color: #d4ebff;}#sk-container-id-18 input.sk-hidden--visually {border: 0;clip: rect(1px 1px 1px 1px);clip: rect(1px, 1px, 1px, 1px);height: 1px;margin: -1px;overflow: hidden;padding: 0;position: absolute;width: 1px;}#sk-container-id-18 div.sk-estimator {font-family: monospace;background-color: #f0f8ff;border: 1px dotted black;border-radius: 0.25em;box-sizing: border-box;margin-bottom: 0.5em;}#sk-container-id-18 div.sk-estimator:hover {background-color: #d4ebff;}#sk-container-id-18 div.sk-parallel-item::after {content: \"\";width: 100%;border-bottom: 1px solid gray;flex-grow: 1;}#sk-container-id-18 div.sk-label:hover label.sk-toggleable__label {background-color: #d4ebff;}#sk-container-id-18 div.sk-serial::before {content: \"\";position: absolute;border-left: 1px solid gray;box-sizing: border-box;top: 0;bottom: 0;left: 50%;z-index: 0;}#sk-container-id-18 div.sk-serial {display: flex;flex-direction: column;align-items: center;background-color: white;padding-right: 0.2em;padding-left: 0.2em;position: relative;}#sk-container-id-18 div.sk-item {position: relative;z-index: 1;}#sk-container-id-18 div.sk-parallel {display: flex;align-items: stretch;justify-content: center;background-color: white;position: relative;}#sk-container-id-18 div.sk-item::before, #sk-container-id-18 div.sk-parallel-item::before {content: \"\";position: absolute;border-left: 1px solid gray;box-sizing: border-box;top: 0;bottom: 0;left: 50%;z-index: -1;}#sk-container-id-18 div.sk-parallel-item {display: flex;flex-direction: column;z-index: 1;position: relative;background-color: white;}#sk-container-id-18 div.sk-parallel-item:first-child::after {align-self: flex-end;width: 50%;}#sk-container-id-18 div.sk-parallel-item:last-child::after {align-self: flex-start;width: 50%;}#sk-container-id-18 div.sk-parallel-item:only-child::after {width: 0;}#sk-container-id-18 div.sk-dashed-wrapped {border: 1px dashed gray;margin: 0 0.4em 0.5em 0.4em;box-sizing: border-box;padding-bottom: 0.4em;background-color: white;}#sk-container-id-18 div.sk-label label {font-family: monospace;font-weight: bold;display: inline-block;line-height: 1.2em;}#sk-container-id-18 div.sk-label-container {text-align: center;}#sk-container-id-18 div.sk-container {/* jupyter's `normalize.less` sets `[hidden] { display: none; }` but bootstrap.min.css set `[hidden] { display: none !important; }` so we also need the `!important` here to be able to override the default hidden behavior on the sphinx rendered scikit-learn.org. See: https://github.com/scikit-learn/scikit-learn/issues/21755 */display: inline-block !important;position: relative;}#sk-container-id-18 div.sk-text-repr-fallback {display: none;}</style><div id=\"sk-container-id-18\" class=\"sk-top-container\"><div class=\"sk-text-repr-fallback\"><pre>LinearRegression()</pre><b>In a Jupyter environment, please rerun this cell to show the HTML representation or trust the notebook. <br />On GitHub, the HTML representation is unable to render, please try loading this page with nbviewer.org.</b></div><div class=\"sk-container\" hidden><div class=\"sk-item\"><div class=\"sk-estimator sk-toggleable\"><input class=\"sk-toggleable__control sk-hidden--visually\" id=\"sk-estimator-id-18\" type=\"checkbox\" checked><label for=\"sk-estimator-id-18\" class=\"sk-toggleable__label sk-toggleable__label-arrow\">LinearRegression</label><div class=\"sk-toggleable__content\"><pre>LinearRegression()</pre></div></div></div></div></div>"
      ],
      "text/plain": [
       "LinearRegression()"
      ]
     },
     "execution_count": 307,
     "metadata": {},
     "output_type": "execute_result"
    }
   ],
   "source": [
    "# Train a Polynomial Regressor\n",
    "from sklearn.preprocessing import PolynomialFeatures\n",
    "from sklearn.linear_model import LinearRegression\n",
    "\n",
    "poly_reg = PolynomialFeatures(degree=3)\n",
    "X_poly = poly_reg.fit_transform(X_train)\n",
    "regressor = LinearRegression()\n",
    "regressor.fit(X_poly, y_train)"
   ]
  },
  {
   "cell_type": "code",
   "execution_count": 163,
   "metadata": {},
   "outputs": [
    {
     "data": {
      "text/html": [
       "<style>#sk-container-id-16 {color: black;background-color: white;}#sk-container-id-16 pre{padding: 0;}#sk-container-id-16 div.sk-toggleable {background-color: white;}#sk-container-id-16 label.sk-toggleable__label {cursor: pointer;display: block;width: 100%;margin-bottom: 0;padding: 0.3em;box-sizing: border-box;text-align: center;}#sk-container-id-16 label.sk-toggleable__label-arrow:before {content: \"▸\";float: left;margin-right: 0.25em;color: #696969;}#sk-container-id-16 label.sk-toggleable__label-arrow:hover:before {color: black;}#sk-container-id-16 div.sk-estimator:hover label.sk-toggleable__label-arrow:before {color: black;}#sk-container-id-16 div.sk-toggleable__content {max-height: 0;max-width: 0;overflow: hidden;text-align: left;background-color: #f0f8ff;}#sk-container-id-16 div.sk-toggleable__content pre {margin: 0.2em;color: black;border-radius: 0.25em;background-color: #f0f8ff;}#sk-container-id-16 input.sk-toggleable__control:checked~div.sk-toggleable__content {max-height: 200px;max-width: 100%;overflow: auto;}#sk-container-id-16 input.sk-toggleable__control:checked~label.sk-toggleable__label-arrow:before {content: \"▾\";}#sk-container-id-16 div.sk-estimator input.sk-toggleable__control:checked~label.sk-toggleable__label {background-color: #d4ebff;}#sk-container-id-16 div.sk-label input.sk-toggleable__control:checked~label.sk-toggleable__label {background-color: #d4ebff;}#sk-container-id-16 input.sk-hidden--visually {border: 0;clip: rect(1px 1px 1px 1px);clip: rect(1px, 1px, 1px, 1px);height: 1px;margin: -1px;overflow: hidden;padding: 0;position: absolute;width: 1px;}#sk-container-id-16 div.sk-estimator {font-family: monospace;background-color: #f0f8ff;border: 1px dotted black;border-radius: 0.25em;box-sizing: border-box;margin-bottom: 0.5em;}#sk-container-id-16 div.sk-estimator:hover {background-color: #d4ebff;}#sk-container-id-16 div.sk-parallel-item::after {content: \"\";width: 100%;border-bottom: 1px solid gray;flex-grow: 1;}#sk-container-id-16 div.sk-label:hover label.sk-toggleable__label {background-color: #d4ebff;}#sk-container-id-16 div.sk-serial::before {content: \"\";position: absolute;border-left: 1px solid gray;box-sizing: border-box;top: 0;bottom: 0;left: 50%;z-index: 0;}#sk-container-id-16 div.sk-serial {display: flex;flex-direction: column;align-items: center;background-color: white;padding-right: 0.2em;padding-left: 0.2em;position: relative;}#sk-container-id-16 div.sk-item {position: relative;z-index: 1;}#sk-container-id-16 div.sk-parallel {display: flex;align-items: stretch;justify-content: center;background-color: white;position: relative;}#sk-container-id-16 div.sk-item::before, #sk-container-id-16 div.sk-parallel-item::before {content: \"\";position: absolute;border-left: 1px solid gray;box-sizing: border-box;top: 0;bottom: 0;left: 50%;z-index: -1;}#sk-container-id-16 div.sk-parallel-item {display: flex;flex-direction: column;z-index: 1;position: relative;background-color: white;}#sk-container-id-16 div.sk-parallel-item:first-child::after {align-self: flex-end;width: 50%;}#sk-container-id-16 div.sk-parallel-item:last-child::after {align-self: flex-start;width: 50%;}#sk-container-id-16 div.sk-parallel-item:only-child::after {width: 0;}#sk-container-id-16 div.sk-dashed-wrapped {border: 1px dashed gray;margin: 0 0.4em 0.5em 0.4em;box-sizing: border-box;padding-bottom: 0.4em;background-color: white;}#sk-container-id-16 div.sk-label label {font-family: monospace;font-weight: bold;display: inline-block;line-height: 1.2em;}#sk-container-id-16 div.sk-label-container {text-align: center;}#sk-container-id-16 div.sk-container {/* jupyter's `normalize.less` sets `[hidden] { display: none; }` but bootstrap.min.css set `[hidden] { display: none !important; }` so we also need the `!important` here to be able to override the default hidden behavior on the sphinx rendered scikit-learn.org. See: https://github.com/scikit-learn/scikit-learn/issues/21755 */display: inline-block !important;position: relative;}#sk-container-id-16 div.sk-text-repr-fallback {display: none;}</style><div id=\"sk-container-id-16\" class=\"sk-top-container\"><div class=\"sk-text-repr-fallback\"><pre>Lasso(alpha=0.05, max_iter=3000, selection=&#x27;random&#x27;)</pre><b>In a Jupyter environment, please rerun this cell to show the HTML representation or trust the notebook. <br />On GitHub, the HTML representation is unable to render, please try loading this page with nbviewer.org.</b></div><div class=\"sk-container\" hidden><div class=\"sk-item\"><div class=\"sk-estimator sk-toggleable\"><input class=\"sk-toggleable__control sk-hidden--visually\" id=\"sk-estimator-id-16\" type=\"checkbox\" checked><label for=\"sk-estimator-id-16\" class=\"sk-toggleable__label sk-toggleable__label-arrow\">Lasso</label><div class=\"sk-toggleable__content\"><pre>Lasso(alpha=0.05, max_iter=3000, selection=&#x27;random&#x27;)</pre></div></div></div></div></div>"
      ],
      "text/plain": [
       "Lasso(alpha=0.05, max_iter=3000, selection='random')"
      ]
     },
     "execution_count": 163,
     "metadata": {},
     "output_type": "execute_result"
    }
   ],
   "source": [
    "# Train a Lasso Regressor\n",
    "from sklearn.linear_model import Lasso\n",
    "\n",
    "regressor = Lasso(alpha=0.05, max_iter=3000, tol=0.0001, warm_start=False, selection='random')\n",
    "regressor.fit(X_train, y_train)"
   ]
  },
  {
   "cell_type": "code",
   "execution_count": 182,
   "metadata": {},
   "outputs": [
    {
     "data": {
      "text/html": [
       "<style>#sk-container-id-19 {color: black;background-color: white;}#sk-container-id-19 pre{padding: 0;}#sk-container-id-19 div.sk-toggleable {background-color: white;}#sk-container-id-19 label.sk-toggleable__label {cursor: pointer;display: block;width: 100%;margin-bottom: 0;padding: 0.3em;box-sizing: border-box;text-align: center;}#sk-container-id-19 label.sk-toggleable__label-arrow:before {content: \"▸\";float: left;margin-right: 0.25em;color: #696969;}#sk-container-id-19 label.sk-toggleable__label-arrow:hover:before {color: black;}#sk-container-id-19 div.sk-estimator:hover label.sk-toggleable__label-arrow:before {color: black;}#sk-container-id-19 div.sk-toggleable__content {max-height: 0;max-width: 0;overflow: hidden;text-align: left;background-color: #f0f8ff;}#sk-container-id-19 div.sk-toggleable__content pre {margin: 0.2em;color: black;border-radius: 0.25em;background-color: #f0f8ff;}#sk-container-id-19 input.sk-toggleable__control:checked~div.sk-toggleable__content {max-height: 200px;max-width: 100%;overflow: auto;}#sk-container-id-19 input.sk-toggleable__control:checked~label.sk-toggleable__label-arrow:before {content: \"▾\";}#sk-container-id-19 div.sk-estimator input.sk-toggleable__control:checked~label.sk-toggleable__label {background-color: #d4ebff;}#sk-container-id-19 div.sk-label input.sk-toggleable__control:checked~label.sk-toggleable__label {background-color: #d4ebff;}#sk-container-id-19 input.sk-hidden--visually {border: 0;clip: rect(1px 1px 1px 1px);clip: rect(1px, 1px, 1px, 1px);height: 1px;margin: -1px;overflow: hidden;padding: 0;position: absolute;width: 1px;}#sk-container-id-19 div.sk-estimator {font-family: monospace;background-color: #f0f8ff;border: 1px dotted black;border-radius: 0.25em;box-sizing: border-box;margin-bottom: 0.5em;}#sk-container-id-19 div.sk-estimator:hover {background-color: #d4ebff;}#sk-container-id-19 div.sk-parallel-item::after {content: \"\";width: 100%;border-bottom: 1px solid gray;flex-grow: 1;}#sk-container-id-19 div.sk-label:hover label.sk-toggleable__label {background-color: #d4ebff;}#sk-container-id-19 div.sk-serial::before {content: \"\";position: absolute;border-left: 1px solid gray;box-sizing: border-box;top: 0;bottom: 0;left: 50%;z-index: 0;}#sk-container-id-19 div.sk-serial {display: flex;flex-direction: column;align-items: center;background-color: white;padding-right: 0.2em;padding-left: 0.2em;position: relative;}#sk-container-id-19 div.sk-item {position: relative;z-index: 1;}#sk-container-id-19 div.sk-parallel {display: flex;align-items: stretch;justify-content: center;background-color: white;position: relative;}#sk-container-id-19 div.sk-item::before, #sk-container-id-19 div.sk-parallel-item::before {content: \"\";position: absolute;border-left: 1px solid gray;box-sizing: border-box;top: 0;bottom: 0;left: 50%;z-index: -1;}#sk-container-id-19 div.sk-parallel-item {display: flex;flex-direction: column;z-index: 1;position: relative;background-color: white;}#sk-container-id-19 div.sk-parallel-item:first-child::after {align-self: flex-end;width: 50%;}#sk-container-id-19 div.sk-parallel-item:last-child::after {align-self: flex-start;width: 50%;}#sk-container-id-19 div.sk-parallel-item:only-child::after {width: 0;}#sk-container-id-19 div.sk-dashed-wrapped {border: 1px dashed gray;margin: 0 0.4em 0.5em 0.4em;box-sizing: border-box;padding-bottom: 0.4em;background-color: white;}#sk-container-id-19 div.sk-label label {font-family: monospace;font-weight: bold;display: inline-block;line-height: 1.2em;}#sk-container-id-19 div.sk-label-container {text-align: center;}#sk-container-id-19 div.sk-container {/* jupyter's `normalize.less` sets `[hidden] { display: none; }` but bootstrap.min.css set `[hidden] { display: none !important; }` so we also need the `!important` here to be able to override the default hidden behavior on the sphinx rendered scikit-learn.org. See: https://github.com/scikit-learn/scikit-learn/issues/21755 */display: inline-block !important;position: relative;}#sk-container-id-19 div.sk-text-repr-fallback {display: none;}</style><div id=\"sk-container-id-19\" class=\"sk-top-container\"><div class=\"sk-text-repr-fallback\"><pre>Ridge(alpha=0.1, max_iter=3000, tol=0.001)</pre><b>In a Jupyter environment, please rerun this cell to show the HTML representation or trust the notebook. <br />On GitHub, the HTML representation is unable to render, please try loading this page with nbviewer.org.</b></div><div class=\"sk-container\" hidden><div class=\"sk-item\"><div class=\"sk-estimator sk-toggleable\"><input class=\"sk-toggleable__control sk-hidden--visually\" id=\"sk-estimator-id-19\" type=\"checkbox\" checked><label for=\"sk-estimator-id-19\" class=\"sk-toggleable__label sk-toggleable__label-arrow\">Ridge</label><div class=\"sk-toggleable__content\"><pre>Ridge(alpha=0.1, max_iter=3000, tol=0.001)</pre></div></div></div></div></div>"
      ],
      "text/plain": [
       "Ridge(alpha=0.1, max_iter=3000, tol=0.001)"
      ]
     },
     "execution_count": 182,
     "metadata": {},
     "output_type": "execute_result"
    }
   ],
   "source": [
    "# Train a Ridge Regressor\n",
    "from sklearn.linear_model import Ridge\n",
    "\n",
    "regressor = Ridge(alpha=0.1, max_iter=3000, tol=0.001)\n",
    "regressor.fit(X_train, y_train)"
   ]
  },
  {
   "cell_type": "code",
   "execution_count": 178,
   "metadata": {},
   "outputs": [
    {
     "data": {
      "text/html": [
       "<style>#sk-container-id-18 {color: black;background-color: white;}#sk-container-id-18 pre{padding: 0;}#sk-container-id-18 div.sk-toggleable {background-color: white;}#sk-container-id-18 label.sk-toggleable__label {cursor: pointer;display: block;width: 100%;margin-bottom: 0;padding: 0.3em;box-sizing: border-box;text-align: center;}#sk-container-id-18 label.sk-toggleable__label-arrow:before {content: \"▸\";float: left;margin-right: 0.25em;color: #696969;}#sk-container-id-18 label.sk-toggleable__label-arrow:hover:before {color: black;}#sk-container-id-18 div.sk-estimator:hover label.sk-toggleable__label-arrow:before {color: black;}#sk-container-id-18 div.sk-toggleable__content {max-height: 0;max-width: 0;overflow: hidden;text-align: left;background-color: #f0f8ff;}#sk-container-id-18 div.sk-toggleable__content pre {margin: 0.2em;color: black;border-radius: 0.25em;background-color: #f0f8ff;}#sk-container-id-18 input.sk-toggleable__control:checked~div.sk-toggleable__content {max-height: 200px;max-width: 100%;overflow: auto;}#sk-container-id-18 input.sk-toggleable__control:checked~label.sk-toggleable__label-arrow:before {content: \"▾\";}#sk-container-id-18 div.sk-estimator input.sk-toggleable__control:checked~label.sk-toggleable__label {background-color: #d4ebff;}#sk-container-id-18 div.sk-label input.sk-toggleable__control:checked~label.sk-toggleable__label {background-color: #d4ebff;}#sk-container-id-18 input.sk-hidden--visually {border: 0;clip: rect(1px 1px 1px 1px);clip: rect(1px, 1px, 1px, 1px);height: 1px;margin: -1px;overflow: hidden;padding: 0;position: absolute;width: 1px;}#sk-container-id-18 div.sk-estimator {font-family: monospace;background-color: #f0f8ff;border: 1px dotted black;border-radius: 0.25em;box-sizing: border-box;margin-bottom: 0.5em;}#sk-container-id-18 div.sk-estimator:hover {background-color: #d4ebff;}#sk-container-id-18 div.sk-parallel-item::after {content: \"\";width: 100%;border-bottom: 1px solid gray;flex-grow: 1;}#sk-container-id-18 div.sk-label:hover label.sk-toggleable__label {background-color: #d4ebff;}#sk-container-id-18 div.sk-serial::before {content: \"\";position: absolute;border-left: 1px solid gray;box-sizing: border-box;top: 0;bottom: 0;left: 50%;z-index: 0;}#sk-container-id-18 div.sk-serial {display: flex;flex-direction: column;align-items: center;background-color: white;padding-right: 0.2em;padding-left: 0.2em;position: relative;}#sk-container-id-18 div.sk-item {position: relative;z-index: 1;}#sk-container-id-18 div.sk-parallel {display: flex;align-items: stretch;justify-content: center;background-color: white;position: relative;}#sk-container-id-18 div.sk-item::before, #sk-container-id-18 div.sk-parallel-item::before {content: \"\";position: absolute;border-left: 1px solid gray;box-sizing: border-box;top: 0;bottom: 0;left: 50%;z-index: -1;}#sk-container-id-18 div.sk-parallel-item {display: flex;flex-direction: column;z-index: 1;position: relative;background-color: white;}#sk-container-id-18 div.sk-parallel-item:first-child::after {align-self: flex-end;width: 50%;}#sk-container-id-18 div.sk-parallel-item:last-child::after {align-self: flex-start;width: 50%;}#sk-container-id-18 div.sk-parallel-item:only-child::after {width: 0;}#sk-container-id-18 div.sk-dashed-wrapped {border: 1px dashed gray;margin: 0 0.4em 0.5em 0.4em;box-sizing: border-box;padding-bottom: 0.4em;background-color: white;}#sk-container-id-18 div.sk-label label {font-family: monospace;font-weight: bold;display: inline-block;line-height: 1.2em;}#sk-container-id-18 div.sk-label-container {text-align: center;}#sk-container-id-18 div.sk-container {/* jupyter's `normalize.less` sets `[hidden] { display: none; }` but bootstrap.min.css set `[hidden] { display: none !important; }` so we also need the `!important` here to be able to override the default hidden behavior on the sphinx rendered scikit-learn.org. See: https://github.com/scikit-learn/scikit-learn/issues/21755 */display: inline-block !important;position: relative;}#sk-container-id-18 div.sk-text-repr-fallback {display: none;}</style><div id=\"sk-container-id-18\" class=\"sk-top-container\"><div class=\"sk-text-repr-fallback\"><pre>BayesianRidge()</pre><b>In a Jupyter environment, please rerun this cell to show the HTML representation or trust the notebook. <br />On GitHub, the HTML representation is unable to render, please try loading this page with nbviewer.org.</b></div><div class=\"sk-container\" hidden><div class=\"sk-item\"><div class=\"sk-estimator sk-toggleable\"><input class=\"sk-toggleable__control sk-hidden--visually\" id=\"sk-estimator-id-18\" type=\"checkbox\" checked><label for=\"sk-estimator-id-18\" class=\"sk-toggleable__label sk-toggleable__label-arrow\">BayesianRidge</label><div class=\"sk-toggleable__content\"><pre>BayesianRidge()</pre></div></div></div></div></div>"
      ],
      "text/plain": [
       "BayesianRidge()"
      ]
     },
     "execution_count": 178,
     "metadata": {},
     "output_type": "execute_result"
    }
   ],
   "source": [
    "# Train a Bayesian Ridge Regressor\n",
    "from sklearn.linear_model import BayesianRidge\n",
    "\n",
    "regressor = BayesianRidge()\n",
    "regressor.fit(X_train, y_train)"
   ]
  },
  {
   "cell_type": "code",
   "execution_count": 115,
   "metadata": {},
   "outputs": [
    {
     "data": {
      "text/html": [
       "<style>#sk-container-id-9 {color: black;background-color: white;}#sk-container-id-9 pre{padding: 0;}#sk-container-id-9 div.sk-toggleable {background-color: white;}#sk-container-id-9 label.sk-toggleable__label {cursor: pointer;display: block;width: 100%;margin-bottom: 0;padding: 0.3em;box-sizing: border-box;text-align: center;}#sk-container-id-9 label.sk-toggleable__label-arrow:before {content: \"▸\";float: left;margin-right: 0.25em;color: #696969;}#sk-container-id-9 label.sk-toggleable__label-arrow:hover:before {color: black;}#sk-container-id-9 div.sk-estimator:hover label.sk-toggleable__label-arrow:before {color: black;}#sk-container-id-9 div.sk-toggleable__content {max-height: 0;max-width: 0;overflow: hidden;text-align: left;background-color: #f0f8ff;}#sk-container-id-9 div.sk-toggleable__content pre {margin: 0.2em;color: black;border-radius: 0.25em;background-color: #f0f8ff;}#sk-container-id-9 input.sk-toggleable__control:checked~div.sk-toggleable__content {max-height: 200px;max-width: 100%;overflow: auto;}#sk-container-id-9 input.sk-toggleable__control:checked~label.sk-toggleable__label-arrow:before {content: \"▾\";}#sk-container-id-9 div.sk-estimator input.sk-toggleable__control:checked~label.sk-toggleable__label {background-color: #d4ebff;}#sk-container-id-9 div.sk-label input.sk-toggleable__control:checked~label.sk-toggleable__label {background-color: #d4ebff;}#sk-container-id-9 input.sk-hidden--visually {border: 0;clip: rect(1px 1px 1px 1px);clip: rect(1px, 1px, 1px, 1px);height: 1px;margin: -1px;overflow: hidden;padding: 0;position: absolute;width: 1px;}#sk-container-id-9 div.sk-estimator {font-family: monospace;background-color: #f0f8ff;border: 1px dotted black;border-radius: 0.25em;box-sizing: border-box;margin-bottom: 0.5em;}#sk-container-id-9 div.sk-estimator:hover {background-color: #d4ebff;}#sk-container-id-9 div.sk-parallel-item::after {content: \"\";width: 100%;border-bottom: 1px solid gray;flex-grow: 1;}#sk-container-id-9 div.sk-label:hover label.sk-toggleable__label {background-color: #d4ebff;}#sk-container-id-9 div.sk-serial::before {content: \"\";position: absolute;border-left: 1px solid gray;box-sizing: border-box;top: 0;bottom: 0;left: 50%;z-index: 0;}#sk-container-id-9 div.sk-serial {display: flex;flex-direction: column;align-items: center;background-color: white;padding-right: 0.2em;padding-left: 0.2em;position: relative;}#sk-container-id-9 div.sk-item {position: relative;z-index: 1;}#sk-container-id-9 div.sk-parallel {display: flex;align-items: stretch;justify-content: center;background-color: white;position: relative;}#sk-container-id-9 div.sk-item::before, #sk-container-id-9 div.sk-parallel-item::before {content: \"\";position: absolute;border-left: 1px solid gray;box-sizing: border-box;top: 0;bottom: 0;left: 50%;z-index: -1;}#sk-container-id-9 div.sk-parallel-item {display: flex;flex-direction: column;z-index: 1;position: relative;background-color: white;}#sk-container-id-9 div.sk-parallel-item:first-child::after {align-self: flex-end;width: 50%;}#sk-container-id-9 div.sk-parallel-item:last-child::after {align-self: flex-start;width: 50%;}#sk-container-id-9 div.sk-parallel-item:only-child::after {width: 0;}#sk-container-id-9 div.sk-dashed-wrapped {border: 1px dashed gray;margin: 0 0.4em 0.5em 0.4em;box-sizing: border-box;padding-bottom: 0.4em;background-color: white;}#sk-container-id-9 div.sk-label label {font-family: monospace;font-weight: bold;display: inline-block;line-height: 1.2em;}#sk-container-id-9 div.sk-label-container {text-align: center;}#sk-container-id-9 div.sk-container {/* jupyter's `normalize.less` sets `[hidden] { display: none; }` but bootstrap.min.css set `[hidden] { display: none !important; }` so we also need the `!important` here to be able to override the default hidden behavior on the sphinx rendered scikit-learn.org. See: https://github.com/scikit-learn/scikit-learn/issues/21755 */display: inline-block !important;position: relative;}#sk-container-id-9 div.sk-text-repr-fallback {display: none;}</style><div id=\"sk-container-id-9\" class=\"sk-top-container\"><div class=\"sk-text-repr-fallback\"><pre>AdaBoostRegressor(learning_rate=0.1, loss=&#x27;square&#x27;, n_estimators=100,\n",
       "                  random_state=0)</pre><b>In a Jupyter environment, please rerun this cell to show the HTML representation or trust the notebook. <br />On GitHub, the HTML representation is unable to render, please try loading this page with nbviewer.org.</b></div><div class=\"sk-container\" hidden><div class=\"sk-item\"><div class=\"sk-estimator sk-toggleable\"><input class=\"sk-toggleable__control sk-hidden--visually\" id=\"sk-estimator-id-9\" type=\"checkbox\" checked><label for=\"sk-estimator-id-9\" class=\"sk-toggleable__label sk-toggleable__label-arrow\">AdaBoostRegressor</label><div class=\"sk-toggleable__content\"><pre>AdaBoostRegressor(learning_rate=0.1, loss=&#x27;square&#x27;, n_estimators=100,\n",
       "                  random_state=0)</pre></div></div></div></div></div>"
      ],
      "text/plain": [
       "AdaBoostRegressor(learning_rate=0.1, loss='square', n_estimators=100,\n",
       "                  random_state=0)"
      ]
     },
     "execution_count": 115,
     "metadata": {},
     "output_type": "execute_result"
    }
   ],
   "source": [
    "# Train an AdaBoost Regressor\n",
    "from sklearn.ensemble import AdaBoostRegressor\n",
    "\n",
    "regressor = AdaBoostRegressor(n_estimators=100, random_state=0, loss='square', learning_rate=0.1)\n",
    "regressor.fit(X_train, y_train)"
   ]
  },
  {
   "cell_type": "code",
   "execution_count": 271,
   "metadata": {},
   "outputs": [
    {
     "name": "stdout",
     "output_type": "stream",
     "text": [
      "Node 0 has MSE 39.05251244907231\n",
      "Node 1 has MSE 69.86776859504243\n",
      "Node 2 has MSE 38.20408163265165\n",
      "Node 3 has MSE 7.25\n",
      "Node 4 has MSE 1.0\n",
      "Node 5 has MSE 0.0\n",
      "Node 6 has MSE 0.0\n",
      "Node 7 has MSE 1.0\n",
      "Node 8 has MSE 0.0\n",
      "Node 9 has MSE 0.0\n",
      "Node 10 has MSE 8.222222222221717\n",
      "Node 11 has MSE 2.25\n",
      "Node 12 has MSE 0.0\n",
      "Node 13 has MSE 0.0\n",
      "Node 14 has MSE 0.0\n",
      "Node 15 has MSE 1.1875\n",
      "Node 16 has MSE 0.22222222222080745\n",
      "Node 17 has MSE 0.0\n",
      "Node 18 has MSE 0.0\n",
      "Node 19 has MSE 0.0\n",
      "Node 20 has MSE 26.458121643201594\n",
      "Node 21 has MSE 34.97633136094737\n",
      "Node 22 has MSE 34.51555555555569\n",
      "Node 23 has MSE 15.58333333333394\n",
      "Node 24 has MSE 0.0\n",
      "Node 25 has MSE 0.6875\n",
      "Node 26 has MSE 0.25\n",
      "Node 27 has MSE 0.0\n",
      "Node 28 has MSE 0.0\n",
      "Node 29 has MSE 0.0\n",
      "Node 30 has MSE 19.728395061727497\n",
      "Node 31 has MSE 5.836734693877588\n",
      "Node 32 has MSE 0.0\n",
      "Node 33 has MSE 2.2222222222226264\n",
      "Node 34 has MSE 1.25\n",
      "Node 35 has MSE 0.25\n",
      "Node 36 has MSE 0.0\n",
      "Node 37 has MSE 0.0\n",
      "Node 38 has MSE 0.25\n",
      "Node 39 has MSE 0.0\n",
      "Node 40 has MSE 0.0\n",
      "Node 41 has MSE 0.0\n",
      "Node 42 has MSE 0.25\n",
      "Node 43 has MSE 0.0\n",
      "Node 44 has MSE 0.0\n",
      "Node 45 has MSE 18.363636363636033\n",
      "Node 46 has MSE 5.359375\n",
      "Node 47 has MSE 0.25\n",
      "Node 48 has MSE 0.0\n",
      "Node 49 has MSE 0.0\n",
      "Node 50 has MSE 2.0\n",
      "Node 51 has MSE 0.1875\n",
      "Node 52 has MSE 0.0\n",
      "Node 53 has MSE 0.0\n",
      "Node 54 has MSE 2.25\n",
      "Node 55 has MSE 0.0\n",
      "Node 56 has MSE 0.0\n",
      "Node 57 has MSE 18.66666666666606\n",
      "Node 58 has MSE 0.0\n",
      "Node 59 has MSE 1.0\n",
      "Node 60 has MSE 0.0\n",
      "Node 61 has MSE 0.0\n",
      "Node 62 has MSE 19.793782702370663\n",
      "Node 63 has MSE 17.01406035665059\n",
      "Node 64 has MSE 25.107750472589032\n",
      "Node 65 has MSE 18.404432132963848\n",
      "Node 66 has MSE 0.0\n",
      "Node 67 has MSE 12.66666666666788\n",
      "Node 68 has MSE 4.899408284025412\n",
      "Node 69 has MSE 0.16000000000167347\n",
      "Node 70 has MSE 0.0\n",
      "Node 71 has MSE 0.0\n",
      "Node 72 has MSE 3.984375\n",
      "Node 73 has MSE 1.5555555555547471\n",
      "Node 74 has MSE 0.0\n",
      "Node 75 has MSE 0.25\n",
      "Node 76 has MSE 1.7600000000002183\n",
      "Node 77 has MSE 0.0\n",
      "Node 78 has MSE 0.6875\n",
      "Node 79 has MSE 11.44000000000051\n",
      "Node 80 has MSE 0.0\n",
      "Node 81 has MSE 1.5\n",
      "Node 82 has MSE 0.22222222222444543\n",
      "Node 83 has MSE 0.0\n",
      "Node 84 has MSE 0.0\n",
      "Node 85 has MSE 0.0\n",
      "Node 86 has MSE 7.5\n",
      "Node 87 has MSE 2.25\n",
      "Node 88 has MSE 0.0\n",
      "Node 89 has MSE 0.0\n",
      "Node 90 has MSE 0.25\n",
      "Node 91 has MSE 0.0\n",
      "Node 92 has MSE 0.0\n",
      "Node 93 has MSE 6.763787721123663\n",
      "Node 94 has MSE 10.0\n",
      "Node 95 has MSE 0.0\n",
      "Node 96 has MSE 1.25\n",
      "Node 97 has MSE 0.25\n",
      "Node 98 has MSE 0.0\n",
      "Node 99 has MSE 0.0\n",
      "Node 100 has MSE 0.25\n",
      "Node 101 has MSE 0.0\n",
      "Node 102 has MSE 0.0\n",
      "Node 103 has MSE 3.254437869822141\n",
      "Node 104 has MSE 2.639999999999418\n",
      "Node 105 has MSE 2.647500000000946\n",
      "Node 106 has MSE 0.0\n",
      "Node 107 has MSE 2.271468144042956\n",
      "Node 108 has MSE 2.18359375\n",
      "Node 109 has MSE 1.0499999999992724\n",
      "Node 110 has MSE 2.6666666666660603\n",
      "Node 111 has MSE 0.22222222222080745\n",
      "Node 112 has MSE 0.0\n",
      "Node 113 has MSE 0.0\n",
      "Node 114 has MSE 0.16000000000167347\n",
      "Node 115 has MSE 0.0\n",
      "Node 116 has MSE 0.0\n",
      "Node 117 has MSE 0.0\n",
      "Node 118 has MSE 20.66666666666697\n",
      "Node 119 has MSE 4.0\n",
      "Node 120 has MSE 0.0\n",
      "Node 121 has MSE 0.0\n",
      "Node 122 has MSE 0.0\n"
     ]
    }
   ],
   "source": [
    "extracted_MSEs = regressor.tree_.impurity   \n",
    "for idx, MSE in enumerate(regressor.tree_.impurity):\n",
    "    print(\"Node {} has MSE {}\".format(idx,MSE))"
   ]
  },
  {
   "cell_type": "code",
   "execution_count": 260,
   "metadata": {},
   "outputs": [],
   "source": [
    "# # Plotting the Tree \n",
    "# import graphviz\n",
    "# dot_data = tree.export_graphviz(regressor, out_file=None, feature_names=temp_df.columns[1:-1])\n",
    "# graph = graphviz.Source(dot_data)\n",
    "# graph.render(\"hw\")"
   ]
  },
  {
   "cell_type": "code",
   "execution_count": 183,
   "metadata": {},
   "outputs": [
    {
     "name": "stdout",
     "output_type": "stream",
     "text": [
      "MSE Train: 28.28161907956936\n",
      "MSE TEST: 34.36161570762547\n",
      "R2 Train: 0.10385142077047016\n",
      "R2 TEST: 0.06744845529787225\n"
     ]
    }
   ],
   "source": [
    "# Prediction\n",
    "y_train_pred = regressor.predict(X_train)\n",
    "y_test_pred = regressor.predict(X_test)\n",
    "\n",
    "# Calculation of Mean Squared Error (MSE)\n",
    "print(\"MSE Train:\", mean_squared_error(y_train,y_train_pred))\n",
    "print(\"MSE TEST:\", mean_squared_error(y_test,y_test_pred))\n",
    "\n",
    "print(\"R2 Train:\", r2_score(y_train,y_train_pred))\n",
    "print(\"R2 TEST:\", r2_score(y_test,y_test_pred))\n"
   ]
  },
  {
   "cell_type": "code",
   "execution_count": 184,
   "metadata": {},
   "outputs": [
    {
     "name": "stdout",
     "output_type": "stream",
     "text": [
      "MSE Train: 28.377310853546508\n",
      "MSE TEST: 33.5814545484359\n",
      "R2 Train: 0.10081927303337257\n",
      "R2 TEST: 0.08862151364033499\n"
     ]
    },
    {
     "name": "stderr",
     "output_type": "stream",
     "text": [
      "c:\\Users\\salih\\AppData\\Local\\Programs\\Python\\Python310\\lib\\site-packages\\sklearn\\ensemble\\_base.py:166: FutureWarning: `base_estimator` was renamed to `estimator` in version 1.2 and will be removed in 1.4.\n",
      "  warnings.warn(\n"
     ]
    }
   ],
   "source": [
    "from sklearn.ensemble import BaggingRegressor\n",
    "\n",
    "# Create a BaggingRegressor object\n",
    "bagging = BaggingRegressor(base_estimator=regressor, n_estimators=20, random_state=0)\n",
    "\n",
    "# Fit the model\n",
    "bagging.fit(X_train, y_train)\n",
    "\n",
    "# Make predictions\n",
    "y_train_pred = bagging.predict(X_train)\n",
    "y_test_pred = bagging.predict(X_test)\n",
    "\n",
    "# Calculation of Mean Squared Error (MSE)\n",
    "print(\"MSE Train:\", mean_squared_error(y_train,y_train_pred))\n",
    "print(\"MSE TEST:\", mean_squared_error(y_test,y_test_pred))\n",
    "\n",
    "print(\"R2 Train:\", r2_score(y_train,y_train_pred))\n",
    "print(\"R2 TEST:\", r2_score(y_test,y_test_pred))"
   ]
  },
  {
   "cell_type": "code",
   "execution_count": 185,
   "metadata": {},
   "outputs": [
    {
     "data": {
      "image/png": "[encoded data removed]",
      "text/plain": [
       "<Figure size 640x480 with 1 Axes>"
      ]
     },
     "metadata": {},
     "output_type": "display_data"
    }
   ],
   "source": [
    "import matplotlib.pyplot as plt\n",
    "\n",
    "# Assume y_test are your real values and y_pred are your predicted values\n",
    "\n",
    "# Create a scatter plot of the real vs. predicted values\n",
    "plt.scatter(y_test, y_test_pred)\n",
    "\n",
    "\n",
    "# Create a line representing perfect predictions\n",
    "plt.plot([y_test.min(), y_test.max()], [y_test.min(), y_test.max()], 'k--', lw=4)\n",
    "\n",
    "# Set the labels for the x and y axes\n",
    "plt.xlabel('Real Values')\n",
    "plt.ylabel('Predicted Values')\n",
    "\n",
    "# Set the title of the plot\n",
    "plt.title('Real vs. Predicted Values')\n",
    "\n",
    "# Show the plot\n",
    "plt.show()"
   ]
  }
 ],
 "metadata": {
  "kernelspec": {
   "display_name": "venv",
   "language": "python",
   "name": "python3"
  },
  "language_info": {
   "codemirror_mode": {
    "name": "ipython",
    "version": 3
   },
   "file_extension": ".py",
   "mimetype": "text/x-python",
   "name": "python",
   "nbconvert_exporter": "python",
   "pygments_lexer": "ipython3",
   "version": "3.10.4"
  }
 },
 "nbformat": 4,
 "nbformat_minor": 2
}
