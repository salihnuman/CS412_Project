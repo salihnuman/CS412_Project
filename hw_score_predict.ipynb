{
 "cells": [
  {
   "cell_type": "code",
   "execution_count": 1,
   "metadata": {},
   "outputs": [],
   "source": [
    "import os\n",
    "import re\n",
    "import os\n",
    "import tqdm\n",
    "from glob import glob\n",
    "from pathlib import Path\n",
    "\n",
    "import matplotlib.pyplot as plt\n",
    "import pandas as pd\n",
    "import numpy as np\n",
    "from pprint import pprint\n",
    "\n",
    "from collections import defaultdict\n",
    "from bs4 import BeautifulSoup\n",
    "\n",
    "from sklearn.feature_extraction.text import TfidfVectorizer\n",
    "from sklearn.metrics.pairwise import cosine_similarity\n",
    "\n",
    "from sklearn import tree\n",
    "from sklearn.tree import DecisionTreeRegressor\n",
    "from sklearn.model_selection import train_test_split \n",
    "from sklearn.metrics import mean_squared_error, r2_score\n"
   ]
  },
  {
   "cell_type": "code",
   "execution_count": 2,
   "metadata": {},
   "outputs": [
    {
     "name": "stderr",
     "output_type": "stream",
     "text": [
      "  1%|          | 1/127 [00:00<00:23,  5.29it/s]"
     ]
    },
    {
     "name": "stderr",
     "output_type": "stream",
     "text": [
      "100%|██████████| 127/127 [00:30<00:00,  4.11it/s]\n"
     ]
    }
   ],
   "source": [
    "data_path = \"../dataset/dataset/*.html\"\n",
    "\n",
    "code2convos = dict()\n",
    "\n",
    "pbar = tqdm.tqdm(sorted(list(glob(data_path))))\n",
    "for path in pbar:\n",
    "    # print(Path.cwd() / path)\n",
    "    file_code = os.path.basename(path).split(\".\")[0]\n",
    "    with open(path, \"r\", encoding=\"latin1\") as fh:\n",
    "            \n",
    "        # get the file id to use it as key later on\n",
    "        fid = os.path.basename(path).split(\".\")[0]\n",
    "\n",
    "        # read the html file\n",
    "        html_page = fh.read()\n",
    "\n",
    "        # parse the html file with bs4 so we can extract needed stuff\n",
    "        soup = BeautifulSoup(html_page, \"html.parser\")\n",
    "\n",
    "        # grab the conversations with the data-testid pattern\n",
    "        data_test_id_pattern = re.compile(r\"conversation-turn-[0-9]+\")\n",
    "        conversations = soup.find_all(\"div\", attrs={\"data-testid\": data_test_id_pattern})\n",
    "\n",
    "        convo_texts = []\n",
    "\n",
    "        for i, convo in enumerate(conversations):\n",
    "            convo = convo.find_all(\"div\", attrs={\"data-message-author-role\":re.compile( r\"[user|assistant]\") })\n",
    "            if len(convo) > 0:\n",
    "                role = convo[0].get(\"data-message-author-role\")\n",
    "                convo_texts.append({\n",
    "                        \"role\" : role,\n",
    "                        \"text\" : convo[0].text\n",
    "                    }\n",
    "                )\n",
    "                \n",
    "        code2convos[file_code] = convo_texts"
   ]
  },
  {
   "cell_type": "code",
   "execution_count": 3,
   "metadata": {},
   "outputs": [
    {
     "name": "stdout",
     "output_type": "stream",
     "text": [
      "{'role': 'user',\n",
      " 'text': 'Load a CSV file into a Pandas in Python. The file is named '\n",
      "         \"'cs412_hw1_dataset.csv' and contains columns like 'Species', \"\n",
      "         \"'Island', 'Sex', 'Diet', 'Year', 'Life Stage', 'Body Mass (g)', \"\n",
      "         \"'Bill Length (mm)', 'Bill Depth (mm)', 'Flipper Length (mm)', and \"\n",
      "         \"'Health Metrics'. \\n\"}\n"
     ]
    }
   ],
   "source": [
    "# let's see one of the conversations\n",
    "pprint(code2convos[\"0031c86e-81f4-4eef-9e0e-28037abf9883\"][0])"
   ]
  },
  {
   "cell_type": "markdown",
   "metadata": {},
   "source": [
    "#### Things to do:\n",
    "- Prompt matching with questions\n",
    "- Feature Engineering\n",
    "- Question Grades preparation\n",
    "- Train/Test split\n",
    "- Fitting a model for predicting the scores"
   ]
  },
  {
   "cell_type": "markdown",
   "metadata": {},
   "source": [
    "#### Prompt Matching\n",
    "> We want to match the prompts with the questions in the Homework Let's\n",
    "> do it with a simple term frequency vectorizing method. For each prompt,\n",
    "> we will come with a vector that represents it. We will do the same\n",
    "> thing with each of the homework questions. Then, we will calculate the\n",
    "> vectors distanance to do the matching"
   ]
  },
  {
   "cell_type": "code",
   "execution_count": 4,
   "metadata": {},
   "outputs": [],
   "source": [
    "prompts = []\n",
    "code2prompts = defaultdict(list)\n",
    "for code , convos in code2convos.items():\n",
    "    user_prompts = []\n",
    "    for conv in convos:\n",
    "        if conv[\"role\"] == \"user\":\n",
    "            prompts.append(conv[\"text\"])\n",
    "            user_prompts.append(conv[\"text\"])\n",
    "    code2prompts[code] = user_prompts    "
   ]
  },
  {
   "cell_type": "code",
   "execution_count": 6,
   "metadata": {},
   "outputs": [
    {
     "data": {
      "text/plain": [
       "\"Load a CSV file into a Pandas in Python. The file is named 'cs412_hw1_dataset.csv' and contains columns like 'Species', 'Island', 'Sex', 'Diet', 'Year', 'Life Stage', 'Body Mass (g)', 'Bill Length (mm)', 'Bill Depth (mm)', 'Flipper Length (mm)', and 'Health Metrics'. \\n\""
      ]
     },
     "execution_count": 6,
     "metadata": {},
     "output_type": "execute_result"
    }
   ],
   "source": [
    "prompts[0]"
   ]
  },
  {
   "cell_type": "code",
   "execution_count": 7,
   "metadata": {},
   "outputs": [],
   "source": [
    "questions = [\n",
    "    \"\"\"Initialize\n",
    "*   First make a copy of the notebook given to you as a starter.\n",
    "*   Make sure you choose Connect form upper right.\n",
    "*   You may upload the data to the section on your left on Colab, than right click on the .csv file and get the path of the file by clicking on \"Copy Path\". You will be using it when loading the data.\n",
    "\n",
    "\"\"\",\n",
    "#####################\n",
    "    \"\"\"Load training dataset (5 pts)\n",
    "    *  Read the .csv file with the pandas library\n",
    "\"\"\",\n",
    "#####################\n",
    "\"\"\"Understanding the dataset & Preprocessing (15 pts)\n",
    "Understanding the Dataset: (5 pts)\n",
    "> - Find the shape of the dataset (number of samples & number of attributes). (Hint: You can use the **shape** function)\n",
    "> - Display variable names (both dependent and independent).\n",
    "> - Display the summary of the dataset. (Hint: You can use the **info** function)\n",
    "> - Display the first 5 rows from training dataset. (Hint: You can use the **head** function)\n",
    "Preprocessing: (10 pts)\n",
    "\n",
    "> - Check if there are any missing values in the dataset. If there are, you can either drop these values or fill it with most common values in corresponding rows. **Be careful that you have enough data for training the  model.**\n",
    "\n",
    "> - Encode categorical labels with the mappings given in the cell below. (Hint: You can use **map** function)\n",
    "\"\"\",\n",
    "#####################\n",
    "\"\"\"Set X & y, split data (5 pts)\n",
    "\n",
    "*   Shuffle the dataset.\n",
    "*   Seperate your dependent variable X, and your independent variable y. The column health_metrics is y, the rest is X.\n",
    "*   Split training and test sets as 80% and 20%, respectively.\n",
    "\"\"\",\n",
    "#####################\n",
    "\"\"\"Features and Correlations (10 pts)\n",
    "\n",
    "* Correlations of features with health (4 points)\n",
    "Calculate the correlations for all features in dataset. Highlight any strong correlations with the target variable. Plot your results in a heatmap.\n",
    "\n",
    "* Feature Selection (3 points)\n",
    "Select a subset of features that are likely strong predictors, justifying your choices based on the computed correlations.\n",
    "\n",
    "* Hypothetical Driver Features (3 points)\n",
    "Propose two hypothetical features that could enhance the model's predictive accuracy for Y, explaining how they might be derived and their expected impact. Show the resulting correlations with target variable.\n",
    "\n",
    "* __Note:__ You get can get help from GPT.\n",
    "\"\"\",\n",
    "#####################\n",
    "\"\"\"Tune Hyperparameters (20 pts)\n",
    "* Choose 2 hyperparameters to tune. You can use the Scikit learn decision tree documentation for the available hyperparameters *(Hyperparameters are listed under \"Parameters\" in the documentation)*. Use GridSearchCV for hyperparameter tuning, with a cross-validation value of 5. Use validation accuracy to pick the best hyper-parameter values. (15 pts)\n",
    "-Explain the hyperparameters you chose to tune. *(What are the hyperparameters you chose? Why did you choose them?)* (5 pts)\n",
    "\"\"\",\n",
    "#####################\n",
    "\"\"\"Re-train and plot the decision tree with the hyperparameters you have chosen (15 pts)\n",
    "- Re-train model with the hyperparameters you have chosen in part 5). (10 pts)\n",
    "- Plot the tree you have trained. (5 pts)\n",
    "Hint: You can import the **plot_tree** function from the sklearn library.\n",
    "\"\"\",\n",
    "#####################\n",
    "\"\"\"Test your classifier on the test set (20 pts)\n",
    "- Predict the labels of testing data using the tree you have trained in step 6. (10 pts)\n",
    "- Report the classification accuracy. (2 pts)\n",
    "- Plot & investigate the confusion matrix. Fill the following blanks. (8 pts)\n",
    "> The model most frequently mistakes class(es) _________ for class(es) _________.\n",
    "Hint: You can use the confusion_matrix function from sklearn.metrics\n",
    "\"\"\",\n",
    "#####################\n",
    "\"\"\"Find the information gain on the first split (10 pts)\"\"\",\n",
    "#####################\n",
    "]"
   ]
  },
  {
   "cell_type": "markdown",
   "metadata": {},
   "source": [
    "## Pre-Processing the Data"
   ]
  },
  {
   "cell_type": "code",
   "execution_count": 8,
   "metadata": {},
   "outputs": [],
   "source": [
    "# Convert to lower case\n",
    "code2prompts_proc = defaultdict(list)\n",
    "def convert2lowercase(text):\n",
    "    return text.lower()\n",
    "\n",
    "\n",
    "for code, user_prompts in code2prompts.items():\n",
    "    code2prompts_proc[code] = [convert2lowercase(text) for text in user_prompts]\n",
    "\n",
    "prompts = [convert2lowercase(text) for text in prompts]\n",
    "questions = [convert2lowercase(text) for text in questions]"
   ]
  },
  {
   "cell_type": "code",
   "execution_count": 9,
   "metadata": {},
   "outputs": [
    {
     "name": "stderr",
     "output_type": "stream",
     "text": [
      "[nltk_data] Downloading package punkt to\n",
      "[nltk_data]     C:\\Users\\salih\\AppData\\Roaming\\nltk_data...\n",
      "[nltk_data]   Package punkt is already up-to-date!\n",
      "[nltk_data] Downloading package stopwords to\n",
      "[nltk_data]     C:\\Users\\salih\\AppData\\Roaming\\nltk_data...\n",
      "[nltk_data]   Package stopwords is already up-to-date!\n"
     ]
    },
    {
     "data": {
      "text/plain": [
       "True"
      ]
     },
     "execution_count": 9,
     "metadata": {},
     "output_type": "execute_result"
    }
   ],
   "source": [
    "import nltk\n",
    "from nltk.tokenize import word_tokenize\n",
    "\n",
    "nltk.download(\"punkt\")\n",
    "nltk.download(\"stopwords\")"
   ]
  },
  {
   "cell_type": "code",
   "execution_count": 10,
   "metadata": {},
   "outputs": [],
   "source": [
    "import string\n",
    "\n",
    "def remove_punc(text):\n",
    "    translator = str.maketrans('', '', string.punctuation)\n",
    "    return text.translate(translator)\n",
    "\n",
    "for code, user_prompts in code2prompts_proc.items():\n",
    "    code2prompts_proc[code] = [remove_punc(text) for text in user_prompts]\n",
    "\n",
    "prompts = [remove_punc(text) for text in prompts]\n",
    "questions = [remove_punc(text) for text in questions]"
   ]
  },
  {
   "cell_type": "code",
   "execution_count": 11,
   "metadata": {},
   "outputs": [
    {
     "data": {
      "text/plain": [
       "'load a csv file into a pandas in python the file is named cs412hw1datasetcsv and contains columns like species island sex diet year life stage body mass g bill length mm bill depth mm flipper length mm and health metrics \\n'"
      ]
     },
     "execution_count": 11,
     "metadata": {},
     "output_type": "execute_result"
    }
   ],
   "source": [
    "code2prompts_proc[\"0031c86e-81f4-4eef-9e0e-28037abf9883\"][0]"
   ]
  },
  {
   "cell_type": "code",
   "execution_count": 12,
   "metadata": {},
   "outputs": [],
   "source": [
    "# Tokenize the prompts\n",
    "def tokenize(text):\n",
    "    return word_tokenize(text)\n",
    "\n",
    "for code, user_prompts in code2prompts_proc.items():\n",
    "    code2prompts_proc[code] = [tokenize(text) for text in user_prompts]\n",
    "\n",
    "prompts = [tokenize(text) for text in prompts]\n",
    "questions = [tokenize(text) for text in questions]"
   ]
  },
  {
   "cell_type": "code",
   "execution_count": 13,
   "metadata": {},
   "outputs": [
    {
     "data": {
      "text/plain": [
       "['load', 'a', 'csv', 'file', 'into']"
      ]
     },
     "execution_count": 13,
     "metadata": {},
     "output_type": "execute_result"
    }
   ],
   "source": [
    "code2prompts_proc[\"0031c86e-81f4-4eef-9e0e-28037abf9883\"][0][:5]"
   ]
  },
  {
   "cell_type": "code",
   "execution_count": 14,
   "metadata": {},
   "outputs": [],
   "source": [
    "# Remove stop words\n",
    "from nltk.corpus import stopwords\n",
    "\n",
    "stopwordsList= set(stopwords.words('english'))\n",
    "\n",
    "def remove_stopwords(tokenized_text):\n",
    "    return [word for word in tokenized_text if word not in stopwordsList]\n",
    "\n",
    "for code, user_prompts in code2prompts_proc.items():\n",
    "    code2prompts_proc[code] = [remove_stopwords(text) for text in user_prompts]\n",
    "\n",
    "prompts = [remove_stopwords(text) for text in prompts]\n",
    "questions = [remove_stopwords(text) for text in questions]"
   ]
  },
  {
   "cell_type": "code",
   "execution_count": 15,
   "metadata": {},
   "outputs": [
    {
     "name": "stdout",
     "output_type": "stream",
     "text": [
      "['load', 'csv', 'file', 'pandas', 'python', 'file', 'named']\n",
      "['initialize', 'first', 'make', 'copy', 'notebook', 'given', 'starter']\n"
     ]
    }
   ],
   "source": [
    "print(code2prompts_proc[\"0031c86e-81f4-4eef-9e0e-28037abf9883\"][0][:7])\n",
    "print(questions[0][:7])"
   ]
  },
  {
   "cell_type": "code",
   "execution_count": 16,
   "metadata": {},
   "outputs": [],
   "source": [
    "# Apply Stemming\n",
    "from nltk.stem import SnowballStemmer\n",
    "\n",
    "stemmer = SnowballStemmer('english')\n",
    "\n",
    "def stemming(tokenized_text):\n",
    "    joined_text = ' '.join(tokenized_text)\n",
    "    \n",
    "    tokenized = word_tokenize(joined_text)\n",
    "    \n",
    "    stemmed = [stemmer.stem(word) for word in tokenized]\n",
    "    return stemmed\n",
    "\n",
    "for code, user_prompts in code2prompts_proc.items():\n",
    "    code2prompts_proc[code] = [stemming(text) for text in user_prompts]\n",
    "\n",
    "prompts = [stemming(text) for text in prompts]\n",
    "questions = [stemming(text) for text in questions]"
   ]
  },
  {
   "cell_type": "code",
   "execution_count": 17,
   "metadata": {},
   "outputs": [
    {
     "name": "stdout",
     "output_type": "stream",
     "text": [
      "['load', 'csv', 'file', 'panda', 'python', 'file', 'name']\n",
      "['initi', 'first', 'make', 'copi', 'notebook', 'given', 'starter']\n"
     ]
    }
   ],
   "source": [
    "print(code2prompts_proc[\"0031c86e-81f4-4eef-9e0e-28037abf9883\"][0][:7])\n",
    "print(questions[0][:7])"
   ]
  },
  {
   "cell_type": "code",
   "execution_count": 20,
   "metadata": {},
   "outputs": [],
   "source": [
    "def joinThemAll(tokenized_text):\n",
    "    return ' '.join(tokenized_text)\n",
    "\n",
    "for code, user_prompts in code2prompts_proc.items():\n",
    "    code2prompts_proc[code] = [joinThemAll(text) for text in user_prompts]\n",
    "\n",
    "prompts = [joinThemAll(text) for text in prompts]\n",
    "questions = [joinThemAll(text) for text in questions]"
   ]
  },
  {
   "cell_type": "code",
   "execution_count": 21,
   "metadata": {},
   "outputs": [
    {
     "name": "stdout",
     "output_type": "stream",
     "text": [
      "load csv file panda python file name cs412hw1datasetcsv contain column like speci island sex diet year life stage bodi mass g bill length mm bill depth mm flipper length mm health metric\n",
      "initi first make copi notebook given starter make sure choos connect form upper right may upload data section left colab right click csv file get path file click copi path use load data\n"
     ]
    }
   ],
   "source": [
    "print(code2prompts_proc[\"0031c86e-81f4-4eef-9e0e-28037abf9883\"][0])\n",
    "print(questions[0])"
   ]
  },
  {
   "cell_type": "markdown",
   "metadata": {},
   "source": [
    "## Fit the Vectorizers"
   ]
  },
  {
   "cell_type": "code",
   "execution_count": 22,
   "metadata": {},
   "outputs": [],
   "source": [
    "vectorizer = TfidfVectorizer(ngram_range=(1, 3), max_features=500)\n",
    "vectorizer = vectorizer.fit(prompts + questions)"
   ]
  },
  {
   "cell_type": "code",
   "execution_count": 23,
   "metadata": {},
   "outputs": [],
   "source": [
    "# Bag of Words Approach\n",
    "\n",
    "from sklearn.feature_extraction.text import CountVectorizer\n",
    "vectorizer_BoW = CountVectorizer(ngram_range=(1, 3), max_features=500)\n",
    "vectorizer_BoW = vectorizer_BoW.fit(prompts + questions)"
   ]
  },
  {
   "cell_type": "code",
   "execution_count": 24,
   "metadata": {},
   "outputs": [
    {
     "name": "stderr",
     "output_type": "stream",
     "text": [
      "c:\\Users\\salih\\AppData\\Local\\Programs\\Python\\Python310\\lib\\site-packages\\requests\\__init__.py:102: RequestsDependencyWarning: urllib3 (1.26.12) or chardet (5.0.0)/charset_normalizer (2.0.12) doesn't match a supported version!\n",
      "  warnings.warn(\"urllib3 ({}) or chardet ({})/charset_normalizer ({}) doesn't match a supported \"\n"
     ]
    }
   ],
   "source": [
    "# Word2Vec Approach\n",
    "\n",
    "from gensim.models import Word2Vec\n",
    "questions_and_prompts_and_answers = [sentence.split() for sentence in prompts + questions]\n",
    "\n",
    "vector_size = 500               # These can be tuned\n",
    "window = 5\n",
    "min_count = 5\n",
    "\n",
    "w2v_model = Word2Vec(\n",
    "    questions_and_prompts_and_answers,\n",
    "    vector_size=vector_size,\n",
    "    window=window,\n",
    "    min_count=min_count,\n",
    "    workers=4)\n",
    "\n",
    "\n",
    "def vectorize(q_and_p_and_a, model):\n",
    "    word_vectors = [model.wv[word] for word in q_and_p_and_a if word in model.wv]\n",
    "\n",
    "    if not word_vectors:\n",
    "        return np.zeros(model.vector_size)  # Return zero vector if no word vectors are found\n",
    "\n",
    "    avg_vector = np.mean(word_vectors, axis=0)\n",
    "    return avg_vector"
   ]
  },
  {
   "cell_type": "code",
   "execution_count": 25,
   "metadata": {},
   "outputs": [
    {
     "data": {
      "text/html": [
       "<div>\n",
       "<style scoped>\n",
       "    .dataframe tbody tr th:only-of-type {\n",
       "        vertical-align: middle;\n",
       "    }\n",
       "\n",
       "    .dataframe tbody tr th {\n",
       "        vertical-align: top;\n",
       "    }\n",
       "\n",
       "    .dataframe thead th {\n",
       "        text-align: right;\n",
       "    }\n",
       "</style>\n",
       "<table border=\"1\" class=\"dataframe\">\n",
       "  <thead>\n",
       "    <tr style=\"text-align: right;\">\n",
       "      <th></th>\n",
       "      <th>10</th>\n",
       "      <th>10 pts</th>\n",
       "      <th>11</th>\n",
       "      <th>15</th>\n",
       "      <th>15 pts</th>\n",
       "      <th>20</th>\n",
       "      <th>20210</th>\n",
       "      <th>3430</th>\n",
       "      <th>80</th>\n",
       "      <th>accord</th>\n",
       "      <th>...</th>\n",
       "      <th>valueerror</th>\n",
       "      <th>variabl</th>\n",
       "      <th>variabl name</th>\n",
       "      <th>variabl plot</th>\n",
       "      <th>variabl plot result</th>\n",
       "      <th>want</th>\n",
       "      <th>write</th>\n",
       "      <th>year</th>\n",
       "      <th>ypred</th>\n",
       "      <th>ytrain</th>\n",
       "    </tr>\n",
       "  </thead>\n",
       "  <tbody>\n",
       "    <tr>\n",
       "      <th>0</th>\n",
       "      <td>0.000000</td>\n",
       "      <td>0.000000</td>\n",
       "      <td>0.0</td>\n",
       "      <td>0.00000</td>\n",
       "      <td>0.000000</td>\n",
       "      <td>0.000000</td>\n",
       "      <td>0.0</td>\n",
       "      <td>0.0</td>\n",
       "      <td>0.000000</td>\n",
       "      <td>0.0</td>\n",
       "      <td>...</td>\n",
       "      <td>0.0</td>\n",
       "      <td>0.000000</td>\n",
       "      <td>0.000000</td>\n",
       "      <td>0.000000</td>\n",
       "      <td>0.000000</td>\n",
       "      <td>0.0</td>\n",
       "      <td>0.0</td>\n",
       "      <td>0.0</td>\n",
       "      <td>0.0</td>\n",
       "      <td>0.0</td>\n",
       "    </tr>\n",
       "    <tr>\n",
       "      <th>1</th>\n",
       "      <td>0.000000</td>\n",
       "      <td>0.000000</td>\n",
       "      <td>0.0</td>\n",
       "      <td>0.00000</td>\n",
       "      <td>0.000000</td>\n",
       "      <td>0.000000</td>\n",
       "      <td>0.0</td>\n",
       "      <td>0.0</td>\n",
       "      <td>0.000000</td>\n",
       "      <td>0.0</td>\n",
       "      <td>...</td>\n",
       "      <td>0.0</td>\n",
       "      <td>0.000000</td>\n",
       "      <td>0.000000</td>\n",
       "      <td>0.000000</td>\n",
       "      <td>0.000000</td>\n",
       "      <td>0.0</td>\n",
       "      <td>0.0</td>\n",
       "      <td>0.0</td>\n",
       "      <td>0.0</td>\n",
       "      <td>0.0</td>\n",
       "    </tr>\n",
       "    <tr>\n",
       "      <th>2</th>\n",
       "      <td>0.058683</td>\n",
       "      <td>0.068788</td>\n",
       "      <td>0.0</td>\n",
       "      <td>0.07054</td>\n",
       "      <td>0.077123</td>\n",
       "      <td>0.000000</td>\n",
       "      <td>0.0</td>\n",
       "      <td>0.0</td>\n",
       "      <td>0.000000</td>\n",
       "      <td>0.0</td>\n",
       "      <td>...</td>\n",
       "      <td>0.0</td>\n",
       "      <td>0.051383</td>\n",
       "      <td>0.079982</td>\n",
       "      <td>0.000000</td>\n",
       "      <td>0.000000</td>\n",
       "      <td>0.0</td>\n",
       "      <td>0.0</td>\n",
       "      <td>0.0</td>\n",
       "      <td>0.0</td>\n",
       "      <td>0.0</td>\n",
       "    </tr>\n",
       "    <tr>\n",
       "      <th>3</th>\n",
       "      <td>0.000000</td>\n",
       "      <td>0.000000</td>\n",
       "      <td>0.0</td>\n",
       "      <td>0.00000</td>\n",
       "      <td>0.000000</td>\n",
       "      <td>0.158479</td>\n",
       "      <td>0.0</td>\n",
       "      <td>0.0</td>\n",
       "      <td>0.180079</td>\n",
       "      <td>0.0</td>\n",
       "      <td>...</td>\n",
       "      <td>0.0</td>\n",
       "      <td>0.252775</td>\n",
       "      <td>0.000000</td>\n",
       "      <td>0.000000</td>\n",
       "      <td>0.000000</td>\n",
       "      <td>0.0</td>\n",
       "      <td>0.0</td>\n",
       "      <td>0.0</td>\n",
       "      <td>0.0</td>\n",
       "      <td>0.0</td>\n",
       "    </tr>\n",
       "    <tr>\n",
       "      <th>4</th>\n",
       "      <td>0.056852</td>\n",
       "      <td>0.066642</td>\n",
       "      <td>0.0</td>\n",
       "      <td>0.00000</td>\n",
       "      <td>0.000000</td>\n",
       "      <td>0.000000</td>\n",
       "      <td>0.0</td>\n",
       "      <td>0.0</td>\n",
       "      <td>0.000000</td>\n",
       "      <td>0.0</td>\n",
       "      <td>...</td>\n",
       "      <td>0.0</td>\n",
       "      <td>0.099559</td>\n",
       "      <td>0.000000</td>\n",
       "      <td>0.077337</td>\n",
       "      <td>0.077637</td>\n",
       "      <td>0.0</td>\n",
       "      <td>0.0</td>\n",
       "      <td>0.0</td>\n",
       "      <td>0.0</td>\n",
       "      <td>0.0</td>\n",
       "    </tr>\n",
       "  </tbody>\n",
       "</table>\n",
       "<p>5 rows × 500 columns</p>\n",
       "</div>"
      ],
      "text/plain": [
       "         10    10 pts   11       15    15 pts        20  20210  3430  \\\n",
       "0  0.000000  0.000000  0.0  0.00000  0.000000  0.000000    0.0   0.0   \n",
       "1  0.000000  0.000000  0.0  0.00000  0.000000  0.000000    0.0   0.0   \n",
       "2  0.058683  0.068788  0.0  0.07054  0.077123  0.000000    0.0   0.0   \n",
       "3  0.000000  0.000000  0.0  0.00000  0.000000  0.158479    0.0   0.0   \n",
       "4  0.056852  0.066642  0.0  0.00000  0.000000  0.000000    0.0   0.0   \n",
       "\n",
       "         80  accord  ...  valueerror   variabl  variabl name  variabl plot  \\\n",
       "0  0.000000     0.0  ...         0.0  0.000000      0.000000      0.000000   \n",
       "1  0.000000     0.0  ...         0.0  0.000000      0.000000      0.000000   \n",
       "2  0.000000     0.0  ...         0.0  0.051383      0.079982      0.000000   \n",
       "3  0.180079     0.0  ...         0.0  0.252775      0.000000      0.000000   \n",
       "4  0.000000     0.0  ...         0.0  0.099559      0.000000      0.077337   \n",
       "\n",
       "   variabl plot result  want  write  year  ypred  ytrain  \n",
       "0             0.000000   0.0    0.0   0.0    0.0     0.0  \n",
       "1             0.000000   0.0    0.0   0.0    0.0     0.0  \n",
       "2             0.000000   0.0    0.0   0.0    0.0     0.0  \n",
       "3             0.000000   0.0    0.0   0.0    0.0     0.0  \n",
       "4             0.077637   0.0    0.0   0.0    0.0     0.0  \n",
       "\n",
       "[5 rows x 500 columns]"
      ]
     },
     "execution_count": 25,
     "metadata": {},
     "output_type": "execute_result"
    }
   ],
   "source": [
    "questions_TF_IDF = pd.DataFrame(vectorizer.transform(questions).toarray(), columns=vectorizer.get_feature_names_out())\n",
    "questions_TF_IDF.head()"
   ]
  },
  {
   "cell_type": "code",
   "execution_count": 26,
   "metadata": {},
   "outputs": [
    {
     "data": {
      "text/html": [
       "<div>\n",
       "<style scoped>\n",
       "    .dataframe tbody tr th:only-of-type {\n",
       "        vertical-align: middle;\n",
       "    }\n",
       "\n",
       "    .dataframe tbody tr th {\n",
       "        vertical-align: top;\n",
       "    }\n",
       "\n",
       "    .dataframe thead th {\n",
       "        text-align: right;\n",
       "    }\n",
       "</style>\n",
       "<table border=\"1\" class=\"dataframe\">\n",
       "  <thead>\n",
       "    <tr style=\"text-align: right;\">\n",
       "      <th></th>\n",
       "      <th>10</th>\n",
       "      <th>10 pts</th>\n",
       "      <th>11</th>\n",
       "      <th>15</th>\n",
       "      <th>15 pts</th>\n",
       "      <th>20</th>\n",
       "      <th>20210</th>\n",
       "      <th>3430</th>\n",
       "      <th>80</th>\n",
       "      <th>accord</th>\n",
       "      <th>...</th>\n",
       "      <th>valueerror</th>\n",
       "      <th>variabl</th>\n",
       "      <th>variabl name</th>\n",
       "      <th>variabl plot</th>\n",
       "      <th>variabl plot result</th>\n",
       "      <th>want</th>\n",
       "      <th>write</th>\n",
       "      <th>year</th>\n",
       "      <th>ypred</th>\n",
       "      <th>ytrain</th>\n",
       "    </tr>\n",
       "  </thead>\n",
       "  <tbody>\n",
       "    <tr>\n",
       "      <th>0</th>\n",
       "      <td>0</td>\n",
       "      <td>0</td>\n",
       "      <td>0</td>\n",
       "      <td>0</td>\n",
       "      <td>0</td>\n",
       "      <td>0</td>\n",
       "      <td>0</td>\n",
       "      <td>0</td>\n",
       "      <td>0</td>\n",
       "      <td>0</td>\n",
       "      <td>...</td>\n",
       "      <td>0</td>\n",
       "      <td>0</td>\n",
       "      <td>0</td>\n",
       "      <td>0</td>\n",
       "      <td>0</td>\n",
       "      <td>0</td>\n",
       "      <td>0</td>\n",
       "      <td>0</td>\n",
       "      <td>0</td>\n",
       "      <td>0</td>\n",
       "    </tr>\n",
       "    <tr>\n",
       "      <th>1</th>\n",
       "      <td>0</td>\n",
       "      <td>0</td>\n",
       "      <td>0</td>\n",
       "      <td>0</td>\n",
       "      <td>0</td>\n",
       "      <td>0</td>\n",
       "      <td>0</td>\n",
       "      <td>0</td>\n",
       "      <td>0</td>\n",
       "      <td>0</td>\n",
       "      <td>...</td>\n",
       "      <td>0</td>\n",
       "      <td>0</td>\n",
       "      <td>0</td>\n",
       "      <td>0</td>\n",
       "      <td>0</td>\n",
       "      <td>0</td>\n",
       "      <td>0</td>\n",
       "      <td>0</td>\n",
       "      <td>0</td>\n",
       "      <td>0</td>\n",
       "    </tr>\n",
       "    <tr>\n",
       "      <th>2</th>\n",
       "      <td>1</td>\n",
       "      <td>1</td>\n",
       "      <td>0</td>\n",
       "      <td>1</td>\n",
       "      <td>1</td>\n",
       "      <td>0</td>\n",
       "      <td>0</td>\n",
       "      <td>0</td>\n",
       "      <td>0</td>\n",
       "      <td>0</td>\n",
       "      <td>...</td>\n",
       "      <td>0</td>\n",
       "      <td>1</td>\n",
       "      <td>1</td>\n",
       "      <td>0</td>\n",
       "      <td>0</td>\n",
       "      <td>0</td>\n",
       "      <td>0</td>\n",
       "      <td>0</td>\n",
       "      <td>0</td>\n",
       "      <td>0</td>\n",
       "    </tr>\n",
       "    <tr>\n",
       "      <th>3</th>\n",
       "      <td>0</td>\n",
       "      <td>0</td>\n",
       "      <td>0</td>\n",
       "      <td>0</td>\n",
       "      <td>0</td>\n",
       "      <td>1</td>\n",
       "      <td>0</td>\n",
       "      <td>0</td>\n",
       "      <td>1</td>\n",
       "      <td>0</td>\n",
       "      <td>...</td>\n",
       "      <td>0</td>\n",
       "      <td>2</td>\n",
       "      <td>0</td>\n",
       "      <td>0</td>\n",
       "      <td>0</td>\n",
       "      <td>0</td>\n",
       "      <td>0</td>\n",
       "      <td>0</td>\n",
       "      <td>0</td>\n",
       "      <td>0</td>\n",
       "    </tr>\n",
       "    <tr>\n",
       "      <th>4</th>\n",
       "      <td>1</td>\n",
       "      <td>1</td>\n",
       "      <td>0</td>\n",
       "      <td>0</td>\n",
       "      <td>0</td>\n",
       "      <td>0</td>\n",
       "      <td>0</td>\n",
       "      <td>0</td>\n",
       "      <td>0</td>\n",
       "      <td>0</td>\n",
       "      <td>...</td>\n",
       "      <td>0</td>\n",
       "      <td>2</td>\n",
       "      <td>0</td>\n",
       "      <td>1</td>\n",
       "      <td>1</td>\n",
       "      <td>0</td>\n",
       "      <td>0</td>\n",
       "      <td>0</td>\n",
       "      <td>0</td>\n",
       "      <td>0</td>\n",
       "    </tr>\n",
       "  </tbody>\n",
       "</table>\n",
       "<p>5 rows × 500 columns</p>\n",
       "</div>"
      ],
      "text/plain": [
       "   10  10 pts  11  15  15 pts  20  20210  3430  80  accord  ...  valueerror  \\\n",
       "0   0       0   0   0       0   0      0     0   0       0  ...           0   \n",
       "1   0       0   0   0       0   0      0     0   0       0  ...           0   \n",
       "2   1       1   0   1       1   0      0     0   0       0  ...           0   \n",
       "3   0       0   0   0       0   1      0     0   1       0  ...           0   \n",
       "4   1       1   0   0       0   0      0     0   0       0  ...           0   \n",
       "\n",
       "   variabl  variabl name  variabl plot  variabl plot result  want  write  \\\n",
       "0        0             0             0                    0     0      0   \n",
       "1        0             0             0                    0     0      0   \n",
       "2        1             1             0                    0     0      0   \n",
       "3        2             0             0                    0     0      0   \n",
       "4        2             0             1                    1     0      0   \n",
       "\n",
       "   year  ypred  ytrain  \n",
       "0     0      0       0  \n",
       "1     0      0       0  \n",
       "2     0      0       0  \n",
       "3     0      0       0  \n",
       "4     0      0       0  \n",
       "\n",
       "[5 rows x 500 columns]"
      ]
     },
     "execution_count": 26,
     "metadata": {},
     "output_type": "execute_result"
    }
   ],
   "source": [
    "# Bag of Words Approach\n",
    "\n",
    "questions_BoW = pd.DataFrame(vectorizer_BoW.transform(questions).toarray(), columns=vectorizer_BoW.get_feature_names_out())\n",
    "questions_BoW.head()"
   ]
  },
  {
   "cell_type": "code",
   "execution_count": 27,
   "metadata": {},
   "outputs": [
    {
     "data": {
      "text/html": [
       "<div>\n",
       "<style scoped>\n",
       "    .dataframe tbody tr th:only-of-type {\n",
       "        vertical-align: middle;\n",
       "    }\n",
       "\n",
       "    .dataframe tbody tr th {\n",
       "        vertical-align: top;\n",
       "    }\n",
       "\n",
       "    .dataframe thead th {\n",
       "        text-align: right;\n",
       "    }\n",
       "</style>\n",
       "<table border=\"1\" class=\"dataframe\">\n",
       "  <thead>\n",
       "    <tr style=\"text-align: right;\">\n",
       "      <th></th>\n",
       "      <th>w2v_0</th>\n",
       "      <th>w2v_1</th>\n",
       "      <th>w2v_2</th>\n",
       "      <th>w2v_3</th>\n",
       "      <th>w2v_4</th>\n",
       "      <th>w2v_5</th>\n",
       "      <th>w2v_6</th>\n",
       "      <th>w2v_7</th>\n",
       "      <th>w2v_8</th>\n",
       "      <th>w2v_9</th>\n",
       "      <th>...</th>\n",
       "      <th>w2v_490</th>\n",
       "      <th>w2v_491</th>\n",
       "      <th>w2v_492</th>\n",
       "      <th>w2v_493</th>\n",
       "      <th>w2v_494</th>\n",
       "      <th>w2v_495</th>\n",
       "      <th>w2v_496</th>\n",
       "      <th>w2v_497</th>\n",
       "      <th>w2v_498</th>\n",
       "      <th>w2v_499</th>\n",
       "    </tr>\n",
       "  </thead>\n",
       "  <tbody>\n",
       "    <tr>\n",
       "      <th>0</th>\n",
       "      <td>0.033461</td>\n",
       "      <td>0.058566</td>\n",
       "      <td>0.047452</td>\n",
       "      <td>0.066660</td>\n",
       "      <td>-0.002214</td>\n",
       "      <td>-0.112064</td>\n",
       "      <td>-0.036579</td>\n",
       "      <td>0.096094</td>\n",
       "      <td>0.038919</td>\n",
       "      <td>0.006599</td>\n",
       "      <td>...</td>\n",
       "      <td>-0.030591</td>\n",
       "      <td>-0.016867</td>\n",
       "      <td>0.069992</td>\n",
       "      <td>-0.031818</td>\n",
       "      <td>0.058323</td>\n",
       "      <td>-0.006780</td>\n",
       "      <td>-0.020998</td>\n",
       "      <td>-0.056788</td>\n",
       "      <td>-0.040735</td>\n",
       "      <td>-0.028429</td>\n",
       "    </tr>\n",
       "    <tr>\n",
       "      <th>1</th>\n",
       "      <td>0.010367</td>\n",
       "      <td>0.104920</td>\n",
       "      <td>0.117635</td>\n",
       "      <td>0.095361</td>\n",
       "      <td>-0.030934</td>\n",
       "      <td>-0.147535</td>\n",
       "      <td>-0.028164</td>\n",
       "      <td>0.105968</td>\n",
       "      <td>0.043188</td>\n",
       "      <td>0.034681</td>\n",
       "      <td>...</td>\n",
       "      <td>-0.055105</td>\n",
       "      <td>-0.020066</td>\n",
       "      <td>0.096848</td>\n",
       "      <td>0.019084</td>\n",
       "      <td>0.048512</td>\n",
       "      <td>-0.028442</td>\n",
       "      <td>-0.100470</td>\n",
       "      <td>-0.096204</td>\n",
       "      <td>-0.037727</td>\n",
       "      <td>-0.008996</td>\n",
       "    </tr>\n",
       "    <tr>\n",
       "      <th>2</th>\n",
       "      <td>0.038516</td>\n",
       "      <td>0.077049</td>\n",
       "      <td>0.076053</td>\n",
       "      <td>0.075743</td>\n",
       "      <td>-0.020068</td>\n",
       "      <td>-0.112763</td>\n",
       "      <td>-0.018867</td>\n",
       "      <td>0.114075</td>\n",
       "      <td>0.059290</td>\n",
       "      <td>0.025230</td>\n",
       "      <td>...</td>\n",
       "      <td>-0.030187</td>\n",
       "      <td>-0.023615</td>\n",
       "      <td>0.085226</td>\n",
       "      <td>-0.014953</td>\n",
       "      <td>0.058670</td>\n",
       "      <td>-0.010178</td>\n",
       "      <td>-0.044161</td>\n",
       "      <td>-0.085336</td>\n",
       "      <td>-0.045541</td>\n",
       "      <td>-0.030973</td>\n",
       "    </tr>\n",
       "    <tr>\n",
       "      <th>3</th>\n",
       "      <td>0.044882</td>\n",
       "      <td>0.111365</td>\n",
       "      <td>0.084890</td>\n",
       "      <td>0.099562</td>\n",
       "      <td>-0.075117</td>\n",
       "      <td>-0.089332</td>\n",
       "      <td>-0.010215</td>\n",
       "      <td>0.143313</td>\n",
       "      <td>0.056017</td>\n",
       "      <td>0.057280</td>\n",
       "      <td>...</td>\n",
       "      <td>0.006169</td>\n",
       "      <td>-0.028323</td>\n",
       "      <td>0.136576</td>\n",
       "      <td>0.032264</td>\n",
       "      <td>0.072133</td>\n",
       "      <td>0.049412</td>\n",
       "      <td>-0.015075</td>\n",
       "      <td>-0.111942</td>\n",
       "      <td>-0.089607</td>\n",
       "      <td>-0.013592</td>\n",
       "    </tr>\n",
       "    <tr>\n",
       "      <th>4</th>\n",
       "      <td>0.039305</td>\n",
       "      <td>0.058016</td>\n",
       "      <td>0.050654</td>\n",
       "      <td>0.068396</td>\n",
       "      <td>-0.011237</td>\n",
       "      <td>-0.101889</td>\n",
       "      <td>-0.021626</td>\n",
       "      <td>0.104882</td>\n",
       "      <td>0.045826</td>\n",
       "      <td>0.016617</td>\n",
       "      <td>...</td>\n",
       "      <td>-0.024206</td>\n",
       "      <td>-0.014660</td>\n",
       "      <td>0.066918</td>\n",
       "      <td>-0.023545</td>\n",
       "      <td>0.062844</td>\n",
       "      <td>-0.000269</td>\n",
       "      <td>-0.000003</td>\n",
       "      <td>-0.056716</td>\n",
       "      <td>-0.051651</td>\n",
       "      <td>-0.034815</td>\n",
       "    </tr>\n",
       "  </tbody>\n",
       "</table>\n",
       "<p>5 rows × 500 columns</p>\n",
       "</div>"
      ],
      "text/plain": [
       "      w2v_0     w2v_1     w2v_2     w2v_3     w2v_4     w2v_5     w2v_6  \\\n",
       "0  0.033461  0.058566  0.047452  0.066660 -0.002214 -0.112064 -0.036579   \n",
       "1  0.010367  0.104920  0.117635  0.095361 -0.030934 -0.147535 -0.028164   \n",
       "2  0.038516  0.077049  0.076053  0.075743 -0.020068 -0.112763 -0.018867   \n",
       "3  0.044882  0.111365  0.084890  0.099562 -0.075117 -0.089332 -0.010215   \n",
       "4  0.039305  0.058016  0.050654  0.068396 -0.011237 -0.101889 -0.021626   \n",
       "\n",
       "      w2v_7     w2v_8     w2v_9  ...   w2v_490   w2v_491   w2v_492   w2v_493  \\\n",
       "0  0.096094  0.038919  0.006599  ... -0.030591 -0.016867  0.069992 -0.031818   \n",
       "1  0.105968  0.043188  0.034681  ... -0.055105 -0.020066  0.096848  0.019084   \n",
       "2  0.114075  0.059290  0.025230  ... -0.030187 -0.023615  0.085226 -0.014953   \n",
       "3  0.143313  0.056017  0.057280  ...  0.006169 -0.028323  0.136576  0.032264   \n",
       "4  0.104882  0.045826  0.016617  ... -0.024206 -0.014660  0.066918 -0.023545   \n",
       "\n",
       "    w2v_494   w2v_495   w2v_496   w2v_497   w2v_498   w2v_499  \n",
       "0  0.058323 -0.006780 -0.020998 -0.056788 -0.040735 -0.028429  \n",
       "1  0.048512 -0.028442 -0.100470 -0.096204 -0.037727 -0.008996  \n",
       "2  0.058670 -0.010178 -0.044161 -0.085336 -0.045541 -0.030973  \n",
       "3  0.072133  0.049412 -0.015075 -0.111942 -0.089607 -0.013592  \n",
       "4  0.062844 -0.000269 -0.000003 -0.056716 -0.051651 -0.034815  \n",
       "\n",
       "[5 rows x 500 columns]"
      ]
     },
     "execution_count": 27,
     "metadata": {},
     "output_type": "execute_result"
    }
   ],
   "source": [
    "# Word2Vec Approach\n",
    "\n",
    "questions_w2v = pd.DataFrame([vectorize(sentence, w2v_model) for sentence in questions], columns=[f'w2v_{i}' for i in range(vector_size)])\n",
    "questions_w2v.head()"
   ]
  },
  {
   "cell_type": "code",
   "execution_count": 28,
   "metadata": {},
   "outputs": [
    {
     "name": "stdout",
     "output_type": "stream",
     "text": [
      "139235c7-736c-4237-92f0-92e8c116832c.html\n",
      "668ad17e-0240-49f7-b5a7-d22e502554c6.html\n",
      "b0640e51-6879-40cb-a4f5-329f952ef99d.html\n",
      "da6b70d5-29f6-491a-ad46-037c77067128.html\n"
     ]
    }
   ],
   "source": [
    "code2prompts_tf_idf = dict()\n",
    "for code, user_prompts in code2prompts_proc.items():\n",
    "    # code = \"0031c86e-81f4-4eef-9e0e-28037abf9883\", user_prompts = [prompt1, prompt2, ...]\n",
    "    if len(user_prompts) == 0:\n",
    "        # some files have issues\n",
    "        print(code+\".html\")\n",
    "        continue\n",
    "    prompts_TF_IDF = pd.DataFrame(vectorizer.transform(user_prompts).toarray(), columns=vectorizer.get_feature_names_out())\n",
    "    code2prompts_tf_idf[code] = prompts_TF_IDF"
   ]
  },
  {
   "cell_type": "code",
   "execution_count": 29,
   "metadata": {},
   "outputs": [
    {
     "data": {
      "text/html": [
       "<div>\n",
       "<style scoped>\n",
       "    .dataframe tbody tr th:only-of-type {\n",
       "        vertical-align: middle;\n",
       "    }\n",
       "\n",
       "    .dataframe tbody tr th {\n",
       "        vertical-align: top;\n",
       "    }\n",
       "\n",
       "    .dataframe thead th {\n",
       "        text-align: right;\n",
       "    }\n",
       "</style>\n",
       "<table border=\"1\" class=\"dataframe\">\n",
       "  <thead>\n",
       "    <tr style=\"text-align: right;\">\n",
       "      <th></th>\n",
       "      <th>10</th>\n",
       "      <th>10 pts</th>\n",
       "      <th>11</th>\n",
       "      <th>15</th>\n",
       "      <th>15 pts</th>\n",
       "      <th>20</th>\n",
       "      <th>20210</th>\n",
       "      <th>3430</th>\n",
       "      <th>80</th>\n",
       "      <th>accord</th>\n",
       "      <th>...</th>\n",
       "      <th>valueerror</th>\n",
       "      <th>variabl</th>\n",
       "      <th>variabl name</th>\n",
       "      <th>variabl plot</th>\n",
       "      <th>variabl plot result</th>\n",
       "      <th>want</th>\n",
       "      <th>write</th>\n",
       "      <th>year</th>\n",
       "      <th>ypred</th>\n",
       "      <th>ytrain</th>\n",
       "    </tr>\n",
       "  </thead>\n",
       "  <tbody>\n",
       "    <tr>\n",
       "      <th>0</th>\n",
       "      <td>0.0</td>\n",
       "      <td>0.0</td>\n",
       "      <td>0.0</td>\n",
       "      <td>0.0</td>\n",
       "      <td>0.0</td>\n",
       "      <td>0.0</td>\n",
       "      <td>0.0</td>\n",
       "      <td>0.0</td>\n",
       "      <td>0.0</td>\n",
       "      <td>0.0</td>\n",
       "      <td>...</td>\n",
       "      <td>0.0</td>\n",
       "      <td>0.000000</td>\n",
       "      <td>0.000000</td>\n",
       "      <td>0.0</td>\n",
       "      <td>0.0</td>\n",
       "      <td>0.000000</td>\n",
       "      <td>0.0</td>\n",
       "      <td>0.0</td>\n",
       "      <td>0.0</td>\n",
       "      <td>0.0</td>\n",
       "    </tr>\n",
       "    <tr>\n",
       "      <th>1</th>\n",
       "      <td>0.0</td>\n",
       "      <td>0.0</td>\n",
       "      <td>0.0</td>\n",
       "      <td>0.0</td>\n",
       "      <td>0.0</td>\n",
       "      <td>0.0</td>\n",
       "      <td>0.0</td>\n",
       "      <td>0.0</td>\n",
       "      <td>0.0</td>\n",
       "      <td>0.0</td>\n",
       "      <td>...</td>\n",
       "      <td>0.0</td>\n",
       "      <td>0.000000</td>\n",
       "      <td>0.000000</td>\n",
       "      <td>0.0</td>\n",
       "      <td>0.0</td>\n",
       "      <td>0.000000</td>\n",
       "      <td>0.0</td>\n",
       "      <td>0.0</td>\n",
       "      <td>0.0</td>\n",
       "      <td>0.0</td>\n",
       "    </tr>\n",
       "    <tr>\n",
       "      <th>2</th>\n",
       "      <td>0.0</td>\n",
       "      <td>0.0</td>\n",
       "      <td>0.0</td>\n",
       "      <td>0.0</td>\n",
       "      <td>0.0</td>\n",
       "      <td>0.0</td>\n",
       "      <td>0.0</td>\n",
       "      <td>0.0</td>\n",
       "      <td>0.0</td>\n",
       "      <td>0.0</td>\n",
       "      <td>...</td>\n",
       "      <td>0.0</td>\n",
       "      <td>0.076056</td>\n",
       "      <td>0.118387</td>\n",
       "      <td>0.0</td>\n",
       "      <td>0.0</td>\n",
       "      <td>0.000000</td>\n",
       "      <td>0.0</td>\n",
       "      <td>0.0</td>\n",
       "      <td>0.0</td>\n",
       "      <td>0.0</td>\n",
       "    </tr>\n",
       "    <tr>\n",
       "      <th>3</th>\n",
       "      <td>0.0</td>\n",
       "      <td>0.0</td>\n",
       "      <td>0.0</td>\n",
       "      <td>0.0</td>\n",
       "      <td>0.0</td>\n",
       "      <td>0.0</td>\n",
       "      <td>0.0</td>\n",
       "      <td>0.0</td>\n",
       "      <td>0.0</td>\n",
       "      <td>0.0</td>\n",
       "      <td>...</td>\n",
       "      <td>0.0</td>\n",
       "      <td>0.000000</td>\n",
       "      <td>0.000000</td>\n",
       "      <td>0.0</td>\n",
       "      <td>0.0</td>\n",
       "      <td>0.000000</td>\n",
       "      <td>0.0</td>\n",
       "      <td>0.0</td>\n",
       "      <td>0.0</td>\n",
       "      <td>0.0</td>\n",
       "    </tr>\n",
       "    <tr>\n",
       "      <th>4</th>\n",
       "      <td>0.0</td>\n",
       "      <td>0.0</td>\n",
       "      <td>0.0</td>\n",
       "      <td>0.0</td>\n",
       "      <td>0.0</td>\n",
       "      <td>0.0</td>\n",
       "      <td>0.0</td>\n",
       "      <td>0.0</td>\n",
       "      <td>0.0</td>\n",
       "      <td>0.0</td>\n",
       "      <td>...</td>\n",
       "      <td>0.0</td>\n",
       "      <td>0.000000</td>\n",
       "      <td>0.000000</td>\n",
       "      <td>0.0</td>\n",
       "      <td>0.0</td>\n",
       "      <td>0.225943</td>\n",
       "      <td>0.0</td>\n",
       "      <td>0.0</td>\n",
       "      <td>0.0</td>\n",
       "      <td>0.0</td>\n",
       "    </tr>\n",
       "  </tbody>\n",
       "</table>\n",
       "<p>5 rows × 500 columns</p>\n",
       "</div>"
      ],
      "text/plain": [
       "    10  10 pts   11   15  15 pts   20  20210  3430   80  accord  ...  \\\n",
       "0  0.0     0.0  0.0  0.0     0.0  0.0    0.0   0.0  0.0     0.0  ...   \n",
       "1  0.0     0.0  0.0  0.0     0.0  0.0    0.0   0.0  0.0     0.0  ...   \n",
       "2  0.0     0.0  0.0  0.0     0.0  0.0    0.0   0.0  0.0     0.0  ...   \n",
       "3  0.0     0.0  0.0  0.0     0.0  0.0    0.0   0.0  0.0     0.0  ...   \n",
       "4  0.0     0.0  0.0  0.0     0.0  0.0    0.0   0.0  0.0     0.0  ...   \n",
       "\n",
       "   valueerror   variabl  variabl name  variabl plot  variabl plot result  \\\n",
       "0         0.0  0.000000      0.000000           0.0                  0.0   \n",
       "1         0.0  0.000000      0.000000           0.0                  0.0   \n",
       "2         0.0  0.076056      0.118387           0.0                  0.0   \n",
       "3         0.0  0.000000      0.000000           0.0                  0.0   \n",
       "4         0.0  0.000000      0.000000           0.0                  0.0   \n",
       "\n",
       "       want  write  year  ypred  ytrain  \n",
       "0  0.000000    0.0   0.0    0.0     0.0  \n",
       "1  0.000000    0.0   0.0    0.0     0.0  \n",
       "2  0.000000    0.0   0.0    0.0     0.0  \n",
       "3  0.000000    0.0   0.0    0.0     0.0  \n",
       "4  0.225943    0.0   0.0    0.0     0.0  \n",
       "\n",
       "[5 rows x 500 columns]"
      ]
     },
     "execution_count": 29,
     "metadata": {},
     "output_type": "execute_result"
    }
   ],
   "source": [
    "code2prompts_tf_idf[\"089eb66d-4c3a-4f58-b98f-a3774a2efb34\"].head()"
   ]
  },
  {
   "cell_type": "code",
   "execution_count": 30,
   "metadata": {},
   "outputs": [
    {
     "name": "stdout",
     "output_type": "stream",
     "text": [
      "139235c7-736c-4237-92f0-92e8c116832c.html\n",
      "668ad17e-0240-49f7-b5a7-d22e502554c6.html\n",
      "b0640e51-6879-40cb-a4f5-329f952ef99d.html\n",
      "da6b70d5-29f6-491a-ad46-037c77067128.html\n"
     ]
    }
   ],
   "source": [
    "# Bag of Words Approach\n",
    "\n",
    "code2prompts_BoW = dict()\n",
    "for code, user_prompts in code2prompts_proc.items():\n",
    "    # code = \"0031c86e-81f4-4eef-9e0e-28037abf9883\", user_prompts = [prompt1, prompt2, ...]\n",
    "    if len(user_prompts) == 0:\n",
    "        # some files have issues\n",
    "        print(code+\".html\")\n",
    "        continue\n",
    "    prompts_BoW = pd.DataFrame(vectorizer_BoW.transform(user_prompts).toarray(), columns=vectorizer_BoW.get_feature_names_out())\n",
    "    code2prompts_BoW[code] = prompts_BoW"
   ]
  },
  {
   "cell_type": "code",
   "execution_count": 31,
   "metadata": {},
   "outputs": [
    {
     "name": "stdout",
     "output_type": "stream",
     "text": [
      "139235c7-736c-4237-92f0-92e8c116832c.html\n",
      "668ad17e-0240-49f7-b5a7-d22e502554c6.html\n",
      "b0640e51-6879-40cb-a4f5-329f952ef99d.html\n",
      "da6b70d5-29f6-491a-ad46-037c77067128.html\n"
     ]
    }
   ],
   "source": [
    "# Word2Vec Approach\n",
    "\n",
    "code2prompts_w2v = dict()\n",
    "\n",
    "for code, user_prompts in code2prompts_proc.items():\n",
    "    if len(user_prompts) == 0:\n",
    "        # some files have issues\n",
    "        print(code+\".html\")\n",
    "        continue\n",
    "\n",
    "    prompts_Word2Vec = pd.DataFrame([vectorize(sentence.split(), w2v_model) for sentence in user_prompts], columns=[f'w2v_{i}' for i in range(vector_size)])\n",
    "    code2prompts_w2v[code] = prompts_Word2Vec"
   ]
  },
  {
   "cell_type": "markdown",
   "metadata": {},
   "source": [
    "## Principle Component Analysis"
   ]
  },
  {
   "cell_type": "markdown",
   "metadata": {},
   "source": [
    "### Applying PCA to Each Vectorizer"
   ]
  },
  {
   "cell_type": "markdown",
   "metadata": {},
   "source": [
    "    Applying PCA to Each of the Vectorizers and Examining the Explained Variance, then running k-means algorithms with reduced dimensions to compare the performance metrics."
   ]
  },
  {
   "cell_type": "code",
   "execution_count": 32,
   "metadata": {},
   "outputs": [
    {
     "data": {
      "image/png": "[encoded data removed]",
      "text/plain": [
       "<Figure size 800x400 with 1 Axes>"
      ]
     },
     "metadata": {},
     "output_type": "display_data"
    }
   ],
   "source": [
    "# Use PCA to TF-IDF vectorized prompts\n",
    "\n",
    "from sklearn.decomposition import PCA\n",
    "components = [1,5,8,15,20,25,30,40,50]\n",
    "avg_exp_variances = []\n",
    "\n",
    "\n",
    "for n in components:\n",
    "    \n",
    "    exp_variances = []\n",
    "    for code, user_prompts_TF_IDF in code2prompts_tf_idf.items():\n",
    "        pca = PCA(n_components = min(n, len(user_prompts_TF_IDF)), random_state=43)\n",
    "        pca_df = pca.fit_transform(pd.concat([user_prompts_TF_IDF, questions_TF_IDF]))\n",
    "        exp_variances.append(pca.explained_variance_ratio_.sum() * 100)\n",
    "\n",
    "    avg_exp_variance = np.mean(exp_variances)\n",
    "    avg_exp_variances.append(avg_exp_variance)\n",
    "        \n",
    "plt.figure(figsize=(8,4))\n",
    "plt.plot(components, avg_exp_variances, marker='o')\n",
    "plt.title('Explained Variance For Each PCA Component (TF-IDF)'.format(n))\n",
    "plt.xlabel('Number Of Components')\n",
    "plt.ylabel('Average Explained Variance')\n",
    "plt.show()"
   ]
  },
  {
   "cell_type": "code",
   "execution_count": 33,
   "metadata": {},
   "outputs": [
    {
     "data": {
      "image/png": "[encoded data removed]",
      "text/plain": [
       "<Figure size 800x400 with 1 Axes>"
      ]
     },
     "metadata": {},
     "output_type": "display_data"
    }
   ],
   "source": [
    "# Use PCA to BoW vectorized prompts\n",
    "\n",
    "from sklearn.decomposition import PCA\n",
    "components = [1,5,8,15,20,25,30,40,50]\n",
    "avg_exp_variances = []\n",
    "\n",
    "\n",
    "for n in components:\n",
    "    exp_variances = []\n",
    "    for code, user_prompts_BoW in code2prompts_BoW.items():\n",
    "        pca = PCA(n_components = min(n, len(user_prompts_BoW)), random_state=43)\n",
    "        pca_df = pca.fit_transform(pd.concat([user_prompts_BoW, questions_BoW]))\n",
    "        exp_variances.append(pca.explained_variance_ratio_.sum() * 100)\n",
    "\n",
    "    avg_exp_variance = np.mean(exp_variances)\n",
    "    avg_exp_variances.append(avg_exp_variance)\n",
    "        \n",
    "plt.figure(figsize=(8,4))\n",
    "plt.plot(components, avg_exp_variances, marker='o')\n",
    "plt.title('Explained Variance For Each PCA Component (BoW)'.format(n))\n",
    "plt.xlabel('Number Of Components')\n",
    "plt.ylabel('Average Explained Variance')\n",
    "plt.show()"
   ]
  },
  {
   "cell_type": "code",
   "execution_count": 34,
   "metadata": {},
   "outputs": [
    {
     "data": {
      "image/png": "[encoded data removed]",
      "text/plain": [
       "<Figure size 800x400 with 1 Axes>"
      ]
     },
     "metadata": {},
     "output_type": "display_data"
    }
   ],
   "source": [
    "# Use PCA to word2vec vectorized prompts\n",
    "\n",
    "from sklearn.decomposition import PCA\n",
    "components = [1,5,8,15,20,25,30,40,50]\n",
    "avg_exp_variances = []\n",
    "\n",
    "\n",
    "for n in components:\n",
    "    \n",
    "    exp_variances = []\n",
    "    for code, user_prompts_w2v in code2prompts_w2v.items():\n",
    "        pca = PCA(n_components = min(n, len(user_prompts_w2v)), random_state=43)\n",
    "        pca_df = pca.fit_transform(pd.concat([user_prompts_w2v, questions_w2v]))\n",
    "        exp_variances.append(pca.explained_variance_ratio_.sum() * 100)\n",
    "\n",
    "    avg_exp_variance = np.mean(exp_variances)\n",
    "    avg_exp_variances.append(avg_exp_variance)\n",
    "        \n",
    "plt.figure(figsize=(8,4))\n",
    "plt.plot(components, avg_exp_variances, marker='o')\n",
    "plt.title('Explained Variance For Each PCA Component (Word2Vec)'.format(n))\n",
    "plt.xlabel('Number Of Components')\n",
    "plt.ylabel('Average Explained Variance')\n",
    "plt.show()"
   ]
  },
  {
   "cell_type": "markdown",
   "metadata": {},
   "source": [
    "## Perform K-Means Clustering and Compare Silhouette Scores"
   ]
  },
  {
   "cell_type": "markdown",
   "metadata": {},
   "source": [
    "    Select num_of_features of PCA as the one with higher than 80-90% explained variance."
   ]
  },
  {
   "cell_type": "code",
   "execution_count": 35,
   "metadata": {},
   "outputs": [
    {
     "name": "stdout",
     "output_type": "stream",
     "text": [
      "Average Silhouette Score: 0.1509326163963025\n"
     ]
    }
   ],
   "source": [
    "# Use K-means clustering with TF-IDF vectorized prompts\n",
    "from sklearn.cluster import KMeans\n",
    "from sklearn.metrics import silhouette_score\n",
    "\n",
    "scores = []\n",
    "for code, user_prompts_TF_IDF in code2prompts_tf_idf.items():\n",
    "    # Combine user prompts tf-idf and questions tf-idf\n",
    "    combined_data = pd.concat([user_prompts_TF_IDF, questions_TF_IDF])\n",
    "\n",
    "    # Determine the number of components dynamically\n",
    "    n_components = min(35, min(combined_data.shape))\n",
    "\n",
    "    # Perform PCA\n",
    "    pca = PCA(n_components=n_components)\n",
    "    pca_df = pca.fit_transform(combined_data)\n",
    "    pca_questions = pca_df[-len(questions):]\n",
    "\n",
    "    # Perform KMeans clustering\n",
    "    kmeans = KMeans(n_clusters=9, random_state=0, n_init=1, init=pca_questions).fit(pca_df)\n",
    "\n",
    "    # Get the silhouette score\n",
    "    silhouette = silhouette_score(pca_df, kmeans.labels_)\n",
    "    scores.append(silhouette)\n",
    "\n",
    "average_score = np.mean(scores)\n",
    "print(f\"Average Silhouette Score: {average_score}\")"
   ]
  },
  {
   "cell_type": "code",
   "execution_count": 36,
   "metadata": {},
   "outputs": [
    {
     "name": "stdout",
     "output_type": "stream",
     "text": [
      "Silhouette Score: 0.409717749939386\n"
     ]
    }
   ],
   "source": [
    "# Use K-means clustering with BoW vectorized prompts\n",
    "\n",
    "scores = []\n",
    "\n",
    "for code, user_prompts_BoW in code2prompts_BoW.items():\n",
    "    # Combine user prompts BoW and questions BoW\n",
    "    combined_data = pd.concat([user_prompts_BoW, questions_BoW])\n",
    "\n",
    "    # Determine the number of components dynamically\n",
    "    n_components = min(8, min(combined_data.shape))\n",
    "\n",
    "    # Perform PCA\n",
    "    pca = PCA(n_components=n_components)\n",
    "    pca_df = pca.fit_transform(combined_data)\n",
    "    pca_questions = pca_df[-len(questions):]\n",
    "\n",
    "    # Perform KMeans clustering\n",
    "    kmeans = KMeans(n_clusters=9, random_state=0, n_init=1, init=pca_questions).fit(pca_df)\n",
    "\n",
    "    # Get the silhouette score\n",
    "    silhouette = silhouette_score(pca_df, kmeans.labels_)\n",
    "    scores.append(silhouette)\n",
    "\n",
    "average_score = np.mean(scores)\n",
    "print(f\"Silhouette Score: {average_score}\")"
   ]
  },
  {
   "cell_type": "code",
   "execution_count": 37,
   "metadata": {},
   "outputs": [
    {
     "name": "stdout",
     "output_type": "stream",
     "text": [
      "Silhouette Score: 0.11104918843847601\n"
     ]
    }
   ],
   "source": [
    "# Use K-means clustering with word2vec vectorized prompts\n",
    "\n",
    "scores = []\n",
    "\n",
    "for code, user_prompts_w2v in code2prompts_w2v.items():\n",
    "    # Combine user prompts BoW and questions BoW\n",
    "    combined_data = pd.concat([user_prompts_w2v, questions_w2v])\n",
    "\n",
    "    # Determine the number of components dynamically\n",
    "    n_components = min(10, min(combined_data.shape))\n",
    "\n",
    "    # Perform PCA\n",
    "    pca = PCA(n_components=n_components)\n",
    "    pca_df = pca.fit_transform(combined_data)\n",
    "    pca_questions = pca_df[-len(questions):]\n",
    "\n",
    "    # Perform KMeans clustering\n",
    "    kmeans = KMeans(n_clusters=9, random_state=0, n_init=1, init=pca_questions).fit(pca_df)\n",
    "\n",
    "    # Get the silhouette score\n",
    "    silhouette = silhouette_score(pca_df, kmeans.labels_)\n",
    "    scores.append(silhouette)\n",
    "\n",
    "average_score = np.mean(scores)\n",
    "print(f\"Silhouette Score: {average_score}\")"
   ]
  },
  {
   "cell_type": "markdown",
   "metadata": {},
   "source": [
    "We select BoW since it gives the highest silhouette score"
   ]
  },
  {
   "cell_type": "markdown",
   "metadata": {},
   "source": [
    "Creating the dataframe that keeps the question label for each prompt"
   ]
  },
  {
   "cell_type": "code",
   "execution_count": 38,
   "metadata": {},
   "outputs": [],
   "source": [
    "code2plabels = {}           # code: [(p1, p1_label), (p2, p2_label), ...]\n",
    "\n",
    "for code, user_prompts_BoW in code2prompts_BoW.items():\n",
    "    # Combine user prompts BoW and questions BoW\n",
    "    combined_data = pd.concat([user_prompts_BoW, questions_BoW])\n",
    "\n",
    "    # Determine the number of components dynamically\n",
    "    n_components = min(15, min(combined_data.shape))\n",
    "\n",
    "    # Perform PCA\n",
    "    pca = PCA(n_components=n_components)\n",
    "    pca_df = pca.fit_transform(combined_data)\n",
    "    pca_questions = pca_df[-len(questions):]\n",
    "\n",
    "    # Perform KMeans clustering\n",
    "    kmeans = KMeans(n_clusters=9, random_state=0, n_init=1, init=pca_questions).fit(pca_df)\n",
    "\n",
    "    # Create a dataframe with the prompts and their labels\n",
    "    prompts_df = pd.DataFrame({\n",
    "        'Prompts':code2prompts[code],\n",
    "        'Labels':kmeans.labels_[:-len(questions)]\n",
    "                              })\n",
    "    code2plabels[code] = prompts_df\n"
   ]
  },
  {
   "cell_type": "code",
   "execution_count": 39,
   "metadata": {},
   "outputs": [
    {
     "data": {
      "image/png": "[encoded data removed]",
      "text/plain": [
       "<Figure size 640x480 with 1 Axes>"
      ]
     },
     "metadata": {},
     "output_type": "display_data"
    }
   ],
   "source": [
    "labels = code2plabels[\"6d5742c1-77c4-429c-8f6e-ef1262ca5557\"][\"Labels\"].tolist()\n",
    "\n",
    "plt.hist(labels, bins=9)\n",
    "plt.show()"
   ]
  },
  {
   "cell_type": "code",
   "execution_count": 40,
   "metadata": {},
   "outputs": [
    {
     "data": {
      "text/html": [
       "<div>\n",
       "<style scoped>\n",
       "    .dataframe tbody tr th:only-of-type {\n",
       "        vertical-align: middle;\n",
       "    }\n",
       "\n",
       "    .dataframe tbody tr th {\n",
       "        vertical-align: top;\n",
       "    }\n",
       "\n",
       "    .dataframe thead th {\n",
       "        text-align: right;\n",
       "    }\n",
       "</style>\n",
       "<table border=\"1\" class=\"dataframe\">\n",
       "  <thead>\n",
       "    <tr style=\"text-align: right;\">\n",
       "      <th></th>\n",
       "      <th>Prompts</th>\n",
       "      <th>Labels</th>\n",
       "    </tr>\n",
       "  </thead>\n",
       "  <tbody>\n",
       "    <tr>\n",
       "      <th>0</th>\n",
       "      <td>Hi CHATGPT, together we are going to do Homewo...</td>\n",
       "      <td>1</td>\n",
       "    </tr>\n",
       "    <tr>\n",
       "      <th>1</th>\n",
       "      <td>Import necessary libraries</td>\n",
       "      <td>1</td>\n",
       "    </tr>\n",
       "    <tr>\n",
       "      <th>2</th>\n",
       "      <td>Load training dataset (5 pts)\\n\\n*  Read the ....</td>\n",
       "      <td>1</td>\n",
       "    </tr>\n",
       "    <tr>\n",
       "      <th>3</th>\n",
       "      <td>I already have pandas</td>\n",
       "      <td>1</td>\n",
       "    </tr>\n",
       "    <tr>\n",
       "      <th>4</th>\n",
       "      <td>C:\\Users\\90537\\OneDrive\\MasaÃ¼stÃ¼\\CS412\\hw1\\c...</td>\n",
       "      <td>1</td>\n",
       "    </tr>\n",
       "  </tbody>\n",
       "</table>\n",
       "</div>"
      ],
      "text/plain": [
       "                                             Prompts  Labels\n",
       "0  Hi CHATGPT, together we are going to do Homewo...       1\n",
       "1                        Import necessary libraries        1\n",
       "2  Load training dataset (5 pts)\\n\\n*  Read the ....       1\n",
       "3                              I already have pandas       1\n",
       "4  C:\\Users\\90537\\OneDrive\\MasaÃ¼stÃ¼\\CS412\\hw1\\c...       1"
      ]
     },
     "execution_count": 40,
     "metadata": {},
     "output_type": "execute_result"
    }
   ],
   "source": [
    "code2plabels[\"6d5742c1-77c4-429c-8f6e-ef1262ca5557\"].head()"
   ]
  },
  {
   "cell_type": "markdown",
   "metadata": {},
   "source": [
    "## Feature Engineering\n",
    "- Number of prompts that a uers asked\n",
    "- Number of complaints that a user makes e.g \"the code gives this error!\"\n",
    "- User prompts average number of characters"
   ]
  },
  {
   "cell_type": "markdown",
   "metadata": {},
   "source": [
    "### Sentiment Analysis"
   ]
  },
  {
   "cell_type": "markdown",
   "metadata": {},
   "source": [
    "#### Calculate Bert Sentiment Score"
   ]
  },
  {
   "cell_type": "code",
   "execution_count": 41,
   "metadata": {},
   "outputs": [
    {
     "name": "stderr",
     "output_type": "stream",
     "text": [
      "All PyTorch model weights were used when initializing TFDistilBertForSequenceClassification.\n",
      "\n",
      "All the weights of TFDistilBertForSequenceClassification were initialized from the PyTorch model.\n",
      "If your task is similar to the task the model of the checkpoint was trained on, you can already use TFDistilBertForSequenceClassification for predictions without further training.\n"
     ]
    }
   ],
   "source": [
    "from transformers import pipeline\n",
    "import numpy as np\n",
    "\n",
    "# Load the sentiment-analysis pipeline with BERT model\n",
    "bert_sentiment = pipeline(\"sentiment-analysis\", model=\"distilbert-base-uncased-finetuned-sst-2-english\")\n",
    "\n",
    "def analyze_sentiment_bert(prompts):\n",
    "    polarities = []\n",
    "    for prompt in prompts:\n",
    "        # Handle long texts by splitting into smaller chunks\n",
    "        prompt_parts = [prompt[i:i+512] for i in range(0, len(prompt), 512)]\n",
    "        for part in prompt_parts:\n",
    "            result = bert_sentiment(part)[0]\n",
    "            polarity = 1 if result['label'] == 'POSITIVE' else -1\n",
    "            polarities.append(polarity * result['score'])\n",
    "    return np.mean(polarities) if polarities else 0\n",
    "    \n",
    "# Assuming code2prompts is defined with your prompts\n",
    "# Calculate average sentiment score for each key using BERT\n",
    "bert_average_sentiments = {key: analyze_sentiment_bert(prompts) for key, prompts in code2prompts.items()}"
   ]
  },
  {
   "cell_type": "markdown",
   "metadata": {},
   "source": [
    "#### Calculate TextBlob Sentiment Score"
   ]
  },
  {
   "cell_type": "code",
   "execution_count": 42,
   "metadata": {},
   "outputs": [
    {
     "data": {
      "text/plain": [
       "[Sentiment(polarity=0.0, subjectivity=0.0),\n",
       " Sentiment(polarity=0.0, subjectivity=1.0),\n",
       " Sentiment(polarity=0.0, subjectivity=0.0),\n",
       " Sentiment(polarity=0.0, subjectivity=0.0),\n",
       " Sentiment(polarity=0.0, subjectivity=0.0),\n",
       " Sentiment(polarity=-0.16666666666666666, subjectivity=0.4861111111111111),\n",
       " Sentiment(polarity=0.0, subjectivity=0.06388888888888888),\n",
       " Sentiment(polarity=0.0, subjectivity=0.0),\n",
       " Sentiment(polarity=0.0, subjectivity=0.06666666666666667),\n",
       " Sentiment(polarity=-0.125, subjectivity=0.375),\n",
       " Sentiment(polarity=0.0, subjectivity=0.0),\n",
       " Sentiment(polarity=0.0, subjectivity=0.0),\n",
       " Sentiment(polarity=0.13636363636363635, subjectivity=0.45454545454545453),\n",
       " Sentiment(polarity=0.0, subjectivity=0.0),\n",
       " Sentiment(polarity=0.0, subjectivity=0.0),\n",
       " Sentiment(polarity=0.0, subjectivity=0.0),\n",
       " Sentiment(polarity=0.0, subjectivity=0.0),\n",
       " Sentiment(polarity=-0.049999999999999996, subjectivity=0.5785714285714285),\n",
       " Sentiment(polarity=0.2611111111111111, subjectivity=0.5907407407407407),\n",
       " Sentiment(polarity=0.0, subjectivity=0.35000000000000003),\n",
       " Sentiment(polarity=0.0, subjectivity=0.0),\n",
       " Sentiment(polarity=-0.041666666666666664, subjectivity=0.19999999999999998),\n",
       " Sentiment(polarity=0.0, subjectivity=0.125),\n",
       " Sentiment(polarity=0.19166666666666665, subjectivity=0.7166666666666667),\n",
       " Sentiment(polarity=0.0, subjectivity=0.0),\n",
       " Sentiment(polarity=0.0, subjectivity=0.0),\n",
       " Sentiment(polarity=0.2857142857142857, subjectivity=0.5357142857142857),\n",
       " Sentiment(polarity=0.0, subjectivity=0.0),\n",
       " Sentiment(polarity=0.0, subjectivity=0.0),\n",
       " Sentiment(polarity=0.4333333333333333, subjectivity=0.7333333333333333),\n",
       " Sentiment(polarity=0.4333333333333333, subjectivity=0.7333333333333333),\n",
       " Sentiment(polarity=0.28888888888888886, subjectivity=0.8222222222222223),\n",
       " Sentiment(polarity=0.07095959595959596, subjectivity=0.5497474747474745),\n",
       " Sentiment(polarity=-0.125, subjectivity=0.375),\n",
       " Sentiment(polarity=0.1590909090909091, subjectivity=0.39015151515151514),\n",
       " Sentiment(polarity=0.48333333333333334, subjectivity=0.3),\n",
       " Sentiment(polarity=1.0, subjectivity=0.3),\n",
       " Sentiment(polarity=0.4166666666666667, subjectivity=0.5333333333333333),\n",
       " Sentiment(polarity=0.0, subjectivity=0.0),\n",
       " Sentiment(polarity=0.19999999999999998, subjectivity=0.3),\n",
       " Sentiment(polarity=0.4, subjectivity=0.4625),\n",
       " Sentiment(polarity=1.0, subjectivity=0.3),\n",
       " Sentiment(polarity=0.1984126984126984, subjectivity=0.31507936507936507),\n",
       " Sentiment(polarity=0.0, subjectivity=0.0),\n",
       " Sentiment(polarity=0.19999999999999998, subjectivity=0.3),\n",
       " Sentiment(polarity=0.0, subjectivity=0.0),\n",
       " Sentiment(polarity=0.0, subjectivity=0.0),\n",
       " Sentiment(polarity=0.0, subjectivity=0.1125),\n",
       " Sentiment(polarity=0.0, subjectivity=0.125),\n",
       " Sentiment(polarity=0.0, subjectivity=0.0),\n",
       " Sentiment(polarity=0.4166666666666667, subjectivity=0.5333333333333333),\n",
       " Sentiment(polarity=0.0, subjectivity=0.1),\n",
       " Sentiment(polarity=0.125, subjectivity=0.65),\n",
       " Sentiment(polarity=0.0, subjectivity=0.1),\n",
       " Sentiment(polarity=0.0, subjectivity=0.0),\n",
       " Sentiment(polarity=0.25, subjectivity=0.3333333333333333),\n",
       " Sentiment(polarity=0.0, subjectivity=0.0),\n",
       " Sentiment(polarity=0.2125, subjectivity=0.44166666666666665),\n",
       " Sentiment(polarity=0.0, subjectivity=0.0),\n",
       " Sentiment(polarity=0.14081632653061224, subjectivity=0.46224489795918366),\n",
       " Sentiment(polarity=0.0, subjectivity=1.0),\n",
       " Sentiment(polarity=0.125, subjectivity=0.65),\n",
       " Sentiment(polarity=0.0, subjectivity=0.0),\n",
       " Sentiment(polarity=0.5, subjectivity=0.5),\n",
       " Sentiment(polarity=0.0, subjectivity=0.0),\n",
       " Sentiment(polarity=0.0, subjectivity=0.0)]"
      ]
     },
     "execution_count": 42,
     "metadata": {},
     "output_type": "execute_result"
    }
   ],
   "source": [
    "from textblob import TextBlob\n",
    "\n",
    "def analyze_sentiment_blob(text):\n",
    "    return TextBlob(text).sentiment\n",
    "\n",
    "# Apply sentiment analysis\n",
    "sentiments = {key: [analyze_sentiment_blob(prompt) for prompt in prompts] for key, prompts in code2prompts.items()}\n",
    "\n",
    "sentiments[\"6d5742c1-77c4-429c-8f6e-ef1262ca5557\"]"
   ]
  },
  {
   "cell_type": "code",
   "execution_count": 43,
   "metadata": {},
   "outputs": [],
   "source": [
    "# Calculate average sentiment score for each key\n",
    "average_sentiment_scores = {}\n",
    "for key, sentiment_list in sentiments.items():\n",
    "    # Calculate average polarity\n",
    "    average_polarity = sum(sentiment.polarity for sentiment in sentiment_list) / len(sentiment_list) if sentiment_list else 0\n",
    "    average_sentiment_scores[key] = average_polarity\n",
    "\n",
    "# average_sentiment_scores now contains the average sentiment score for each key\n",
    "# print(average_sentiment_scores)"
   ]
  },
  {
   "cell_type": "markdown",
   "metadata": {},
   "source": [
    "### Readability Score"
   ]
  },
  {
   "cell_type": "code",
   "execution_count": 44,
   "metadata": {},
   "outputs": [
    {
     "name": "stdout",
     "output_type": "stream",
     "text": [
      "dict_values([99.73, 0.7, 2.2, 0.0, -1.2, -0.55, 1.75, 5.34])\n"
     ]
    }
   ],
   "source": [
    "import textstat\n",
    "\n",
    "def calculate_readability_scores(text):\n",
    "    scores = {}\n",
    "    scores['flesch_reading_ease'] = textstat.flesch_reading_ease(text)\n",
    "    scores['flesch_kincaid_grade'] = textstat.flesch_kincaid_grade(text)\n",
    "    scores['gunning_fog'] = textstat.gunning_fog(text)\n",
    "    scores['smog_index'] = textstat.smog_index(text)\n",
    "    scores['automated_readability_index'] = textstat.automated_readability_index(text)\n",
    "    scores['coleman_liau_index'] = textstat.coleman_liau_index(text)\n",
    "    scores['linsear_write_formula'] = textstat.linsear_write_formula(text)\n",
    "    scores['dale_chall_readability_score'] = textstat.dale_chall_readability_score(text)\n",
    "    return scores\n",
    "\n",
    "print(calculate_readability_scores(\"This is a sample sentence. It is very easy to read.\").values())"
   ]
  },
  {
   "cell_type": "markdown",
   "metadata": {},
   "source": [
    "### Adding the Features to the Dataframe"
   ]
  },
  {
   "cell_type": "code",
   "execution_count": 45,
   "metadata": {},
   "outputs": [
    {
     "name": "stdout",
     "output_type": "stream",
     "text": [
      "139235c7-736c-4237-92f0-92e8c116832c\n",
      "668ad17e-0240-49f7-b5a7-d22e502554c6\n",
      "b0640e51-6879-40cb-a4f5-329f952ef99d\n",
      "da6b70d5-29f6-491a-ad46-037c77067128\n"
     ]
    }
   ],
   "source": [
    "code2features = defaultdict(lambda : defaultdict(int))\n",
    "\n",
    "# For each user\n",
    "for code, convs in code2convos.items():\n",
    "    totalNumWords = 0\n",
    "    if len(convs) == 0:\n",
    "        print(code)\n",
    "        continue\n",
    "    # For each prompt\n",
    "    for c in convs:\n",
    "        text = c[\"text\"].lower()\n",
    "        if c[\"role\"] == \"user\":\n",
    "            # User Prompts\n",
    "\n",
    "            # count the user prompts\n",
    "            code2features[code][\"#user_prompts\"] += 1\n",
    "\n",
    "            code2features[code][\"prompt_avg_words\"] += len(text.split())\n",
    "            totalNumWords += len(text.split())\n",
    "        else:\n",
    "            # ChatGPT Responses\n",
    "            code2features[code][\"response_avg_words\"] += len(text.split())\n",
    "\n",
    "        code2features[code][\"response_avg_words\"] /= code2features[code][\"#user_prompts\"]\n",
    "        code2features[code][\"prompt_avg_words\"] /= code2features[code][\"#user_prompts\"]"
   ]
  },
  {
   "cell_type": "code",
   "execution_count": 46,
   "metadata": {},
   "outputs": [],
   "source": [
    "# Whitelist_score = (q1_whitelistwords * q1_weight + q2_whitelistwords * q2_weight + ...) / total_weight\n",
    "\n",
    "whiteListWords = [\"thank\", \"next\", \"entropy\", \"correct\", \"solve\", \"hypothetical\", \"feature\", \"gini\"]\n",
    "blackListWords = [\"not\", \"no\", \"error\", \"but\", \"issue\", \"problem\", \"bug\", \"wrong\", \"fail\"]\n",
    "\n",
    "def find_whitelist_words(text):\n",
    "    return sum([1 if word in whiteListWords else 0 for word in text.split()]) / len(text.split())\n",
    "\n",
    "def find_blacklist_words(text):\n",
    "    return sum([1 if word in blackListWords else 0 for word in text.split()]) / len(text.split())\n",
    "\n",
    "# Calculate the frequency of whitelist/blacklist words in each prompt\n",
    "\n",
    "question_scores = [0, 5, 15, 5, 10, 20, 15, 20, 10]\n",
    "for code in code2plabels.keys():\n",
    "    values = {}             # {q1_whitelistwords: 0.5, q1_blacklistwords: 0.2, ...}\n",
    "    for q in code2plabels[code][\"Labels\"].unique():\n",
    "        values[f\"q{q+1}_whitelist\"] = code2plabels[code][code2plabels[code][\"Labels\"] == q][[\"Prompts\"]].applymap(find_whitelist_words).mean().values[0]\n",
    "        values[f\"q{q+1}_blacklist\"] = code2plabels[code][code2plabels[code][\"Labels\"] == q][[\"Prompts\"]].applymap(find_blacklist_words).mean().values[0]\n",
    "\n",
    "    # Calculate the weighted average of whitelist/blacklist words\n",
    "    weight_total = 0\n",
    "    whitelist_score = 0\n",
    "    blacklist_score = 0\n",
    "    for q in code2plabels[code][\"Labels\"].unique():\n",
    "        weight_total += question_scores[q]\n",
    "        whitelist_score += values[f\"q{q+1}_whitelist\"] * question_scores[q]\n",
    "        blacklist_score += values[f\"q{q+1}_blacklist\"] * question_scores[q]\n",
    "    \n",
    "    whitelist_score /= weight_total\n",
    "    blacklist_score /= weight_total\n",
    "    \n",
    "    code2features[code][\"whitelist_score\"] = whitelist_score * 100\n",
    "    code2features[code][\"blacklist_score\"] = blacklist_score * 100"
   ]
  },
  {
   "cell_type": "code",
   "execution_count": 47,
   "metadata": {},
   "outputs": [],
   "source": [
    "# Add average sentiment score to each key in code2features\n",
    "for key in code2features.keys():\n",
    "    # Check if the key exists in average_sentiment_scores\n",
    "    if key in average_sentiment_scores:\n",
    "        code2features[key]['average_sentiment'] = average_sentiment_scores[key]\n",
    "    else:\n",
    "        # If the key doesn't exist in average_sentiment_scores, set a default value\n",
    "        code2features[key]['average_sentiment'] = 0  # or any other appropriate default value\n",
    "\n",
    "for key in code2features.keys():\n",
    "     # Check if the key exists in average_sentiment_scores\n",
    "    if key in bert_average_sentiments:\n",
    "        code2features[key]['bert_average_sentiment'] = bert_average_sentiments[key]\n",
    "    else:\n",
    "        # If the key doesn't exist in average_sentiment_scores, set a default value\n",
    "        code2features[key]['bert_average_sentiment'] = 0  # or any other appropriate default value"
   ]
  },
  {
   "cell_type": "code",
   "execution_count": 48,
   "metadata": {},
   "outputs": [
    {
     "name": "stderr",
     "output_type": "stream",
     "text": [
      "C:\\Users\\salih\\AppData\\Local\\Temp\\ipykernel_1828\\2005071228.py:11: RuntimeWarning: invalid value encountered in divide\n",
      "  avg_scores /= length\n"
     ]
    }
   ],
   "source": [
    "# Add readability scores to each key in code2features\n",
    "\n",
    "\n",
    "for code, prompts in code2prompts.items():\n",
    "    avg_scores = np.zeros(8)\n",
    "    length = len(prompts)\n",
    "    for prompt in prompts:\n",
    "        scores = np.array(list(calculate_readability_scores(prompt).values()))\n",
    "        avg_scores += scores\n",
    "        \n",
    "    avg_scores /= length\n",
    "    code2features[code][\"flesch_reading_ease\"] = avg_scores[0]\n",
    "    code2features[code][\"flesch_kincaid_grade\"] = avg_scores[1]\n",
    "    code2features[code][\"gunning_fog\"] = avg_scores[2]\n",
    "    code2features[code][\"smog_index\"] = avg_scores[3]\n",
    "    code2features[code][\"automated_readability_index\"] = avg_scores[4]\n",
    "    code2features[code][\"coleman_liau_index\"] = avg_scores[5]\n",
    "    code2features[code][\"linsear_write_formula\"] = avg_scores[6]\n",
    "    code2features[code][\"dale_chall_readability_score\"] = avg_scores[7]"
   ]
  },
  {
   "cell_type": "code",
   "execution_count": 49,
   "metadata": {},
   "outputs": [
    {
     "data": {
      "text/html": [
       "<div>\n",
       "<style scoped>\n",
       "    .dataframe tbody tr th:only-of-type {\n",
       "        vertical-align: middle;\n",
       "    }\n",
       "\n",
       "    .dataframe tbody tr th {\n",
       "        vertical-align: top;\n",
       "    }\n",
       "\n",
       "    .dataframe thead th {\n",
       "        text-align: right;\n",
       "    }\n",
       "</style>\n",
       "<table border=\"1\" class=\"dataframe\">\n",
       "  <thead>\n",
       "    <tr style=\"text-align: right;\">\n",
       "      <th></th>\n",
       "      <th>#user_prompts</th>\n",
       "      <th>prompt_avg_words</th>\n",
       "      <th>response_avg_words</th>\n",
       "      <th>whitelist_score</th>\n",
       "      <th>blacklist_score</th>\n",
       "      <th>average_sentiment</th>\n",
       "      <th>bert_average_sentiment</th>\n",
       "      <th>flesch_reading_ease</th>\n",
       "      <th>flesch_kincaid_grade</th>\n",
       "      <th>gunning_fog</th>\n",
       "      <th>smog_index</th>\n",
       "      <th>automated_readability_index</th>\n",
       "      <th>coleman_liau_index</th>\n",
       "      <th>linsear_write_formula</th>\n",
       "      <th>dale_chall_readability_score</th>\n",
       "    </tr>\n",
       "  </thead>\n",
       "  <tbody>\n",
       "    <tr>\n",
       "      <th>0031c86e-81f4-4eef-9e0e-28037abf9883</th>\n",
       "      <td>14.0</td>\n",
       "      <td>0.322617</td>\n",
       "      <td>26.255108</td>\n",
       "      <td>1.083646</td>\n",
       "      <td>2.513837</td>\n",
       "      <td>0.139457</td>\n",
       "      <td>-0.772049</td>\n",
       "      <td>53.983571</td>\n",
       "      <td>9.700000</td>\n",
       "      <td>10.689286</td>\n",
       "      <td>9.214286</td>\n",
       "      <td>12.257143</td>\n",
       "      <td>12.083571</td>\n",
       "      <td>9.912202</td>\n",
       "      <td>10.762143</td>\n",
       "    </tr>\n",
       "    <tr>\n",
       "      <th>0225686d-b825-4cac-8691-3a3a5343df2b</th>\n",
       "      <td>18.0</td>\n",
       "      <td>0.055791</td>\n",
       "      <td>16.578947</td>\n",
       "      <td>0.015664</td>\n",
       "      <td>0.172117</td>\n",
       "      <td>0.130718</td>\n",
       "      <td>-0.709885</td>\n",
       "      <td>53.115556</td>\n",
       "      <td>9.316667</td>\n",
       "      <td>10.090556</td>\n",
       "      <td>4.238889</td>\n",
       "      <td>11.316667</td>\n",
       "      <td>11.445000</td>\n",
       "      <td>7.929960</td>\n",
       "      <td>10.306111</td>\n",
       "    </tr>\n",
       "    <tr>\n",
       "      <th>041f950b-c013-409a-a642-cffff60b9d4b</th>\n",
       "      <td>9.0</td>\n",
       "      <td>0.053652</td>\n",
       "      <td>3.065649</td>\n",
       "      <td>0.958006</td>\n",
       "      <td>2.222222</td>\n",
       "      <td>-0.021337</td>\n",
       "      <td>-0.777762</td>\n",
       "      <td>55.614444</td>\n",
       "      <td>8.466667</td>\n",
       "      <td>10.252222</td>\n",
       "      <td>2.577778</td>\n",
       "      <td>13.522222</td>\n",
       "      <td>13.424444</td>\n",
       "      <td>10.027778</td>\n",
       "      <td>11.495556</td>\n",
       "    </tr>\n",
       "    <tr>\n",
       "      <th>04f91058-d0f8-4324-83b2-19c671f433dc</th>\n",
       "      <td>20.0</td>\n",
       "      <td>0.017632</td>\n",
       "      <td>13.347445</td>\n",
       "      <td>0.256917</td>\n",
       "      <td>0.520532</td>\n",
       "      <td>0.004042</td>\n",
       "      <td>-0.770788</td>\n",
       "      <td>66.300000</td>\n",
       "      <td>7.365000</td>\n",
       "      <td>8.794500</td>\n",
       "      <td>0.650000</td>\n",
       "      <td>9.255000</td>\n",
       "      <td>9.610000</td>\n",
       "      <td>7.658333</td>\n",
       "      <td>10.251000</td>\n",
       "    </tr>\n",
       "    <tr>\n",
       "      <th>089eb66d-4c3a-4f58-b98f-a3774a2efb34</th>\n",
       "      <td>86.0</td>\n",
       "      <td>0.003110</td>\n",
       "      <td>2.697958</td>\n",
       "      <td>0.492118</td>\n",
       "      <td>0.092019</td>\n",
       "      <td>0.089507</td>\n",
       "      <td>-0.746055</td>\n",
       "      <td>56.105116</td>\n",
       "      <td>8.709302</td>\n",
       "      <td>9.846860</td>\n",
       "      <td>3.055814</td>\n",
       "      <td>14.056977</td>\n",
       "      <td>14.135581</td>\n",
       "      <td>7.978654</td>\n",
       "      <td>10.773023</td>\n",
       "    </tr>\n",
       "  </tbody>\n",
       "</table>\n",
       "</div>"
      ],
      "text/plain": [
       "                                      #user_prompts  prompt_avg_words  \\\n",
       "0031c86e-81f4-4eef-9e0e-28037abf9883           14.0          0.322617   \n",
       "0225686d-b825-4cac-8691-3a3a5343df2b           18.0          0.055791   \n",
       "041f950b-c013-409a-a642-cffff60b9d4b            9.0          0.053652   \n",
       "04f91058-d0f8-4324-83b2-19c671f433dc           20.0          0.017632   \n",
       "089eb66d-4c3a-4f58-b98f-a3774a2efb34           86.0          0.003110   \n",
       "\n",
       "                                      response_avg_words  whitelist_score  \\\n",
       "0031c86e-81f4-4eef-9e0e-28037abf9883           26.255108         1.083646   \n",
       "0225686d-b825-4cac-8691-3a3a5343df2b           16.578947         0.015664   \n",
       "041f950b-c013-409a-a642-cffff60b9d4b            3.065649         0.958006   \n",
       "04f91058-d0f8-4324-83b2-19c671f433dc           13.347445         0.256917   \n",
       "089eb66d-4c3a-4f58-b98f-a3774a2efb34            2.697958         0.492118   \n",
       "\n",
       "                                      blacklist_score  average_sentiment  \\\n",
       "0031c86e-81f4-4eef-9e0e-28037abf9883         2.513837           0.139457   \n",
       "0225686d-b825-4cac-8691-3a3a5343df2b         0.172117           0.130718   \n",
       "041f950b-c013-409a-a642-cffff60b9d4b         2.222222          -0.021337   \n",
       "04f91058-d0f8-4324-83b2-19c671f433dc         0.520532           0.004042   \n",
       "089eb66d-4c3a-4f58-b98f-a3774a2efb34         0.092019           0.089507   \n",
       "\n",
       "                                      bert_average_sentiment  \\\n",
       "0031c86e-81f4-4eef-9e0e-28037abf9883               -0.772049   \n",
       "0225686d-b825-4cac-8691-3a3a5343df2b               -0.709885   \n",
       "041f950b-c013-409a-a642-cffff60b9d4b               -0.777762   \n",
       "04f91058-d0f8-4324-83b2-19c671f433dc               -0.770788   \n",
       "089eb66d-4c3a-4f58-b98f-a3774a2efb34               -0.746055   \n",
       "\n",
       "                                      flesch_reading_ease  \\\n",
       "0031c86e-81f4-4eef-9e0e-28037abf9883            53.983571   \n",
       "0225686d-b825-4cac-8691-3a3a5343df2b            53.115556   \n",
       "041f950b-c013-409a-a642-cffff60b9d4b            55.614444   \n",
       "04f91058-d0f8-4324-83b2-19c671f433dc            66.300000   \n",
       "089eb66d-4c3a-4f58-b98f-a3774a2efb34            56.105116   \n",
       "\n",
       "                                      flesch_kincaid_grade  gunning_fog  \\\n",
       "0031c86e-81f4-4eef-9e0e-28037abf9883              9.700000    10.689286   \n",
       "0225686d-b825-4cac-8691-3a3a5343df2b              9.316667    10.090556   \n",
       "041f950b-c013-409a-a642-cffff60b9d4b              8.466667    10.252222   \n",
       "04f91058-d0f8-4324-83b2-19c671f433dc              7.365000     8.794500   \n",
       "089eb66d-4c3a-4f58-b98f-a3774a2efb34              8.709302     9.846860   \n",
       "\n",
       "                                      smog_index  automated_readability_index  \\\n",
       "0031c86e-81f4-4eef-9e0e-28037abf9883    9.214286                    12.257143   \n",
       "0225686d-b825-4cac-8691-3a3a5343df2b    4.238889                    11.316667   \n",
       "041f950b-c013-409a-a642-cffff60b9d4b    2.577778                    13.522222   \n",
       "04f91058-d0f8-4324-83b2-19c671f433dc    0.650000                     9.255000   \n",
       "089eb66d-4c3a-4f58-b98f-a3774a2efb34    3.055814                    14.056977   \n",
       "\n",
       "                                      coleman_liau_index  \\\n",
       "0031c86e-81f4-4eef-9e0e-28037abf9883           12.083571   \n",
       "0225686d-b825-4cac-8691-3a3a5343df2b           11.445000   \n",
       "041f950b-c013-409a-a642-cffff60b9d4b           13.424444   \n",
       "04f91058-d0f8-4324-83b2-19c671f433dc            9.610000   \n",
       "089eb66d-4c3a-4f58-b98f-a3774a2efb34           14.135581   \n",
       "\n",
       "                                      linsear_write_formula  \\\n",
       "0031c86e-81f4-4eef-9e0e-28037abf9883               9.912202   \n",
       "0225686d-b825-4cac-8691-3a3a5343df2b               7.929960   \n",
       "041f950b-c013-409a-a642-cffff60b9d4b              10.027778   \n",
       "04f91058-d0f8-4324-83b2-19c671f433dc               7.658333   \n",
       "089eb66d-4c3a-4f58-b98f-a3774a2efb34               7.978654   \n",
       "\n",
       "                                      dale_chall_readability_score  \n",
       "0031c86e-81f4-4eef-9e0e-28037abf9883                     10.762143  \n",
       "0225686d-b825-4cac-8691-3a3a5343df2b                     10.306111  \n",
       "041f950b-c013-409a-a642-cffff60b9d4b                     11.495556  \n",
       "04f91058-d0f8-4324-83b2-19c671f433dc                     10.251000  \n",
       "089eb66d-4c3a-4f58-b98f-a3774a2efb34                     10.773023  "
      ]
     },
     "execution_count": 49,
     "metadata": {},
     "output_type": "execute_result"
    }
   ],
   "source": [
    "df = pd.DataFrame(code2features).T\n",
    "df.head(5)"
   ]
  },
  {
   "cell_type": "markdown",
   "metadata": {},
   "source": [
    "### Read the Scores"
   ]
  },
  {
   "cell_type": "code",
   "execution_count": 50,
   "metadata": {},
   "outputs": [
    {
     "data": {
      "text/html": [
       "<div>\n",
       "<style scoped>\n",
       "    .dataframe tbody tr th:only-of-type {\n",
       "        vertical-align: middle;\n",
       "    }\n",
       "\n",
       "    .dataframe tbody tr th {\n",
       "        vertical-align: top;\n",
       "    }\n",
       "\n",
       "    .dataframe thead th {\n",
       "        text-align: right;\n",
       "    }\n",
       "</style>\n",
       "<table border=\"1\" class=\"dataframe\">\n",
       "  <thead>\n",
       "    <tr style=\"text-align: right;\">\n",
       "      <th></th>\n",
       "      <th>code</th>\n",
       "      <th>grade</th>\n",
       "    </tr>\n",
       "  </thead>\n",
       "  <tbody>\n",
       "    <tr>\n",
       "      <th>0</th>\n",
       "      <td>6a2003ad-a05a-41c9-9d48-e98491a90499</td>\n",
       "      <td>90.0</td>\n",
       "    </tr>\n",
       "    <tr>\n",
       "      <th>1</th>\n",
       "      <td>04f91058-d0f8-4324-83b2-19c671f433dc</td>\n",
       "      <td>97.0</td>\n",
       "    </tr>\n",
       "    <tr>\n",
       "      <th>2</th>\n",
       "      <td>81fdeb2a-e7e5-4a05-8058-d31ea579b0d9</td>\n",
       "      <td>94.0</td>\n",
       "    </tr>\n",
       "    <tr>\n",
       "      <th>3</th>\n",
       "      <td>6a903495-c5be-4263-b4dd-75e2bbc30434</td>\n",
       "      <td>97.0</td>\n",
       "    </tr>\n",
       "    <tr>\n",
       "      <th>4</th>\n",
       "      <td>6d5742c1-77c4-429c-8f6e-ef1262ca5557</td>\n",
       "      <td>93.0</td>\n",
       "    </tr>\n",
       "  </tbody>\n",
       "</table>\n",
       "</div>"
      ],
      "text/plain": [
       "                                   code  grade\n",
       "0  6a2003ad-a05a-41c9-9d48-e98491a90499   90.0\n",
       "1  04f91058-d0f8-4324-83b2-19c671f433dc   97.0\n",
       "2  81fdeb2a-e7e5-4a05-8058-d31ea579b0d9   94.0\n",
       "3  6a903495-c5be-4263-b4dd-75e2bbc30434   97.0\n",
       "4  6d5742c1-77c4-429c-8f6e-ef1262ca5557   93.0"
      ]
     },
     "execution_count": 50,
     "metadata": {},
     "output_type": "execute_result"
    }
   ],
   "source": [
    "# reading the scores\n",
    "scores = pd.read_csv(\"../scores.csv\", sep=\",\")\n",
    "scores[\"code\"] = scores[\"code\"].apply(lambda x: x.strip())\n",
    "\n",
    "# selecting the columns we need and we care\n",
    "scores = scores[[\"code\", \"grade\"]]\n",
    "\n",
    "# show some examples\n",
    "scores.head()"
   ]
  },
  {
   "cell_type": "code",
   "execution_count": 51,
   "metadata": {},
   "outputs": [
    {
     "data": {
      "image/png": "[encoded data removed]",
      "text/plain": [
       "<Figure size 640x480 with 1 Axes>"
      ]
     },
     "metadata": {},
     "output_type": "display_data"
    }
   ],
   "source": [
    "# Let's check grades distribution\n",
    "\n",
    "plt.title('Histogram Grades')\n",
    "plt.hist(scores[\"grade\"], rwidth=.8, bins=np.arange(min(scores[\"grade\"]), max(scores[\"grade\"])+2) - 0.5)\n",
    "plt.ylabel('Count')\n",
    "plt.show()"
   ]
  },
  {
   "cell_type": "code",
   "execution_count": 52,
   "metadata": {},
   "outputs": [
    {
     "data": {
      "text/html": [
       "<div>\n",
       "<style scoped>\n",
       "    .dataframe tbody tr th:only-of-type {\n",
       "        vertical-align: middle;\n",
       "    }\n",
       "\n",
       "    .dataframe tbody tr th {\n",
       "        vertical-align: top;\n",
       "    }\n",
       "\n",
       "    .dataframe thead th {\n",
       "        text-align: right;\n",
       "    }\n",
       "</style>\n",
       "<table border=\"1\" class=\"dataframe\">\n",
       "  <thead>\n",
       "    <tr style=\"text-align: right;\">\n",
       "      <th></th>\n",
       "      <th>code</th>\n",
       "      <th>#user_prompts</th>\n",
       "      <th>prompt_avg_words</th>\n",
       "      <th>response_avg_words</th>\n",
       "      <th>whitelist_score</th>\n",
       "      <th>blacklist_score</th>\n",
       "      <th>average_sentiment</th>\n",
       "      <th>bert_average_sentiment</th>\n",
       "      <th>flesch_reading_ease</th>\n",
       "      <th>flesch_kincaid_grade</th>\n",
       "      <th>gunning_fog</th>\n",
       "      <th>smog_index</th>\n",
       "      <th>automated_readability_index</th>\n",
       "      <th>coleman_liau_index</th>\n",
       "      <th>linsear_write_formula</th>\n",
       "      <th>dale_chall_readability_score</th>\n",
       "    </tr>\n",
       "  </thead>\n",
       "  <tbody>\n",
       "    <tr>\n",
       "      <th>0</th>\n",
       "      <td>0031c86e-81f4-4eef-9e0e-28037abf9883</td>\n",
       "      <td>14.0</td>\n",
       "      <td>0.322617</td>\n",
       "      <td>26.255108</td>\n",
       "      <td>1.083646</td>\n",
       "      <td>2.513837</td>\n",
       "      <td>0.139457</td>\n",
       "      <td>-0.772049</td>\n",
       "      <td>53.983571</td>\n",
       "      <td>9.700000</td>\n",
       "      <td>10.689286</td>\n",
       "      <td>9.214286</td>\n",
       "      <td>12.257143</td>\n",
       "      <td>12.083571</td>\n",
       "      <td>9.912202</td>\n",
       "      <td>10.762143</td>\n",
       "    </tr>\n",
       "    <tr>\n",
       "      <th>1</th>\n",
       "      <td>0225686d-b825-4cac-8691-3a3a5343df2b</td>\n",
       "      <td>18.0</td>\n",
       "      <td>0.055791</td>\n",
       "      <td>16.578947</td>\n",
       "      <td>0.015664</td>\n",
       "      <td>0.172117</td>\n",
       "      <td>0.130718</td>\n",
       "      <td>-0.709885</td>\n",
       "      <td>53.115556</td>\n",
       "      <td>9.316667</td>\n",
       "      <td>10.090556</td>\n",
       "      <td>4.238889</td>\n",
       "      <td>11.316667</td>\n",
       "      <td>11.445000</td>\n",
       "      <td>7.929960</td>\n",
       "      <td>10.306111</td>\n",
       "    </tr>\n",
       "    <tr>\n",
       "      <th>2</th>\n",
       "      <td>041f950b-c013-409a-a642-cffff60b9d4b</td>\n",
       "      <td>9.0</td>\n",
       "      <td>0.053652</td>\n",
       "      <td>3.065649</td>\n",
       "      <td>0.958006</td>\n",
       "      <td>2.222222</td>\n",
       "      <td>-0.021337</td>\n",
       "      <td>-0.777762</td>\n",
       "      <td>55.614444</td>\n",
       "      <td>8.466667</td>\n",
       "      <td>10.252222</td>\n",
       "      <td>2.577778</td>\n",
       "      <td>13.522222</td>\n",
       "      <td>13.424444</td>\n",
       "      <td>10.027778</td>\n",
       "      <td>11.495556</td>\n",
       "    </tr>\n",
       "    <tr>\n",
       "      <th>3</th>\n",
       "      <td>04f91058-d0f8-4324-83b2-19c671f433dc</td>\n",
       "      <td>20.0</td>\n",
       "      <td>0.017632</td>\n",
       "      <td>13.347445</td>\n",
       "      <td>0.256917</td>\n",
       "      <td>0.520532</td>\n",
       "      <td>0.004042</td>\n",
       "      <td>-0.770788</td>\n",
       "      <td>66.300000</td>\n",
       "      <td>7.365000</td>\n",
       "      <td>8.794500</td>\n",
       "      <td>0.650000</td>\n",
       "      <td>9.255000</td>\n",
       "      <td>9.610000</td>\n",
       "      <td>7.658333</td>\n",
       "      <td>10.251000</td>\n",
       "    </tr>\n",
       "    <tr>\n",
       "      <th>4</th>\n",
       "      <td>089eb66d-4c3a-4f58-b98f-a3774a2efb34</td>\n",
       "      <td>86.0</td>\n",
       "      <td>0.003110</td>\n",
       "      <td>2.697958</td>\n",
       "      <td>0.492118</td>\n",
       "      <td>0.092019</td>\n",
       "      <td>0.089507</td>\n",
       "      <td>-0.746055</td>\n",
       "      <td>56.105116</td>\n",
       "      <td>8.709302</td>\n",
       "      <td>9.846860</td>\n",
       "      <td>3.055814</td>\n",
       "      <td>14.056977</td>\n",
       "      <td>14.135581</td>\n",
       "      <td>7.978654</td>\n",
       "      <td>10.773023</td>\n",
       "    </tr>\n",
       "  </tbody>\n",
       "</table>\n",
       "</div>"
      ],
      "text/plain": [
       "                                   code  #user_prompts  prompt_avg_words  \\\n",
       "0  0031c86e-81f4-4eef-9e0e-28037abf9883           14.0          0.322617   \n",
       "1  0225686d-b825-4cac-8691-3a3a5343df2b           18.0          0.055791   \n",
       "2  041f950b-c013-409a-a642-cffff60b9d4b            9.0          0.053652   \n",
       "3  04f91058-d0f8-4324-83b2-19c671f433dc           20.0          0.017632   \n",
       "4  089eb66d-4c3a-4f58-b98f-a3774a2efb34           86.0          0.003110   \n",
       "\n",
       "   response_avg_words  whitelist_score  blacklist_score  average_sentiment  \\\n",
       "0           26.255108         1.083646         2.513837           0.139457   \n",
       "1           16.578947         0.015664         0.172117           0.130718   \n",
       "2            3.065649         0.958006         2.222222          -0.021337   \n",
       "3           13.347445         0.256917         0.520532           0.004042   \n",
       "4            2.697958         0.492118         0.092019           0.089507   \n",
       "\n",
       "   bert_average_sentiment  flesch_reading_ease  flesch_kincaid_grade  \\\n",
       "0               -0.772049            53.983571              9.700000   \n",
       "1               -0.709885            53.115556              9.316667   \n",
       "2               -0.777762            55.614444              8.466667   \n",
       "3               -0.770788            66.300000              7.365000   \n",
       "4               -0.746055            56.105116              8.709302   \n",
       "\n",
       "   gunning_fog  smog_index  automated_readability_index  coleman_liau_index  \\\n",
       "0    10.689286    9.214286                    12.257143           12.083571   \n",
       "1    10.090556    4.238889                    11.316667           11.445000   \n",
       "2    10.252222    2.577778                    13.522222           13.424444   \n",
       "3     8.794500    0.650000                     9.255000            9.610000   \n",
       "4     9.846860    3.055814                    14.056977           14.135581   \n",
       "\n",
       "   linsear_write_formula  dale_chall_readability_score  \n",
       "0               9.912202                     10.762143  \n",
       "1               7.929960                     10.306111  \n",
       "2              10.027778                     11.495556  \n",
       "3               7.658333                     10.251000  \n",
       "4               7.978654                     10.773023  "
      ]
     },
     "execution_count": 52,
     "metadata": {},
     "output_type": "execute_result"
    }
   ],
   "source": [
    "df.reset_index(inplace=True, drop=False)\n",
    "df.rename(columns={\"index\": \"code\"}, inplace=True)\n",
    "df.head()"
   ]
  },
  {
   "cell_type": "markdown",
   "metadata": {},
   "source": [
    "#### Merging scores with features"
   ]
  },
  {
   "cell_type": "code",
   "execution_count": 53,
   "metadata": {},
   "outputs": [
    {
     "data": {
      "text/html": [
       "<div>\n",
       "<style scoped>\n",
       "    .dataframe tbody tr th:only-of-type {\n",
       "        vertical-align: middle;\n",
       "    }\n",
       "\n",
       "    .dataframe tbody tr th {\n",
       "        vertical-align: top;\n",
       "    }\n",
       "\n",
       "    .dataframe thead th {\n",
       "        text-align: right;\n",
       "    }\n",
       "</style>\n",
       "<table border=\"1\" class=\"dataframe\">\n",
       "  <thead>\n",
       "    <tr style=\"text-align: right;\">\n",
       "      <th></th>\n",
       "      <th>code</th>\n",
       "      <th>#user_prompts</th>\n",
       "      <th>prompt_avg_words</th>\n",
       "      <th>response_avg_words</th>\n",
       "      <th>whitelist_score</th>\n",
       "      <th>blacklist_score</th>\n",
       "      <th>average_sentiment</th>\n",
       "      <th>bert_average_sentiment</th>\n",
       "      <th>flesch_reading_ease</th>\n",
       "      <th>flesch_kincaid_grade</th>\n",
       "      <th>gunning_fog</th>\n",
       "      <th>smog_index</th>\n",
       "      <th>automated_readability_index</th>\n",
       "      <th>coleman_liau_index</th>\n",
       "      <th>linsear_write_formula</th>\n",
       "      <th>dale_chall_readability_score</th>\n",
       "      <th>grade</th>\n",
       "    </tr>\n",
       "  </thead>\n",
       "  <tbody>\n",
       "    <tr>\n",
       "      <th>0</th>\n",
       "      <td>0031c86e-81f4-4eef-9e0e-28037abf9883</td>\n",
       "      <td>14.0</td>\n",
       "      <td>0.322617</td>\n",
       "      <td>26.255108</td>\n",
       "      <td>1.083646</td>\n",
       "      <td>2.513837</td>\n",
       "      <td>0.139457</td>\n",
       "      <td>-0.772049</td>\n",
       "      <td>53.983571</td>\n",
       "      <td>9.700000</td>\n",
       "      <td>10.689286</td>\n",
       "      <td>9.214286</td>\n",
       "      <td>12.257143</td>\n",
       "      <td>12.083571</td>\n",
       "      <td>9.912202</td>\n",
       "      <td>10.762143</td>\n",
       "      <td>48.0</td>\n",
       "    </tr>\n",
       "    <tr>\n",
       "      <th>1</th>\n",
       "      <td>0225686d-b825-4cac-8691-3a3a5343df2b</td>\n",
       "      <td>18.0</td>\n",
       "      <td>0.055791</td>\n",
       "      <td>16.578947</td>\n",
       "      <td>0.015664</td>\n",
       "      <td>0.172117</td>\n",
       "      <td>0.130718</td>\n",
       "      <td>-0.709885</td>\n",
       "      <td>53.115556</td>\n",
       "      <td>9.316667</td>\n",
       "      <td>10.090556</td>\n",
       "      <td>4.238889</td>\n",
       "      <td>11.316667</td>\n",
       "      <td>11.445000</td>\n",
       "      <td>7.929960</td>\n",
       "      <td>10.306111</td>\n",
       "      <td>99.0</td>\n",
       "    </tr>\n",
       "    <tr>\n",
       "      <th>2</th>\n",
       "      <td>041f950b-c013-409a-a642-cffff60b9d4b</td>\n",
       "      <td>9.0</td>\n",
       "      <td>0.053652</td>\n",
       "      <td>3.065649</td>\n",
       "      <td>0.958006</td>\n",
       "      <td>2.222222</td>\n",
       "      <td>-0.021337</td>\n",
       "      <td>-0.777762</td>\n",
       "      <td>55.614444</td>\n",
       "      <td>8.466667</td>\n",
       "      <td>10.252222</td>\n",
       "      <td>2.577778</td>\n",
       "      <td>13.522222</td>\n",
       "      <td>13.424444</td>\n",
       "      <td>10.027778</td>\n",
       "      <td>11.495556</td>\n",
       "      <td>90.0</td>\n",
       "    </tr>\n",
       "    <tr>\n",
       "      <th>3</th>\n",
       "      <td>04f91058-d0f8-4324-83b2-19c671f433dc</td>\n",
       "      <td>20.0</td>\n",
       "      <td>0.017632</td>\n",
       "      <td>13.347445</td>\n",
       "      <td>0.256917</td>\n",
       "      <td>0.520532</td>\n",
       "      <td>0.004042</td>\n",
       "      <td>-0.770788</td>\n",
       "      <td>66.300000</td>\n",
       "      <td>7.365000</td>\n",
       "      <td>8.794500</td>\n",
       "      <td>0.650000</td>\n",
       "      <td>9.255000</td>\n",
       "      <td>9.610000</td>\n",
       "      <td>7.658333</td>\n",
       "      <td>10.251000</td>\n",
       "      <td>97.0</td>\n",
       "    </tr>\n",
       "    <tr>\n",
       "      <th>4</th>\n",
       "      <td>089eb66d-4c3a-4f58-b98f-a3774a2efb34</td>\n",
       "      <td>86.0</td>\n",
       "      <td>0.003110</td>\n",
       "      <td>2.697958</td>\n",
       "      <td>0.492118</td>\n",
       "      <td>0.092019</td>\n",
       "      <td>0.089507</td>\n",
       "      <td>-0.746055</td>\n",
       "      <td>56.105116</td>\n",
       "      <td>8.709302</td>\n",
       "      <td>9.846860</td>\n",
       "      <td>3.055814</td>\n",
       "      <td>14.056977</td>\n",
       "      <td>14.135581</td>\n",
       "      <td>7.978654</td>\n",
       "      <td>10.773023</td>\n",
       "      <td>100.0</td>\n",
       "    </tr>\n",
       "  </tbody>\n",
       "</table>\n",
       "</div>"
      ],
      "text/plain": [
       "                                   code  #user_prompts  prompt_avg_words  \\\n",
       "0  0031c86e-81f4-4eef-9e0e-28037abf9883           14.0          0.322617   \n",
       "1  0225686d-b825-4cac-8691-3a3a5343df2b           18.0          0.055791   \n",
       "2  041f950b-c013-409a-a642-cffff60b9d4b            9.0          0.053652   \n",
       "3  04f91058-d0f8-4324-83b2-19c671f433dc           20.0          0.017632   \n",
       "4  089eb66d-4c3a-4f58-b98f-a3774a2efb34           86.0          0.003110   \n",
       "\n",
       "   response_avg_words  whitelist_score  blacklist_score  average_sentiment  \\\n",
       "0           26.255108         1.083646         2.513837           0.139457   \n",
       "1           16.578947         0.015664         0.172117           0.130718   \n",
       "2            3.065649         0.958006         2.222222          -0.021337   \n",
       "3           13.347445         0.256917         0.520532           0.004042   \n",
       "4            2.697958         0.492118         0.092019           0.089507   \n",
       "\n",
       "   bert_average_sentiment  flesch_reading_ease  flesch_kincaid_grade  \\\n",
       "0               -0.772049            53.983571              9.700000   \n",
       "1               -0.709885            53.115556              9.316667   \n",
       "2               -0.777762            55.614444              8.466667   \n",
       "3               -0.770788            66.300000              7.365000   \n",
       "4               -0.746055            56.105116              8.709302   \n",
       "\n",
       "   gunning_fog  smog_index  automated_readability_index  coleman_liau_index  \\\n",
       "0    10.689286    9.214286                    12.257143           12.083571   \n",
       "1    10.090556    4.238889                    11.316667           11.445000   \n",
       "2    10.252222    2.577778                    13.522222           13.424444   \n",
       "3     8.794500    0.650000                     9.255000            9.610000   \n",
       "4     9.846860    3.055814                    14.056977           14.135581   \n",
       "\n",
       "   linsear_write_formula  dale_chall_readability_score  grade  \n",
       "0               9.912202                     10.762143   48.0  \n",
       "1               7.929960                     10.306111   99.0  \n",
       "2              10.027778                     11.495556   90.0  \n",
       "3               7.658333                     10.251000   97.0  \n",
       "4               7.978654                     10.773023  100.0  "
      ]
     },
     "execution_count": 53,
     "metadata": {},
     "output_type": "execute_result"
    }
   ],
   "source": [
    "temp_df = pd.merge(df, scores, on='code', how=\"left\")\n",
    "temp_df.dropna(inplace=True)\n",
    "temp_df.drop_duplicates(\"code\",inplace=True, keep=\"first\")\n",
    "temp_df.head()"
   ]
  },
  {
   "cell_type": "markdown",
   "metadata": {},
   "source": [
    "#### Removing Outliers"
   ]
  },
  {
   "cell_type": "code",
   "execution_count": 54,
   "metadata": {},
   "outputs": [
    {
     "name": "stdout",
     "output_type": "stream",
     "text": [
      "(116, 15) (116,)\n"
     ]
    }
   ],
   "source": [
    "# Calculate Q1, Q3, and IQR\n",
    "Q1 = temp_df['grade'].quantile(0.25)\n",
    "Q3 = temp_df['grade'].quantile(0.75)\n",
    "IQR = Q3 - Q1\n",
    "\n",
    "# Define the upper and lower bounds for outliers\n",
    "lower_bound = Q1 - 1.5 * IQR\n",
    "upper_bound = Q3 + 1.5 * IQR\n",
    "\n",
    "# Filter the data frame to remove outliers\n",
    "temp_df = temp_df[(temp_df['grade'] >= lower_bound) & (temp_df['grade'] <= upper_bound)]\n",
    "\n",
    "X = temp_df[temp_df.columns[1:-1]]\n",
    "y = temp_df[\"grade\"].to_numpy()\n",
    "print(X.shape, y.shape)"
   ]
  },
  {
   "cell_type": "markdown",
   "metadata": {},
   "source": [
    "## Feature Selection"
   ]
  },
  {
   "cell_type": "markdown",
   "metadata": {},
   "source": [
    "### Correlation Matrix"
   ]
  },
  {
   "cell_type": "code",
   "execution_count": 55,
   "metadata": {},
   "outputs": [
    {
     "name": "stderr",
     "output_type": "stream",
     "text": [
      "C:\\Users\\salih\\AppData\\Local\\Temp\\ipykernel_1828\\146312205.py:5: FutureWarning: The default value of numeric_only in DataFrame.corr is deprecated. In a future version, it will default to False. Select only valid columns or specify the value of numeric_only to silence this warning.\n",
      "  correlation_matrix = temp_df.corr()\n"
     ]
    },
    {
     "data": {
      "image/png": "[encoded data removed]",
      "text/plain": [
       "<Figure size 2000x200 with 2 Axes>"
      ]
     },
     "metadata": {},
     "output_type": "display_data"
    }
   ],
   "source": [
    "import seaborn as sns\n",
    "# Correlation plot for feature subset selection\n",
    "\n",
    "# Calculating the correlation matrix\n",
    "correlation_matrix = temp_df.corr()\n",
    "\n",
    "corr_with_target = correlation_matrix[['grade']].sort_values(by='grade', ascending=False)\n",
    "\n",
    "fig, ax = plt.subplots()\n",
    "plt.title('Correlation Plot for Attributes')\n",
    "fig.set_size_inches(20,2)\n",
    "sns.heatmap(corr_with_target.T, annot=True, cmap='coolwarm', fmt=\".2f\", linewidths=.5)\n",
    "plt.show()"
   ]
  },
  {
   "cell_type": "code",
   "execution_count": 56,
   "metadata": {},
   "outputs": [
    {
     "data": {
      "image/png": "[encoded data removed]",
      "text/plain": [
       "<Figure size 1000x1000 with 2 Axes>"
      ]
     },
     "metadata": {},
     "output_type": "display_data"
    }
   ],
   "source": [
    "fig, ax = plt.subplots()\n",
    "plt.title('Correlation Plot for Attributes')\n",
    "fig.set_size_inches(10,10)\n",
    "sns.heatmap(correlation_matrix, annot=True, cmap='coolwarm', fmt=\".2f\", linewidths=.5)\n",
    "plt.show()"
   ]
  },
  {
   "cell_type": "markdown",
   "metadata": {},
   "source": [
    "We eliminate the features with the least correlation with grade & most correlation with other features (they both do not contribute to the information about target and carrying similar information to other features)."
   ]
  },
  {
   "cell_type": "code",
   "execution_count": 83,
   "metadata": {},
   "outputs": [],
   "source": [
    "X = temp_df[temp_df.columns[1:-1]]"
   ]
  },
  {
   "cell_type": "code",
   "execution_count": 74,
   "metadata": {},
   "outputs": [],
   "source": [
    "subset_of_features = ['#user_prompts', 'blacklist_score', 'average_sentiment',\n",
    "       'flesch_reading_ease', 'gunning_fog', 'smog_index', 'coleman_liau_index']\n",
    "\n",
    "X = temp_df[subset_of_features]"
   ]
  },
  {
   "cell_type": "code",
   "execution_count": 84,
   "metadata": {},
   "outputs": [
    {
     "name": "stdout",
     "output_type": "stream",
     "text": [
      "Index(['#user_prompts', 'prompt_avg_words', 'response_avg_words',\n",
      "       'whitelist_score', 'blacklist_score', 'average_sentiment',\n",
      "       'bert_average_sentiment', 'flesch_reading_ease', 'flesch_kincaid_grade',\n",
      "       'gunning_fog', 'smog_index', 'automated_readability_index',\n",
      "       'coleman_liau_index', 'linsear_write_formula',\n",
      "       'dale_chall_readability_score'],\n",
      "      dtype='object')\n"
     ]
    }
   ],
   "source": [
    "print(X.columns)"
   ]
  },
  {
   "cell_type": "markdown",
   "metadata": {},
   "source": [
    "### Train/Test split"
   ]
  },
  {
   "cell_type": "code",
   "execution_count": 85,
   "metadata": {},
   "outputs": [
    {
     "name": "stdout",
     "output_type": "stream",
     "text": [
      "Train set size: 92\n",
      "Test set size: 24\n"
     ]
    }
   ],
   "source": [
    "X_train, X_test, y_train, y_test = train_test_split(X, y, test_size=0.2, random_state=2)\n",
    "print(\"Train set size:\", len(X_train))\n",
    "print(\"Test set size:\", len(X_test))"
   ]
  },
  {
   "cell_type": "markdown",
   "metadata": {},
   "source": [
    "### Forward / Backward Selection"
   ]
  },
  {
   "cell_type": "code",
   "execution_count": 86,
   "metadata": {},
   "outputs": [
    {
     "name": "stdout",
     "output_type": "stream",
     "text": [
      "Index(['blacklist_score', 'average_sentiment', 'bert_average_sentiment',\n",
      "       'coleman_liau_index', 'dale_chall_readability_score'],\n",
      "      dtype='object')\n"
     ]
    }
   ],
   "source": [
    "from sklearn.svm import SVR\n",
    "from mlxtend.feature_selection import SequentialFeatureSelector\n",
    "\n",
    "\n",
    "# Define the forward selection model\n",
    "forward_selector = SequentialFeatureSelector(SVR(),          # Change for different models\n",
    "                                             k_features='best',\n",
    "                                             forward=False,\n",
    "                                             scoring='neg_mean_squared_error', \n",
    "                                             cv=5)\n",
    "\n",
    "# Fit the forward selection model\n",
    "forward_selector = forward_selector.fit(X_train, y_train)\n",
    "\n",
    "# Get the selected features\n",
    "selected_features = X_train.columns[list(forward_selector.k_feature_idx_)]\n",
    "print(selected_features)"
   ]
  },
  {
   "cell_type": "code",
   "execution_count": 88,
   "metadata": {},
   "outputs": [],
   "source": [
    "X_train = X_train[selected_features]\n",
    "X_test = X_test[selected_features]"
   ]
  },
  {
   "cell_type": "code",
   "execution_count": 89,
   "metadata": {},
   "outputs": [
    {
     "data": {
      "text/plain": [
       "Index(['blacklist_score', 'average_sentiment', 'bert_average_sentiment',\n",
       "       'coleman_liau_index', 'dale_chall_readability_score'],\n",
       "      dtype='object')"
      ]
     },
     "execution_count": 89,
     "metadata": {},
     "output_type": "execute_result"
    }
   ],
   "source": [
    "X_train.columns"
   ]
  },
  {
   "cell_type": "markdown",
   "metadata": {},
   "source": [
    "## Model Fitting & Evaluation"
   ]
  },
  {
   "cell_type": "code",
   "execution_count": 270,
   "metadata": {},
   "outputs": [
    {
     "data": {
      "text/html": [
       "<style>#sk-container-id-3 {color: black;background-color: white;}#sk-container-id-3 pre{padding: 0;}#sk-container-id-3 div.sk-toggleable {background-color: white;}#sk-container-id-3 label.sk-toggleable__label {cursor: pointer;display: block;width: 100%;margin-bottom: 0;padding: 0.3em;box-sizing: border-box;text-align: center;}#sk-container-id-3 label.sk-toggleable__label-arrow:before {content: \"▸\";float: left;margin-right: 0.25em;color: #696969;}#sk-container-id-3 label.sk-toggleable__label-arrow:hover:before {color: black;}#sk-container-id-3 div.sk-estimator:hover label.sk-toggleable__label-arrow:before {color: black;}#sk-container-id-3 div.sk-toggleable__content {max-height: 0;max-width: 0;overflow: hidden;text-align: left;background-color: #f0f8ff;}#sk-container-id-3 div.sk-toggleable__content pre {margin: 0.2em;color: black;border-radius: 0.25em;background-color: #f0f8ff;}#sk-container-id-3 input.sk-toggleable__control:checked~div.sk-toggleable__content {max-height: 200px;max-width: 100%;overflow: auto;}#sk-container-id-3 input.sk-toggleable__control:checked~label.sk-toggleable__label-arrow:before {content: \"▾\";}#sk-container-id-3 div.sk-estimator input.sk-toggleable__control:checked~label.sk-toggleable__label {background-color: #d4ebff;}#sk-container-id-3 div.sk-label input.sk-toggleable__control:checked~label.sk-toggleable__label {background-color: #d4ebff;}#sk-container-id-3 input.sk-hidden--visually {border: 0;clip: rect(1px 1px 1px 1px);clip: rect(1px, 1px, 1px, 1px);height: 1px;margin: -1px;overflow: hidden;padding: 0;position: absolute;width: 1px;}#sk-container-id-3 div.sk-estimator {font-family: monospace;background-color: #f0f8ff;border: 1px dotted black;border-radius: 0.25em;box-sizing: border-box;margin-bottom: 0.5em;}#sk-container-id-3 div.sk-estimator:hover {background-color: #d4ebff;}#sk-container-id-3 div.sk-parallel-item::after {content: \"\";width: 100%;border-bottom: 1px solid gray;flex-grow: 1;}#sk-container-id-3 div.sk-label:hover label.sk-toggleable__label {background-color: #d4ebff;}#sk-container-id-3 div.sk-serial::before {content: \"\";position: absolute;border-left: 1px solid gray;box-sizing: border-box;top: 0;bottom: 0;left: 50%;z-index: 0;}#sk-container-id-3 div.sk-serial {display: flex;flex-direction: column;align-items: center;background-color: white;padding-right: 0.2em;padding-left: 0.2em;position: relative;}#sk-container-id-3 div.sk-item {position: relative;z-index: 1;}#sk-container-id-3 div.sk-parallel {display: flex;align-items: stretch;justify-content: center;background-color: white;position: relative;}#sk-container-id-3 div.sk-item::before, #sk-container-id-3 div.sk-parallel-item::before {content: \"\";position: absolute;border-left: 1px solid gray;box-sizing: border-box;top: 0;bottom: 0;left: 50%;z-index: -1;}#sk-container-id-3 div.sk-parallel-item {display: flex;flex-direction: column;z-index: 1;position: relative;background-color: white;}#sk-container-id-3 div.sk-parallel-item:first-child::after {align-self: flex-end;width: 50%;}#sk-container-id-3 div.sk-parallel-item:last-child::after {align-self: flex-start;width: 50%;}#sk-container-id-3 div.sk-parallel-item:only-child::after {width: 0;}#sk-container-id-3 div.sk-dashed-wrapped {border: 1px dashed gray;margin: 0 0.4em 0.5em 0.4em;box-sizing: border-box;padding-bottom: 0.4em;background-color: white;}#sk-container-id-3 div.sk-label label {font-family: monospace;font-weight: bold;display: inline-block;line-height: 1.2em;}#sk-container-id-3 div.sk-label-container {text-align: center;}#sk-container-id-3 div.sk-container {/* jupyter's `normalize.less` sets `[hidden] { display: none; }` but bootstrap.min.css set `[hidden] { display: none !important; }` so we also need the `!important` here to be able to override the default hidden behavior on the sphinx rendered scikit-learn.org. See: https://github.com/scikit-learn/scikit-learn/issues/21755 */display: inline-block !important;position: relative;}#sk-container-id-3 div.sk-text-repr-fallback {display: none;}</style><div id=\"sk-container-id-3\" class=\"sk-top-container\"><div class=\"sk-text-repr-fallback\"><pre>DecisionTreeRegressor(max_depth=10, random_state=0)</pre><b>In a Jupyter environment, please rerun this cell to show the HTML representation or trust the notebook. <br />On GitHub, the HTML representation is unable to render, please try loading this page with nbviewer.org.</b></div><div class=\"sk-container\" hidden><div class=\"sk-item\"><div class=\"sk-estimator sk-toggleable\"><input class=\"sk-toggleable__control sk-hidden--visually\" id=\"sk-estimator-id-3\" type=\"checkbox\" checked><label for=\"sk-estimator-id-3\" class=\"sk-toggleable__label sk-toggleable__label-arrow\">DecisionTreeRegressor</label><div class=\"sk-toggleable__content\"><pre>DecisionTreeRegressor(max_depth=10, random_state=0)</pre></div></div></div></div></div>"
      ],
      "text/plain": [
       "DecisionTreeRegressor(max_depth=10, random_state=0)"
      ]
     },
     "execution_count": 270,
     "metadata": {},
     "output_type": "execute_result"
    }
   ],
   "source": [
    "regressor = DecisionTreeRegressor(random_state=0,criterion='squared_error', max_depth=10)\n",
    "regressor.fit(X_train, y_train)"
   ]
  },
  {
   "cell_type": "markdown",
   "metadata": {},
   "source": [
    "### Grid Search with 3 Different Models of Interest"
   ]
  },
  {
   "cell_type": "code",
   "execution_count": 100,
   "metadata": {},
   "outputs": [
    {
     "name": "stdout",
     "output_type": "stream",
     "text": [
      "{'alpha': 0.3, 'max_iter': 1000, 'tol': 0.0001}\n"
     ]
    }
   ],
   "source": [
    "# Grid Search for Lasso Regression\n",
    "from sklearn.model_selection import GridSearchCV\n",
    "from sklearn.linear_model import Lasso\n",
    "\n",
    "# Define the parameter grid\n",
    "param_grid = {'alpha': [0.1, 0.2, 0.3, 0.4, 0.5, 0.6, 0.7, 0.8, 0.9, 1.0],\n",
    "              'max_iter': [1000, 2000, 3000],\n",
    "              'tol': [0.0001, 0.001, 0.01, 0.1]}\n",
    "\n",
    "# Create a Lasso object\n",
    "lasso = Lasso()\n",
    "\n",
    "# Create a GridSearchCV object\n",
    "grid_search = GridSearchCV(estimator=lasso, param_grid=param_grid, scoring='neg_mean_squared_error', cv=5)\n",
    "\n",
    "# Fit the GridSearchCV object\n",
    "grid_search.fit(X_train, y_train)\n",
    "\n",
    "# Get the best parameters\n",
    "best_parameters = grid_search.best_params_\n",
    "\n",
    "print(best_parameters)"
   ]
  },
  {
   "cell_type": "code",
   "execution_count": 101,
   "metadata": {},
   "outputs": [
    {
     "name": "stdout",
     "output_type": "stream",
     "text": [
      "Fitting 3 folds for each of 540 candidates, totalling 1620 fits\n",
      "{'bootstrap': True, 'max_depth': 10, 'min_samples_leaf': 4, 'min_samples_split': 5, 'n_estimators': 100}\n"
     ]
    }
   ],
   "source": [
    "# Grid Search for Random Forest Regression\n",
    "\n",
    "from sklearn.ensemble import RandomForestRegressor\n",
    "from sklearn.model_selection import GridSearchCV\n",
    "\n",
    "\n",
    "# Define the parameter grid\n",
    "param_grid = {\n",
    "    'n_estimators': [100, 200, 300, 400, 500],\n",
    "    'max_depth': [None, 10, 20, 30, 40, 50],\n",
    "    'min_samples_split': [2, 5, 10],\n",
    "    'min_samples_leaf': [1, 2, 4],\n",
    "    'bootstrap': [True, False]\n",
    "}\n",
    "\n",
    "# Create a base model\n",
    "rf = RandomForestRegressor(criterion='squared_error')\n",
    "\n",
    "# Instantiate the grid search model\n",
    "grid_search = GridSearchCV(estimator=rf, param_grid=param_grid, cv=3, n_jobs=-1, verbose=2)\n",
    "\n",
    "# Fit the grid search to the data\n",
    "grid_search.fit(X_train, y_train)\n",
    "\n",
    "# Get the best parameters\n",
    "best_params = grid_search.best_params_\n",
    "print(best_params)"
   ]
  },
  {
   "cell_type": "code",
   "execution_count": 95,
   "metadata": {},
   "outputs": [
    {
     "name": "stdout",
     "output_type": "stream",
     "text": [
      "Fitting 3 folds for each of 48 candidates, totalling 144 fits\n",
      "[CV] END ........C=0.1, degree=2, gamma=scale, kernel=linear; total time=   0.0s\n",
      "[CV] END ........C=0.1, degree=2, gamma=scale, kernel=linear; total time=   0.0s\n",
      "[CV] END ........C=0.1, degree=2, gamma=scale, kernel=linear; total time=   0.0s\n",
      "[CV] END .......C=0.1, degree=2, gamma=scale, kernel=sigmoid; total time=   0.0s\n",
      "[CV] END .......C=0.1, degree=2, gamma=scale, kernel=sigmoid; total time=   0.0s\n",
      "[CV] END .......C=0.1, degree=2, gamma=scale, kernel=sigmoid; total time=   0.0s\n",
      "[CV] END .........C=0.1, degree=2, gamma=auto, kernel=linear; total time=   0.0s\n",
      "[CV] END .........C=0.1, degree=2, gamma=auto, kernel=linear; total time=   0.0s\n",
      "[CV] END .........C=0.1, degree=2, gamma=auto, kernel=linear; total time=   0.0s\n",
      "[CV] END ........C=0.1, degree=2, gamma=auto, kernel=sigmoid; total time=   0.0s\n",
      "[CV] END ........C=0.1, degree=2, gamma=auto, kernel=sigmoid; total time=   0.0s\n",
      "[CV] END ........C=0.1, degree=2, gamma=auto, kernel=sigmoid; total time=   0.0s\n",
      "[CV] END ..........C=0.1, degree=2, gamma=0.1, kernel=linear; total time=   0.0s\n",
      "[CV] END ..........C=0.1, degree=2, gamma=0.1, kernel=linear; total time=   0.0s\n",
      "[CV] END ..........C=0.1, degree=2, gamma=0.1, kernel=linear; total time=   0.0s\n",
      "[CV] END .........C=0.1, degree=2, gamma=0.1, kernel=sigmoid; total time=   0.0s\n",
      "[CV] END .........C=0.1, degree=2, gamma=0.1, kernel=sigmoid; total time=   0.0s\n",
      "[CV] END .........C=0.1, degree=2, gamma=0.1, kernel=sigmoid; total time=   0.0s\n",
      "[CV] END ............C=0.1, degree=2, gamma=1, kernel=linear; total time=   0.0s\n",
      "[CV] END ............C=0.1, degree=2, gamma=1, kernel=linear; total time=   0.0s\n",
      "[CV] END ............C=0.1, degree=2, gamma=1, kernel=linear; total time=   0.0s\n",
      "[CV] END ...........C=0.1, degree=2, gamma=1, kernel=sigmoid; total time=   0.0s\n",
      "[CV] END ...........C=0.1, degree=2, gamma=1, kernel=sigmoid; total time=   0.0s\n",
      "[CV] END ...........C=0.1, degree=2, gamma=1, kernel=sigmoid; total time=   0.0s\n",
      "[CV] END ........C=0.1, degree=3, gamma=scale, kernel=linear; total time=   0.0s\n",
      "[CV] END ........C=0.1, degree=3, gamma=scale, kernel=linear; total time=   0.0s\n",
      "[CV] END ........C=0.1, degree=3, gamma=scale, kernel=linear; total time=   0.0s\n",
      "[CV] END .......C=0.1, degree=3, gamma=scale, kernel=sigmoid; total time=   0.0s\n",
      "[CV] END .......C=0.1, degree=3, gamma=scale, kernel=sigmoid; total time=   0.0s\n",
      "[CV] END .......C=0.1, degree=3, gamma=scale, kernel=sigmoid; total time=   0.0s\n",
      "[CV] END .........C=0.1, degree=3, gamma=auto, kernel=linear; total time=   0.0s\n",
      "[CV] END .........C=0.1, degree=3, gamma=auto, kernel=linear; total time=   0.0s\n",
      "[CV] END .........C=0.1, degree=3, gamma=auto, kernel=linear; total time=   0.0s\n",
      "[CV] END ........C=0.1, degree=3, gamma=auto, kernel=sigmoid; total time=   0.0s\n",
      "[CV] END ........C=0.1, degree=3, gamma=auto, kernel=sigmoid; total time=   0.0s\n",
      "[CV] END ........C=0.1, degree=3, gamma=auto, kernel=sigmoid; total time=   0.0s\n",
      "[CV] END ..........C=0.1, degree=3, gamma=0.1, kernel=linear; total time=   0.0s\n",
      "[CV] END ..........C=0.1, degree=3, gamma=0.1, kernel=linear; total time=   0.0s\n",
      "[CV] END ..........C=0.1, degree=3, gamma=0.1, kernel=linear; total time=   0.0s\n",
      "[CV] END .........C=0.1, degree=3, gamma=0.1, kernel=sigmoid; total time=   0.0s\n",
      "[CV] END .........C=0.1, degree=3, gamma=0.1, kernel=sigmoid; total time=   0.0s\n",
      "[CV] END .........C=0.1, degree=3, gamma=0.1, kernel=sigmoid; total time=   0.0s\n",
      "[CV] END ............C=0.1, degree=3, gamma=1, kernel=linear; total time=   0.0s\n",
      "[CV] END ............C=0.1, degree=3, gamma=1, kernel=linear; total time=   0.0s\n",
      "[CV] END ............C=0.1, degree=3, gamma=1, kernel=linear; total time=   0.0s\n",
      "[CV] END ...........C=0.1, degree=3, gamma=1, kernel=sigmoid; total time=   0.0s\n",
      "[CV] END ...........C=0.1, degree=3, gamma=1, kernel=sigmoid; total time=   0.0s\n",
      "[CV] END ...........C=0.1, degree=3, gamma=1, kernel=sigmoid; total time=   0.0s\n",
      "[CV] END ..........C=1, degree=2, gamma=scale, kernel=linear; total time=   0.0s\n",
      "[CV] END ..........C=1, degree=2, gamma=scale, kernel=linear; total time=   0.0s\n",
      "[CV] END ..........C=1, degree=2, gamma=scale, kernel=linear; total time=   0.0s\n",
      "[CV] END .........C=1, degree=2, gamma=scale, kernel=sigmoid; total time=   0.0s\n",
      "[CV] END .........C=1, degree=2, gamma=scale, kernel=sigmoid; total time=   0.0s\n",
      "[CV] END .........C=1, degree=2, gamma=scale, kernel=sigmoid; total time=   0.0s\n",
      "[CV] END ...........C=1, degree=2, gamma=auto, kernel=linear; total time=   0.0s\n",
      "[CV] END ...........C=1, degree=2, gamma=auto, kernel=linear; total time=   0.0s\n",
      "[CV] END ...........C=1, degree=2, gamma=auto, kernel=linear; total time=   0.0s\n",
      "[CV] END ..........C=1, degree=2, gamma=auto, kernel=sigmoid; total time=   0.0s\n",
      "[CV] END ..........C=1, degree=2, gamma=auto, kernel=sigmoid; total time=   0.0s\n",
      "[CV] END ..........C=1, degree=2, gamma=auto, kernel=sigmoid; total time=   0.0s\n",
      "[CV] END ............C=1, degree=2, gamma=0.1, kernel=linear; total time=   0.0s\n",
      "[CV] END ............C=1, degree=2, gamma=0.1, kernel=linear; total time=   0.0s\n",
      "[CV] END ............C=1, degree=2, gamma=0.1, kernel=linear; total time=   0.0s\n",
      "[CV] END ...........C=1, degree=2, gamma=0.1, kernel=sigmoid; total time=   0.0s\n",
      "[CV] END ...........C=1, degree=2, gamma=0.1, kernel=sigmoid; total time=   0.0s\n",
      "[CV] END ...........C=1, degree=2, gamma=0.1, kernel=sigmoid; total time=   0.0s\n",
      "[CV] END ..............C=1, degree=2, gamma=1, kernel=linear; total time=   0.0s\n",
      "[CV] END ..............C=1, degree=2, gamma=1, kernel=linear; total time=   0.0s\n",
      "[CV] END ..............C=1, degree=2, gamma=1, kernel=linear; total time=   0.0s\n",
      "[CV] END .............C=1, degree=2, gamma=1, kernel=sigmoid; total time=   0.0s\n",
      "[CV] END .............C=1, degree=2, gamma=1, kernel=sigmoid; total time=   0.0s\n",
      "[CV] END .............C=1, degree=2, gamma=1, kernel=sigmoid; total time=   0.0s\n",
      "[CV] END ..........C=1, degree=3, gamma=scale, kernel=linear; total time=   0.0s\n",
      "[CV] END ..........C=1, degree=3, gamma=scale, kernel=linear; total time=   0.0s\n",
      "[CV] END ..........C=1, degree=3, gamma=scale, kernel=linear; total time=   0.0s\n",
      "[CV] END .........C=1, degree=3, gamma=scale, kernel=sigmoid; total time=   0.0s\n",
      "[CV] END .........C=1, degree=3, gamma=scale, kernel=sigmoid; total time=   0.0s\n",
      "[CV] END .........C=1, degree=3, gamma=scale, kernel=sigmoid; total time=   0.0s\n",
      "[CV] END ...........C=1, degree=3, gamma=auto, kernel=linear; total time=   0.0s\n",
      "[CV] END ...........C=1, degree=3, gamma=auto, kernel=linear; total time=   0.0s\n",
      "[CV] END ...........C=1, degree=3, gamma=auto, kernel=linear; total time=   0.0s\n",
      "[CV] END ..........C=1, degree=3, gamma=auto, kernel=sigmoid; total time=   0.0s\n",
      "[CV] END ..........C=1, degree=3, gamma=auto, kernel=sigmoid; total time=   0.0s\n",
      "[CV] END ..........C=1, degree=3, gamma=auto, kernel=sigmoid; total time=   0.0s\n",
      "[CV] END ............C=1, degree=3, gamma=0.1, kernel=linear; total time=   0.0s\n",
      "[CV] END ............C=1, degree=3, gamma=0.1, kernel=linear; total time=   0.0s\n",
      "[CV] END ............C=1, degree=3, gamma=0.1, kernel=linear; total time=   0.0s\n",
      "[CV] END ...........C=1, degree=3, gamma=0.1, kernel=sigmoid; total time=   0.0s\n",
      "[CV] END ...........C=1, degree=3, gamma=0.1, kernel=sigmoid; total time=   0.0s\n",
      "[CV] END ...........C=1, degree=3, gamma=0.1, kernel=sigmoid; total time=   0.0s\n",
      "[CV] END ..............C=1, degree=3, gamma=1, kernel=linear; total time=   0.0s\n",
      "[CV] END ..............C=1, degree=3, gamma=1, kernel=linear; total time=   0.0s\n",
      "[CV] END ..............C=1, degree=3, gamma=1, kernel=linear; total time=   0.0s\n",
      "[CV] END .............C=1, degree=3, gamma=1, kernel=sigmoid; total time=   0.0s\n",
      "[CV] END .............C=1, degree=3, gamma=1, kernel=sigmoid; total time=   0.0s\n",
      "[CV] END .............C=1, degree=3, gamma=1, kernel=sigmoid; total time=   0.0s\n",
      "[CV] END .........C=10, degree=2, gamma=scale, kernel=linear; total time=   0.0s\n",
      "[CV] END .........C=10, degree=2, gamma=scale, kernel=linear; total time=   0.0s\n",
      "[CV] END .........C=10, degree=2, gamma=scale, kernel=linear; total time=   0.0s\n",
      "[CV] END ........C=10, degree=2, gamma=scale, kernel=sigmoid; total time=   0.0s\n",
      "[CV] END ........C=10, degree=2, gamma=scale, kernel=sigmoid; total time=   0.0s\n",
      "[CV] END ........C=10, degree=2, gamma=scale, kernel=sigmoid; total time=   0.0s\n",
      "[CV] END ..........C=10, degree=2, gamma=auto, kernel=linear; total time=   0.0s\n",
      "[CV] END ..........C=10, degree=2, gamma=auto, kernel=linear; total time=   0.0s\n",
      "[CV] END ..........C=10, degree=2, gamma=auto, kernel=linear; total time=   0.0s\n",
      "[CV] END .........C=10, degree=2, gamma=auto, kernel=sigmoid; total time=   0.0s\n",
      "[CV] END .........C=10, degree=2, gamma=auto, kernel=sigmoid; total time=   0.0s\n",
      "[CV] END .........C=10, degree=2, gamma=auto, kernel=sigmoid; total time=   0.0s\n",
      "[CV] END ...........C=10, degree=2, gamma=0.1, kernel=linear; total time=   0.0s\n",
      "[CV] END ...........C=10, degree=2, gamma=0.1, kernel=linear; total time=   0.0s\n",
      "[CV] END ...........C=10, degree=2, gamma=0.1, kernel=linear; total time=   0.0s\n",
      "[CV] END ..........C=10, degree=2, gamma=0.1, kernel=sigmoid; total time=   0.0s\n",
      "[CV] END ..........C=10, degree=2, gamma=0.1, kernel=sigmoid; total time=   0.0s\n",
      "[CV] END ..........C=10, degree=2, gamma=0.1, kernel=sigmoid; total time=   0.0s\n",
      "[CV] END .............C=10, degree=2, gamma=1, kernel=linear; total time=   0.0s\n",
      "[CV] END .............C=10, degree=2, gamma=1, kernel=linear; total time=   0.0s\n",
      "[CV] END .............C=10, degree=2, gamma=1, kernel=linear; total time=   0.0s\n",
      "[CV] END ............C=10, degree=2, gamma=1, kernel=sigmoid; total time=   0.0s\n",
      "[CV] END ............C=10, degree=2, gamma=1, kernel=sigmoid; total time=   0.0s\n",
      "[CV] END ............C=10, degree=2, gamma=1, kernel=sigmoid; total time=   0.0s\n",
      "[CV] END .........C=10, degree=3, gamma=scale, kernel=linear; total time=   0.0s\n",
      "[CV] END .........C=10, degree=3, gamma=scale, kernel=linear; total time=   0.0s\n",
      "[CV] END .........C=10, degree=3, gamma=scale, kernel=linear; total time=   0.0s\n",
      "[CV] END ........C=10, degree=3, gamma=scale, kernel=sigmoid; total time=   0.0s\n",
      "[CV] END ........C=10, degree=3, gamma=scale, kernel=sigmoid; total time=   0.0s\n",
      "[CV] END ........C=10, degree=3, gamma=scale, kernel=sigmoid; total time=   0.0s\n",
      "[CV] END ..........C=10, degree=3, gamma=auto, kernel=linear; total time=   0.0s\n",
      "[CV] END ..........C=10, degree=3, gamma=auto, kernel=linear; total time=   0.0s\n",
      "[CV] END ..........C=10, degree=3, gamma=auto, kernel=linear; total time=   0.0s\n",
      "[CV] END .........C=10, degree=3, gamma=auto, kernel=sigmoid; total time=   0.0s\n",
      "[CV] END .........C=10, degree=3, gamma=auto, kernel=sigmoid; total time=   0.0s\n",
      "[CV] END .........C=10, degree=3, gamma=auto, kernel=sigmoid; total time=   0.0s\n",
      "[CV] END ...........C=10, degree=3, gamma=0.1, kernel=linear; total time=   0.0s\n",
      "[CV] END ...........C=10, degree=3, gamma=0.1, kernel=linear; total time=   0.0s\n",
      "[CV] END ...........C=10, degree=3, gamma=0.1, kernel=linear; total time=   0.0s\n",
      "[CV] END ..........C=10, degree=3, gamma=0.1, kernel=sigmoid; total time=   0.0s\n",
      "[CV] END ..........C=10, degree=3, gamma=0.1, kernel=sigmoid; total time=   0.0s\n",
      "[CV] END ..........C=10, degree=3, gamma=0.1, kernel=sigmoid; total time=   0.0s\n",
      "[CV] END .............C=10, degree=3, gamma=1, kernel=linear; total time=   0.0s\n",
      "[CV] END .............C=10, degree=3, gamma=1, kernel=linear; total time=   0.0s\n",
      "[CV] END .............C=10, degree=3, gamma=1, kernel=linear; total time=   0.0s\n",
      "[CV] END ............C=10, degree=3, gamma=1, kernel=sigmoid; total time=   0.0s\n",
      "[CV] END ............C=10, degree=3, gamma=1, kernel=sigmoid; total time=   0.0s\n",
      "[CV] END ............C=10, degree=3, gamma=1, kernel=sigmoid; total time=   0.0s\n",
      "{'C': 0.1, 'degree': 2, 'gamma': 'scale', 'kernel': 'linear'}\n"
     ]
    }
   ],
   "source": [
    "# Grid Search for SVR\n",
    "\n",
    "from sklearn.svm import SVR\n",
    "from sklearn.model_selection import GridSearchCV\n",
    "import joblib\n",
    "from tqdm import tqdm\n",
    "\n",
    "param_grid = {\n",
    "    'C': [0.1, 1, 10],\n",
    "    'kernel': ['linear', 'sigmoid'],\n",
    "    'degree': [2, 3],\n",
    "    'gamma': ['scale', 'auto', 0.1, 1]\n",
    "}\n",
    "\n",
    "# Create a base model\n",
    "svr = SVR()\n",
    "\n",
    "# Instantiate the grid search model\n",
    "grid_search = GridSearchCV(estimator=svr, param_grid=param_grid, scoring=\"neg_mean_squared_error\", n_jobs=1, cv=3, verbose=2)\n",
    "grid_search.fit(X_train, y_train)\n",
    "\n",
    "# Get the best parameters\n",
    "best_params = grid_search.best_params_\n",
    "print(best_params)"
   ]
  },
  {
   "cell_type": "markdown",
   "metadata": {},
   "source": [
    "### Experimenting with Various Models"
   ]
  },
  {
   "cell_type": "code",
   "execution_count": 102,
   "metadata": {},
   "outputs": [
    {
     "data": {
      "text/html": [
       "<style>#sk-container-id-4 {color: black;background-color: white;}#sk-container-id-4 pre{padding: 0;}#sk-container-id-4 div.sk-toggleable {background-color: white;}#sk-container-id-4 label.sk-toggleable__label {cursor: pointer;display: block;width: 100%;margin-bottom: 0;padding: 0.3em;box-sizing: border-box;text-align: center;}#sk-container-id-4 label.sk-toggleable__label-arrow:before {content: \"▸\";float: left;margin-right: 0.25em;color: #696969;}#sk-container-id-4 label.sk-toggleable__label-arrow:hover:before {color: black;}#sk-container-id-4 div.sk-estimator:hover label.sk-toggleable__label-arrow:before {color: black;}#sk-container-id-4 div.sk-toggleable__content {max-height: 0;max-width: 0;overflow: hidden;text-align: left;background-color: #f0f8ff;}#sk-container-id-4 div.sk-toggleable__content pre {margin: 0.2em;color: black;border-radius: 0.25em;background-color: #f0f8ff;}#sk-container-id-4 input.sk-toggleable__control:checked~div.sk-toggleable__content {max-height: 200px;max-width: 100%;overflow: auto;}#sk-container-id-4 input.sk-toggleable__control:checked~label.sk-toggleable__label-arrow:before {content: \"▾\";}#sk-container-id-4 div.sk-estimator input.sk-toggleable__control:checked~label.sk-toggleable__label {background-color: #d4ebff;}#sk-container-id-4 div.sk-label input.sk-toggleable__control:checked~label.sk-toggleable__label {background-color: #d4ebff;}#sk-container-id-4 input.sk-hidden--visually {border: 0;clip: rect(1px 1px 1px 1px);clip: rect(1px, 1px, 1px, 1px);height: 1px;margin: -1px;overflow: hidden;padding: 0;position: absolute;width: 1px;}#sk-container-id-4 div.sk-estimator {font-family: monospace;background-color: #f0f8ff;border: 1px dotted black;border-radius: 0.25em;box-sizing: border-box;margin-bottom: 0.5em;}#sk-container-id-4 div.sk-estimator:hover {background-color: #d4ebff;}#sk-container-id-4 div.sk-parallel-item::after {content: \"\";width: 100%;border-bottom: 1px solid gray;flex-grow: 1;}#sk-container-id-4 div.sk-label:hover label.sk-toggleable__label {background-color: #d4ebff;}#sk-container-id-4 div.sk-serial::before {content: \"\";position: absolute;border-left: 1px solid gray;box-sizing: border-box;top: 0;bottom: 0;left: 50%;z-index: 0;}#sk-container-id-4 div.sk-serial {display: flex;flex-direction: column;align-items: center;background-color: white;padding-right: 0.2em;padding-left: 0.2em;position: relative;}#sk-container-id-4 div.sk-item {position: relative;z-index: 1;}#sk-container-id-4 div.sk-parallel {display: flex;align-items: stretch;justify-content: center;background-color: white;position: relative;}#sk-container-id-4 div.sk-item::before, #sk-container-id-4 div.sk-parallel-item::before {content: \"\";position: absolute;border-left: 1px solid gray;box-sizing: border-box;top: 0;bottom: 0;left: 50%;z-index: -1;}#sk-container-id-4 div.sk-parallel-item {display: flex;flex-direction: column;z-index: 1;position: relative;background-color: white;}#sk-container-id-4 div.sk-parallel-item:first-child::after {align-self: flex-end;width: 50%;}#sk-container-id-4 div.sk-parallel-item:last-child::after {align-self: flex-start;width: 50%;}#sk-container-id-4 div.sk-parallel-item:only-child::after {width: 0;}#sk-container-id-4 div.sk-dashed-wrapped {border: 1px dashed gray;margin: 0 0.4em 0.5em 0.4em;box-sizing: border-box;padding-bottom: 0.4em;background-color: white;}#sk-container-id-4 div.sk-label label {font-family: monospace;font-weight: bold;display: inline-block;line-height: 1.2em;}#sk-container-id-4 div.sk-label-container {text-align: center;}#sk-container-id-4 div.sk-container {/* jupyter's `normalize.less` sets `[hidden] { display: none; }` but bootstrap.min.css set `[hidden] { display: none !important; }` so we also need the `!important` here to be able to override the default hidden behavior on the sphinx rendered scikit-learn.org. See: https://github.com/scikit-learn/scikit-learn/issues/21755 */display: inline-block !important;position: relative;}#sk-container-id-4 div.sk-text-repr-fallback {display: none;}</style><div id=\"sk-container-id-4\" class=\"sk-top-container\"><div class=\"sk-text-repr-fallback\"><pre>RandomForestRegressor(max_depth=10, min_samples_leaf=4, min_samples_split=5,\n",
       "                      n_estimators=200)</pre><b>In a Jupyter environment, please rerun this cell to show the HTML representation or trust the notebook. <br />On GitHub, the HTML representation is unable to render, please try loading this page with nbviewer.org.</b></div><div class=\"sk-container\" hidden><div class=\"sk-item\"><div class=\"sk-estimator sk-toggleable\"><input class=\"sk-toggleable__control sk-hidden--visually\" id=\"sk-estimator-id-4\" type=\"checkbox\" checked><label for=\"sk-estimator-id-4\" class=\"sk-toggleable__label sk-toggleable__label-arrow\">RandomForestRegressor</label><div class=\"sk-toggleable__content\"><pre>RandomForestRegressor(max_depth=10, min_samples_leaf=4, min_samples_split=5,\n",
       "                      n_estimators=200)</pre></div></div></div></div></div>"
      ],
      "text/plain": [
       "RandomForestRegressor(max_depth=10, min_samples_leaf=4, min_samples_split=5,\n",
       "                      n_estimators=200)"
      ]
     },
     "execution_count": 102,
     "metadata": {},
     "output_type": "execute_result"
    }
   ],
   "source": [
    "# Train a Random Forest Regressor with the best parameters\n",
    "from sklearn.ensemble import RandomForestRegressor\n",
    "\n",
    "regressor = RandomForestRegressor(n_estimators=200, criterion='squared_error', bootstrap= True, max_depth= 10, min_samples_leaf= 4, min_samples_split= 5)\n",
    "regressor.fit(X_train, y_train)"
   ]
  },
  {
   "cell_type": "code",
   "execution_count": 72,
   "metadata": {},
   "outputs": [
    {
     "data": {
      "text/html": [
       "<style>#sk-container-id-1 {color: black;background-color: white;}#sk-container-id-1 pre{padding: 0;}#sk-container-id-1 div.sk-toggleable {background-color: white;}#sk-container-id-1 label.sk-toggleable__label {cursor: pointer;display: block;width: 100%;margin-bottom: 0;padding: 0.3em;box-sizing: border-box;text-align: center;}#sk-container-id-1 label.sk-toggleable__label-arrow:before {content: \"▸\";float: left;margin-right: 0.25em;color: #696969;}#sk-container-id-1 label.sk-toggleable__label-arrow:hover:before {color: black;}#sk-container-id-1 div.sk-estimator:hover label.sk-toggleable__label-arrow:before {color: black;}#sk-container-id-1 div.sk-toggleable__content {max-height: 0;max-width: 0;overflow: hidden;text-align: left;background-color: #f0f8ff;}#sk-container-id-1 div.sk-toggleable__content pre {margin: 0.2em;color: black;border-radius: 0.25em;background-color: #f0f8ff;}#sk-container-id-1 input.sk-toggleable__control:checked~div.sk-toggleable__content {max-height: 200px;max-width: 100%;overflow: auto;}#sk-container-id-1 input.sk-toggleable__control:checked~label.sk-toggleable__label-arrow:before {content: \"▾\";}#sk-container-id-1 div.sk-estimator input.sk-toggleable__control:checked~label.sk-toggleable__label {background-color: #d4ebff;}#sk-container-id-1 div.sk-label input.sk-toggleable__control:checked~label.sk-toggleable__label {background-color: #d4ebff;}#sk-container-id-1 input.sk-hidden--visually {border: 0;clip: rect(1px 1px 1px 1px);clip: rect(1px, 1px, 1px, 1px);height: 1px;margin: -1px;overflow: hidden;padding: 0;position: absolute;width: 1px;}#sk-container-id-1 div.sk-estimator {font-family: monospace;background-color: #f0f8ff;border: 1px dotted black;border-radius: 0.25em;box-sizing: border-box;margin-bottom: 0.5em;}#sk-container-id-1 div.sk-estimator:hover {background-color: #d4ebff;}#sk-container-id-1 div.sk-parallel-item::after {content: \"\";width: 100%;border-bottom: 1px solid gray;flex-grow: 1;}#sk-container-id-1 div.sk-label:hover label.sk-toggleable__label {background-color: #d4ebff;}#sk-container-id-1 div.sk-serial::before {content: \"\";position: absolute;border-left: 1px solid gray;box-sizing: border-box;top: 0;bottom: 0;left: 50%;z-index: 0;}#sk-container-id-1 div.sk-serial {display: flex;flex-direction: column;align-items: center;background-color: white;padding-right: 0.2em;padding-left: 0.2em;position: relative;}#sk-container-id-1 div.sk-item {position: relative;z-index: 1;}#sk-container-id-1 div.sk-parallel {display: flex;align-items: stretch;justify-content: center;background-color: white;position: relative;}#sk-container-id-1 div.sk-item::before, #sk-container-id-1 div.sk-parallel-item::before {content: \"\";position: absolute;border-left: 1px solid gray;box-sizing: border-box;top: 0;bottom: 0;left: 50%;z-index: -1;}#sk-container-id-1 div.sk-parallel-item {display: flex;flex-direction: column;z-index: 1;position: relative;background-color: white;}#sk-container-id-1 div.sk-parallel-item:first-child::after {align-self: flex-end;width: 50%;}#sk-container-id-1 div.sk-parallel-item:last-child::after {align-self: flex-start;width: 50%;}#sk-container-id-1 div.sk-parallel-item:only-child::after {width: 0;}#sk-container-id-1 div.sk-dashed-wrapped {border: 1px dashed gray;margin: 0 0.4em 0.5em 0.4em;box-sizing: border-box;padding-bottom: 0.4em;background-color: white;}#sk-container-id-1 div.sk-label label {font-family: monospace;font-weight: bold;display: inline-block;line-height: 1.2em;}#sk-container-id-1 div.sk-label-container {text-align: center;}#sk-container-id-1 div.sk-container {/* jupyter's `normalize.less` sets `[hidden] { display: none; }` but bootstrap.min.css set `[hidden] { display: none !important; }` so we also need the `!important` here to be able to override the default hidden behavior on the sphinx rendered scikit-learn.org. See: https://github.com/scikit-learn/scikit-learn/issues/21755 */display: inline-block !important;position: relative;}#sk-container-id-1 div.sk-text-repr-fallback {display: none;}</style><div id=\"sk-container-id-1\" class=\"sk-top-container\"><div class=\"sk-text-repr-fallback\"><pre>LinearRegression()</pre><b>In a Jupyter environment, please rerun this cell to show the HTML representation or trust the notebook. <br />On GitHub, the HTML representation is unable to render, please try loading this page with nbviewer.org.</b></div><div class=\"sk-container\" hidden><div class=\"sk-item\"><div class=\"sk-estimator sk-toggleable\"><input class=\"sk-toggleable__control sk-hidden--visually\" id=\"sk-estimator-id-1\" type=\"checkbox\" checked><label for=\"sk-estimator-id-1\" class=\"sk-toggleable__label sk-toggleable__label-arrow\">LinearRegression</label><div class=\"sk-toggleable__content\"><pre>LinearRegression()</pre></div></div></div></div></div>"
      ],
      "text/plain": [
       "LinearRegression()"
      ]
     },
     "execution_count": 72,
     "metadata": {},
     "output_type": "execute_result"
    }
   ],
   "source": [
    "# Train a Linear Regression model\n",
    "from sklearn.linear_model import LinearRegression\n",
    "\n",
    "regressor = LinearRegression()\n",
    "regressor.fit(X_train, y_train)"
   ]
  },
  {
   "cell_type": "code",
   "execution_count": 277,
   "metadata": {},
   "outputs": [
    {
     "data": {
      "text/html": [
       "<style>#sk-container-id-6 {color: black;background-color: white;}#sk-container-id-6 pre{padding: 0;}#sk-container-id-6 div.sk-toggleable {background-color: white;}#sk-container-id-6 label.sk-toggleable__label {cursor: pointer;display: block;width: 100%;margin-bottom: 0;padding: 0.3em;box-sizing: border-box;text-align: center;}#sk-container-id-6 label.sk-toggleable__label-arrow:before {content: \"▸\";float: left;margin-right: 0.25em;color: #696969;}#sk-container-id-6 label.sk-toggleable__label-arrow:hover:before {color: black;}#sk-container-id-6 div.sk-estimator:hover label.sk-toggleable__label-arrow:before {color: black;}#sk-container-id-6 div.sk-toggleable__content {max-height: 0;max-width: 0;overflow: hidden;text-align: left;background-color: #f0f8ff;}#sk-container-id-6 div.sk-toggleable__content pre {margin: 0.2em;color: black;border-radius: 0.25em;background-color: #f0f8ff;}#sk-container-id-6 input.sk-toggleable__control:checked~div.sk-toggleable__content {max-height: 200px;max-width: 100%;overflow: auto;}#sk-container-id-6 input.sk-toggleable__control:checked~label.sk-toggleable__label-arrow:before {content: \"▾\";}#sk-container-id-6 div.sk-estimator input.sk-toggleable__control:checked~label.sk-toggleable__label {background-color: #d4ebff;}#sk-container-id-6 div.sk-label input.sk-toggleable__control:checked~label.sk-toggleable__label {background-color: #d4ebff;}#sk-container-id-6 input.sk-hidden--visually {border: 0;clip: rect(1px 1px 1px 1px);clip: rect(1px, 1px, 1px, 1px);height: 1px;margin: -1px;overflow: hidden;padding: 0;position: absolute;width: 1px;}#sk-container-id-6 div.sk-estimator {font-family: monospace;background-color: #f0f8ff;border: 1px dotted black;border-radius: 0.25em;box-sizing: border-box;margin-bottom: 0.5em;}#sk-container-id-6 div.sk-estimator:hover {background-color: #d4ebff;}#sk-container-id-6 div.sk-parallel-item::after {content: \"\";width: 100%;border-bottom: 1px solid gray;flex-grow: 1;}#sk-container-id-6 div.sk-label:hover label.sk-toggleable__label {background-color: #d4ebff;}#sk-container-id-6 div.sk-serial::before {content: \"\";position: absolute;border-left: 1px solid gray;box-sizing: border-box;top: 0;bottom: 0;left: 50%;z-index: 0;}#sk-container-id-6 div.sk-serial {display: flex;flex-direction: column;align-items: center;background-color: white;padding-right: 0.2em;padding-left: 0.2em;position: relative;}#sk-container-id-6 div.sk-item {position: relative;z-index: 1;}#sk-container-id-6 div.sk-parallel {display: flex;align-items: stretch;justify-content: center;background-color: white;position: relative;}#sk-container-id-6 div.sk-item::before, #sk-container-id-6 div.sk-parallel-item::before {content: \"\";position: absolute;border-left: 1px solid gray;box-sizing: border-box;top: 0;bottom: 0;left: 50%;z-index: -1;}#sk-container-id-6 div.sk-parallel-item {display: flex;flex-direction: column;z-index: 1;position: relative;background-color: white;}#sk-container-id-6 div.sk-parallel-item:first-child::after {align-self: flex-end;width: 50%;}#sk-container-id-6 div.sk-parallel-item:last-child::after {align-self: flex-start;width: 50%;}#sk-container-id-6 div.sk-parallel-item:only-child::after {width: 0;}#sk-container-id-6 div.sk-dashed-wrapped {border: 1px dashed gray;margin: 0 0.4em 0.5em 0.4em;box-sizing: border-box;padding-bottom: 0.4em;background-color: white;}#sk-container-id-6 div.sk-label label {font-family: monospace;font-weight: bold;display: inline-block;line-height: 1.2em;}#sk-container-id-6 div.sk-label-container {text-align: center;}#sk-container-id-6 div.sk-container {/* jupyter's `normalize.less` sets `[hidden] { display: none; }` but bootstrap.min.css set `[hidden] { display: none !important; }` so we also need the `!important` here to be able to override the default hidden behavior on the sphinx rendered scikit-learn.org. See: https://github.com/scikit-learn/scikit-learn/issues/21755 */display: inline-block !important;position: relative;}#sk-container-id-6 div.sk-text-repr-fallback {display: none;}</style><div id=\"sk-container-id-6\" class=\"sk-top-container\"><div class=\"sk-text-repr-fallback\"><pre>GradientBoostingRegressor(criterion=&#x27;squared_error&#x27;, max_depth=10,\n",
       "                          random_state=0)</pre><b>In a Jupyter environment, please rerun this cell to show the HTML representation or trust the notebook. <br />On GitHub, the HTML representation is unable to render, please try loading this page with nbviewer.org.</b></div><div class=\"sk-container\" hidden><div class=\"sk-item\"><div class=\"sk-estimator sk-toggleable\"><input class=\"sk-toggleable__control sk-hidden--visually\" id=\"sk-estimator-id-6\" type=\"checkbox\" checked><label for=\"sk-estimator-id-6\" class=\"sk-toggleable__label sk-toggleable__label-arrow\">GradientBoostingRegressor</label><div class=\"sk-toggleable__content\"><pre>GradientBoostingRegressor(criterion=&#x27;squared_error&#x27;, max_depth=10,\n",
       "                          random_state=0)</pre></div></div></div></div></div>"
      ],
      "text/plain": [
       "GradientBoostingRegressor(criterion='squared_error', max_depth=10,\n",
       "                          random_state=0)"
      ]
     },
     "execution_count": 277,
     "metadata": {},
     "output_type": "execute_result"
    }
   ],
   "source": [
    "# Train a Gradient Boosting Regressor\n",
    "from sklearn.ensemble import GradientBoostingRegressor\n",
    "\n",
    "regressor = GradientBoostingRegressor(random_state=0, criterion='squared_error', max_depth=10)\n",
    "regressor.fit(X_train, y_train)"
   ]
  },
  {
   "cell_type": "code",
   "execution_count": 77,
   "metadata": {},
   "outputs": [
    {
     "data": {
      "text/html": [
       "<style>#sk-container-id-3 {color: black;background-color: white;}#sk-container-id-3 pre{padding: 0;}#sk-container-id-3 div.sk-toggleable {background-color: white;}#sk-container-id-3 label.sk-toggleable__label {cursor: pointer;display: block;width: 100%;margin-bottom: 0;padding: 0.3em;box-sizing: border-box;text-align: center;}#sk-container-id-3 label.sk-toggleable__label-arrow:before {content: \"▸\";float: left;margin-right: 0.25em;color: #696969;}#sk-container-id-3 label.sk-toggleable__label-arrow:hover:before {color: black;}#sk-container-id-3 div.sk-estimator:hover label.sk-toggleable__label-arrow:before {color: black;}#sk-container-id-3 div.sk-toggleable__content {max-height: 0;max-width: 0;overflow: hidden;text-align: left;background-color: #f0f8ff;}#sk-container-id-3 div.sk-toggleable__content pre {margin: 0.2em;color: black;border-radius: 0.25em;background-color: #f0f8ff;}#sk-container-id-3 input.sk-toggleable__control:checked~div.sk-toggleable__content {max-height: 200px;max-width: 100%;overflow: auto;}#sk-container-id-3 input.sk-toggleable__control:checked~label.sk-toggleable__label-arrow:before {content: \"▾\";}#sk-container-id-3 div.sk-estimator input.sk-toggleable__control:checked~label.sk-toggleable__label {background-color: #d4ebff;}#sk-container-id-3 div.sk-label input.sk-toggleable__control:checked~label.sk-toggleable__label {background-color: #d4ebff;}#sk-container-id-3 input.sk-hidden--visually {border: 0;clip: rect(1px 1px 1px 1px);clip: rect(1px, 1px, 1px, 1px);height: 1px;margin: -1px;overflow: hidden;padding: 0;position: absolute;width: 1px;}#sk-container-id-3 div.sk-estimator {font-family: monospace;background-color: #f0f8ff;border: 1px dotted black;border-radius: 0.25em;box-sizing: border-box;margin-bottom: 0.5em;}#sk-container-id-3 div.sk-estimator:hover {background-color: #d4ebff;}#sk-container-id-3 div.sk-parallel-item::after {content: \"\";width: 100%;border-bottom: 1px solid gray;flex-grow: 1;}#sk-container-id-3 div.sk-label:hover label.sk-toggleable__label {background-color: #d4ebff;}#sk-container-id-3 div.sk-serial::before {content: \"\";position: absolute;border-left: 1px solid gray;box-sizing: border-box;top: 0;bottom: 0;left: 50%;z-index: 0;}#sk-container-id-3 div.sk-serial {display: flex;flex-direction: column;align-items: center;background-color: white;padding-right: 0.2em;padding-left: 0.2em;position: relative;}#sk-container-id-3 div.sk-item {position: relative;z-index: 1;}#sk-container-id-3 div.sk-parallel {display: flex;align-items: stretch;justify-content: center;background-color: white;position: relative;}#sk-container-id-3 div.sk-item::before, #sk-container-id-3 div.sk-parallel-item::before {content: \"\";position: absolute;border-left: 1px solid gray;box-sizing: border-box;top: 0;bottom: 0;left: 50%;z-index: -1;}#sk-container-id-3 div.sk-parallel-item {display: flex;flex-direction: column;z-index: 1;position: relative;background-color: white;}#sk-container-id-3 div.sk-parallel-item:first-child::after {align-self: flex-end;width: 50%;}#sk-container-id-3 div.sk-parallel-item:last-child::after {align-self: flex-start;width: 50%;}#sk-container-id-3 div.sk-parallel-item:only-child::after {width: 0;}#sk-container-id-3 div.sk-dashed-wrapped {border: 1px dashed gray;margin: 0 0.4em 0.5em 0.4em;box-sizing: border-box;padding-bottom: 0.4em;background-color: white;}#sk-container-id-3 div.sk-label label {font-family: monospace;font-weight: bold;display: inline-block;line-height: 1.2em;}#sk-container-id-3 div.sk-label-container {text-align: center;}#sk-container-id-3 div.sk-container {/* jupyter's `normalize.less` sets `[hidden] { display: none; }` but bootstrap.min.css set `[hidden] { display: none !important; }` so we also need the `!important` here to be able to override the default hidden behavior on the sphinx rendered scikit-learn.org. See: https://github.com/scikit-learn/scikit-learn/issues/21755 */display: inline-block !important;position: relative;}#sk-container-id-3 div.sk-text-repr-fallback {display: none;}</style><div id=\"sk-container-id-3\" class=\"sk-top-container\"><div class=\"sk-text-repr-fallback\"><pre>SVR(C=0.1, degree=2, kernel=&#x27;linear&#x27;)</pre><b>In a Jupyter environment, please rerun this cell to show the HTML representation or trust the notebook. <br />On GitHub, the HTML representation is unable to render, please try loading this page with nbviewer.org.</b></div><div class=\"sk-container\" hidden><div class=\"sk-item\"><div class=\"sk-estimator sk-toggleable\"><input class=\"sk-toggleable__control sk-hidden--visually\" id=\"sk-estimator-id-3\" type=\"checkbox\" checked><label for=\"sk-estimator-id-3\" class=\"sk-toggleable__label sk-toggleable__label-arrow\">SVR</label><div class=\"sk-toggleable__content\"><pre>SVR(C=0.1, degree=2, kernel=&#x27;linear&#x27;)</pre></div></div></div></div></div>"
      ],
      "text/plain": [
       "SVR(C=0.1, degree=2, kernel='linear')"
      ]
     },
     "execution_count": 77,
     "metadata": {},
     "output_type": "execute_result"
    }
   ],
   "source": [
    "# Train a Support Vector Regressor\n",
    "from sklearn.svm import SVR\n",
    "\n",
    "regressor = SVR(C=0.1, degree=2, gamma=\"scale\", kernel=\"linear\")\n",
    "regressor.fit(X_train, y_train)"
   ]
  },
  {
   "cell_type": "code",
   "execution_count": 285,
   "metadata": {},
   "outputs": [
    {
     "data": {
      "text/html": [
       "<style>#sk-container-id-10 {color: black;background-color: white;}#sk-container-id-10 pre{padding: 0;}#sk-container-id-10 div.sk-toggleable {background-color: white;}#sk-container-id-10 label.sk-toggleable__label {cursor: pointer;display: block;width: 100%;margin-bottom: 0;padding: 0.3em;box-sizing: border-box;text-align: center;}#sk-container-id-10 label.sk-toggleable__label-arrow:before {content: \"▸\";float: left;margin-right: 0.25em;color: #696969;}#sk-container-id-10 label.sk-toggleable__label-arrow:hover:before {color: black;}#sk-container-id-10 div.sk-estimator:hover label.sk-toggleable__label-arrow:before {color: black;}#sk-container-id-10 div.sk-toggleable__content {max-height: 0;max-width: 0;overflow: hidden;text-align: left;background-color: #f0f8ff;}#sk-container-id-10 div.sk-toggleable__content pre {margin: 0.2em;color: black;border-radius: 0.25em;background-color: #f0f8ff;}#sk-container-id-10 input.sk-toggleable__control:checked~div.sk-toggleable__content {max-height: 200px;max-width: 100%;overflow: auto;}#sk-container-id-10 input.sk-toggleable__control:checked~label.sk-toggleable__label-arrow:before {content: \"▾\";}#sk-container-id-10 div.sk-estimator input.sk-toggleable__control:checked~label.sk-toggleable__label {background-color: #d4ebff;}#sk-container-id-10 div.sk-label input.sk-toggleable__control:checked~label.sk-toggleable__label {background-color: #d4ebff;}#sk-container-id-10 input.sk-hidden--visually {border: 0;clip: rect(1px 1px 1px 1px);clip: rect(1px, 1px, 1px, 1px);height: 1px;margin: -1px;overflow: hidden;padding: 0;position: absolute;width: 1px;}#sk-container-id-10 div.sk-estimator {font-family: monospace;background-color: #f0f8ff;border: 1px dotted black;border-radius: 0.25em;box-sizing: border-box;margin-bottom: 0.5em;}#sk-container-id-10 div.sk-estimator:hover {background-color: #d4ebff;}#sk-container-id-10 div.sk-parallel-item::after {content: \"\";width: 100%;border-bottom: 1px solid gray;flex-grow: 1;}#sk-container-id-10 div.sk-label:hover label.sk-toggleable__label {background-color: #d4ebff;}#sk-container-id-10 div.sk-serial::before {content: \"\";position: absolute;border-left: 1px solid gray;box-sizing: border-box;top: 0;bottom: 0;left: 50%;z-index: 0;}#sk-container-id-10 div.sk-serial {display: flex;flex-direction: column;align-items: center;background-color: white;padding-right: 0.2em;padding-left: 0.2em;position: relative;}#sk-container-id-10 div.sk-item {position: relative;z-index: 1;}#sk-container-id-10 div.sk-parallel {display: flex;align-items: stretch;justify-content: center;background-color: white;position: relative;}#sk-container-id-10 div.sk-item::before, #sk-container-id-10 div.sk-parallel-item::before {content: \"\";position: absolute;border-left: 1px solid gray;box-sizing: border-box;top: 0;bottom: 0;left: 50%;z-index: -1;}#sk-container-id-10 div.sk-parallel-item {display: flex;flex-direction: column;z-index: 1;position: relative;background-color: white;}#sk-container-id-10 div.sk-parallel-item:first-child::after {align-self: flex-end;width: 50%;}#sk-container-id-10 div.sk-parallel-item:last-child::after {align-self: flex-start;width: 50%;}#sk-container-id-10 div.sk-parallel-item:only-child::after {width: 0;}#sk-container-id-10 div.sk-dashed-wrapped {border: 1px dashed gray;margin: 0 0.4em 0.5em 0.4em;box-sizing: border-box;padding-bottom: 0.4em;background-color: white;}#sk-container-id-10 div.sk-label label {font-family: monospace;font-weight: bold;display: inline-block;line-height: 1.2em;}#sk-container-id-10 div.sk-label-container {text-align: center;}#sk-container-id-10 div.sk-container {/* jupyter's `normalize.less` sets `[hidden] { display: none; }` but bootstrap.min.css set `[hidden] { display: none !important; }` so we also need the `!important` here to be able to override the default hidden behavior on the sphinx rendered scikit-learn.org. See: https://github.com/scikit-learn/scikit-learn/issues/21755 */display: inline-block !important;position: relative;}#sk-container-id-10 div.sk-text-repr-fallback {display: none;}</style><div id=\"sk-container-id-10\" class=\"sk-top-container\"><div class=\"sk-text-repr-fallback\"><pre>KNeighborsRegressor()</pre><b>In a Jupyter environment, please rerun this cell to show the HTML representation or trust the notebook. <br />On GitHub, the HTML representation is unable to render, please try loading this page with nbviewer.org.</b></div><div class=\"sk-container\" hidden><div class=\"sk-item\"><div class=\"sk-estimator sk-toggleable\"><input class=\"sk-toggleable__control sk-hidden--visually\" id=\"sk-estimator-id-10\" type=\"checkbox\" checked><label for=\"sk-estimator-id-10\" class=\"sk-toggleable__label sk-toggleable__label-arrow\">KNeighborsRegressor</label><div class=\"sk-toggleable__content\"><pre>KNeighborsRegressor()</pre></div></div></div></div></div>"
      ],
      "text/plain": [
       "KNeighborsRegressor()"
      ]
     },
     "execution_count": 285,
     "metadata": {},
     "output_type": "execute_result"
    }
   ],
   "source": [
    "# Train a KNN Regressor\n",
    "from sklearn.neighbors import KNeighborsRegressor\n",
    "\n",
    "regressor = KNeighborsRegressor(n_neighbors=5)\n",
    "regressor.fit(X_train, y_train)"
   ]
  },
  {
   "cell_type": "code",
   "execution_count": 307,
   "metadata": {},
   "outputs": [
    {
     "data": {
      "text/html": [
       "<style>#sk-container-id-18 {color: black;background-color: white;}#sk-container-id-18 pre{padding: 0;}#sk-container-id-18 div.sk-toggleable {background-color: white;}#sk-container-id-18 label.sk-toggleable__label {cursor: pointer;display: block;width: 100%;margin-bottom: 0;padding: 0.3em;box-sizing: border-box;text-align: center;}#sk-container-id-18 label.sk-toggleable__label-arrow:before {content: \"▸\";float: left;margin-right: 0.25em;color: #696969;}#sk-container-id-18 label.sk-toggleable__label-arrow:hover:before {color: black;}#sk-container-id-18 div.sk-estimator:hover label.sk-toggleable__label-arrow:before {color: black;}#sk-container-id-18 div.sk-toggleable__content {max-height: 0;max-width: 0;overflow: hidden;text-align: left;background-color: #f0f8ff;}#sk-container-id-18 div.sk-toggleable__content pre {margin: 0.2em;color: black;border-radius: 0.25em;background-color: #f0f8ff;}#sk-container-id-18 input.sk-toggleable__control:checked~div.sk-toggleable__content {max-height: 200px;max-width: 100%;overflow: auto;}#sk-container-id-18 input.sk-toggleable__control:checked~label.sk-toggleable__label-arrow:before {content: \"▾\";}#sk-container-id-18 div.sk-estimator input.sk-toggleable__control:checked~label.sk-toggleable__label {background-color: #d4ebff;}#sk-container-id-18 div.sk-label input.sk-toggleable__control:checked~label.sk-toggleable__label {background-color: #d4ebff;}#sk-container-id-18 input.sk-hidden--visually {border: 0;clip: rect(1px 1px 1px 1px);clip: rect(1px, 1px, 1px, 1px);height: 1px;margin: -1px;overflow: hidden;padding: 0;position: absolute;width: 1px;}#sk-container-id-18 div.sk-estimator {font-family: monospace;background-color: #f0f8ff;border: 1px dotted black;border-radius: 0.25em;box-sizing: border-box;margin-bottom: 0.5em;}#sk-container-id-18 div.sk-estimator:hover {background-color: #d4ebff;}#sk-container-id-18 div.sk-parallel-item::after {content: \"\";width: 100%;border-bottom: 1px solid gray;flex-grow: 1;}#sk-container-id-18 div.sk-label:hover label.sk-toggleable__label {background-color: #d4ebff;}#sk-container-id-18 div.sk-serial::before {content: \"\";position: absolute;border-left: 1px solid gray;box-sizing: border-box;top: 0;bottom: 0;left: 50%;z-index: 0;}#sk-container-id-18 div.sk-serial {display: flex;flex-direction: column;align-items: center;background-color: white;padding-right: 0.2em;padding-left: 0.2em;position: relative;}#sk-container-id-18 div.sk-item {position: relative;z-index: 1;}#sk-container-id-18 div.sk-parallel {display: flex;align-items: stretch;justify-content: center;background-color: white;position: relative;}#sk-container-id-18 div.sk-item::before, #sk-container-id-18 div.sk-parallel-item::before {content: \"\";position: absolute;border-left: 1px solid gray;box-sizing: border-box;top: 0;bottom: 0;left: 50%;z-index: -1;}#sk-container-id-18 div.sk-parallel-item {display: flex;flex-direction: column;z-index: 1;position: relative;background-color: white;}#sk-container-id-18 div.sk-parallel-item:first-child::after {align-self: flex-end;width: 50%;}#sk-container-id-18 div.sk-parallel-item:last-child::after {align-self: flex-start;width: 50%;}#sk-container-id-18 div.sk-parallel-item:only-child::after {width: 0;}#sk-container-id-18 div.sk-dashed-wrapped {border: 1px dashed gray;margin: 0 0.4em 0.5em 0.4em;box-sizing: border-box;padding-bottom: 0.4em;background-color: white;}#sk-container-id-18 div.sk-label label {font-family: monospace;font-weight: bold;display: inline-block;line-height: 1.2em;}#sk-container-id-18 div.sk-label-container {text-align: center;}#sk-container-id-18 div.sk-container {/* jupyter's `normalize.less` sets `[hidden] { display: none; }` but bootstrap.min.css set `[hidden] { display: none !important; }` so we also need the `!important` here to be able to override the default hidden behavior on the sphinx rendered scikit-learn.org. See: https://github.com/scikit-learn/scikit-learn/issues/21755 */display: inline-block !important;position: relative;}#sk-container-id-18 div.sk-text-repr-fallback {display: none;}</style><div id=\"sk-container-id-18\" class=\"sk-top-container\"><div class=\"sk-text-repr-fallback\"><pre>LinearRegression()</pre><b>In a Jupyter environment, please rerun this cell to show the HTML representation or trust the notebook. <br />On GitHub, the HTML representation is unable to render, please try loading this page with nbviewer.org.</b></div><div class=\"sk-container\" hidden><div class=\"sk-item\"><div class=\"sk-estimator sk-toggleable\"><input class=\"sk-toggleable__control sk-hidden--visually\" id=\"sk-estimator-id-18\" type=\"checkbox\" checked><label for=\"sk-estimator-id-18\" class=\"sk-toggleable__label sk-toggleable__label-arrow\">LinearRegression</label><div class=\"sk-toggleable__content\"><pre>LinearRegression()</pre></div></div></div></div></div>"
      ],
      "text/plain": [
       "LinearRegression()"
      ]
     },
     "execution_count": 307,
     "metadata": {},
     "output_type": "execute_result"
    }
   ],
   "source": [
    "# Train a Polynomial Regressor\n",
    "from sklearn.preprocessing import PolynomialFeatures\n",
    "from sklearn.linear_model import LinearRegression\n",
    "\n",
    "poly_reg = PolynomialFeatures(degree=3)\n",
    "X_poly = poly_reg.fit_transform(X_train)\n",
    "regressor = LinearRegression()\n",
    "regressor.fit(X_poly, y_train)"
   ]
  },
  {
   "cell_type": "code",
   "execution_count": 106,
   "metadata": {},
   "outputs": [
    {
     "data": {
      "text/html": [
       "<style>#sk-container-id-5 {color: black;background-color: white;}#sk-container-id-5 pre{padding: 0;}#sk-container-id-5 div.sk-toggleable {background-color: white;}#sk-container-id-5 label.sk-toggleable__label {cursor: pointer;display: block;width: 100%;margin-bottom: 0;padding: 0.3em;box-sizing: border-box;text-align: center;}#sk-container-id-5 label.sk-toggleable__label-arrow:before {content: \"▸\";float: left;margin-right: 0.25em;color: #696969;}#sk-container-id-5 label.sk-toggleable__label-arrow:hover:before {color: black;}#sk-container-id-5 div.sk-estimator:hover label.sk-toggleable__label-arrow:before {color: black;}#sk-container-id-5 div.sk-toggleable__content {max-height: 0;max-width: 0;overflow: hidden;text-align: left;background-color: #f0f8ff;}#sk-container-id-5 div.sk-toggleable__content pre {margin: 0.2em;color: black;border-radius: 0.25em;background-color: #f0f8ff;}#sk-container-id-5 input.sk-toggleable__control:checked~div.sk-toggleable__content {max-height: 200px;max-width: 100%;overflow: auto;}#sk-container-id-5 input.sk-toggleable__control:checked~label.sk-toggleable__label-arrow:before {content: \"▾\";}#sk-container-id-5 div.sk-estimator input.sk-toggleable__control:checked~label.sk-toggleable__label {background-color: #d4ebff;}#sk-container-id-5 div.sk-label input.sk-toggleable__control:checked~label.sk-toggleable__label {background-color: #d4ebff;}#sk-container-id-5 input.sk-hidden--visually {border: 0;clip: rect(1px 1px 1px 1px);clip: rect(1px, 1px, 1px, 1px);height: 1px;margin: -1px;overflow: hidden;padding: 0;position: absolute;width: 1px;}#sk-container-id-5 div.sk-estimator {font-family: monospace;background-color: #f0f8ff;border: 1px dotted black;border-radius: 0.25em;box-sizing: border-box;margin-bottom: 0.5em;}#sk-container-id-5 div.sk-estimator:hover {background-color: #d4ebff;}#sk-container-id-5 div.sk-parallel-item::after {content: \"\";width: 100%;border-bottom: 1px solid gray;flex-grow: 1;}#sk-container-id-5 div.sk-label:hover label.sk-toggleable__label {background-color: #d4ebff;}#sk-container-id-5 div.sk-serial::before {content: \"\";position: absolute;border-left: 1px solid gray;box-sizing: border-box;top: 0;bottom: 0;left: 50%;z-index: 0;}#sk-container-id-5 div.sk-serial {display: flex;flex-direction: column;align-items: center;background-color: white;padding-right: 0.2em;padding-left: 0.2em;position: relative;}#sk-container-id-5 div.sk-item {position: relative;z-index: 1;}#sk-container-id-5 div.sk-parallel {display: flex;align-items: stretch;justify-content: center;background-color: white;position: relative;}#sk-container-id-5 div.sk-item::before, #sk-container-id-5 div.sk-parallel-item::before {content: \"\";position: absolute;border-left: 1px solid gray;box-sizing: border-box;top: 0;bottom: 0;left: 50%;z-index: -1;}#sk-container-id-5 div.sk-parallel-item {display: flex;flex-direction: column;z-index: 1;position: relative;background-color: white;}#sk-container-id-5 div.sk-parallel-item:first-child::after {align-self: flex-end;width: 50%;}#sk-container-id-5 div.sk-parallel-item:last-child::after {align-self: flex-start;width: 50%;}#sk-container-id-5 div.sk-parallel-item:only-child::after {width: 0;}#sk-container-id-5 div.sk-dashed-wrapped {border: 1px dashed gray;margin: 0 0.4em 0.5em 0.4em;box-sizing: border-box;padding-bottom: 0.4em;background-color: white;}#sk-container-id-5 div.sk-label label {font-family: monospace;font-weight: bold;display: inline-block;line-height: 1.2em;}#sk-container-id-5 div.sk-label-container {text-align: center;}#sk-container-id-5 div.sk-container {/* jupyter's `normalize.less` sets `[hidden] { display: none; }` but bootstrap.min.css set `[hidden] { display: none !important; }` so we also need the `!important` here to be able to override the default hidden behavior on the sphinx rendered scikit-learn.org. See: https://github.com/scikit-learn/scikit-learn/issues/21755 */display: inline-block !important;position: relative;}#sk-container-id-5 div.sk-text-repr-fallback {display: none;}</style><div id=\"sk-container-id-5\" class=\"sk-top-container\"><div class=\"sk-text-repr-fallback\"><pre>Lasso(alpha=0.3, selection=&#x27;random&#x27;)</pre><b>In a Jupyter environment, please rerun this cell to show the HTML representation or trust the notebook. <br />On GitHub, the HTML representation is unable to render, please try loading this page with nbviewer.org.</b></div><div class=\"sk-container\" hidden><div class=\"sk-item\"><div class=\"sk-estimator sk-toggleable\"><input class=\"sk-toggleable__control sk-hidden--visually\" id=\"sk-estimator-id-5\" type=\"checkbox\" checked><label for=\"sk-estimator-id-5\" class=\"sk-toggleable__label sk-toggleable__label-arrow\">Lasso</label><div class=\"sk-toggleable__content\"><pre>Lasso(alpha=0.3, selection=&#x27;random&#x27;)</pre></div></div></div></div></div>"
      ],
      "text/plain": [
       "Lasso(alpha=0.3, selection='random')"
      ]
     },
     "execution_count": 106,
     "metadata": {},
     "output_type": "execute_result"
    }
   ],
   "source": [
    "# Train a Lasso Regressor\n",
    "from sklearn.linear_model import Lasso\n",
    "\n",
    "regressor = Lasso(alpha=0.3, max_iter=1000, tol=0.0001, warm_start=False, selection='random')\n",
    "regressor.fit(X_train, y_train)"
   ]
  },
  {
   "cell_type": "code",
   "execution_count": 182,
   "metadata": {},
   "outputs": [
    {
     "data": {
      "text/html": [
       "<style>#sk-container-id-19 {color: black;background-color: white;}#sk-container-id-19 pre{padding: 0;}#sk-container-id-19 div.sk-toggleable {background-color: white;}#sk-container-id-19 label.sk-toggleable__label {cursor: pointer;display: block;width: 100%;margin-bottom: 0;padding: 0.3em;box-sizing: border-box;text-align: center;}#sk-container-id-19 label.sk-toggleable__label-arrow:before {content: \"▸\";float: left;margin-right: 0.25em;color: #696969;}#sk-container-id-19 label.sk-toggleable__label-arrow:hover:before {color: black;}#sk-container-id-19 div.sk-estimator:hover label.sk-toggleable__label-arrow:before {color: black;}#sk-container-id-19 div.sk-toggleable__content {max-height: 0;max-width: 0;overflow: hidden;text-align: left;background-color: #f0f8ff;}#sk-container-id-19 div.sk-toggleable__content pre {margin: 0.2em;color: black;border-radius: 0.25em;background-color: #f0f8ff;}#sk-container-id-19 input.sk-toggleable__control:checked~div.sk-toggleable__content {max-height: 200px;max-width: 100%;overflow: auto;}#sk-container-id-19 input.sk-toggleable__control:checked~label.sk-toggleable__label-arrow:before {content: \"▾\";}#sk-container-id-19 div.sk-estimator input.sk-toggleable__control:checked~label.sk-toggleable__label {background-color: #d4ebff;}#sk-container-id-19 div.sk-label input.sk-toggleable__control:checked~label.sk-toggleable__label {background-color: #d4ebff;}#sk-container-id-19 input.sk-hidden--visually {border: 0;clip: rect(1px 1px 1px 1px);clip: rect(1px, 1px, 1px, 1px);height: 1px;margin: -1px;overflow: hidden;padding: 0;position: absolute;width: 1px;}#sk-container-id-19 div.sk-estimator {font-family: monospace;background-color: #f0f8ff;border: 1px dotted black;border-radius: 0.25em;box-sizing: border-box;margin-bottom: 0.5em;}#sk-container-id-19 div.sk-estimator:hover {background-color: #d4ebff;}#sk-container-id-19 div.sk-parallel-item::after {content: \"\";width: 100%;border-bottom: 1px solid gray;flex-grow: 1;}#sk-container-id-19 div.sk-label:hover label.sk-toggleable__label {background-color: #d4ebff;}#sk-container-id-19 div.sk-serial::before {content: \"\";position: absolute;border-left: 1px solid gray;box-sizing: border-box;top: 0;bottom: 0;left: 50%;z-index: 0;}#sk-container-id-19 div.sk-serial {display: flex;flex-direction: column;align-items: center;background-color: white;padding-right: 0.2em;padding-left: 0.2em;position: relative;}#sk-container-id-19 div.sk-item {position: relative;z-index: 1;}#sk-container-id-19 div.sk-parallel {display: flex;align-items: stretch;justify-content: center;background-color: white;position: relative;}#sk-container-id-19 div.sk-item::before, #sk-container-id-19 div.sk-parallel-item::before {content: \"\";position: absolute;border-left: 1px solid gray;box-sizing: border-box;top: 0;bottom: 0;left: 50%;z-index: -1;}#sk-container-id-19 div.sk-parallel-item {display: flex;flex-direction: column;z-index: 1;position: relative;background-color: white;}#sk-container-id-19 div.sk-parallel-item:first-child::after {align-self: flex-end;width: 50%;}#sk-container-id-19 div.sk-parallel-item:last-child::after {align-self: flex-start;width: 50%;}#sk-container-id-19 div.sk-parallel-item:only-child::after {width: 0;}#sk-container-id-19 div.sk-dashed-wrapped {border: 1px dashed gray;margin: 0 0.4em 0.5em 0.4em;box-sizing: border-box;padding-bottom: 0.4em;background-color: white;}#sk-container-id-19 div.sk-label label {font-family: monospace;font-weight: bold;display: inline-block;line-height: 1.2em;}#sk-container-id-19 div.sk-label-container {text-align: center;}#sk-container-id-19 div.sk-container {/* jupyter's `normalize.less` sets `[hidden] { display: none; }` but bootstrap.min.css set `[hidden] { display: none !important; }` so we also need the `!important` here to be able to override the default hidden behavior on the sphinx rendered scikit-learn.org. See: https://github.com/scikit-learn/scikit-learn/issues/21755 */display: inline-block !important;position: relative;}#sk-container-id-19 div.sk-text-repr-fallback {display: none;}</style><div id=\"sk-container-id-19\" class=\"sk-top-container\"><div class=\"sk-text-repr-fallback\"><pre>Ridge(alpha=0.1, max_iter=3000, tol=0.001)</pre><b>In a Jupyter environment, please rerun this cell to show the HTML representation or trust the notebook. <br />On GitHub, the HTML representation is unable to render, please try loading this page with nbviewer.org.</b></div><div class=\"sk-container\" hidden><div class=\"sk-item\"><div class=\"sk-estimator sk-toggleable\"><input class=\"sk-toggleable__control sk-hidden--visually\" id=\"sk-estimator-id-19\" type=\"checkbox\" checked><label for=\"sk-estimator-id-19\" class=\"sk-toggleable__label sk-toggleable__label-arrow\">Ridge</label><div class=\"sk-toggleable__content\"><pre>Ridge(alpha=0.1, max_iter=3000, tol=0.001)</pre></div></div></div></div></div>"
      ],
      "text/plain": [
       "Ridge(alpha=0.1, max_iter=3000, tol=0.001)"
      ]
     },
     "execution_count": 182,
     "metadata": {},
     "output_type": "execute_result"
    }
   ],
   "source": [
    "# Train a Ridge Regressor\n",
    "from sklearn.linear_model import Ridge\n",
    "\n",
    "regressor = Ridge(alpha=0.1, max_iter=3000, tol=0.001)\n",
    "regressor.fit(X_train, y_train)"
   ]
  },
  {
   "cell_type": "code",
   "execution_count": 178,
   "metadata": {},
   "outputs": [
    {
     "data": {
      "text/html": [
       "<style>#sk-container-id-18 {color: black;background-color: white;}#sk-container-id-18 pre{padding: 0;}#sk-container-id-18 div.sk-toggleable {background-color: white;}#sk-container-id-18 label.sk-toggleable__label {cursor: pointer;display: block;width: 100%;margin-bottom: 0;padding: 0.3em;box-sizing: border-box;text-align: center;}#sk-container-id-18 label.sk-toggleable__label-arrow:before {content: \"▸\";float: left;margin-right: 0.25em;color: #696969;}#sk-container-id-18 label.sk-toggleable__label-arrow:hover:before {color: black;}#sk-container-id-18 div.sk-estimator:hover label.sk-toggleable__label-arrow:before {color: black;}#sk-container-id-18 div.sk-toggleable__content {max-height: 0;max-width: 0;overflow: hidden;text-align: left;background-color: #f0f8ff;}#sk-container-id-18 div.sk-toggleable__content pre {margin: 0.2em;color: black;border-radius: 0.25em;background-color: #f0f8ff;}#sk-container-id-18 input.sk-toggleable__control:checked~div.sk-toggleable__content {max-height: 200px;max-width: 100%;overflow: auto;}#sk-container-id-18 input.sk-toggleable__control:checked~label.sk-toggleable__label-arrow:before {content: \"▾\";}#sk-container-id-18 div.sk-estimator input.sk-toggleable__control:checked~label.sk-toggleable__label {background-color: #d4ebff;}#sk-container-id-18 div.sk-label input.sk-toggleable__control:checked~label.sk-toggleable__label {background-color: #d4ebff;}#sk-container-id-18 input.sk-hidden--visually {border: 0;clip: rect(1px 1px 1px 1px);clip: rect(1px, 1px, 1px, 1px);height: 1px;margin: -1px;overflow: hidden;padding: 0;position: absolute;width: 1px;}#sk-container-id-18 div.sk-estimator {font-family: monospace;background-color: #f0f8ff;border: 1px dotted black;border-radius: 0.25em;box-sizing: border-box;margin-bottom: 0.5em;}#sk-container-id-18 div.sk-estimator:hover {background-color: #d4ebff;}#sk-container-id-18 div.sk-parallel-item::after {content: \"\";width: 100%;border-bottom: 1px solid gray;flex-grow: 1;}#sk-container-id-18 div.sk-label:hover label.sk-toggleable__label {background-color: #d4ebff;}#sk-container-id-18 div.sk-serial::before {content: \"\";position: absolute;border-left: 1px solid gray;box-sizing: border-box;top: 0;bottom: 0;left: 50%;z-index: 0;}#sk-container-id-18 div.sk-serial {display: flex;flex-direction: column;align-items: center;background-color: white;padding-right: 0.2em;padding-left: 0.2em;position: relative;}#sk-container-id-18 div.sk-item {position: relative;z-index: 1;}#sk-container-id-18 div.sk-parallel {display: flex;align-items: stretch;justify-content: center;background-color: white;position: relative;}#sk-container-id-18 div.sk-item::before, #sk-container-id-18 div.sk-parallel-item::before {content: \"\";position: absolute;border-left: 1px solid gray;box-sizing: border-box;top: 0;bottom: 0;left: 50%;z-index: -1;}#sk-container-id-18 div.sk-parallel-item {display: flex;flex-direction: column;z-index: 1;position: relative;background-color: white;}#sk-container-id-18 div.sk-parallel-item:first-child::after {align-self: flex-end;width: 50%;}#sk-container-id-18 div.sk-parallel-item:last-child::after {align-self: flex-start;width: 50%;}#sk-container-id-18 div.sk-parallel-item:only-child::after {width: 0;}#sk-container-id-18 div.sk-dashed-wrapped {border: 1px dashed gray;margin: 0 0.4em 0.5em 0.4em;box-sizing: border-box;padding-bottom: 0.4em;background-color: white;}#sk-container-id-18 div.sk-label label {font-family: monospace;font-weight: bold;display: inline-block;line-height: 1.2em;}#sk-container-id-18 div.sk-label-container {text-align: center;}#sk-container-id-18 div.sk-container {/* jupyter's `normalize.less` sets `[hidden] { display: none; }` but bootstrap.min.css set `[hidden] { display: none !important; }` so we also need the `!important` here to be able to override the default hidden behavior on the sphinx rendered scikit-learn.org. See: https://github.com/scikit-learn/scikit-learn/issues/21755 */display: inline-block !important;position: relative;}#sk-container-id-18 div.sk-text-repr-fallback {display: none;}</style><div id=\"sk-container-id-18\" class=\"sk-top-container\"><div class=\"sk-text-repr-fallback\"><pre>BayesianRidge()</pre><b>In a Jupyter environment, please rerun this cell to show the HTML representation or trust the notebook. <br />On GitHub, the HTML representation is unable to render, please try loading this page with nbviewer.org.</b></div><div class=\"sk-container\" hidden><div class=\"sk-item\"><div class=\"sk-estimator sk-toggleable\"><input class=\"sk-toggleable__control sk-hidden--visually\" id=\"sk-estimator-id-18\" type=\"checkbox\" checked><label for=\"sk-estimator-id-18\" class=\"sk-toggleable__label sk-toggleable__label-arrow\">BayesianRidge</label><div class=\"sk-toggleable__content\"><pre>BayesianRidge()</pre></div></div></div></div></div>"
      ],
      "text/plain": [
       "BayesianRidge()"
      ]
     },
     "execution_count": 178,
     "metadata": {},
     "output_type": "execute_result"
    }
   ],
   "source": [
    "# Train a Bayesian Ridge Regressor\n",
    "from sklearn.linear_model import BayesianRidge\n",
    "\n",
    "regressor = BayesianRidge()\n",
    "regressor.fit(X_train, y_train)"
   ]
  },
  {
   "cell_type": "markdown",
   "metadata": {},
   "source": [
    "### Model Evaluation"
   ]
  },
  {
   "cell_type": "markdown",
   "metadata": {},
   "source": [
    "Our best fit model is SVR(C=0.1, degree=2, gamma=\"scale\", kernel=\"linear\"). We make the prediction via this model. Feature subset is:\n",
    "\n",
    "**['#user_prompts', 'blacklist_score', 'average_sentiment', 'flesch_reading_ease', 'gunning_fog', 'coleman_liau_index']**"
   ]
  },
  {
   "cell_type": "code",
   "execution_count": 78,
   "metadata": {},
   "outputs": [
    {
     "name": "stdout",
     "output_type": "stream",
     "text": [
      "MSE Train: 37.176971301733595\n",
      "MSE TEST: 17.137089265532044\n",
      "R2 Train: 0.05103355640773155\n",
      "R2 TEST: 0.14128199939569752\n"
     ]
    }
   ],
   "source": [
    "# Prediction\n",
    "y_train_pred = regressor.predict(X_train)\n",
    "y_test_pred = regressor.predict(X_test)\n",
    "\n",
    "# Calculation of Mean Squared Error (MSE)\n",
    "print(\"MSE Train:\", mean_squared_error(y_train,y_train_pred))\n",
    "print(\"MSE TEST:\", mean_squared_error(y_test,y_test_pred))\n",
    "\n",
    "print(\"R2 Train:\", r2_score(y_train,y_train_pred))\n",
    "print(\"R2 TEST:\", r2_score(y_test,y_test_pred))\n"
   ]
  },
  {
   "cell_type": "code",
   "execution_count": 81,
   "metadata": {},
   "outputs": [
    {
     "name": "stdout",
     "output_type": "stream",
     "text": [
      "MSE Train: 37.16983704431232\n",
      "MSE TEST: 15.533983814615775\n",
      "R2 Train: 0.051215662982196486\n",
      "R2 TEST: 0.22161159832808286\n"
     ]
    },
    {
     "name": "stderr",
     "output_type": "stream",
     "text": [
      "c:\\Users\\salih\\AppData\\Local\\Programs\\Python\\Python310\\lib\\site-packages\\sklearn\\ensemble\\_base.py:166: FutureWarning: `base_estimator` was renamed to `estimator` in version 1.2 and will be removed in 1.4.\n",
      "  warnings.warn(\n"
     ]
    }
   ],
   "source": [
    "# Bagging (for overfit models)\n",
    "\n",
    "from sklearn.ensemble import BaggingRegressor\n",
    "\n",
    "# Create a BaggingRegressor object\n",
    "bagging = BaggingRegressor(base_estimator=regressor, n_estimators=20, random_state=0)\n",
    "\n",
    "# Fit the model\n",
    "bagging.fit(X_train, y_train)\n",
    "\n",
    "# Make predictions\n",
    "y_train_pred = bagging.predict(X_train)\n",
    "y_test_pred = bagging.predict(X_test)\n",
    "\n",
    "# Calculation of Mean Squared Error (MSE)\n",
    "print(\"MSE Train:\", mean_squared_error(y_train,y_train_pred))\n",
    "print(\"MSE TEST:\", mean_squared_error(y_test,y_test_pred))\n",
    "\n",
    "print(\"R2 Train:\", r2_score(y_train,y_train_pred))\n",
    "print(\"R2 TEST:\", r2_score(y_test,y_test_pred))"
   ]
  },
  {
   "cell_type": "code",
   "execution_count": 80,
   "metadata": {},
   "outputs": [
    {
     "name": "stdout",
     "output_type": "stream",
     "text": [
      "MSE Train: 34.76420140967526\n",
      "MSE TEST: 22.57145455312993\n",
      "R2 Train: 0.11262108178977714\n",
      "R2 TEST: -0.13102721379755033\n"
     ]
    },
    {
     "name": "stderr",
     "output_type": "stream",
     "text": [
      "c:\\Users\\salih\\AppData\\Local\\Programs\\Python\\Python310\\lib\\site-packages\\sklearn\\ensemble\\_base.py:166: FutureWarning: `base_estimator` was renamed to `estimator` in version 1.2 and will be removed in 1.4.\n",
      "  warnings.warn(\n"
     ]
    }
   ],
   "source": [
    "# Boosting (for underfit models)\n",
    "\n",
    "from sklearn.ensemble import AdaBoostRegressor\n",
    "\n",
    "ada = AdaBoostRegressor(base_estimator=regressor, n_estimators=100)\n",
    "\n",
    "# Fit the model\n",
    "ada.fit(X_train, y_train)\n",
    "\n",
    "# Make predictions\n",
    "y_train_pred = ada.predict(X_train)\n",
    "y_test_pred = ada.predict(X_test)\n",
    "\n",
    "# Calculation of Mean Squared Error (MSE)\n",
    "print(\"MSE Train:\", mean_squared_error(y_train,y_train_pred))\n",
    "print(\"MSE TEST:\", mean_squared_error(y_test,y_test_pred))\n",
    "\n",
    "print(\"R2 Train:\", r2_score(y_train,y_train_pred))\n",
    "print(\"R2 TEST:\", r2_score(y_test,y_test_pred))"
   ]
  },
  {
   "cell_type": "code",
   "execution_count": 82,
   "metadata": {},
   "outputs": [
    {
     "data": {
      "image/png": "[encoded data removed]",
      "text/plain": [
       "<Figure size 640x480 with 1 Axes>"
      ]
     },
     "metadata": {},
     "output_type": "display_data"
    }
   ],
   "source": [
    "import matplotlib.pyplot as plt\n",
    "\n",
    "# Assume y_test are your real values and y_pred are your predicted values\n",
    "\n",
    "# Create a scatter plot of the real vs. predicted values\n",
    "plt.scatter(y_test, y_test_pred)\n",
    "\n",
    "\n",
    "# Create a line representing perfect predictions\n",
    "plt.plot([y_test.min(), y_test.max()], [y_test.min(), y_test.max()], 'k--', lw=4)\n",
    "\n",
    "# Set the labels for the x and y axes\n",
    "plt.xlabel('Real Values')\n",
    "plt.ylabel('Predicted Values')\n",
    "\n",
    "# Set the title of the plot\n",
    "plt.title('Real vs. Predicted Values')\n",
    "\n",
    "# Show the plot\n",
    "plt.show()"
   ]
  }
 ],
 "metadata": {
  "kernelspec": {
   "display_name": "venv",
   "language": "python",
   "name": "python3"
  },
  "language_info": {
   "codemirror_mode": {
    "name": "ipython",
    "version": 3
   },
   "file_extension": ".py",
   "mimetype": "text/x-python",
   "name": "python",
   "nbconvert_exporter": "python",
   "pygments_lexer": "ipython3",
   "version": "3.10.4"
  }
 },
 "nbformat": 4,
 "nbformat_minor": 2
}
